{
 "cells": [
  {
   "cell_type": "code",
   "execution_count": 3,
   "metadata": {},
   "outputs": [],
   "source": [
    "#def input에 대하여 output을 출력시켜줌\n",
    "\n",
    "def summation(a, b):\n",
    "    return a+b\n",
    "def dofun(n):\n",
    "    print(\"This is\", n)\n",
    "    \n"
   ]
  },
  {
   "cell_type": "code",
   "execution_count": 4,
   "metadata": {},
   "outputs": [
    {
     "name": "stdout",
     "output_type": "stream",
     "text": [
      "This is 10\n"
     ]
    }
   ],
   "source": [
    "dofun(10)"
   ]
  },
  {
   "cell_type": "code",
   "execution_count": 6,
   "metadata": {},
   "outputs": [
    {
     "name": "stdout",
     "output_type": "stream",
     "text": [
      "This is 14\n"
     ]
    }
   ],
   "source": [
    "dofun(summation(3, 11))"
   ]
  },
  {
   "cell_type": "code",
   "execution_count": 7,
   "metadata": {},
   "outputs": [
    {
     "name": "stdout",
     "output_type": "stream",
     "text": [
      "Enter the number1 : 1\n",
      "Enter the number2 : 5\n"
     ]
    }
   ],
   "source": [
    "#print 와 return의 차이\n",
    "def add1(a, b):\n",
    "    print(a + b)\n",
    "def add2(a, b):\n",
    "    return a + b\n",
    "\n",
    "a = int(input(\"Enter the number1 : \"))\n",
    "b = int(input(\"Enter the number2 : \"))"
   ]
  },
  {
   "cell_type": "code",
   "execution_count": 8,
   "metadata": {},
   "outputs": [
    {
     "name": "stdout",
     "output_type": "stream",
     "text": [
      "6\n"
     ]
    }
   ],
   "source": [
    "add1(a, b)"
   ]
  },
  {
   "cell_type": "code",
   "execution_count": 10,
   "metadata": {},
   "outputs": [
    {
     "data": {
      "text/plain": [
       "6"
      ]
     },
     "execution_count": 10,
     "metadata": {},
     "output_type": "execute_result"
    }
   ],
   "source": [
    "add2(a, b)"
   ]
  },
  {
   "cell_type": "code",
   "execution_count": 13,
   "metadata": {},
   "outputs": [],
   "source": [
    "def mul(a, b):\n",
    "    return a * b\n",
    "def fun(a, b):\n",
    "    c = a + b + mul(a,b)\n",
    "    print(c)\n",
    "def max_num(a, b):\n",
    "    if a > b:\n",
    "        return a\n",
    "    else:\n",
    "        return b\n"
   ]
  },
  {
   "cell_type": "code",
   "execution_count": 16,
   "metadata": {},
   "outputs": [
    {
     "name": "stdout",
     "output_type": "stream",
     "text": [
      "Enter the number: 7\n"
     ]
    }
   ],
   "source": [
    "def starprint(n):\n",
    "    print(n * \"*\")\n",
    "\n",
    "n = int(input(\"Enter the number: \"))"
   ]
  },
  {
   "cell_type": "code",
   "execution_count": 17,
   "metadata": {},
   "outputs": [
    {
     "name": "stdout",
     "output_type": "stream",
     "text": [
      "*******\n"
     ]
    }
   ],
   "source": [
    "starprint(n)"
   ]
  },
  {
   "cell_type": "code",
   "execution_count": 20,
   "metadata": {},
   "outputs": [],
   "source": [
    "def operator(a, b):\n",
    "    return [a + b, a - b, a * b]"
   ]
  },
  {
   "cell_type": "code",
   "execution_count": 21,
   "metadata": {},
   "outputs": [
    {
     "name": "stdout",
     "output_type": "stream",
     "text": [
      "[11, 3, 28]\n"
     ]
    }
   ],
   "source": [
    "print(operator(7,4))"
   ]
  },
  {
   "cell_type": "code",
   "execution_count": 29,
   "metadata": {},
   "outputs": [
    {
     "name": "stdout",
     "output_type": "stream",
     "text": [
      "[5, 1, 7, 3, 6, 2]\n"
     ]
    }
   ],
   "source": [
    "num_list = [5,1,7,2,6,3]\n",
    "def swap(i, j):\n",
    "    temp = num_list[i]\n",
    "    num_list[i] = num_list[j]\n",
    "    num_list[j] = temp\n",
    "    \n",
    "i, j = 3, 5\n",
    "swap(i, j)\n",
    "print(num_list)\n",
    "    \n",
    "    "
   ]
  },
  {
   "cell_type": "code",
   "execution_count": 46,
   "metadata": {},
   "outputs": [],
   "source": [
    "def surf(r):\n",
    "    a = r ** 2 * 3.14\n",
    "    print(\"The surface is {}\".format(a))"
   ]
  },
  {
   "cell_type": "code",
   "execution_count": 47,
   "metadata": {},
   "outputs": [
    {
     "name": "stdout",
     "output_type": "stream",
     "text": [
      "The surface is 78.5\n"
     ]
    }
   ],
   "source": [
    "surf(5)"
   ]
  },
  {
   "cell_type": "code",
   "execution_count": 42,
   "metadata": {},
   "outputs": [],
   "source": [
    "def wordlist(string):\n",
    "    return string.upper().split(\" \")"
   ]
  },
  {
   "cell_type": "code",
   "execution_count": 43,
   "metadata": {},
   "outputs": [
    {
     "name": "stdout",
     "output_type": "stream",
     "text": [
      "Enter the sentence: This is my favorite fruit\n",
      "['THIS', 'IS', 'MY', 'FAVORITE', 'FRUIT']\n"
     ]
    }
   ],
   "source": [
    "string = input(\"Enter the sentence: \")\n",
    "print(wordlist(string))"
   ]
  },
  {
   "cell_type": "code",
   "execution_count": null,
   "metadata": {},
   "outputs": [],
   "source": []
  },
  {
   "cell_type": "code",
   "execution_count": 66,
   "metadata": {},
   "outputs": [
    {
     "name": "stdout",
     "output_type": "stream",
     "text": [
      "fun8의 return값은 13이다.\n"
     ]
    }
   ],
   "source": [
    "def fun(n):\n",
    "    sum_fun = 0\n",
    "    for i in range(8):\n",
    "        sum_fun += i % 5\n",
    "    return sum_fun\n",
    "n = 8\n",
    "print(\"fun{}의 return값은 {}이다.\".format(n, fun(n)))\n",
    "    "
   ]
  },
  {
   "cell_type": "code",
   "execution_count": 64,
   "metadata": {},
   "outputs": [
    {
     "data": {
      "text/plain": [
       "28"
      ]
     },
     "execution_count": 64,
     "metadata": {},
     "output_type": "execute_result"
    }
   ],
   "source": [
    "fun(8)"
   ]
  },
  {
   "cell_type": "code",
   "execution_count": 83,
   "metadata": {},
   "outputs": [
    {
     "name": "stdout",
     "output_type": "stream",
     "text": [
      "CPU times: user 2 µs, sys: 0 ns, total: 2 µs\n",
      "Wall time: 5.25 µs\n"
     ]
    }
   ],
   "source": [
    "#211(1)\n",
    "# greatest common denominator = gcd\n",
    "# least common multiple = lcm\n",
    "%time\n",
    "def gcd(n, m):\n",
    "    for i in range(max(n,m), 0, -1):\n",
    "        if n % i ==0 and m% i ==0:\n",
    "            return i\n",
    "\n",
    "def lcm(n, m):\n",
    "    \"\"\"Compute the lowest common multiple of n and m\"\"\"\n",
    "    return n * m / gcd(n, m)"
   ]
  },
  {
   "cell_type": "code",
   "execution_count": 85,
   "metadata": {},
   "outputs": [
    {
     "name": "stdout",
     "output_type": "stream",
     "text": [
      "CPU times: user 3 µs, sys: 1e+03 ns, total: 4 µs\n",
      "Wall time: 6.91 µs\n"
     ]
    }
   ],
   "source": [
    "#211(2)\n",
    "# greatest common denominator = gcd\n",
    "# least common multiple = lcm\n",
    "%time\n",
    "def gcd(n, m):\n",
    "    for i in range(max(n,m), 0, -1):\n",
    "        if n % i ==0 and m% i ==0:\n",
    "            return i\n",
    "\n",
    "def lcm(n, m):\n",
    "    i = max(n, m)\n",
    "    while True:\n",
    "        if i % n ==0 and i % m == 0:\n",
    "            break\n",
    "        i += 1\n",
    "    return i"
   ]
  },
  {
   "cell_type": "code",
   "execution_count": 86,
   "metadata": {},
   "outputs": [
    {
     "name": "stdout",
     "output_type": "stream",
     "text": [
      "CPU times: user 2 µs, sys: 0 ns, total: 2 µs\n",
      "Wall time: 5.01 µs\n"
     ]
    },
    {
     "data": {
      "text/plain": [
       "468"
      ]
     },
     "execution_count": 86,
     "metadata": {},
     "output_type": "execute_result"
    }
   ],
   "source": [
    "%time\n",
    "lcm(52,36)"
   ]
  },
  {
   "cell_type": "code",
   "execution_count": 110,
   "metadata": {},
   "outputs": [
    {
     "name": "stdout",
     "output_type": "stream",
     "text": [
      "insert number74251\n",
      "15247\n"
     ]
    }
   ],
   "source": [
    "n = input(\"insert number\")\n",
    "\n",
    "def rev_num(n):\n",
    "    return int(n[::-1])\n",
    "\n",
    "print(rev_num(n))\n"
   ]
  },
  {
   "cell_type": "code",
   "execution_count": 92,
   "metadata": {},
   "outputs": [
    {
     "name": "stdout",
     "output_type": "stream",
     "text": [
      "74251\n"
     ]
    }
   ],
   "source": [
    "print(num)"
   ]
  },
  {
   "cell_type": "code",
   "execution_count": 133,
   "metadata": {},
   "outputs": [
    {
     "name": "stdout",
     "output_type": "stream",
     "text": [
      "Enter the number : 1234567\n",
      "+ 7 + 6 + 5 + 4 + 3 + 2 + 1 = 28\n",
      "+ 8 + 2 = 10\n",
      "+ 0 + 1 = 1\n"
     ]
    }
   ],
   "source": [
    "def add_all(n):\n",
    "    sum = 0\n",
    "    while n != 0:\n",
    "        sum += n % 10\n",
    "        print(\"+\", n % 10, end= \" \")\n",
    "        n = (n - (n % 10)) // 10\n",
    "    print(\"=\", sum)\n",
    "    return sum\n",
    "\n",
    "n = int(input(\"Enter the number : \"))\n",
    "while n // 10 != 0:\n",
    "    n = add_all(n)"
   ]
  },
  {
   "cell_type": "code",
   "execution_count": null,
   "metadata": {},
   "outputs": [],
   "source": []
  },
  {
   "cell_type": "code",
   "execution_count": 151,
   "metadata": {},
   "outputs": [
    {
     "name": "stdout",
     "output_type": "stream",
     "text": [
      "2333316668\n"
     ]
    }
   ],
   "source": [
    "def ismulThree(n):\n",
    "    return n % 3 == 0\n",
    "def ismulFive(n):\n",
    "    return n % 5 == 0\n",
    "\n",
    "sum = 0\n",
    "\n",
    "for i in range(1, 100000):\n",
    "    if ismulFive(i) or ismulThree(i):\n",
    "        sum += i\n",
    "print(sum)"
   ]
  },
  {
   "cell_type": "code",
   "execution_count": 171,
   "metadata": {},
   "outputs": [
    {
     "name": "stdout",
     "output_type": "stream",
     "text": [
      "Enter the number: 9012345678\n",
      "num: 901234567\n",
      "num: 90123456\n",
      "num: 9012345\n",
      "num: 901234\n",
      "num: 90123\n",
      "num: 9012\n",
      "num: 901\n",
      "num: 90\n",
      "case: 1\n",
      "num: 9\n",
      "num: 0\n",
      "num: 901234567\n",
      "num: 90123456\n",
      "num: 9012345\n",
      "num: 901234\n",
      "num: 90123\n",
      "num: 9012\n",
      "num: 901\n",
      "case: 1\n",
      "num: 90\n",
      "num: 9\n",
      "num: 0\n",
      "num: 901234567\n",
      "num: 90123456\n",
      "num: 9012345\n",
      "num: 901234\n",
      "num: 90123\n",
      "num: 9012\n",
      "case: 1\n",
      "num: 901\n",
      "num: 90\n",
      "num: 9\n",
      "num: 0\n",
      "num: 901234567\n",
      "num: 90123456\n",
      "num: 9012345\n",
      "num: 901234\n",
      "num: 90123\n",
      "case: 1\n",
      "num: 9012\n",
      "num: 901\n",
      "num: 90\n",
      "num: 9\n",
      "num: 0\n",
      "num: 901234567\n",
      "num: 90123456\n",
      "num: 9012345\n",
      "num: 901234\n",
      "case: 1\n",
      "num: 90123\n",
      "num: 9012\n",
      "num: 901\n",
      "num: 90\n",
      "num: 9\n",
      "num: 0\n",
      "num: 901234567\n",
      "num: 90123456\n",
      "num: 9012345\n",
      "case: 1\n",
      "num: 901234\n",
      "num: 90123\n",
      "num: 9012\n",
      "num: 901\n",
      "num: 90\n",
      "num: 9\n",
      "num: 0\n",
      "num: 901234567\n",
      "num: 90123456\n",
      "case: 1\n",
      "num: 9012345\n",
      "num: 901234\n",
      "num: 90123\n",
      "num: 9012\n",
      "num: 901\n",
      "num: 90\n",
      "num: 9\n",
      "num: 0\n",
      "num: 901234567\n",
      "case: 1\n",
      "num: 90123456\n",
      "num: 9012345\n",
      "num: 901234\n",
      "num: 90123\n",
      "num: 9012\n",
      "num: 901\n",
      "num: 90\n",
      "num: 9\n",
      "num: 0\n",
      "case: 1\n",
      "num: 901234567\n",
      "num: 90123456\n",
      "num: 9012345\n",
      "num: 901234\n",
      "num: 90123\n",
      "num: 9012\n",
      "num: 901\n",
      "num: 90\n",
      "num: 9\n",
      "num: 0\n",
      "num: 901234567\n",
      "num: 90123456\n",
      "num: 9012345\n",
      "num: 901234\n",
      "num: 90123\n",
      "num: 9012\n",
      "num: 901\n",
      "num: 90\n",
      "num: 9\n",
      "case: 1\n",
      "num: 0\n",
      "True\n"
     ]
    }
   ],
   "source": [
    "def allnum(n):\n",
    "    for i in range(0, 10):\n",
    "        case = 0\n",
    "        num = n\n",
    "        while num != 0:\n",
    "            if num % 10 == i:\n",
    "                case += 1\n",
    "                print(\"case:\", case)\n",
    "            num = num //10\n",
    "            print(\"num:\", num)\n",
    "        if case != 1:\n",
    "            return False\n",
    "    return True\n",
    "\n",
    "n = int(input(\"Enter the number: \"))\n",
    "print(allnum(n))"
   ]
  },
  {
   "cell_type": "code",
   "execution_count": 161,
   "metadata": {},
   "outputs": [
    {
     "data": {
      "text/plain": [
       "6"
      ]
     },
     "execution_count": 161,
     "metadata": {},
     "output_type": "execute_result"
    }
   ],
   "source": [
    "1256 % 10"
   ]
  },
  {
   "cell_type": "code",
   "execution_count": 157,
   "metadata": {},
   "outputs": [
    {
     "data": {
      "text/plain": [
       "123456780"
      ]
     },
     "execution_count": 157,
     "metadata": {},
     "output_type": "execute_result"
    }
   ],
   "source": [
    "1234567809 // 10"
   ]
  },
  {
   "cell_type": "code",
   "execution_count": 179,
   "metadata": {},
   "outputs": [
    {
     "name": "stdout",
     "output_type": "stream",
     "text": [
      "Enter the number : 13\n",
      "6\n"
     ]
    }
   ],
   "source": [
    "def num_1(n):\n",
    "    case = 0\n",
    "    for i in range(1, n+1):\n",
    "        num = i\n",
    "        while num != 0:\n",
    "            if num % 10 == 1:\n",
    "                case += 1\n",
    "            num = num // 10\n",
    "    return case\n",
    "\n",
    "n = int(input(\"Enter the number : \"))\n",
    "print(num_1(n))"
   ]
  },
  {
   "cell_type": "code",
   "execution_count": null,
   "metadata": {},
   "outputs": [],
   "source": []
  },
  {
   "cell_type": "code",
   "execution_count": null,
   "metadata": {},
   "outputs": [],
   "source": []
  },
  {
   "cell_type": "code",
   "execution_count": null,
   "metadata": {},
   "outputs": [],
   "source": []
  },
  {
   "cell_type": "code",
   "execution_count": null,
   "metadata": {},
   "outputs": [],
   "source": []
  },
  {
   "cell_type": "code",
   "execution_count": null,
   "metadata": {},
   "outputs": [],
   "source": []
  },
  {
   "cell_type": "code",
   "execution_count": null,
   "metadata": {},
   "outputs": [],
   "source": []
  },
  {
   "cell_type": "code",
   "execution_count": null,
   "metadata": {},
   "outputs": [],
   "source": []
  },
  {
   "cell_type": "code",
   "execution_count": null,
   "metadata": {},
   "outputs": [],
   "source": []
  }
 ],
 "metadata": {
  "kernelspec": {
   "display_name": "Python 3",
   "language": "python",
   "name": "python3"
  },
  "language_info": {
   "codemirror_mode": {
    "name": "ipython",
    "version": 3
   },
   "file_extension": ".py",
   "mimetype": "text/x-python",
   "name": "python",
   "nbconvert_exporter": "python",
   "pygments_lexer": "ipython3",
   "version": "3.7.4"
  }
 },
 "nbformat": 4,
 "nbformat_minor": 2
}
