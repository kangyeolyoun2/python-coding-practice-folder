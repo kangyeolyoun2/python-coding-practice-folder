{
 "cells": [
  {
   "cell_type": "code",
   "execution_count": 1,
   "metadata": {},
   "outputs": [
    {
     "name": "stdout",
     "output_type": "stream",
     "text": [
      "found 13\n"
     ]
    }
   ],
   "source": [
    "#173 L이 다음과같이 주어졌을때, 13일때 빠져나오도록 하시오 (for, in사용)\n",
    "\n",
    "L = [1, 9, 4, 13, 5, 6]\n",
    "for i in L:\n",
    "    if i in range(5, 10):\n",
    "        continue\n",
    "    elif i == 13:\n",
    "        print(\"found 13\")\n",
    "        break"
   ]
  },
  {
   "cell_type": "code",
   "execution_count": 3,
   "metadata": {},
   "outputs": [
    {
     "name": "stdout",
     "output_type": "stream",
     "text": [
      "insert integer7\n"
     ]
    },
    {
     "data": {
      "text/plain": [
       "28"
      ]
     },
     "execution_count": 3,
     "metadata": {},
     "output_type": "execute_result"
    }
   ],
   "source": [
    "#177 정수하나를 입력받아, 1부터 정수까지의 하을 구하시오\n",
    "\n",
    "num = int(input(\"insert integer\"))\n",
    "\n",
    "num_sum = 0\n",
    "for i in range(num+1):\n",
    "    num_sum += i\n",
    "num_sum"
   ]
  },
  {
   "cell_type": "code",
   "execution_count": null,
   "metadata": {},
   "outputs": [],
   "source": [
    "#180 입력받은 수가 소수인지 아닌지 알려주는 프로그램\n",
    "\n",
    "num = int(input(\"insert prime number\"))\n",
    "\n",
    "if num % "
   ]
  }
 ],
 "metadata": {
  "kernelspec": {
   "display_name": "Python 3",
   "language": "python",
   "name": "python3"
  },
  "language_info": {
   "codemirror_mode": {
    "name": "ipython",
    "version": 3
   },
   "file_extension": ".py",
   "mimetype": "text/x-python",
   "name": "python",
   "nbconvert_exporter": "python",
   "pygments_lexer": "ipython3",
   "version": "3.7.4"
  }
 },
 "nbformat": 4,
 "nbformat_minor": 2
}
