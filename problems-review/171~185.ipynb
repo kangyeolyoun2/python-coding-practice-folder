{
 "cells": [
  {
   "cell_type": "code",
   "execution_count": 1,
   "metadata": {},
   "outputs": [
    {
     "name": "stdout",
     "output_type": "stream",
     "text": [
      "found 13\n"
     ]
    }
   ],
   "source": [
    "#173 L이 다음과같이 주어졌을때, 13일때 빠져나오도록 하시오 (for, in사용)\n",
    "\n",
    "L = [1, 9, 4, 13, 5, 6]\n",
    "for i in L:\n",
    "    if i in range(5, 10):\n",
    "        continue\n",
    "    elif i == 13:\n",
    "        print(\"found 13\")\n",
    "        break"
   ]
  },
  {
   "cell_type": "code",
   "execution_count": null,
   "metadata": {},
   "outputs": [],
   "source": [
    "#173(2)\n",
    "\n",
    "L = [1, 9, 4, 13, 5, 6]\n",
    "\n",
    "for i in L:\n",
    "    if i == 13:\n",
    "        print(i)\n",
    "        break\n",
    "    "
   ]
  },
  {
   "cell_type": "code",
   "execution_count": null,
   "metadata": {},
   "outputs": [],
   "source": [
    "#173 L이 다음과같이 주어졌을때, 13일때 빠져나오도록 하시오 (for, in사용)\n",
    "L = [1, 9, 4, 13, 5, 6]\n",
    "\n",
    "for i in L:\n",
    "    if i == 13:\n",
    "        print(\"found 13\")\n",
    "        break"
   ]
  },
  {
   "cell_type": "code",
   "execution_count": 3,
   "metadata": {},
   "outputs": [
    {
     "name": "stdout",
     "output_type": "stream",
     "text": [
      "insert integer7\n"
     ]
    },
    {
     "data": {
      "text/plain": [
       "28"
      ]
     },
     "execution_count": 3,
     "metadata": {},
     "output_type": "execute_result"
    }
   ],
   "source": [
    "#177 정수하나를 입력받아, 1부터 정수까지의 합을 구하시오\n",
    "\n",
    "num = int(input(\"insert integer\"))\n",
    "\n",
    "num_sum = 0\n",
    "for i in range(num+1):\n",
    "    num_sum += i\n",
    "num_sum"
   ]
  },
  {
   "cell_type": "code",
   "execution_count": 11,
   "metadata": {},
   "outputs": [
    {
     "name": "stdout",
     "output_type": "stream",
     "text": [
      "insert prime number4\n",
      "4 is not a prime number\n"
     ]
    }
   ],
   "source": [
    "#180 입력받은 수가 소수인지 아닌지 알려주는 프로그램\n",
    "\n",
    "num = int(input(\"insert prime number\"))\n",
    "num_list = []\n",
    "\n",
    "for i in range(1, num+1):\n",
    "    if num % i == 0:\n",
    "        num_list.append(i)\n",
    "        \n",
    "if len(num_list) == 2:\n",
    "    print(\"{} is a prime number\".format(num))\n",
    "else:\n",
    "    print(\"{} is not a prime number\".format(num))\n"
   ]
  },
  {
   "cell_type": "code",
   "execution_count": null,
   "metadata": {},
   "outputs": [],
   "source": []
  },
  {
   "cell_type": "code",
   "execution_count": 7,
   "metadata": {},
   "outputs": [
    {
     "name": "stdout",
     "output_type": "stream",
     "text": [
      "CPU times: user 2 µs, sys: 0 ns, total: 2 µs\n",
      "Wall time: 5.72 µs\n",
      "insert number: 13547\n"
     ]
    },
    {
     "data": {
      "text/plain": [
       "20"
      ]
     },
     "execution_count": 7,
     "metadata": {},
     "output_type": "execute_result"
    }
   ],
   "source": [
    "#181 입력받은 각 자리수를 더하는 프로그램. ex) 13547 => 20\n",
    "%time\n",
    "num = input(\"insert number: \")\n",
    "num_sum = 0\n",
    "\n",
    "for i in num:\n",
    "    num_sum += int(i)\n",
    "num_sum"
   ]
  },
  {
   "cell_type": "code",
   "execution_count": null,
   "metadata": {},
   "outputs": [],
   "source": [
    "#181(2)\n",
    "\n",
    "%time\n",
    "num = input(\"insert number: \")\n",
    "sum(list(map(int,num)))"
   ]
  },
  {
   "cell_type": "code",
   "execution_count": 22,
   "metadata": {},
   "outputs": [
    {
     "data": {
      "text/plain": [
       "int"
      ]
     },
     "execution_count": 22,
     "metadata": {},
     "output_type": "execute_result"
    }
   ],
   "source": [
    "int"
   ]
  },
  {
   "cell_type": "code",
   "execution_count": 26,
   "metadata": {},
   "outputs": [
    {
     "name": "stdout",
     "output_type": "stream",
     "text": [
      "insert integer214\n",
      "True\n"
     ]
    }
   ],
   "source": [
    "#182 입력된 문자열이 숫자인지 판별해주는 프로그램. ex) 167o7 => False\n",
    "\n",
    "num = \"1234567890\"\n",
    "num = list(num)\n",
    "\n",
    "a = input(\"insert sth: \")\n",
    "\n",
    "\n",
    "b = []\n",
    "for i in a:\n",
    "    if i in num:\n",
    "        b.append(i)\n",
    "        \n",
    "if len(b) == len(a):\n",
    "    print(\"True\")\n",
    "else:\n",
    "    print(\"False\")"
   ]
  },
  {
   "cell_type": "code",
   "execution_count": null,
   "metadata": {},
   "outputs": [],
   "source": [
    "#182 입력된 문자열이 숫자인지 판별해주는 프로그램. ex) 167o7 => False\n",
    "\n",
    "n = input(\"insert digits\")\n",
    "\n",
    "n.isdigit()"
   ]
  },
  {
   "cell_type": "code",
   "execution_count": 1,
   "metadata": {},
   "outputs": [
    {
     "name": "stdout",
     "output_type": "stream",
     "text": [
      "CPU times: user 3 µs, sys: 1 µs, total: 4 µs\n",
      "Wall time: 23.1 µs\n",
      "199\n"
     ]
    }
   ],
   "source": [
    "#184 1 + (-2) + 3 + (-4) + ... 와 같은 방식으로 계속 더해갈 때, 총합이 100이상이 되는 마지막 수가 무엇일까요?\n",
    "\n",
    "%time\n",
    "num_sum = 0\n",
    "\n",
    "for i in range(0, 1000):\n",
    "    if i%2 == 0:\n",
    "        num_sum -= i\n",
    "    else:\n",
    "        num_sum += i\n",
    "    if num_sum == 100:\n",
    "        print(i)\n",
    "        break"
   ]
  },
  {
   "cell_type": "code",
   "execution_count": null,
   "metadata": {},
   "outputs": [],
   "source": [
    "n = 0\n",
    "sum = 0\n",
    "while sum < 100:\n",
    "    n += 1\n",
    "    if n % 2 ==0:\n",
    "        sum -= n\n",
    "    else:\n",
    "        sum += n\n",
    "sum, n"
   ]
  },
  {
   "cell_type": "code",
   "execution_count": 53,
   "metadata": {},
   "outputs": [
    {
     "name": "stdout",
     "output_type": "stream",
     "text": [
      "insert number13\n",
      "9\n"
     ]
    }
   ],
   "source": [
    "#185 HandsomeQ 수열, n이 짝수 -> n /2\n",
    "#                    n이 홀수 -> 2n + 2\n",
    "# ex) n = 13 경우, 13->28->14->7->16->8->4->2->1   길이는 = 9\n",
    "# 숫자 입력받았을때 길이를 구하는것을 나타내시오\n",
    "\n",
    "num = int(input(\"insert number\"))\n",
    "\n",
    "num_list = []\n",
    "while True:\n",
    "\n",
    "    if num == 1:\n",
    "        num_list.append(num)\n",
    "        print(len(num_list))\n",
    "        break\n",
    "\n",
    "    elif num % 2 == 0:\n",
    "        num_list.append(num)\n",
    "        num = num // 2\n",
    "\n",
    "    elif num % 2 == 1:\n",
    "        num_list.append(num)\n",
    "        num = 2 * num + 2\n"
   ]
  },
  {
   "cell_type": "code",
   "execution_count": null,
   "metadata": {},
   "outputs": [],
   "source": [
    "a = []\n",
    "n = int(input(\"insert number\"))\n",
    "while n > 1:\n",
    "    a.append(n)\n",
    "    n = n / 2 if n % 2 == 0 else 2 * n + 2\n",
    "    \n",
    "a.append(1)\n",
    "len(a)"
   ]
  },
  {
   "cell_type": "code",
   "execution_count": 54,
   "metadata": {},
   "outputs": [
    {
     "data": {
      "text/plain": [
       "[13, 28, 14, 7, 16, 8, 4, 2, 1]"
      ]
     },
     "execution_count": 54,
     "metadata": {},
     "output_type": "execute_result"
    }
   ],
   "source": [
    "num_list"
   ]
  },
  {
   "cell_type": "code",
   "execution_count": null,
   "metadata": {},
   "outputs": [],
   "source": []
  },
  {
   "cell_type": "code",
   "execution_count": null,
   "metadata": {},
   "outputs": [],
   "source": []
  },
  {
   "cell_type": "code",
   "execution_count": null,
   "metadata": {},
   "outputs": [],
   "source": []
  },
  {
   "cell_type": "code",
   "execution_count": null,
   "metadata": {},
   "outputs": [],
   "source": []
  }
 ],
 "metadata": {
  "kernelspec": {
   "display_name": "Python 3",
   "language": "python",
   "name": "python3"
  },
  "language_info": {
   "codemirror_mode": {
    "name": "ipython",
    "version": 3
   },
   "file_extension": ".py",
   "mimetype": "text/x-python",
   "name": "python",
   "nbconvert_exporter": "python",
   "pygments_lexer": "ipython3",
   "version": "3.7.4"
  }
 },
 "nbformat": 4,
 "nbformat_minor": 2
}
