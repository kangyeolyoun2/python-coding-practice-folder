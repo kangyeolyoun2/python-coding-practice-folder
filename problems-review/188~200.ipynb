{
 "cells": [
  {
   "cell_type": "code",
   "execution_count": null,
   "metadata": {},
   "outputs": [],
   "source": [
    "from sympy import sieve\n",
    "print([i for i in sieve.primerange(2, 1000)])"
   ]
  },
  {
   "cell_type": "code",
   "execution_count": 6,
   "metadata": {},
   "outputs": [
    {
     "name": "stdout",
     "output_type": "stream",
     "text": [
      "Enter the SentenceMerry Christmas\n",
      "M\n",
      "Me\n",
      "Mer\n",
      "Merr\n",
      "Merry\n",
      "Merry \n",
      "Merry C\n",
      "Merry Ch\n",
      "Merry Chr\n",
      "Merry Chri\n",
      "Merry Chris\n",
      "Merry Christ\n",
      "Merry Christm\n",
      "Merry Christma\n",
      "Merry Christmas\n"
     ]
    }
   ],
   "source": [
    "#188 Merry Christmas를 입력받으면 \n",
    "#M\n",
    "#Me\n",
    "#Mer ... 등등 끝까지 완성하는프로그램\n",
    "\n",
    "sentence = input(\"Enter the Sentence\")\n",
    "\n",
    "for i in range(0,len(sentence)):\n",
    "    for j in range(0, i+1):\n",
    "        print(sentence[j], end=\"\")\n",
    "    print()"
   ]
  },
  {
   "cell_type": "code",
   "execution_count": 5,
   "metadata": {},
   "outputs": [
    {
     "name": "stdout",
     "output_type": "stream",
     "text": [
      "M\n",
      "Me\n",
      "Mer\n",
      "Merr\n",
      "Merry\n",
      "Merry \n",
      "Merry C\n",
      "Merry Ch\n",
      "Merry Chr\n",
      "Merry Chri\n",
      "Merry Chris\n",
      "Merry Christ\n",
      "Merry Christm\n",
      "Merry Christma\n",
      "Merry Christmas\n"
     ]
    }
   ],
   "source": [
    "#188 Merry Christmas를 입력받으면 \n",
    "#M\n",
    "#Me\n",
    "#Mer ... 등등 끝까지 완성하는프로그램\n",
    "\n",
    "sentence = \"Merry Christmas\"\n",
    "\n",
    "for i in range(0, len(sentence)):\n",
    "    for j in range(0, i+1):\n",
    "        print(sentence[j], end= \"\")\n",
    "    print()"
   ]
  },
  {
   "cell_type": "code",
   "execution_count": null,
   "metadata": {},
   "outputs": [],
   "source": [
    "a = \"Merry Christmas\"\n",
    "\n",
    "for i in range(len(a)):\n",
    "    for j in range(i+1):\n",
    "        print(a[j], end = \"\")\n",
    "    print()"
   ]
  },
  {
   "cell_type": "code",
   "execution_count": 29,
   "metadata": {},
   "outputs": [
    {
     "name": "stdout",
     "output_type": "stream",
     "text": [
      "*\n",
      "***\n",
      "*****\n",
      "*******\n",
      "*********\n",
      "***********\n",
      "***********\n",
      "***********\n",
      "***********\n",
      "***********\n",
      "***********\n"
     ]
    }
   ],
   "source": [
    "#191 Todo 별그리기\n"
   ]
  },
  {
   "cell_type": "code",
   "execution_count": null,
   "metadata": {},
   "outputs": [],
   "source": [
    "#191 답\n",
    "for i in range(11):\n",
    "    if i < 6:        \n",
    "        print(\"*\" + \"*\" * 2 * i)\n",
    "    else:\n",
    "        print(\"*\" + \"*\" * 2 * 5)"
   ]
  },
  {
   "cell_type": "code",
   "execution_count": null,
   "metadata": {},
   "outputs": [],
   "source": [
    "#191\n",
    "a = \"*\"\n",
    "\n",
    "for i in range(11):\n",
    "    if i <= 5:\n",
    "        print(2 * a * i + a)\n",
    "    else:\n",
    "        print(a*11)\n",
    "        "
   ]
  },
  {
   "cell_type": "code",
   "execution_count": 39,
   "metadata": {},
   "outputs": [
    {
     "name": "stdout",
     "output_type": "stream",
     "text": [
      "            * \n",
      "           ***  \n",
      "          *****   \n",
      "         *******    \n",
      "        *********     \n",
      "       ***********      \n",
      "      *************       \n",
      "     ***************        \n",
      "    *****************         \n",
      "   *******************          \n",
      "  *********************           \n"
     ]
    }
   ],
   "source": [
    "#192 Todo\n"
   ]
  },
  {
   "cell_type": "code",
   "execution_count": null,
   "metadata": {},
   "outputs": [],
   "source": [
    "#192 답\n",
    "\n",
    "for i in range(11):\n",
    "    print(\" \" * (11-i), \"*\" * (2*i+1), \" \" * i)"
   ]
  },
  {
   "cell_type": "code",
   "execution_count": 15,
   "metadata": {},
   "outputs": [
    {
     "name": "stdout",
     "output_type": "stream",
     "text": [
      "Enter the number : 21\n",
      "21 = 7 X 3\n",
      "21 = 7 X 3\n",
      "21 = 7 X 3\n",
      "21 = 7 X 3\n",
      "21 = 7 X 3\n"
     ]
    }
   ],
   "source": [
    "#196 어떤 두수의 곱으로 이루어진 소수가 있다. 어떤 두 수의 소수로 곱해졌는지 찾으시오\n",
    "#ex) 143 => 11 * 13\n",
    "\n",
    "num = int(input(\"Enter the number : \"))\n",
    "WN = False\n",
    "\n",
    "for i in range(2, num):\n",
    "    isTrue1 = True\n",
    "    for j in range(2, i):\n",
    "        if i % j == 0:\n",
    "            isTrue1 = False\n",
    "        if isTrue1 == True:\n",
    "            for j in range(2, i):\n",
    "                isTrue2 = True\n",
    "                for k in range(2,j):\n",
    "                    if j % k == 0:\n",
    "                        isTrue = False\n",
    "                if isTrue2 == True:\n",
    "                    if num == i * j:\n",
    "                        print(num, \"=\", max(i,j),\"X\", min(i,j))\n",
    "                        WN = True\n",
    "                        break\n",
    "if WN == False:\n",
    "    print(\"Wrong number\")"
   ]
  },
  {
   "cell_type": "code",
   "execution_count": 52,
   "metadata": {},
   "outputs": [
    {
     "name": "stdout",
     "output_type": "stream",
     "text": [
      "Enter the number : 3\n"
     ]
    },
    {
     "data": {
      "text/plain": [
       "True"
      ]
     },
     "execution_count": 52,
     "metadata": {},
     "output_type": "execute_result"
    }
   ],
   "source": [
    "#196 어떤 두수의 곱으로 이루어진 소수가 있다. 어떤 두 수의 소수로 곱해졌는지 찾으시오 (포기)\n",
    "#ex) 143 => 11 * 13\n",
    "\n",
    "import sympy\n",
    "num = int(input(\"Enter the number : \"))\n",
    "\n",
    "if sympy.isprime(num) == True:\n",
    "    "
   ]
  },
  {
   "cell_type": "code",
   "execution_count": 3,
   "metadata": {},
   "outputs": [
    {
     "data": {
      "text/plain": [
       "[11, 13]"
      ]
     },
     "execution_count": 3,
     "metadata": {},
     "output_type": "execute_result"
    }
   ],
   "source": [
    "#196(2)\n",
    "\n",
    "def prime_factors(n):\n",
    "    i = 2\n",
    "    factors = []\n",
    "    while i * i <= n:\n",
    "        if n % i:\n",
    "            i += 1\n",
    "        else:\n",
    "            n //= i\n",
    "            factors.append(i)\n",
    "    if n > 1:\n",
    "        factors.append(n)\n",
    "    return factors\n",
    "\n",
    "prime_factors(143)"
   ]
  },
  {
   "cell_type": "code",
   "execution_count": 19,
   "metadata": {},
   "outputs": [
    {
     "name": "stdout",
     "output_type": "stream",
     "text": [
      "5.0\n"
     ]
    }
   ],
   "source": [
    "n = 20 \n",
    "i = 2\n",
    "\n",
    "while i * i < n:\n",
    "    while n%i == 0:\n",
    "        n = n / i\n",
    "    i = i + 1\n",
    "\n",
    "print (n)"
   ]
  },
  {
   "cell_type": "code",
   "execution_count": 54,
   "metadata": {},
   "outputs": [
    {
     "name": "stdout",
     "output_type": "stream",
     "text": [
      "CPU times: user 2 µs, sys: 1 µs, total: 3 µs\n",
      "Wall time: 5.25 µs\n"
     ]
    },
    {
     "data": {
      "text/plain": [
       "[71, 839, 1471, 6857]"
      ]
     },
     "execution_count": 54,
     "metadata": {},
     "output_type": "execute_result"
    }
   ],
   "source": [
    "#196(4)\n",
    "%time\n",
    "def prime_factors(n):\n",
    "    i = 2\n",
    "    factors = []\n",
    "    while i * i <= n:\n",
    "        if n % i:\n",
    "            i += 1\n",
    "        else:\n",
    "            n //= i\n",
    "            factors.append(i)\n",
    "    if n > 1:\n",
    "        factors.append(n)\n",
    "    return factors\n",
    "\n",
    "prime_factors(600851475143)"
   ]
  },
  {
   "cell_type": "code",
   "execution_count": 11,
   "metadata": {},
   "outputs": [],
   "source": [
    "class is_prime:\n",
    "    \n",
    "    \n",
    "    \n",
    "    def prime_number(n):\n",
    "        a = []\n",
    "\n",
    "        for i in range(2,n):\n",
    "\n",
    "            if n % i == 0:\n",
    "                a.append(n)\n",
    "        if len(a) == 0:\n",
    "            return True\n",
    "            print(\"{} is a prime number!\".format(n))\n",
    "        else:\n",
    "            return False\n",
    "            print(\"{} is not a prime number\".format(n))\n",
    "    \n",
    "    def prime_mul(self, n):\n",
    "\n",
    "\n",
    "        a = []\n",
    "        for i in range(2, n):\n",
    "            if n % i == 0:\n",
    "                a.append(i)\n",
    "\n",
    "        b = []\n",
    "        for i in a:\n",
    "            if prime_number(i) == True:\n",
    "                b.append(i)\n",
    "\n",
    "        c = []\n",
    "        for i in range(len(b)):\n",
    "            for j in range(len(b)):\n",
    "                if b[i] * b[j] == n:\n",
    "                    c.append(b[i])\n",
    "\n",
    "        return c\n",
    "    "
   ]
  },
  {
   "cell_type": "code",
   "execution_count": 12,
   "metadata": {
    "collapsed": true
   },
   "outputs": [
    {
     "ename": "NameError",
     "evalue": "name 'prime_number' is not defined",
     "output_type": "error",
     "traceback": [
      "\u001b[0;31m---------------------------------------------------------------------------\u001b[0m",
      "\u001b[0;31mNameError\u001b[0m                                 Traceback (most recent call last)",
      "\u001b[0;32m<ipython-input-12-27cecd3e9fc4>\u001b[0m in \u001b[0;36m<module>\u001b[0;34m\u001b[0m\n\u001b[1;32m      1\u001b[0m \u001b[0ma\u001b[0m \u001b[0;34m=\u001b[0m \u001b[0mis_prime\u001b[0m\u001b[0;34m(\u001b[0m\u001b[0;34m)\u001b[0m\u001b[0;34m\u001b[0m\u001b[0;34m\u001b[0m\u001b[0m\n\u001b[0;32m----> 2\u001b[0;31m \u001b[0ma\u001b[0m\u001b[0;34m.\u001b[0m\u001b[0mprime_mul\u001b[0m\u001b[0;34m(\u001b[0m\u001b[0;36m143\u001b[0m\u001b[0;34m)\u001b[0m\u001b[0;34m\u001b[0m\u001b[0;34m\u001b[0m\u001b[0m\n\u001b[0m",
      "\u001b[0;32m<ipython-input-11-9ff58e719ade>\u001b[0m in \u001b[0;36mprime_mul\u001b[0;34m(self, n)\u001b[0m\n\u001b[1;32m     27\u001b[0m         \u001b[0mb\u001b[0m \u001b[0;34m=\u001b[0m \u001b[0;34m[\u001b[0m\u001b[0;34m]\u001b[0m\u001b[0;34m\u001b[0m\u001b[0;34m\u001b[0m\u001b[0m\n\u001b[1;32m     28\u001b[0m         \u001b[0;32mfor\u001b[0m \u001b[0mi\u001b[0m \u001b[0;32min\u001b[0m \u001b[0ma\u001b[0m\u001b[0;34m:\u001b[0m\u001b[0;34m\u001b[0m\u001b[0;34m\u001b[0m\u001b[0m\n\u001b[0;32m---> 29\u001b[0;31m             \u001b[0;32mif\u001b[0m \u001b[0mprime_number\u001b[0m\u001b[0;34m(\u001b[0m\u001b[0mi\u001b[0m\u001b[0;34m)\u001b[0m \u001b[0;34m==\u001b[0m \u001b[0;32mTrue\u001b[0m\u001b[0;34m:\u001b[0m\u001b[0;34m\u001b[0m\u001b[0;34m\u001b[0m\u001b[0m\n\u001b[0m\u001b[1;32m     30\u001b[0m                 \u001b[0mb\u001b[0m\u001b[0;34m.\u001b[0m\u001b[0mappend\u001b[0m\u001b[0;34m(\u001b[0m\u001b[0mi\u001b[0m\u001b[0;34m)\u001b[0m\u001b[0;34m\u001b[0m\u001b[0;34m\u001b[0m\u001b[0m\n\u001b[1;32m     31\u001b[0m \u001b[0;34m\u001b[0m\u001b[0m\n",
      "\u001b[0;31mNameError\u001b[0m: name 'prime_number' is not defined"
     ]
    }
   ],
   "source": [
    "a = is_prime()\n",
    "a.prime_mul(143)"
   ]
  },
  {
   "cell_type": "code",
   "execution_count": 46,
   "metadata": {},
   "outputs": [
    {
     "name": "stdout",
     "output_type": "stream",
     "text": [
      "CPU times: user 2 µs, sys: 1e+03 ns, total: 3 µs\n",
      "Wall time: 4.77 µs\n"
     ]
    },
    {
     "data": {
      "text/plain": [
       "[71, 839, 1471, 6857]"
      ]
     },
     "execution_count": 46,
     "metadata": {},
     "output_type": "execute_result"
    }
   ],
   "source": [
    "%time\n",
    "from sympy import primefactors\n",
    "primefactors(600851475143)"
   ]
  },
  {
   "cell_type": "code",
   "execution_count": 55,
   "metadata": {},
   "outputs": [],
   "source": [
    "#197 00:00 ~ 23:59 시계중 3이 가르치는 분을 모두 구하시오\n",
    "\n",
    "clock = 0\n",
    "for i in range(24):\n",
    "    for j in range(60):\n",
    "        three = str(i) + str(j)\n",
    "        if '3' in three:\n",
    "            clock += 1\n",
    "clock"
   ]
  },
  {
   "cell_type": "code",
   "execution_count": 16,
   "metadata": {},
   "outputs": [
    {
     "name": "stdout",
     "output_type": "stream",
     "text": [
      "98\n"
     ]
    }
   ],
   "source": [
    "#198 a, b, c 가 자연수일때, a+b+c = 100을 만족하는 세 자연수의 조합개수를 구하시오. (30 40 30), (40,30,30) 은 중복\n",
    "###자연수!!!, 100\n",
    "myset = set()\n",
    "\n",
    "for a in range(1, 100):\n",
    "    for b in range(1, 100):\n",
    "        for c in range(1, 100):\n",
    "            if a + b + c == 100:\n",
    "                myset.update({a, b, c})\n",
    "print(len(myset))\n",
    "\n"
   ]
  },
  {
   "cell_type": "code",
   "execution_count": 14,
   "metadata": {},
   "outputs": [
    {
     "name": "stdout",
     "output_type": "stream",
     "text": [
      "[12345, 12354, 12435, 12453, 12534, 12543, 13245, 13254, 13425, 13452, 13524, 13542, 14235, 14253, 14325, 14352, 14523, 14532, 15234, 15243, 15324, 15342, 15423, 15432, 21345, 21354, 21435, 21453, 21534, 21543, 23145, 23154, 23415, 23451, 23514, 23541, 24135, 24153, 24315, 24351, 24513, 24531, 25134, 25143, 25314, 25341, 25413, 25431, 31245, 31254, 31425, 31452, 31524, 31542, 32145, 32154, 32415, 32451, 32514, 32541, 34125, 34152, 34215, 34251, 34512, 34521, 35124, 35142, 35214, 35241, 35412, 35421, 41235, 41253, 41325, 41352, 41523, 41532, 42135, 42153, 42315, 42351, 42513, 42531, 43125, 43152, 43215, 43251, 43512, 43521, 45123, 45132, 45213, 45231, 45312, 45321, 51234, 51243, 51324, 51342, 51423, 51432, 52134, 52143, 52314, 52341, 52413, 52431, 53124, 53142, 53214, 53241, 53412, 53421, 54123, 54132, 54213, 54231, 54312, 54321]\n"
     ]
    }
   ],
   "source": [
    "#200 1부터 5까지 숫자를 단 한번만 써서 만든 다섯 자리수들을 가장 작은 수부터 커지는 순서로 나열했을 때, 50번쨰 오는 수를 구하는 프로그램.\n",
    "\n",
    "num = [1, 2, 3, 4, 5]\n",
    "num_list = []\n",
    "for i in num:\n",
    "    for j in num:\n",
    "        for k in num:\n",
    "            for l in num:\n",
    "                for m in num:\n",
    "                    nstr = str(i)+str(j)+str(k)+str(l)+str(m)\n",
    "                    if len({i,j,k,l,m}) == 5: #len을 해줘야 5개인 set만 표기\n",
    "                        num_list.append(int(nstr))\n",
    "num_list.sort()\n",
    "print(num_list)"
   ]
  },
  {
   "cell_type": "code",
   "execution_count": 23,
   "metadata": {},
   "outputs": [
    {
     "name": "stdout",
     "output_type": "stream",
     "text": [
      "possible\n"
     ]
    }
   ],
   "source": [
    "if 20 % 3:\n",
    "    print(\"possible\")"
   ]
  },
  {
   "cell_type": "code",
   "execution_count": null,
   "metadata": {},
   "outputs": [],
   "source": []
  },
  {
   "cell_type": "code",
   "execution_count": 8,
   "metadata": {},
   "outputs": [
    {
     "data": {
      "text/plain": [
       "'0b101000'"
      ]
     },
     "execution_count": 8,
     "metadata": {},
     "output_type": "execute_result"
    }
   ],
   "source": [
    "bin(40)"
   ]
  },
  {
   "cell_type": "code",
   "execution_count": null,
   "metadata": {},
   "outputs": [],
   "source": []
  }
 ],
 "metadata": {
  "kernelspec": {
   "display_name": "Python 3",
   "language": "python",
   "name": "python3"
  },
  "language_info": {
   "codemirror_mode": {
    "name": "ipython",
    "version": 3
   },
   "file_extension": ".py",
   "mimetype": "text/x-python",
   "name": "python",
   "nbconvert_exporter": "python",
   "pygments_lexer": "ipython3",
   "version": "3.7.4"
  }
 },
 "nbformat": 4,
 "nbformat_minor": 2
}
