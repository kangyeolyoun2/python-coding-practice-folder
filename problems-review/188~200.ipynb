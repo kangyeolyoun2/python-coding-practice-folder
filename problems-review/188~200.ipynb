{
 "cells": [
  {
   "cell_type": "code",
   "execution_count": 6,
   "metadata": {},
   "outputs": [
    {
     "name": "stdout",
     "output_type": "stream",
     "text": [
      "Enter the SentenceMerry Christmas\n",
      "M\n",
      "Me\n",
      "Mer\n",
      "Merr\n",
      "Merry\n",
      "Merry \n",
      "Merry C\n",
      "Merry Ch\n",
      "Merry Chr\n",
      "Merry Chri\n",
      "Merry Chris\n",
      "Merry Christ\n",
      "Merry Christm\n",
      "Merry Christma\n",
      "Merry Christmas\n"
     ]
    }
   ],
   "source": [
    "#188 Merry Christmas를 입력받으면 \n",
    "#M\n",
    "#Me\n",
    "#Mer ... 등등 끝까지 완성하는프로그램\n",
    "\n",
    "sentence = input(\"Enter the Sentence\")\n",
    "\n",
    "for i in range(0,len(sentence)):\n",
    "    for j in range(0, i+1):\n",
    "        print(sentence[j], end=\"\")\n",
    "    print()"
   ]
  },
  {
   "cell_type": "code",
   "execution_count": 5,
   "metadata": {},
   "outputs": [
    {
     "name": "stdout",
     "output_type": "stream",
     "text": [
      "M\n",
      "Me\n",
      "Mer\n",
      "Merr\n",
      "Merry\n",
      "Merry \n",
      "Merry C\n",
      "Merry Ch\n",
      "Merry Chr\n",
      "Merry Chri\n",
      "Merry Chris\n",
      "Merry Christ\n",
      "Merry Christm\n",
      "Merry Christma\n",
      "Merry Christmas\n"
     ]
    }
   ],
   "source": [
    "#188 Merry Christmas를 입력받으면 \n",
    "#M\n",
    "#Me\n",
    "#Mer ... 등등 끝까지 완성하는프로그램\n",
    "\n",
    "sentence = \"Merry Christmas\"\n",
    "\n",
    "for i in range(0, len(sentence)):\n",
    "    for j in range(0, i+1):\n",
    "        print(sentence[j], end= \"\")\n",
    "    print()"
   ]
  },
  {
   "cell_type": "code",
   "execution_count": 29,
   "metadata": {},
   "outputs": [
    {
     "name": "stdout",
     "output_type": "stream",
     "text": [
      "*\n",
      "***\n",
      "*****\n",
      "*******\n",
      "*********\n",
      "***********\n",
      "***********\n",
      "***********\n",
      "***********\n",
      "***********\n",
      "***********\n"
     ]
    }
   ],
   "source": [
    "#191 Todo 별그리기\n"
   ]
  },
  {
   "cell_type": "code",
   "execution_count": null,
   "metadata": {},
   "outputs": [],
   "source": [
    "#191 답\n",
    "for i in range(11):\n",
    "    if i < 6:        \n",
    "        print(\"*\" + \"*\" * 2 * i)\n",
    "    else:\n",
    "        print(\"*\" + \"*\" * 2 * 5)"
   ]
  },
  {
   "cell_type": "code",
   "execution_count": 39,
   "metadata": {},
   "outputs": [
    {
     "name": "stdout",
     "output_type": "stream",
     "text": [
      "            * \n",
      "           ***  \n",
      "          *****   \n",
      "         *******    \n",
      "        *********     \n",
      "       ***********      \n",
      "      *************       \n",
      "     ***************        \n",
      "    *****************         \n",
      "   *******************          \n",
      "  *********************           \n"
     ]
    }
   ],
   "source": [
    "#192 Todo\n"
   ]
  },
  {
   "cell_type": "code",
   "execution_count": null,
   "metadata": {},
   "outputs": [],
   "source": [
    "#192 답\n",
    "\n",
    "for i in range(11):\n",
    "    print(\" \" * (11-i), \"*\" * (2*i+1), \" \" * i)"
   ]
  },
  {
   "cell_type": "code",
   "execution_count": 15,
   "metadata": {},
   "outputs": [
    {
     "name": "stdout",
     "output_type": "stream",
     "text": [
      "Enter the number : 21\n",
      "21 = 7 X 3\n",
      "21 = 7 X 3\n",
      "21 = 7 X 3\n",
      "21 = 7 X 3\n",
      "21 = 7 X 3\n"
     ]
    }
   ],
   "source": [
    "#196 어떤 두수의 곱으로 이루어진 소수가 있다. 어떤 두 수의 소수로 곱해졌는지 찾으시오\n",
    "#ex) 143 => 11 * 13\n",
    "\n",
    "num = int(input(\"Enter the number : \"))\n",
    "WN = False\n",
    "\n",
    "for i in range(2, num):\n",
    "    isTrue1 = True\n",
    "    for j in range(2, i):\n",
    "        if i % j == 0:\n",
    "            isTrue1 = False\n",
    "        if isTrue1 == True:\n",
    "            for j in range(2, i):\n",
    "                isTrue2 = True\n",
    "                for k in range(2,j):\n",
    "                    if j % k == 0:\n",
    "                        isTrue = False\n",
    "                if isTrue2 == True:\n",
    "                    if num == i * j:\n",
    "                        print(num, \"=\", max(i,j),\"X\", min(i,j))\n",
    "                        WN = True\n",
    "                        break\n",
    "if WN == False:\n",
    "    print(\"Wrong number\")"
   ]
  },
  {
   "cell_type": "code",
   "execution_count": 52,
   "metadata": {},
   "outputs": [
    {
     "name": "stdout",
     "output_type": "stream",
     "text": [
      "Enter the number : 3\n"
     ]
    },
    {
     "data": {
      "text/plain": [
       "True"
      ]
     },
     "execution_count": 52,
     "metadata": {},
     "output_type": "execute_result"
    }
   ],
   "source": [
    "#196 어떤 두수의 곱으로 이루어진 소수가 있다. 어떤 두 수의 소수로 곱해졌는지 찾으시오 (포기)\n",
    "#ex) 143 => 11 * 13\n",
    "\n",
    "import sympy\n",
    "num = int(input(\"Enter the number : \"))\n",
    "\n",
    "if sympy.isprime(num) == True:\n",
    "    "
   ]
  },
  {
   "cell_type": "code",
   "execution_count": 55,
   "metadata": {},
   "outputs": [],
   "source": [
    "#197 00:00 ~ 23:59 시계중 3이 가르치는 분을 모두 구하시오\n",
    "\n",
    "clock = 0\n",
    "for i in range(24):\n",
    "    for j in range(60):\n",
    "        three = str(i) + str(j)\n",
    "        if '3' in three:\n",
    "            clock += 1\n",
    "clock"
   ]
  },
  {
   "cell_type": "code",
   "execution_count": 16,
   "metadata": {},
   "outputs": [
    {
     "name": "stdout",
     "output_type": "stream",
     "text": [
      "98\n"
     ]
    }
   ],
   "source": [
    "#198 a, b, c 가 자연수일때, a+b+c = 100을 만족하는 세 자연수의 조합개수를 구하시오. (30 40 30), (40,30,30) 은 중복\n",
    "###자연수!!!, 100\n",
    "myset = set()\n",
    "\n",
    "for a in range(1, 100):\n",
    "    for b in range(1, 100):\n",
    "        for c in range(1, 100):\n",
    "            if a + b + c == 100:\n",
    "                myset.update({a, b, c})\n",
    "print(len(myset))\n",
    "\n"
   ]
  },
  {
   "cell_type": "code",
   "execution_count": 66,
   "metadata": {},
   "outputs": [
    {
     "name": "stdout",
     "output_type": "stream",
     "text": [
      "31254\n"
     ]
    }
   ],
   "source": [
    "#200 1부터 5까지 숫자를 단 한번만 써서 만든 다섯 자리수들을 가장 작은 수부터 커지는 순서로 나열했을 때, 50번쨰 오는 수를 구하는 프로그램.\n",
    "\n",
    "num = [1, 2, 3, 4, 5]\n",
    "num_list = []\n",
    "for i in num:\n",
    "    for j in num:\n",
    "        for k in num:\n",
    "            for l in num:\n",
    "                for m in num:\n",
    "                    nstr = str(i)+str(j)+str(k)+str(l)+str(m)\n",
    "                    if len({i,j,k,l,m}) == 5: #len을 해줘야 5개인 set만 표기\n",
    "                        num_list.append(int(nstr))\n",
    "num_list.sort()\n",
    "print(num_list[49])"
   ]
  },
  {
   "cell_type": "code",
   "execution_count": null,
   "metadata": {},
   "outputs": [],
   "source": []
  },
  {
   "cell_type": "code",
   "execution_count": null,
   "metadata": {},
   "outputs": [],
   "source": []
  },
  {
   "cell_type": "code",
   "execution_count": null,
   "metadata": {},
   "outputs": [],
   "source": []
  },
  {
   "cell_type": "code",
   "execution_count": null,
   "metadata": {},
   "outputs": [],
   "source": []
  },
  {
   "cell_type": "code",
   "execution_count": null,
   "metadata": {},
   "outputs": [],
   "source": []
  },
  {
   "cell_type": "code",
   "execution_count": null,
   "metadata": {},
   "outputs": [],
   "source": []
  },
  {
   "cell_type": "code",
   "execution_count": null,
   "metadata": {},
   "outputs": [],
   "source": []
  },
  {
   "cell_type": "code",
   "execution_count": null,
   "metadata": {},
   "outputs": [],
   "source": []
  },
  {
   "cell_type": "code",
   "execution_count": null,
   "metadata": {},
   "outputs": [],
   "source": []
  },
  {
   "cell_type": "code",
   "execution_count": null,
   "metadata": {},
   "outputs": [],
   "source": []
  },
  {
   "cell_type": "code",
   "execution_count": null,
   "metadata": {},
   "outputs": [],
   "source": []
  },
  {
   "cell_type": "code",
   "execution_count": null,
   "metadata": {},
   "outputs": [],
   "source": []
  }
 ],
 "metadata": {
  "kernelspec": {
   "display_name": "Python 3",
   "language": "python",
   "name": "python3"
  },
  "language_info": {
   "codemirror_mode": {
    "name": "ipython",
    "version": 3
   },
   "file_extension": ".py",
   "mimetype": "text/x-python",
   "name": "python",
   "nbconvert_exporter": "python",
   "pygments_lexer": "ipython3",
   "version": "3.7.4"
  }
 },
 "nbformat": 4,
 "nbformat_minor": 2
}
