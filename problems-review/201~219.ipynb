{
 "cells": [
  {
   "cell_type": "code",
   "execution_count": null,
   "metadata": {},
   "outputs": [],
   "source": [
    "#210 자연수 n을 입력받아 1부터 n-1까지의 각각의 수들을 5로 나눈 나머지들의 합을 리턴하는 함수 fun(n)을 작성\n",
    "#ex) fun(8)의 return값은 13이다."
   ]
  },
  {
   "cell_type": "code",
   "execution_count": null,
   "metadata": {},
   "outputs": [],
   "source": []
  },
  {
   "cell_type": "code",
   "execution_count": null,
   "metadata": {},
   "outputs": [],
   "source": [
    "#211 def gcd(n, m):\n",
    "#   def lcm(n, m): 을 만드시오"
   ]
  },
  {
   "cell_type": "code",
   "execution_count": null,
   "metadata": {},
   "outputs": [],
   "source": []
  },
  {
   "cell_type": "code",
   "execution_count": null,
   "metadata": {},
   "outputs": [],
   "source": [
    "#214 아래의 조건을 만족하면서, 100,000보다 작은 자연수 중 3 또는 5의 배수를 모두 더한 합을 출력하는 프로그램을 작성하시오.\n",
    "\n",
    "# 1) 3의 배수를 판정하는 함수 isMulThree(n)와 5의 배수를 판정하는 함수 ismulFive(n)을 정의하여 사용"
   ]
  },
  {
   "cell_type": "code",
   "execution_count": null,
   "metadata": {},
   "outputs": [],
   "source": []
  },
  {
   "cell_type": "code",
   "execution_count": 1,
   "metadata": {},
   "outputs": [],
   "source": [
    "#216 정수 n을 입력 받았을 때, 1부터 n까지의 정수에 나오는 1의 총 개수를 구하는 프로그램을 구하시오.\n",
    "\n",
    "#ex) n = 4 일 때, 결과는 1 (1, 2, 3, 4중 1은 1개)\n",
    "#ex) n = 13일 때, 결과는 6(1~13중 1은 6개)"
   ]
  },
  {
   "cell_type": "code",
   "execution_count": null,
   "metadata": {},
   "outputs": [],
   "source": []
  },
  {
   "cell_type": "code",
   "execution_count": 2,
   "metadata": {},
   "outputs": [],
   "source": [
    "# #217 셀프 넘버는 1949년 인도 수학자 D.R. Kaprekar가 이름 붙였다. 양의 정수 n에 대해서 d(n)을 n과 n의 각 자리수를 더하는 함수라고 정의하자.\n",
    "# 예를 들어, d(75) = 75+7+5 = 87이다. \n",
    "# 양의 정수 n이 주어졌을 때, 이 수를 시작해서 n, d(n), d(d(n)), d(d(d(n))), ...과 같은 무한 수열을 만들 수 있다. \n",
    "# 예를 들어, 33으로 시작한다면 다음 수는 33 + 3 + 3 = 39이고, 그 다음 수는 39 + 3 + 9 = 51, 다음 수는 51 + 5 + 1 = 57이다.\n",
    "# 33, 39, 51, 57, 69, 84, 96, 111, 114, 120, 123, 129, 141, ...\n",
    "# n을 d(n)의 생성자라고 한다. 위의 수열에서 33은 39의 생성자이고, 39는 51의 생성자, 51은 57의 생성자이다. 생성자가 한 개보다 많은 경우도 있다. 예를 들어, 101은 생성자가 2개(91과 100) 있다. \n",
    "# 생성자가 없는 숫자를 셀프 넘버라고 한다. 100보다 작은 셀프 넘버는 총 13개가 있다. 1, 3, 5, 7, 9, 20, 31, 42, 53, 64, 75, 86, 97\n",
    "# 10000보다 작거나 같은 셀프 넘버를 한 줄에 하나씩 출력하는 프로그램을 작성하시오."
   ]
  },
  {
   "cell_type": "code",
   "execution_count": null,
   "metadata": {},
   "outputs": [],
   "source": []
  },
  {
   "cell_type": "code",
   "execution_count": null,
   "metadata": {},
   "outputs": [],
   "source": [
    "#219 모든 분수는 유한소수나 순환마디를 갖는 무한소수로 표현된다. \n",
    "# 예를들어, 1/8 은 0.125의 유한소수이며, 1/7은 순환마디가 142857인 순환하는 무한소수이다.\n",
    "\n",
    "# 1부터 100까지의 N에 대하여 fun_recurring(N)은 1/N의 순환마디를 구하는 함수이다.\n",
    "# 만약, 1/N이 유한 소수이면 0을 리턴하고, 무한소수이면 순환마디를 구하여 리턴한다. fun_recurring(N)함수를 작성하시오\n",
    "\n"
   ]
  }
 ],
 "metadata": {
  "kernelspec": {
   "display_name": "Python 3",
   "language": "python",
   "name": "python3"
  },
  "language_info": {
   "codemirror_mode": {
    "name": "ipython",
    "version": 3
   },
   "file_extension": ".py",
   "mimetype": "text/x-python",
   "name": "python",
   "nbconvert_exporter": "python",
   "pygments_lexer": "ipython3",
   "version": "3.7.4"
  }
 },
 "nbformat": 4,
 "nbformat_minor": 2
}
