{
 "cells": [
  {
   "cell_type": "code",
   "execution_count": null,
   "metadata": {},
   "outputs": [],
   "source": [
    "#210 자연수 n을 입력받아 1부터 n-1까지의 각각의 수들을 5로 나눈 나머지들의 합을 리턴하는 함수 fun(n)을 작성\n",
    "#ex) fun(8)의 return값은 13이다."
   ]
  },
  {
   "cell_type": "code",
   "execution_count": 16,
   "metadata": {},
   "outputs": [
    {
     "name": "stdout",
     "output_type": "stream",
     "text": [
      "insert number8\n",
      "13\n"
     ]
    }
   ],
   "source": [
    "def fun(n):\n",
    "    fun_sum = 0\n",
    "    \n",
    "    for i in range(1,n):\n",
    "        fun_sum += i % 5 \n",
    "        \n",
    "    return fun_sum\n",
    "fun(8)"
   ]
  },
  {
   "cell_type": "code",
   "execution_count": null,
   "metadata": {},
   "outputs": [],
   "source": []
  },
  {
   "cell_type": "code",
   "execution_count": null,
   "metadata": {},
   "outputs": [],
   "source": [
    "#211 def gcd(n, m):\n",
    "#   def lcm(n, m): 을 만드시오"
   ]
  },
  {
   "cell_type": "code",
   "execution_count": 27,
   "metadata": {},
   "outputs": [],
   "source": [
    "def gcd(n, m):\n",
    "    gcd_list = []\n",
    "    for i in range(1, max(n, m)):\n",
    "        if n % i == 0 and m % i == 0:\n",
    "            gcd_list.append(i)\n",
    "    return max(gcd_list)\n",
    "\n",
    "def lcm(n, m):\n",
    "    i = max(n, m)\n",
    "    while True:\n",
    "        if i % n ==0 and i % m == 0:\n",
    "            break\n",
    "        i += 1\n",
    "    return i\n"
   ]
  },
  {
   "cell_type": "code",
   "execution_count": null,
   "metadata": {},
   "outputs": [],
   "source": [
    "#211(2)\n",
    "\n",
    "def lcm(n, m):\n",
    "    \"\"\"Compute the lowest common multiple of n and m\"\"\"\n",
    "    \"\"\"multiply n and m then divide by greatest common divisor\"\"\"\n",
    "    return n * m / gcd(n, m)"
   ]
  },
  {
   "cell_type": "code",
   "execution_count": null,
   "metadata": {},
   "outputs": [],
   "source": [
    "def gcd(n, m):\n",
    "\n",
    "    a = [i for i in range(1,n+1) if i % n == 0]\n",
    "    b = [i for i in range(1,m+1) if i % n == 0]\n",
    "    \n",
    "    return max(list(set(a) & set(b)))\n",
    "def lcm(n, m):\n",
    "    return n * m / gcd(n,m)\n"
   ]
  },
  {
   "cell_type": "code",
   "execution_count": 28,
   "metadata": {},
   "outputs": [
    {
     "data": {
      "text/plain": [
       "36"
      ]
     },
     "execution_count": 28,
     "metadata": {},
     "output_type": "execute_result"
    }
   ],
   "source": [
    "gcd(12, 36)\n"
   ]
  },
  {
   "cell_type": "code",
   "execution_count": 30,
   "metadata": {},
   "outputs": [
    {
     "data": {
      "text/plain": [
       "252"
      ]
     },
     "execution_count": 30,
     "metadata": {},
     "output_type": "execute_result"
    }
   ],
   "source": [
    "lcm(14, 36)"
   ]
  },
  {
   "cell_type": "code",
   "execution_count": null,
   "metadata": {},
   "outputs": [],
   "source": [
    "## 214 아래의 조건을 만족하면서, 100,000보다 작은 자연수 중 3 또는 5의 배수를 모두 더한 합을 출력하는 프로그램을 작성하시오.\n",
    "\n",
    "# 1) 3의 배수를 판정하는 함수 isMulThree(n)와 5의 배수를 판정하는 함수 ismulFive(n)을 정의하여 사용"
   ]
  },
  {
   "cell_type": "code",
   "execution_count": 34,
   "metadata": {},
   "outputs": [
    {
     "name": "stdout",
     "output_type": "stream",
     "text": [
      "2333316668\n"
     ]
    }
   ],
   "source": [
    "def isMulThree(n):\n",
    "    return n % 3 == 0\n",
    "\n",
    "def isMulFive(n):\n",
    "    return n % 5 == 0\n",
    "\n",
    "sum = 0\n",
    "for i in range(100000):\n",
    "    if isMulThree(i) or isMulFive(i):\n",
    "        sum += i\n",
    "\n",
    "print(sum)"
   ]
  },
  {
   "cell_type": "code",
   "execution_count": null,
   "metadata": {},
   "outputs": [],
   "source": [
    "def isMulThree(n):\n",
    "    return n % 3 == 0\n",
    "def isMulFive(n):\n",
    "    return n % 5 == 0\n",
    "\n",
    "sum(list([i for i in range(1,100001) if isMulThree(i) or isMulFive(i)]))"
   ]
  },
  {
   "cell_type": "code",
   "execution_count": 1,
   "metadata": {},
   "outputs": [],
   "source": [
    "#216 정수 n을 입력 받았을 때, 1부터 n까지의 정수에 나오는 1의 총 개수를 구하는 프로그램을 구하시오.\n",
    "\n",
    "#ex) n = 4 일 때, 결과는 1 (1, 2, 3, 4중 1은 1개)\n",
    "#ex) n = 13일 때, 결과는 6(1~13중 1은 5개)\n",
    "#ex) n = 25일 때, 결과는 12\n",
    "\n",
    "def num_1(n):\n",
    "    case = 0\n",
    "    for i in range(n+1):\n",
    "        num = i\n",
    "        while num != 0:\n",
    "            if num % 10 == 1:\n",
    "                case += 1\n",
    "            num //= 10\n",
    "    return case    \n",
    "num_1(13)"
   ]
  },
  {
   "cell_type": "code",
   "execution_count": 1,
   "metadata": {},
   "outputs": [],
   "source": [
    "#훨씬 깔끄밍\n",
    "def one_count(n):\n",
    "    a = 0\n",
    "    for i in range(n):\n",
    "        if \"1\" in str(i):\n",
    "            a += 1\n",
    "    return a"
   ]
  },
  {
   "cell_type": "code",
   "execution_count": 2,
   "metadata": {},
   "outputs": [],
   "source": [
    "# #217 셀프 넘버는 1949년 인도 수학자 D.R. Kaprekar가 이름 붙였다. 양의 정수 n에 대해서 d(n)을 n과 n의 각 자리수를 더하는 함수라고 정의하자.\n",
    "# 예를 들어, d(75) = 75+7+5 = 87이다. \n",
    "# 양의 정수 n이 주어졌을 때, 이 수를 시작해서 n, d(n), d(d(n)), d(d(d(n))), ...과 같은 무한 수열을 만들 수 있다. \n",
    "# 예를 들어, 33으로 시작한다면 다음 수는 33 + 3 + 3 = 39이고, 그 다음 수는 39 + 3 + 9 = 51, 다음 수는 51 + 5 + 1 = 57이다.\n",
    "# 33, 39, 51, 57, 69, 84, 96, 111, 114, 120, 123, 129, 141, ...\n",
    "# n을 d(n)의 생성자라고 한다. 위의 수열에서 33은 39의 생성자이고, 39는 51의 생성자, 51은 57의 생성자이다. 생성자가 한 개보다 많은 경우도 있다. 예를 들어, 101은 생성자가 2개(91과 100) 있다. \n",
    "# 생성자가 없는 숫자를 셀프 넘버라고 한다. 100보다 작은 셀프 넘버는 총 13개가 있다. 1, 3, 5, 7, 9, 20, 31, 42, 53, 64, 75, 86, 97\n",
    "# 10000보다 작거나 같은 셀프 넘버를 한 줄에 하나씩 출력하는 프로그램을 작성하시오."
   ]
  },
  {
   "cell_type": "code",
   "execution_count": 1,
   "metadata": {},
   "outputs": [],
   "source": [
    "def d(n):\n",
    "    a = 0\n",
    "    for i in range(len(str(n))):\n",
    "        a += int(str(n)[i])\n",
    "    return a + n\n",
    "d(111)\n",
    "\n",
    "def isSelfnum(n):\n",
    "    boolean = True\n",
    "    for i in range(1, n+1):\n",
    "        if n == d(i):\n",
    "            boolean = False\n",
    "    return boolean"
   ]
  },
  {
   "cell_type": "code",
   "execution_count": 4,
   "metadata": {
    "scrolled": true
   },
   "outputs": [
    {
     "name": "stdout",
     "output_type": "stream",
     "text": [
      "CPU times: user 2 µs, sys: 1e+03 ns, total: 3 µs\n",
      "Wall time: 4.77 µs\n"
     ]
    },
    {
     "data": {
      "text/plain": [
       "[1,\n",
       " 3,\n",
       " 5,\n",
       " 7,\n",
       " 9,\n",
       " 20,\n",
       " 31,\n",
       " 42,\n",
       " 53,\n",
       " 64,\n",
       " 75,\n",
       " 86,\n",
       " 97,\n",
       " 108,\n",
       " 110,\n",
       " 121,\n",
       " 132,\n",
       " 143,\n",
       " 154,\n",
       " 165,\n",
       " 176,\n",
       " 187,\n",
       " 198,\n",
       " 209,\n",
       " 211,\n",
       " 222,\n",
       " 233,\n",
       " 244,\n",
       " 255,\n",
       " 266,\n",
       " 277,\n",
       " 288,\n",
       " 299,\n",
       " 310,\n",
       " 312,\n",
       " 323,\n",
       " 334,\n",
       " 345,\n",
       " 356,\n",
       " 367,\n",
       " 378,\n",
       " 389,\n",
       " 400,\n",
       " 411,\n",
       " 413,\n",
       " 424,\n",
       " 435,\n",
       " 446,\n",
       " 457,\n",
       " 468,\n",
       " 479,\n",
       " 490,\n",
       " 501,\n",
       " 512,\n",
       " 514,\n",
       " 525,\n",
       " 536,\n",
       " 547,\n",
       " 558,\n",
       " 569,\n",
       " 580,\n",
       " 591,\n",
       " 602,\n",
       " 613,\n",
       " 615,\n",
       " 626,\n",
       " 637,\n",
       " 648,\n",
       " 659,\n",
       " 670,\n",
       " 681,\n",
       " 692,\n",
       " 703,\n",
       " 714,\n",
       " 716,\n",
       " 727,\n",
       " 738,\n",
       " 749,\n",
       " 760,\n",
       " 771,\n",
       " 782,\n",
       " 793,\n",
       " 804,\n",
       " 815,\n",
       " 817,\n",
       " 828,\n",
       " 839,\n",
       " 850,\n",
       " 861,\n",
       " 872,\n",
       " 883,\n",
       " 894,\n",
       " 905,\n",
       " 916,\n",
       " 918,\n",
       " 929,\n",
       " 940,\n",
       " 951,\n",
       " 962,\n",
       " 973,\n",
       " 984,\n",
       " 995]"
      ]
     },
     "execution_count": 4,
     "metadata": {},
     "output_type": "execute_result"
    }
   ],
   "source": [
    "%time\n",
    "[i for i in range(1, 1000) if isSelfnum(i)]"
   ]
  },
  {
   "cell_type": "code",
   "execution_count": null,
   "metadata": {},
   "outputs": [],
   "source": [
    "#219 모든 분수는 유한소수나 순환마디를 갖는 무한소수로 표현된다. \n",
    "# 예를들어, 1/8 은 0.125의 유한소수이며, 1/7은 순환마디가 142857인 순환하는 무한소수이다.\n",
    "\n",
    "# 1부터 100까지의 N에 대하여 fun_recurring(N)은 1/N의 순환마디를 구하는 함수이다.\n",
    "# 만약, 1/N이 유한 소수이면 0을 리턴하고, 무한소수이면 순환마디를 구하여 리턴한다. fun_recurring(N)함수를 작성하시오\n",
    "\n"
   ]
  },
  {
   "cell_type": "code",
   "execution_count": null,
   "metadata": {},
   "outputs": [],
   "source": [
    "#답이 아님. 1/12는 안됨, 0.0 으로 시작하면 안됨\n",
    "\n",
    "def fun_recurring(N):\n",
    "    nstr = str(1/N)[2:]\n",
    "    if len(nstr) <= 10:\n",
    "        print(\"Not a recurring\")\n",
    "    else:\n",
    "        rec = \"\"\n",
    "        for i in nstr:\n",
    "            rec += i\n",
    "            if rec == nstr[len(rec): 2*len(rec)]:\n",
    "                return rec"
   ]
  },
  {
   "cell_type": "code",
   "execution_count": 6,
   "metadata": {},
   "outputs": [],
   "source": [
    "#이럼 앞의 0이안나오는데 흠..\n",
    "def fun_recurring(N):\n",
    "    nstr = str(1/N*10000000000)\n",
    "    if len(nstr) <= 10:\n",
    "        print(\"Not a recurring\")\n",
    "    else:\n",
    "        rec = \"\"\n",
    "        for i in nstr:\n",
    "            rec += i\n",
    "            if rec == nstr[len(rec): 2*len(rec)]:\n",
    "                return rec"
   ]
  },
  {
   "cell_type": "code",
   "execution_count": 4,
   "metadata": {},
   "outputs": [
    {
     "name": "stdout",
     "output_type": "stream",
     "text": [
      "rec:  1\n",
      "nstr: 4\n",
      "rec:  14\n",
      "nstr: 28\n",
      "rec:  142\n",
      "nstr: 857\n",
      "rec:  1428\n",
      "nstr: 5714\n",
      "rec:  14285\n",
      "nstr: 71428\n",
      "rec:  142857\n",
      "nstr: 142857\n",
      "hello~~~~~~~~~\n",
      "rec:  1428571\n",
      "nstr: 4285714\n",
      "rec:  14285714\n",
      "nstr: 28571428\n",
      "rec:  142857142\n",
      "nstr: 85714285\n",
      "rec:  1428571428\n",
      "nstr: 5714285\n",
      "rec:  14285714285\n",
      "nstr: 714285\n",
      "rec:  142857142857\n",
      "nstr: 14285\n",
      "rec:  1428571428571\n",
      "nstr: 4285\n",
      "rec:  14285714285714\n",
      "nstr: 285\n",
      "rec:  142857142857142\n",
      "nstr: 85\n",
      "rec:  1428571428571428\n",
      "nstr: 5\n",
      "rec:  14285714285714285\n",
      "nstr: \n"
     ]
    }
   ],
   "source": [
    "nstr = str(1/7)[2:]\n",
    "rec = \"\"\n",
    "for i in nstr:\n",
    "    rec += i\n",
    "    print(\"rec: \",rec)\n",
    "    print(\"nstr:\",nstr[len(rec):2*len(rec)])\n",
    "    if rec == nstr[len(rec): 2*len(rec)]:\n",
    "        print(\"hello~~~~~~~~~\")"
   ]
  },
  {
   "cell_type": "code",
   "execution_count": null,
   "metadata": {},
   "outputs": [],
   "source": []
  }
 ],
 "metadata": {
  "kernelspec": {
   "display_name": "Python 3",
   "language": "python",
   "name": "python3"
  },
  "language_info": {
   "codemirror_mode": {
    "name": "ipython",
    "version": 3
   },
   "file_extension": ".py",
   "mimetype": "text/x-python",
   "name": "python",
   "nbconvert_exporter": "python",
   "pygments_lexer": "ipython3",
   "version": "3.7.4"
  }
 },
 "nbformat": 4,
 "nbformat_minor": 2
}
