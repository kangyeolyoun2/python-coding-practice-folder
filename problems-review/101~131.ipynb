{
 "cells": [
  {
   "cell_type": "code",
   "execution_count": 3,
   "metadata": {},
   "outputs": [
    {
     "name": "stdout",
     "output_type": "stream",
     "text": [
      "insert number10\n"
     ]
    },
    {
     "data": {
      "text/plain": [
       "55"
      ]
     },
     "execution_count": 3,
     "metadata": {},
     "output_type": "execute_result"
    }
   ],
   "source": [
    "#(109) 1부터 10까지 정수 10개를 원소르 가지는 튜플을 하나 만들어, 원소들의 합을 출력하는 프로그램을 작성하시오.\n",
    "\n",
    "n = int(input(\"insert number\"))\n",
    "def num_sum(n):\n",
    "    num_list = []\n",
    "    for i in range(1, n+1):\n",
    "        num_list.append(i)\n",
    "    num_list = sum(tuple(num_list))\n",
    "    return num_list\n",
    "\n",
    "num_sum(n)"
   ]
  },
  {
   "cell_type": "code",
   "execution_count": null,
   "metadata": {},
   "outputs": [],
   "source": [
    "#(109) 1부터 10까지 정수 10개를 원소르 가지는 튜플을 하나 만들어, 원소들의 합을 출력하는 프로그램을 작성하시오.\n",
    "\n",
    "a = []\n",
    "\n",
    "for i in range(1,11):\n",
    "    a.append(i)\n",
    "    \n",
    "sum(tuple(a))"
   ]
  },
  {
   "cell_type": "code",
   "execution_count": 15,
   "metadata": {},
   "outputs": [
    {
     "data": {
      "text/plain": [
       "{1, 2}"
      ]
     },
     "execution_count": 15,
     "metadata": {},
     "output_type": "execute_result"
    }
   ],
   "source": [
    "#(127) 16과 30의 공약수를 만드세요.\n",
    "\n",
    "set_a = []\n",
    "set_b = []\n",
    "for i in range(1,17):\n",
    "    if 16 % i == 0:\n",
    "        set_a.append(i)\n",
    "\n",
    "for i in range(1,31):\n",
    "    if 30 % i == 0:\n",
    "        set_b.append(i)\n",
    "\n",
    "set_a = set(set_a)\n",
    "set_b = set(set_b)\n",
    "set_a & set_b\n",
    "    "
   ]
  },
  {
   "cell_type": "code",
   "execution_count": 4,
   "metadata": {},
   "outputs": [
    {
     "data": {
      "text/plain": [
       "{1, 2}"
      ]
     },
     "execution_count": 4,
     "metadata": {},
     "output_type": "execute_result"
    }
   ],
   "source": [
    "#(127) 16과 30의 공약수를 만드세요.(2)\n",
    "\n",
    "def common_divisor(n):\n",
    "    divisor_list = []\n",
    "    for i in range(1,n+1):\n",
    "        if n % i == 0:\n",
    "            divisor_list.append(i)\n",
    "    return set(divisor_list)\n",
    "\n",
    "common_divisor(16) & common_divisor(30)"
   ]
  },
  {
   "cell_type": "code",
   "execution_count": 16,
   "metadata": {},
   "outputs": [
    {
     "name": "stdout",
     "output_type": "stream",
     "text": [
      "insert 10 numbers. each number must be separated by space. you put:  14 55 22 33 77 49 22 61 55 41 21 31\n"
     ]
    },
    {
     "data": {
      "text/plain": [
       "'77'"
      ]
     },
     "execution_count": 16,
     "metadata": {},
     "output_type": "execute_result"
    }
   ],
   "source": [
    "#(128) 10개수를 입력받아 최대값을 출력해주는것을 만드시오.\n",
    "nums = input(\"insert 10 numbers. each number must be separated by space. you put:  \").split(\" \")\n",
    "max(nums)\n"
   ]
  },
  {
   "cell_type": "code",
   "execution_count": null,
   "metadata": {},
   "outputs": [],
   "source": [
    "#(128) 10개수를 입력받아 최대값을 출력해주는것을 만드시오.\n",
    "\n",
    "def max_number():\n",
    "    a = []\n",
    "    \n",
    "    for i in range(10):\n",
    "        \n",
    "        a.append(int(input()))\n",
    "    \n",
    "    return max(a)\n"
   ]
  },
  {
   "cell_type": "code",
   "execution_count": 26,
   "metadata": {},
   "outputs": [
    {
     "data": {
      "text/plain": [
       "['alpha', 'bravo', 'delta', 'hotel', 'india']"
      ]
     },
     "execution_count": 26,
     "metadata": {},
     "output_type": "execute_result"
    }
   ],
   "source": [
    "#(129) 글자 길이가 5인것만 출력하기\n",
    "\n",
    "a = [\"alpha\", \"bravo\", \"charlie\", \"delta\", \"echo\", \"foxtrot\", \"golf\", \"hotel\", \"india\"]\n",
    "b = []\n",
    "\n",
    "for i in a:\n",
    "    if len(i) == 5:\n",
    "        b.append(i)\n",
    "b\n",
    "    "
   ]
  },
  {
   "cell_type": "code",
   "execution_count": null,
   "metadata": {},
   "outputs": [],
   "source": [
    "#(131) 각 학생의 성적을 딕셔너리로 저장 -> 그리고 각 학생의 평균, 전체평균 구하세용"
   ]
  },
  {
   "cell_type": "markdown",
   "metadata": {},
   "source": [
    "|이름|수학|과학|영어|\n",
    "|:---:|:---:|:---:|:---:|\n",
    "|Dohee|76|89|93|\n",
    "|Juwon|88|87|100|\n",
    "|Seohee|86|93|82|"
   ]
  },
  {
   "cell_type": "code",
   "execution_count": 43,
   "metadata": {},
   "outputs": [
    {
     "name": "stdout",
     "output_type": "stream",
     "text": [
      "Dohee의 평균은 86.0입니다\n",
      "Juwon의 평균은 91.66666666666667입니다\n",
      "seohee의 평균은 87.0입니다\n",
      "전체의 평균은 88.22222222222223입니다\n"
     ]
    }
   ],
   "source": [
    "scores = {\"Dohee\":{\"수학\":76, \"과학\":89, \"영어\":93},\n",
    "         \"Juwon\":{\"수학\":88, \"과학\":87, \"영어\":100},\n",
    "         \"seohee\":{\"수학\":86, \"과학\":93, \"영어\":82},}\n",
    "\n",
    "each_average = []\n",
    "for i in scores:\n",
    "    a=sum(scores[i].values()) / len(scores[i].keys())\n",
    "    print(\"{}의 평균은 {}입니다\".format(i, a))\n",
    "    each_average.append(a)\n",
    "    \n",
    "total_average = sum(each_average) / len(each_average)\n",
    "print(\"전체의 평균은 {}입니다\".format(total_average))"
   ]
  },
  {
   "cell_type": "code",
   "execution_count": null,
   "metadata": {},
   "outputs": [],
   "source": []
  }
 ],
 "metadata": {
  "kernelspec": {
   "display_name": "Python 3",
   "language": "python",
   "name": "python3"
  },
  "language_info": {
   "codemirror_mode": {
    "name": "ipython",
    "version": 3
   },
   "file_extension": ".py",
   "mimetype": "text/x-python",
   "name": "python",
   "nbconvert_exporter": "python",
   "pygments_lexer": "ipython3",
   "version": "3.7.4"
  }
 },
 "nbformat": 4,
 "nbformat_minor": 2
}
