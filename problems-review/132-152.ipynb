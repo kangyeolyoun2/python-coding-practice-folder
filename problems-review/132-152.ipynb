{
 "cells": [
  {
   "cell_type": "code",
   "execution_count": 9,
   "metadata": {},
   "outputs": [
    {
     "name": "stdout",
     "output_type": "stream",
     "text": [
      "insert positive integer. Num must be less than 27. you put: 26\n",
      "Z z\n"
     ]
    }
   ],
   "source": [
    "#139 자연수 N이 주어질때, N번째 알파벳 대문자와 소문자 출력하는 프로그램 작성\n",
    "\n",
    "num = int(input(\"insert positive integer. Num must be less than 27. you put: \"))\n",
    "\n",
    "print(chr(64+num), chr(96+num))"
   ]
  },
  {
   "cell_type": "code",
   "execution_count": 2,
   "metadata": {},
   "outputs": [
    {
     "name": "stdout",
     "output_type": "stream",
     "text": [
      "insert number: 4\n",
      "D d\n"
     ]
    }
   ],
   "source": [
    "#139 자연수 N이 주어질때, N번째 알파벳 대문자와 소문자 출력하는 프로그램 작성\n",
    "\n",
    "n = int(input(\"insert number: \"))\n",
    "def num_char(n):\n",
    "    print(chr(n+64), chr(n+96))\n",
    "    \n",
    "num_char(n)"
   ]
  },
  {
   "cell_type": "code",
   "execution_count": 26,
   "metadata": {},
   "outputs": [
    {
     "name": "stdout",
     "output_type": "stream",
     "text": [
      "insert numbers.34 15 2 64 194 7\n"
     ]
    },
    {
     "data": {
      "text/plain": [
       "1333"
      ]
     },
     "execution_count": 26,
     "metadata": {},
     "output_type": "execute_result"
    }
   ],
   "source": [
    "#142 다음 숫자들을 앞에서부터 3자리씩 나누어서 합을 구하시오\n",
    "\n",
    "#34 15 2 64 194 7\n",
    "# => 341 + 526 + 419 + 47 = 1333\n",
    "\n",
    "num = input(\"insert numbers.\").replace(\" \", \"\")\n",
    "num_list = []\n",
    "for i in range(len(num)):\n",
    "    if len(num) > 3*i:\n",
    "        a = num[3*i : 3*i+3]\n",
    "        num_list.append(a)\n",
    "num_list\n",
    "list(map(int,num_list))\n",
    "sum(list(map(int,num_list)))"
   ]
  },
  {
   "cell_type": "code",
   "execution_count": null,
   "metadata": {},
   "outputs": [],
   "source": [
    "a = \"\"\n",
    "result = 0\n",
    "while True:\n",
    "    try:\n",
    "        n = int(input(\"insert number: \"))\n",
    "        a+= str(n)\n",
    "        \n",
    "    except:\n",
    "        break\n",
    "        \n",
    "for i in range(len(a)):\n",
    "    if len(a) > 3*i:\n",
    "        b = int(a[3*i : 3*i+3])\n",
    "        result += b\n",
    "        \n",
    "result"
   ]
  },
  {
   "cell_type": "code",
   "execution_count": null,
   "metadata": {},
   "outputs": [],
   "source": [
    "#142 다음 숫자들을 앞에서부터 3자리씩 나누어서 합을 구하시오(2)\n",
    "\n",
    "#34 15 2 64 194 7\n",
    "# => 341 + 526 + 419 + 47 = 1333\n",
    "\n",
    "def div_sum(n):\n",
    "    num = input(\"insert number\").replace(\" \", \"\")\n",
    "    num_list = []\n",
    "    for i in range(len(num)):\n",
    "        if len(num) > 3*i:\n",
    "            a = num[3*i: 3*i+3]\n",
    "            num_list.append(a)\n",
    "    return sum(list(map(int, num_list)))\n",
    "\n",
    "div_sum(a)"
   ]
  },
  {
   "cell_type": "code",
   "execution_count": 1,
   "metadata": {},
   "outputs": [
    {
     "name": "stdout",
     "output_type": "stream",
     "text": [
      "insert numbers: 34 15 2 64 194 7\n"
     ]
    },
    {
     "data": {
      "text/plain": [
       "1333"
      ]
     },
     "execution_count": 1,
     "metadata": {},
     "output_type": "execute_result"
    }
   ],
   "source": [
    "n = input(\"insert numbers: \").split(\" \")\n",
    "\n",
    "a, b = \"\", []\n",
    "for i in n:\n",
    "    a += i\n",
    "\n",
    "for i in range(len(str(a))//3 + 1):\n",
    "    b.append(a[3*i:3+(3*i)])\n",
    "\n",
    "sum(map(int,b))"
   ]
  },
  {
   "cell_type": "code",
   "execution_count": 9,
   "metadata": {},
   "outputs": [
    {
     "name": "stdout",
     "output_type": "stream",
     "text": [
      "first 6 digit of your SSN?530716\n",
      "age is :  66 old\n"
     ]
    }
   ],
   "source": [
    "#144 주민번호 앞자리를 입력받아 65세이상이면(2019 기준, 99세 최대) old를 출력하는 프로그램\n",
    "#ex) 530716 => old\n",
    "\n",
    "num = input(\"first 6 digit of your SSN?\")\n",
    "num = int(num[:2])\n",
    "\n",
    "if num > 19:\n",
    "    print(\"age is : \", 100 + 19 - num, \"old\")\n",
    "else:\n",
    "    print(\"age is : \", 19 - num)"
   ]
  },
  {
   "cell_type": "code",
   "execution_count": null,
   "metadata": {},
   "outputs": [],
   "source": [
    "n = input(\"insert your SSN: \")\n",
    "b = (int(n[0]+n[1]))\n",
    "if b > 19:\n",
    "    a = 119 - b\n",
    "else:\n",
    "    a = 19 - b\n",
    "if a >= 65:\n",
    "    print(\"old\", a)\n",
    "else:\n",
    "    print(\"young\", a)"
   ]
  },
  {
   "cell_type": "code",
   "execution_count": null,
   "metadata": {},
   "outputs": [],
   "source": [
    "#144 주민번호 앞자리를 입력받아 65세이상이면(2019 기준, 99세 최대) old를 출력하는 프로그램 (2)\n",
    "#ex) 530716 => old\n",
    "\n",
    "def how_old(n):\n",
    "    n = int(input(\"insert your first 6 digit of your ssn: \")[:2])\n",
    "    \n",
    "    if n > 19:\n",
    "        return print(\"age is: \", 100+19 - ssn, \"old\")\n",
    "    else:\n",
    "        return print(\"age is: \", 19-ssn)\n",
    "    \n",
    "    how_old(1)"
   ]
  },
  {
   "cell_type": "code",
   "execution_count": 13,
   "metadata": {},
   "outputs": [
    {
     "name": "stdout",
     "output_type": "stream",
     "text": [
      "insert two numbers. numbers must be split with space19 25\n"
     ]
    },
    {
     "data": {
      "text/plain": [
       "6"
      ]
     },
     "execution_count": 13,
     "metadata": {},
     "output_type": "execute_result"
    }
   ],
   "source": [
    "#149 (1)숫자 두개를 입력받아 큰값 - 작은값 만드는프로그램\n",
    "#    (2)세 수를 입력받아 (가장큰수) x (가장작은 수) x (중간 수)를 출력하는 프로그램\n",
    "\n",
    "#(1)\n",
    "num = input(\"insert two numbers. numbers must be split with space\").split(\" \")\n",
    "num = list(map(int,num))\n",
    "max(num) - min(num)\n",
    "\n",
    "#(2)\n",
    "num3 = input(\"insert three numbers with space\").split(\" \")\n",
    "num3 = list(map(int, num3))\n",
    "num3.sort\n",
    "num3[2] * num3[1] - num3[0]"
   ]
  },
  {
   "cell_type": "code",
   "execution_count": null,
   "metadata": {},
   "outputs": [],
   "source": [
    "#1\n",
    "a = []\n",
    "for _ in range(2):\n",
    "    num = int(input(\"insert number\"))\n",
    "    a.append(num)\n",
    "max(a) - min(a)\n",
    "\n",
    "#2\n",
    "a = []\n",
    "for _ in range(3):\n",
    "    num = int(input(\"insert number\"))\n",
    "    a.append(num)\n",
    "\n",
    "a.sort(reverse=True)\n",
    "\n",
    "a[0] * a[2] - a[1]\n"
   ]
  },
  {
   "cell_type": "code",
   "execution_count": 17,
   "metadata": {},
   "outputs": [
    {
     "name": "stdout",
     "output_type": "stream",
     "text": [
      "insert x: 52\n",
      "insert y: 42\n",
      "dot is insida square\n"
     ]
    }
   ],
   "source": [
    "#150 한점을 구성하는 좌표 (x, y)를 입력받고 이 점이\n",
    "#(50, 40), (50, 80), (100, 40), (100, 80) 사각형안에 들어있는지 판별하시오\n",
    "x = int(input(\"insert x: \"))\n",
    "y = int(input(\"insert y: \"))\n",
    "\n",
    "\n",
    "if x > 50 and x < 100 and y > 40 and y < 80:\n",
    "    print(\"dot is insida square\")\n",
    "else:\n",
    "    print(\"dot is not insida square\")\n",
    "    \n",
    "    \n",
    "# def isdot_in(n):\n",
    "#     x = int(input(\"insert x: \"))\n",
    "#     y = int(input(\"insert y: \"))\n",
    "\n",
    "#     if x > 50 and x < 100 and y > 40 and y < 80:\n",
    "#         return print(\"dot is in square\")\n",
    "#     else :\n",
    "#         return print(\"dot is not in square\")"
   ]
  },
  {
   "cell_type": "code",
   "execution_count": 1,
   "metadata": {},
   "outputs": [
    {
     "name": "stdout",
     "output_type": "stream",
     "text": [
      "insert sentenceapple is red\n",
      "Good sentence\n"
     ]
    }
   ],
   "source": [
    "#151 Sentence에서 문자가 aeiou로 시작하면 Good Sentence로 입력하시오.\n",
    "\n",
    "Sentence = input(\"insert sentence\")\n",
    "\n",
    "if Sentence[0] in \"aeiouAEIOU\":\n",
    "    print(\"Good sentence\")\n",
    "else:\n",
    "    print(\"not a good sentence\")"
   ]
  },
  {
   "cell_type": "code",
   "execution_count": 3,
   "metadata": {},
   "outputs": [
    {
     "name": "stdout",
     "output_type": "stream",
     "text": [
      "color?pink\n"
     ]
    }
   ],
   "source": [
    "#152 colors = [\"red\", \"orange\", \"blue\", \"green\", \"white\", \"black\", \"dark blue\", \"purple\"]\n",
    "# color를 입력해서, 원소와 중복된다면 Sorry, 없으면 추가하시오\n",
    "\n",
    "colors = [\"red\", \"orange\", \"blue\", \"green\", \"white\", \"black\", \"dark blue\", \"purple\"]\n",
    "\n",
    "color = input(\"insert color: \").lower()\n",
    "\n",
    "if color not in colors:\n",
    "    colors.append(color)\n",
    "else:\n",
    "    print(\"Sorry\")"
   ]
  },
  {
   "cell_type": "code",
   "execution_count": 4,
   "metadata": {},
   "outputs": [
    {
     "data": {
      "text/plain": [
       "['red',\n",
       " 'orange',\n",
       " 'blue',\n",
       " 'green',\n",
       " 'white',\n",
       " 'black',\n",
       " 'dark blue',\n",
       " 'purple',\n",
       " 'pink']"
      ]
     },
     "execution_count": 4,
     "metadata": {},
     "output_type": "execute_result"
    }
   ],
   "source": [
    "colors"
   ]
  },
  {
   "cell_type": "code",
   "execution_count": null,
   "metadata": {},
   "outputs": [],
   "source": []
  }
 ],
 "metadata": {
  "kernelspec": {
   "display_name": "Python 3",
   "language": "python",
   "name": "python3"
  },
  "language_info": {
   "codemirror_mode": {
    "name": "ipython",
    "version": 3
   },
   "file_extension": ".py",
   "mimetype": "text/x-python",
   "name": "python",
   "nbconvert_exporter": "python",
   "pygments_lexer": "ipython3",
   "version": "3.7.4"
  }
 },
 "nbformat": 4,
 "nbformat_minor": 2
}
