{
 "cells": [
  {
   "cell_type": "code",
   "execution_count": 2,
   "metadata": {},
   "outputs": [
    {
     "name": "stdout",
     "output_type": "stream",
     "text": [
      "Guess Number30\n",
      "Choose higher number\n",
      "Guess Number40\n",
      "Choose higher number\n",
      "Guess Number50\n",
      "Choose higher number\n",
      "Guess Number60\n",
      "Choose higher number\n",
      "Guess Number70\n",
      "Choose higher number\n",
      "Guess Number80\n",
      "Choose lower number\n",
      "Guess Number75\n",
      "Choose higher number\n",
      "Guess Number76\n",
      "Choose higher number\n",
      "Guess Number79\n",
      "Choose lower number\n",
      "Guess Number78\n",
      "Choose lower number\n",
      "Guess Number77\n",
      "Congrants!\n"
     ]
    }
   ],
   "source": [
    "#158 숫자 1~100 랜덤숫자중에서 스무고개를 만드시오. 입력숫자보다 작으면 작다, 크면 크다 쓰시오\n",
    "\n",
    "from random import randrange\n",
    "\n",
    "n = randrange(1, 100)\n",
    "while True:\n",
    "    ans1 = int(input(\"Guess Number\"))\n",
    "    if ans1 == n:\n",
    "        print(\"Congrants!\")\n",
    "        break\n",
    "    elif ans1 > n:\n",
    "        print(\"Choose lower number\")\n",
    "    else:\n",
    "        print(\"Choose higher number\")\n",
    "\n",
    "    "
   ]
  },
  {
   "cell_type": "code",
   "execution_count": 20,
   "metadata": {},
   "outputs": [
    {
     "data": {
      "text/plain": [
       "4.6"
      ]
     },
     "execution_count": 20,
     "metadata": {},
     "output_type": "execute_result"
    }
   ],
   "source": [
    "#160 소수점 첫 째 자리가진 0과 10사이의 수(0.0 ~ 9.9)를 랜덤으로 발생하는 프로그램\n",
    "\n",
    "from random import random\n",
    "\n",
    "round(random()*10,1)"
   ]
  },
  {
   "cell_type": "code",
   "execution_count": null,
   "metadata": {},
   "outputs": [],
   "source": [
    "while  True:\n",
    "    print(round(random.random()*10,1))"
   ]
  },
  {
   "cell_type": "code",
   "execution_count": 98,
   "metadata": {},
   "outputs": [
    {
     "name": "stdout",
     "output_type": "stream",
     "text": [
      "insert positive integer5\n",
      "insert positive integer8\n",
      "6\n"
     ]
    }
   ],
   "source": [
    "#161 두 수를 입력하고, 입력받은 두 수 사이의 정수를 랜덤으로 출력하는 프로그램을 작성하시오. 두 수 사이의 정수가 존재하지 않을때에는 존재x표기\n",
    "\n",
    "num1 = int(input(\"insert positive integer\"))\n",
    "num2 = int(input(\"insert positive integer\"))\n",
    "\n",
    "\n",
    "if num1 != num2 and num1 +1 != num2:\n",
    "    print(randrange(num1+1,num2))\n",
    "else:\n",
    "    print(\"no integer b/w two numbers\")"
   ]
  },
  {
   "cell_type": "code",
   "execution_count": null,
   "metadata": {},
   "outputs": [],
   "source": [
    "#161\n",
    "a = int(input(\"insert number\"))\n",
    "b = int(input(\"insert number\"))\n",
    "\n",
    "if min(a,b)+1 < max(a,b):\n",
    "    print(random.randint(min(a,b)+1, max(a,b)-1))"
   ]
  },
  {
   "cell_type": "code",
   "execution_count": null,
   "metadata": {},
   "outputs": [],
   "source": [
    "#161(2)\n",
    "\n",
    "def integer_find(n):\n",
    "\n",
    "    import random\n",
    "\n",
    "    num1, num2 = int(input(\"insert number\")), int(input(\"insert number\"))\n",
    "\n",
    "    if num1 != num2 and num1 +1 != num2:\n",
    "        print(random.randrange(num1+1,num2))\n",
    "    else:\n",
    "        print(\"no integer between two numbers\")\n",
    "\n",
    "integer_find(n)"
   ]
  },
  {
   "cell_type": "code",
   "execution_count": 109,
   "metadata": {},
   "outputs": [
    {
     "data": {
      "text/plain": [
       "17"
      ]
     },
     "execution_count": 109,
     "metadata": {},
     "output_type": "execute_result"
    }
   ],
   "source": [
    "#(162) 10이상 20이하 정수형 난수4개발생, 평균이 15이상이면 Big 아니면 아니면 small을 출력\n",
    "\n",
    "from statistics import mean\n",
    "\n",
    "\n",
    "num = []\n",
    "for i in range(4):\n",
    "    a = randrange(10,21)\n",
    "    num.append(a)\n",
    "\n",
    "mean(num)"
   ]
  },
  {
   "cell_type": "code",
   "execution_count": null,
   "metadata": {},
   "outputs": [],
   "source": [
    "#162(2)\n",
    "\n",
    "#(162) 10이상 20이하 정수형 난수4개발생, 평균이 15이상이면 Big 아니면 아니면 small을 출력\n",
    "\n",
    "def ran_gen(n):\n",
    "\n",
    "    import random\n",
    "    import statistics\n",
    "\n",
    "    a = []\n",
    "    for i in range(4):\n",
    "        i = random.randrange(10,21)\n",
    "        a.append(i)\n",
    "    if statistics.mean(a) >= 15:\n",
    "        print(\"Big\", statistics.mean(a))\n",
    "    else:\n",
    "        print(\"Small\", statistics.mean(a))\n",
    "\n",
    "ran_gen(n)\n",
    "\n",
    "\n",
    "\n"
   ]
  },
  {
   "cell_type": "code",
   "execution_count": null,
   "metadata": {},
   "outputs": [],
   "source": [
    "# 162\n",
    "def average_randint():\n",
    "    import random\n",
    "    import statistics\n",
    "    a = []\n",
    "    for _ in range(3):\n",
    "        a.append(random.randint(10,20))\n",
    "    if statistics.mean(a) >= 15:\n",
    "        print(\"Big\", statistics.mean(a))\n",
    "    else:\n",
    "        print(\"small\", statistics.mean(a))\n",
    "average_randint()\n",
    "    "
   ]
  },
  {
   "cell_type": "code",
   "execution_count": null,
   "metadata": {},
   "outputs": [],
   "source": [
    "## 163 총 3단계의 걸쳐 문제를 맞출경우 다음 단계로 넘어가는 퀴즈를 만드세요. 1단계a: 1~2사이 정수, 2단계,1~4사이, 3단계 1~8사이\n",
    "#중간에 틀리면 Failed. try next time. 3단계 모두 맞추면 Congrats!를 출력\n",
    "from random import randrange\n",
    "num1, num2, num3 = randrange(1,3), randrange(1,5), randrange(1,9)\n",
    "\n",
    "while True:\n",
    "    n1 = int(input(\"insert 1 or 2 : \"))\n",
    "    if n1 != num1:\n",
    "        print(\"Failure\", \"Answer is \", num1)\n",
    "        break\n",
    "    else:\n",
    "        print(\"Succeed!\")\n",
    "        n2 = int(input(\"insert number b/w 1 to 4 : \"))\n",
    "        if n2 != num2:\n",
    "            print(\"Failure\", \"Answer is \", num2)\n",
    "            break\n",
    "        else:\n",
    "            print(\"Succeed!\")\n",
    "            n3 = int(input(\"insert number b/w 1 to 8 : \"))\n",
    "            if n3 != num3:\n",
    "                print(\"Failure\", \"Answer is \", num3)\n",
    "                break            \n",
    "            else:\n",
    "                print(\"Congrats!\")\n",
    "                break\n",
    "\n"
   ]
  },
  {
   "cell_type": "code",
   "execution_count": null,
   "metadata": {},
   "outputs": [],
   "source": [
    "import random\n",
    "num1, num2, num3 = random.randint(1,2), random.randint(1,4), random.randint(1,8)\n",
    "\n",
    "\n",
    "n = int(input(\"insert number b/w 1 and 2: \"))\n",
    "if n == num1:\n",
    "    n2 = int(input(\"insert number b/w 1 and 4: \"))\n",
    "    if n2 == num2:\n",
    "        n3 = int(input(\"insert number b/w 1 and 8: \"))\n",
    "        if n3 == num3:\n",
    "            print(\"Congrats!\")\n",
    "else:\n",
    "    print(\"Failed!\", num1, num2, num3)"
   ]
  },
  {
   "cell_type": "code",
   "execution_count": 160,
   "metadata": {},
   "outputs": [
    {
     "name": "stdout",
     "output_type": "stream",
     "text": [
      "['BMW', 'Kia', 'Benz', 'Hyundai']\n"
     ]
    }
   ],
   "source": [
    "#164 cars의 원소를 섞고, 맨앞의 문자열이 Hyundai일경우 True를 출력하시오\n",
    "\n",
    "from random import shuffle\n",
    "cars = [\"Hyundai\", \"Kia\", \"BMW\", \"Benz\"]\n",
    "\n",
    "shuffle(cars)\n",
    "if cars[0] == \"Hyundai\":\n",
    "    print(\"True: \", cars)\n",
    "else:\n",
    "    print(cars)"
   ]
  },
  {
   "cell_type": "code",
   "execution_count": 138,
   "metadata": {},
   "outputs": [
    {
     "data": {
      "text/plain": [
       "['BMW', 'Benz', 'Hyundai', 'Kia']"
      ]
     },
     "execution_count": 138,
     "metadata": {},
     "output_type": "execute_result"
    }
   ],
   "source": []
  },
  {
   "cell_type": "code",
   "execution_count": null,
   "metadata": {},
   "outputs": [],
   "source": [
    "#170 while활용, 작은수에서 큰수를 입력받아 5의배수를 나타내시오. ex) 7, 34 -> 10,15,20,25,30"
   ]
  },
  {
   "cell_type": "code",
   "execution_count": 2,
   "metadata": {},
   "outputs": [
    {
     "name": "stdout",
     "output_type": "stream",
     "text": [
      "insert 1st number7\n",
      "insert 2nd number34\n",
      "10\n",
      "15\n",
      "20\n",
      "25\n",
      "30\n"
     ]
    }
   ],
   "source": [
    "a = int(input(\"insert 1st number\"))\n",
    "b = int(input(\"insert 2nd number\"))\n",
    "\n",
    "if a > b:\n",
    "    c = a\n",
    "    a = b\n",
    "    b = c\n",
    "    \n",
    "i = a + 1\n",
    "\n",
    "while i < b:\n",
    "    if i % 5 == 0:\n",
    "        print(i)\n",
    "    i += 1\n",
    "    "
   ]
  },
  {
   "cell_type": "code",
   "execution_count": null,
   "metadata": {},
   "outputs": [],
   "source": [
    "#170(2)\n",
    "\n",
    "num1, num2 = int(input(\"insert number\")), int(input(\"insert number\"))\n",
    "\n",
    "\n",
    "i = min(num1,num2)\n",
    "while i < max(num1,num2):\n",
    "    if i % 5 == 0:\n",
    "        print(i)\n",
    "    i += 1\n",
    "    \n"
   ]
  },
  {
   "cell_type": "code",
   "execution_count": 1,
   "metadata": {},
   "outputs": [
    {
     "name": "stdout",
     "output_type": "stream",
     "text": [
      "insert number7\n",
      "insert number34\n",
      "10\n",
      "15\n",
      "20\n",
      "25\n",
      "30\n"
     ]
    }
   ],
   "source": [
    "a, b = int(input(\"insert number\")), int(input(\"insert number\"))\n",
    "\n",
    "for i in range(min(a,b), max(a,b)):\n",
    "    if i % 5 == 0:\n",
    "        print(i)"
   ]
  },
  {
   "cell_type": "code",
   "execution_count": null,
   "metadata": {},
   "outputs": [],
   "source": []
  }
 ],
 "metadata": {
  "kernelspec": {
   "display_name": "Python 3",
   "language": "python",
   "name": "python3"
  },
  "language_info": {
   "codemirror_mode": {
    "name": "ipython",
    "version": 3
   },
   "file_extension": ".py",
   "mimetype": "text/x-python",
   "name": "python",
   "nbconvert_exporter": "python",
   "pygments_lexer": "ipython3",
   "version": "3.7.4"
  }
 },
 "nbformat": 4,
 "nbformat_minor": 2
}
