{
 "cells": [
  {
   "cell_type": "code",
   "execution_count": 2,
   "metadata": {},
   "outputs": [
    {
     "name": "stdout",
     "output_type": "stream",
     "text": [
      "Guess Number30\n",
      "Choose higher number\n",
      "Guess Number40\n",
      "Choose higher number\n",
      "Guess Number50\n",
      "Choose higher number\n",
      "Guess Number60\n",
      "Choose higher number\n",
      "Guess Number70\n",
      "Choose higher number\n",
      "Guess Number80\n",
      "Choose lower number\n",
      "Guess Number75\n",
      "Choose higher number\n",
      "Guess Number76\n",
      "Choose higher number\n",
      "Guess Number79\n",
      "Choose lower number\n",
      "Guess Number78\n",
      "Choose lower number\n",
      "Guess Number77\n",
      "Congrants!\n"
     ]
    }
   ],
   "source": [
    "#158 숫자 1~100 랜덤숫자중에서 스무고개를 만드시오. 입력숫자보다 작으면 작다, 크면 크다 쓰시오\n",
    "\n",
    "from random import randrange\n",
    "\n",
    "n = randrange(1, 100)\n",
    "while True:\n",
    "    ans1 = int(input(\"Guess Number\"))\n",
    "    if ans1 == n:\n",
    "        print(\"Congrants!\")\n",
    "        break\n",
    "    elif ans1 > n:\n",
    "        print(\"Choose lower number\")\n",
    "    else:\n",
    "        print(\"Choose higher number\")\n",
    "\n",
    "    "
   ]
  },
  {
   "cell_type": "code",
   "execution_count": 4,
   "metadata": {},
   "outputs": [
    {
     "data": {
      "text/plain": [
       "0.594960846940202"
      ]
     },
     "execution_count": 4,
     "metadata": {},
     "output_type": "execute_result"
    }
   ],
   "source": [
    "#160 소수점 첫 째 자리가진 0과 10사이의 수(0.0 ~ 9.9)를 랜덤으로 발생하는 프로그램\n",
    "\n",
    "from random import random\n",
    "\n"
   ]
  },
  {
   "cell_type": "code",
   "execution_count": null,
   "metadata": {},
   "outputs": [],
   "source": []
  },
  {
   "cell_type": "code",
   "execution_count": null,
   "metadata": {},
   "outputs": [],
   "source": []
  },
  {
   "cell_type": "code",
   "execution_count": null,
   "metadata": {},
   "outputs": [],
   "source": []
  },
  {
   "cell_type": "code",
   "execution_count": null,
   "metadata": {},
   "outputs": [],
   "source": []
  },
  {
   "cell_type": "code",
   "execution_count": null,
   "metadata": {},
   "outputs": [],
   "source": []
  },
  {
   "cell_type": "code",
   "execution_count": null,
   "metadata": {},
   "outputs": [],
   "source": []
  },
  {
   "cell_type": "code",
   "execution_count": null,
   "metadata": {},
   "outputs": [],
   "source": []
  }
 ],
 "metadata": {
  "kernelspec": {
   "display_name": "Python 3",
   "language": "python",
   "name": "python3"
  },
  "language_info": {
   "codemirror_mode": {
    "name": "ipython",
    "version": 3
   },
   "file_extension": ".py",
   "mimetype": "text/x-python",
   "name": "python",
   "nbconvert_exporter": "python",
   "pygments_lexer": "ipython3",
   "version": "3.7.4"
  }
 },
 "nbformat": 4,
 "nbformat_minor": 2
}
