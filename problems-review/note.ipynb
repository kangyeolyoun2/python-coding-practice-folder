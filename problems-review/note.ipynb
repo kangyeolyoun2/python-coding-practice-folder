{
 "cells": [
  {
   "cell_type": "code",
   "execution_count": 1,
   "metadata": {},
   "outputs": [],
   "source": [
    "a = \"Merry Christmas\""
   ]
  },
  {
   "cell_type": "code",
   "execution_count": 8,
   "metadata": {},
   "outputs": [],
   "source": [
    "import numpy as np\n",
    "import statistics\n",
    "import random"
   ]
  },
  {
   "cell_type": "code",
   "execution_count": 52,
   "metadata": {},
   "outputs": [
    {
     "data": {
      "text/plain": [
       "[[47, 74], [80, 100], [10, 42]]"
      ]
     },
     "execution_count": 52,
     "metadata": {},
     "output_type": "execute_result"
    }
   ],
   "source": [
    "# make array\n",
    "\n",
    "array = [[0] * 2 for i in range(3)]\n",
    "\n",
    "# input data \n",
    "for i in range(6):\n",
    "    array[i//2][i % 2] = random.randrange(1,101)\n",
    "array\n",
    "\n",
    "\n"
   ]
  },
  {
   "cell_type": "code",
   "execution_count": 66,
   "metadata": {},
   "outputs": [
    {
     "name": "stdout",
     "output_type": "stream",
     "text": [
      "row_avg: [26.0, 78.5, 63.5], hor_avg: [73.66666666666666, 38.333333333333336], total_avg: [56]\n"
     ]
    }
   ],
   "source": [
    "# make array\n",
    "\n",
    "array = [[0] * 2 for i in range(3)]\n",
    "\n",
    "# input data \n",
    "for i in range(6):\n",
    "    array[i//2][i % 2] = random.randrange(1,101)\n",
    "array\n",
    "\n",
    "\n",
    "#avg\n",
    "row_avg = []\n",
    "hor_avg = []\n",
    "total_avg = []\n",
    "#row\n",
    "for i in range(3):\n",
    "    row_avg.append(sum(array[i])/2)\n",
    "#hor\n",
    "for i in range(2):\n",
    "    hor_sum = 0\n",
    "\n",
    "    for j in range(3):\n",
    "        hor_sum += array[j][i] / 3\n",
    "\n",
    "    hor_avg.append(hor_sum)\n",
    "\n",
    "# total avg \n",
    "total_avg.append(statistics.mean([num for nums in array for num in nums]))\n",
    "        \n",
    "    \n",
    "print(\"row_avg: {}, hor_avg: {}, total_avg: {}\".format(row_avg, hor_avg, total_avg))\n",
    "\n",
    "\n"
   ]
  },
  {
   "cell_type": "code",
   "execution_count": 67,
   "metadata": {},
   "outputs": [
    {
     "data": {
      "text/plain": [
       "[31, 21, 94, 63, 96, 31]"
      ]
     },
     "execution_count": 67,
     "metadata": {},
     "output_type": "execute_result"
    }
   ],
   "source": [
    "a"
   ]
  },
  {
   "cell_type": "code",
   "execution_count": 1,
   "metadata": {},
   "outputs": [
    {
     "name": "stdout",
     "output_type": "stream",
     "text": [
      "insert some text: asdf\n"
     ]
    }
   ],
   "source": [
    "text = input(\"insert some text: \")"
   ]
  },
  {
   "cell_type": "code",
   "execution_count": 21,
   "metadata": {},
   "outputs": [],
   "source": [
    "def handsome(str):\n",
    "    a = \"\"\n",
    "    b = \"\"\n",
    "    for i in range(len(str)):\n",
    "        a += str[i]\n",
    "        b += str[-i-1]\n",
    "        \n",
    "    if a == b:\n",
    "        print(\"Handsome\")\n",
    "    else:\n",
    "        print(\"Not Handsome\")"
   ]
  },
  {
   "cell_type": "code",
   "execution_count": 25,
   "metadata": {},
   "outputs": [
    {
     "name": "stdout",
     "output_type": "stream",
     "text": [
      "Handsome\n"
     ]
    }
   ],
   "source": [
    "handsome(\"brarb\")"
   ]
  },
  {
   "cell_type": "code",
   "execution_count": 20,
   "metadata": {},
   "outputs": [
    {
     "name": "stdout",
     "output_type": "stream",
     "text": [
      "insert word: toat\n",
      "Handsome\n"
     ]
    }
   ],
   "source": [
    "word = input(\"insert word: \")\n",
    "def isHandsome(str):\n",
    "    for i in range(len(word)):\n",
    "        if word[i] == word[len(word)-1-i]:\n",
    "            return True\n",
    "        else:\n",
    "            return False\n",
    "            break\n",
    "        \n",
    "if isHandsome(word) == True:\n",
    "    print(\"Handsome\")\n"
   ]
  },
  {
   "cell_type": "code",
   "execution_count": 29,
   "metadata": {},
   "outputs": [
    {
     "ename": "SyntaxError",
     "evalue": "'return' outside function (<ipython-input-29-3d70919b0505>, line 4)",
     "output_type": "error",
     "traceback": [
      "\u001b[0;36m  File \u001b[0;32m\"<ipython-input-29-3d70919b0505>\"\u001b[0;36m, line \u001b[0;32m4\u001b[0m\n\u001b[0;31m    return True\u001b[0m\n\u001b[0m    ^\u001b[0m\n\u001b[0;31mSyntaxError\u001b[0m\u001b[0;31m:\u001b[0m 'return' outside function\n"
     ]
    }
   ],
   "source": [
    "#235\n",
    "# 길이가 10인 1차원 배열을 만들고, 10 미만의 자연수 2개를 입력받아, 첫번째 원소와 두번째 원소를 입력받은 수로 초기화\n",
    "# 세 번째 원소부터 마지막 원소까지는 전전항과 전항을 곱한 값의 1의 자리\n",
    "\n",
    "#ex) Enter the two number\n",
    "#[3, 4, 2, 8, 6, 8, 8, 4, 2, 8]"
   ]
  },
  {
   "cell_type": "code",
   "execution_count": 41,
   "metadata": {},
   "outputs": [
    {
     "name": "stdout",
     "output_type": "stream",
     "text": [
      "insert number: 3\n",
      "insert number: 4\n"
     ]
    },
    {
     "data": {
      "text/plain": [
       "[3, 4, 2, 8, 6, 8, 8, 4, 2, 8]"
      ]
     },
     "execution_count": 41,
     "metadata": {},
     "output_type": "execute_result"
    }
   ],
   "source": [
    "array = [0] * 10\n",
    "for i in range(10):\n",
    "    if i <= 1:\n",
    "        array[i] = int(input(\"insert number: \"))\n",
    "    else:\n",
    "        array[i] = array[i-2] * array[i-1] % 10\n",
    "array\n",
    "    "
   ]
  },
  {
   "cell_type": "code",
   "execution_count": 38,
   "metadata": {},
   "outputs": [
    {
     "data": {
      "text/plain": [
       "2"
      ]
     },
     "execution_count": 38,
     "metadata": {},
     "output_type": "execute_result"
    }
   ],
   "source": [
    "102 % 10"
   ]
  },
  {
   "cell_type": "code",
   "execution_count": 30,
   "metadata": {},
   "outputs": [
    {
     "name": "stdout",
     "output_type": "stream",
     "text": [
      "insert number: 3\n",
      "insert number: 4\n"
     ]
    }
   ],
   "source": [
    "num = []\n",
    "for _ in range(2):\n",
    "    num.append(int(input(\"insert number: \")))"
   ]
  },
  {
   "cell_type": "code",
   "execution_count": 32,
   "metadata": {},
   "outputs": [
    {
     "data": {
      "text/plain": [
       "3"
      ]
     },
     "execution_count": 32,
     "metadata": {},
     "output_type": "execute_result"
    }
   ],
   "source": [
    "num[0]"
   ]
  },
  {
   "cell_type": "code",
   "execution_count": null,
   "metadata": {},
   "outputs": [],
   "source": []
  },
  {
   "cell_type": "code",
   "execution_count": null,
   "metadata": {},
   "outputs": [],
   "source": []
  }
 ],
 "metadata": {
  "kernelspec": {
   "display_name": "Python 3",
   "language": "python",
   "name": "python3"
  },
  "language_info": {
   "codemirror_mode": {
    "name": "ipython",
    "version": 3
   },
   "file_extension": ".py",
   "mimetype": "text/x-python",
   "name": "python",
   "nbconvert_exporter": "python",
   "pygments_lexer": "ipython3",
   "version": "3.7.4"
  }
 },
 "nbformat": 4,
 "nbformat_minor": 2
}
