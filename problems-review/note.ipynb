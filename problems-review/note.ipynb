{
 "cells": [
  {
   "cell_type": "code",
   "execution_count": 10,
   "metadata": {},
   "outputs": [],
   "source": [
    "import numpy as np\n",
    "import statistics\n",
    "import random"
   ]
  },
  {
   "cell_type": "code",
   "execution_count": 8,
   "metadata": {},
   "outputs": [
    {
     "name": "stdout",
     "output_type": "stream",
     "text": [
      "2\n"
     ]
    }
   ],
   "source": [
    "def common_divisor(n):\n",
    "    cd = []\n",
    "    for i in range(2, n+1):\n",
    "        if n % i == 0:\n",
    "            cd.append(i)\n",
    "    return cd\n",
    "for i in common_divisor(16):\n",
    "    if i in common_divisor(30):\n",
    "        print(i)"
   ]
  },
  {
   "cell_type": "code",
   "execution_count": null,
   "metadata": {},
   "outputs": [],
   "source": []
  },
  {
   "cell_type": "code",
   "execution_count": 20,
   "metadata": {},
   "outputs": [
    {
     "name": "stdout",
     "output_type": "stream",
     "text": [
      "86\n",
      "91.66666666666667\n",
      "87\n",
      "88.22222222222223\n"
     ]
    }
   ],
   "source": [
    "scores = {\"Dohee\": {\"수학\" : 76, \"과학\":89, \"영어\":93},\\\n",
    "         \"Juwon\": {\"수학\" : 88, \"과학\":87, \"영어\":100},\\\n",
    "         \"Seohee\": {\"수학\" : 86, \"과학\":93, \"영어\":82}}\n",
    "each_average = []\n",
    "for i in scores:\n",
    "    a = statistics.mean(scores[i].values())\n",
    "    each_average.append(a)\n",
    "    print(a)\n",
    "    \n",
    "print(statistics.mean(each_average))\n",
    "\n",
    "\n"
   ]
  },
  {
   "cell_type": "code",
   "execution_count": null,
   "metadata": {},
   "outputs": [],
   "source": []
  },
  {
   "cell_type": "code",
   "execution_count": null,
   "metadata": {},
   "outputs": [],
   "source": []
  },
  {
   "cell_type": "code",
   "execution_count": null,
   "metadata": {},
   "outputs": [],
   "source": []
  },
  {
   "cell_type": "code",
   "execution_count": null,
   "metadata": {},
   "outputs": [],
   "source": []
  }
 ],
 "metadata": {
  "kernelspec": {
   "display_name": "Python 3",
   "language": "python",
   "name": "python3"
  },
  "language_info": {
   "codemirror_mode": {
    "name": "ipython",
    "version": 3
   },
   "file_extension": ".py",
   "mimetype": "text/x-python",
   "name": "python",
   "nbconvert_exporter": "python",
   "pygments_lexer": "ipython3",
   "version": "3.7.4"
  }
 },
 "nbformat": 4,
 "nbformat_minor": 2
}
