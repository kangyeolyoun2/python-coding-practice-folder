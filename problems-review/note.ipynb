{
 "cells": [
  {
   "cell_type": "code",
   "execution_count": 10,
   "metadata": {},
   "outputs": [
    {
     "name": "stdout",
     "output_type": "stream",
     "text": [
      "2\n",
      "4\n",
      "8\n",
      "16\n",
      "32\n",
      "64\n",
      "128\n"
     ]
    }
   ],
   "source": [
    "# (48) num =1 변수선언, shift연산사용 -> 2 **1 , ~ 2 ** 7까지\n",
    "\n",
    "num = 1\n",
    "for i in range(7):\n",
    "    print(num << (i+1))"
   ]
  },
  {
   "cell_type": "code",
   "execution_count": 11,
   "metadata": {},
   "outputs": [
    {
     "name": "stdout",
     "output_type": "stream",
     "text": [
      "insert number4\n"
     ]
    },
    {
     "data": {
      "text/plain": [
       "True"
      ]
     },
     "execution_count": 11,
     "metadata": {},
     "output_type": "execute_result"
    }
   ],
   "source": [
    "#(59)  2와 3의배수 찾기\n",
    "\n",
    "num = int(input(\"insert number\"))\n",
    "True if num % 2 == 0 or num % 3 == 0 else False"
   ]
  },
  {
   "cell_type": "code",
   "execution_count": 20,
   "metadata": {},
   "outputs": [
    {
     "data": {
      "text/plain": [
       "\"I'M From Korea, But I Don'T Like Kimchi\""
      ]
     },
     "execution_count": 20,
     "metadata": {},
     "output_type": "execute_result"
    }
   ],
   "source": [
    "#(82)  문장의 시작만 대문자로 만들기\n",
    "Sentence = \"I'm from Korea, but I don't like Kimchi\"\n",
    "\n",
    "Sentence.title()"
   ]
  },
  {
   "cell_type": "code",
   "execution_count": 21,
   "metadata": {},
   "outputs": [
    {
     "name": "stdout",
     "output_type": "stream",
     "text": [
      "What year?2050\n",
      "2050년 지수의 나이는 53세입니다.\n"
     ]
    }
   ],
   "source": [
    "#(92) 지수는 2017년 나이가 20살. 미래년도를 입력했을때 나이를 출력해주는 프로그램\n",
    "\n",
    "year = int(input(\"What year?\"))\n",
    "\n",
    "print(\"{}년 지수의 나이는 {}세입니다.\".format(year, year-2017+20))"
   ]
  },
  {
   "cell_type": "code",
   "execution_count": 24,
   "metadata": {},
   "outputs": [
    {
     "name": "stdout",
     "output_type": "stream",
     "text": [
      "insert sentenceDescribe the city you live in\n",
      "해당 문장의 단어 수는 6개입니다.\n"
     ]
    }
   ],
   "source": [
    "#(94) 문장을 입력받아 단어의 수를 출력하는 프로그램 작성(띄어쓰기 기준)\n",
    "#ex) 나는 서울에서 태어났다 <ㅡ3단어\n",
    "\n",
    "sentence = input(\"insert sentence\").split(\" \")\n",
    "print(\"해당 문장의 단어 수는 {}개입니다.\".format(len(sentence)))"
   ]
  },
  {
   "cell_type": "code",
   "execution_count": 41,
   "metadata": {},
   "outputs": [
    {
     "name": "stdout",
     "output_type": "stream",
     "text": [
      "insert number10\n"
     ]
    }
   ],
   "source": [
    "#(109) 1부터 10까지 정수 10개를 원소르 가지는 튜플을 하나 만들어, 원소들의 합을 출력하는 프로그램을 작성하시오.\n",
    "\n",
    "n = int(input(\"insert number\"))\n",
    "def num_sum(n):\n",
    "    num_list = []\n",
    "    for i in range(1, n+1):\n",
    "        num_list.append(i)\n",
    "    num_list = sum(tuple(num_list))\n",
    "    return num_list"
   ]
  },
  {
   "cell_type": "code",
   "execution_count": 50,
   "metadata": {},
   "outputs": [],
   "source": [
    "#(127) 16과 30의 공약수를 만드세요.\n",
    "\n",
    "def common_divisor(n):\n",
    "    divisor_list = []\n",
    "    for i in range(1,n+1):\n",
    "        if n % i == 0:\n",
    "            divisor_list.append(i)\n",
    "    return set(divisor_list)\n",
    "\n",
    "common_divisor(16) & common_divisor(30)"
   ]
  },
  {
   "cell_type": "code",
   "execution_count": 54,
   "metadata": {},
   "outputs": [
    {
     "data": {
      "text/plain": [
       "{1, 2}"
      ]
     },
     "execution_count": 54,
     "metadata": {},
     "output_type": "execute_result"
    }
   ],
   "source": [
    "common_divisor(16) & common_divisor(30)"
   ]
  },
  {
   "cell_type": "code",
   "execution_count": 63,
   "metadata": {},
   "outputs": [
    {
     "name": "stdout",
     "output_type": "stream",
     "text": [
      "insert number49 20\n"
     ]
    }
   ],
   "source": []
  },
  {
   "cell_type": "code",
   "execution_count": 70,
   "metadata": {},
   "outputs": [
    {
     "name": "stdout",
     "output_type": "stream",
     "text": [
      "alpha\n",
      "bravo\n",
      "delta\n",
      "hotel\n",
      "india\n"
     ]
    }
   ],
   "source": [
    "#(129) 글자 길이가 5인것만 출력하기\n",
    "\n",
    "a = [\"alpha\", \"bravo\", \"charlie\", \"delta\", \"echo\", \"foxtrot\", \"golf\", \"hotel\", \"india\"]\n",
    "\n",
    "for i in a:\n",
    "    if len(i) == 5:\n",
    "        print(i)"
   ]
  },
  {
   "cell_type": "code",
   "execution_count": null,
   "metadata": {},
   "outputs": [],
   "source": []
  },
  {
   "cell_type": "code",
   "execution_count": null,
   "metadata": {},
   "outputs": [],
   "source": [
    "#(131) 각 학생의 성적을 딕셔너리로 저장 -> 그리고 각 학생의 평균, 전체평균 구하세용\n",
    "\n",
    "\n"
   ]
  },
  {
   "cell_type": "code",
   "execution_count": null,
   "metadata": {},
   "outputs": [],
   "source": []
  },
  {
   "cell_type": "code",
   "execution_count": 108,
   "metadata": {},
   "outputs": [
    {
     "data": {
      "text/plain": [
       "'A'"
      ]
     },
     "execution_count": 108,
     "metadata": {},
     "output_type": "execute_result"
    }
   ],
   "source": [
    "chr(65)"
   ]
  },
  {
   "cell_type": "code",
   "execution_count": 113,
   "metadata": {},
   "outputs": [
    {
     "name": "stdout",
     "output_type": "stream",
     "text": [
      "insert number b/w 1~26: 26\n",
      "Z z\n"
     ]
    }
   ],
   "source": [
    "#139 자연수 N이 주어질때, N번째 알파벳 대문자와 소문자 출력하는 프로그램 작성\n",
    "\n",
    "num = int(input(\"insert number b/w 1~26: \"))\n",
    "\n",
    "def num_char(n):\n",
    "    print(chr(n+64), chr(n+96))\n",
    "    \n",
    "num_char(num)"
   ]
  },
  {
   "cell_type": "code",
   "execution_count": 120,
   "metadata": {},
   "outputs": [
    {
     "name": "stdout",
     "output_type": "stream",
     "text": [
      "insert number49 20 588 90 10 422 17\n"
     ]
    }
   ],
   "source": [
    "num = input(\"insert number\").replace(\" \", \"\")"
   ]
  },
  {
   "cell_type": "code",
   "execution_count": 121,
   "metadata": {},
   "outputs": [
    {
     "data": {
      "text/plain": [
       "'4920588901042217'"
      ]
     },
     "execution_count": 121,
     "metadata": {},
     "output_type": "execute_result"
    }
   ],
   "source": [
    "num"
   ]
  },
  {
   "cell_type": "code",
   "execution_count": 146,
   "metadata": {},
   "outputs": [],
   "source": [
    "#144 주민번호 앞자리를 입력받아 65세이상이면(2019 기준, 99세 최대) old를 출력하는 프로그램\n",
    "#ex) 530716 => old\n",
    "\n",
    "def how_old(n):\n",
    "    n = int(input(\"insert your first 6 digit of your ssn: \")[:2])\n",
    "    \n",
    "    if n > 19:\n",
    "        return print(\"age is: \", 100+19 - ssn, \"old\")\n",
    "    else:\n",
    "        return print(\"age is: \", 19-ssn)"
   ]
  },
  {
   "cell_type": "code",
   "execution_count": 147,
   "metadata": {},
   "outputs": [
    {
     "name": "stdout",
     "output_type": "stream",
     "text": [
      "insert your first 6 digit of your ssn: 580206\n",
      "age is:  61 old\n"
     ]
    }
   ],
   "source": [
    "how_old(1)"
   ]
  },
  {
   "cell_type": "code",
   "execution_count": null,
   "metadata": {},
   "outputs": [],
   "source": [
    "#149 (1)숫자 두개를 입력받아 큰값 - 작은값 만드는프로그램\n",
    "#    (2)세 수를 입력받아 (가장큰수) x (가장작은 수) x (중간 수)를 출력하는 프로그램"
   ]
  },
  {
   "cell_type": "code",
   "execution_count": null,
   "metadata": {},
   "outputs": [],
   "source": [
    "num = input(\"insert two numbers\").split(\" \")\n",
    "max(num) - min(num)\n",
    "\n"
   ]
  },
  {
   "cell_type": "code",
   "execution_count": 163,
   "metadata": {},
   "outputs": [
    {
     "name": "stdout",
     "output_type": "stream",
     "text": [
      "insert two numbers49 20 100\n"
     ]
    },
    {
     "data": {
      "text/plain": [
       "1951"
      ]
     },
     "execution_count": 163,
     "metadata": {},
     "output_type": "execute_result"
    }
   ],
   "source": [
    "num = list(map(int, input(\"insert two numbers\").split(\" \")))\n",
    "num[2] * num[1] - num[0]\n"
   ]
  },
  {
   "cell_type": "code",
   "execution_count": null,
   "metadata": {},
   "outputs": [],
   "source": [
    "#150 한점을 구성하는 좌표 (x, y)를 입력받고 이 점이\n",
    "#(50, 40), (50, 80), (100, 40), (100, 80) 사각형안에 들어있는지 판별하시오\n",
    "\n"
   ]
  },
  {
   "cell_type": "code",
   "execution_count": 164,
   "metadata": {},
   "outputs": [],
   "source": [
    "def isdot_in(n):\n",
    "    x = int(input(\"insert x: \"))\n",
    "    y = int(input(\"insert y: \"))\n",
    "\n",
    "    if x > 50 and x < 100 and y > 40 and y < 80:\n",
    "        return print(\"dot is in square\")\n",
    "    else :\n",
    "        return print(\"dot is not in square\")"
   ]
  },
  {
   "cell_type": "code",
   "execution_count": 166,
   "metadata": {},
   "outputs": [
    {
     "name": "stdout",
     "output_type": "stream",
     "text": [
      "insert x: 52\n",
      "insert y: 50\n",
      "dot is in square\n"
     ]
    }
   ],
   "source": [
    "isdot_in(n)"
   ]
  },
  {
   "cell_type": "code",
   "execution_count": 168,
   "metadata": {},
   "outputs": [
    {
     "name": "stdout",
     "output_type": "stream",
     "text": [
      "put some wordsapple is red\n",
      "Good Sentence\n"
     ]
    }
   ],
   "source": [
    "#151 Sentence에서 문자가 aeiou로 시작하면 Good Sentence로 입력하시오.\n",
    "\n",
    "Sentence = input(\"put some words\")\n",
    "\n",
    "if Sentence[0] in \"aeiouAEIOU\":\n",
    "    print(\"Good Sentence\")"
   ]
  },
  {
   "cell_type": "code",
   "execution_count": null,
   "metadata": {},
   "outputs": [],
   "source": [
    "#152 colors = [\"red\", \"orange\", \"blue\", \"green\", \"white\", \"black\", \"dark blue\", \"purple\"]\n",
    "# color를 입력해서, 원소와 중복된다면 Sorry, 없으면 추가하시오\n",
    "\n"
   ]
  },
  {
   "cell_type": "code",
   "execution_count": 173,
   "metadata": {},
   "outputs": [
    {
     "name": "stdout",
     "output_type": "stream",
     "text": [
      "color?: pink\n"
     ]
    }
   ],
   "source": [
    "colors = [\"red\", \"orange\", \"blue\", \"green\", \"white\", \"black\", \"dark blue\", \"purple\"]\n",
    "\n",
    "color = input(\"color?: \")\n",
    "\n",
    "if color in colors:\n",
    "    print(\"Sorry\")\n",
    "else:\n",
    "    colors.append(color)"
   ]
  },
  {
   "cell_type": "code",
   "execution_count": null,
   "metadata": {},
   "outputs": [],
   "source": []
  },
  {
   "cell_type": "code",
   "execution_count": null,
   "metadata": {},
   "outputs": [],
   "source": []
  },
  {
   "cell_type": "code",
   "execution_count": null,
   "metadata": {},
   "outputs": [],
   "source": []
  },
  {
   "cell_type": "code",
   "execution_count": null,
   "metadata": {},
   "outputs": [],
   "source": []
  },
  {
   "cell_type": "code",
   "execution_count": null,
   "metadata": {},
   "outputs": [],
   "source": []
  },
  {
   "cell_type": "code",
   "execution_count": null,
   "metadata": {},
   "outputs": [],
   "source": []
  }
 ],
 "metadata": {
  "kernelspec": {
   "display_name": "Python 3",
   "language": "python",
   "name": "python3"
  },
  "language_info": {
   "codemirror_mode": {
    "name": "ipython",
    "version": 3
   },
   "file_extension": ".py",
   "mimetype": "text/x-python",
   "name": "python",
   "nbconvert_exporter": "python",
   "pygments_lexer": "ipython3",
   "version": "3.7.4"
  }
 },
 "nbformat": 4,
 "nbformat_minor": 2
}
