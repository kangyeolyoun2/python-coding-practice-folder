{
 "cells": [
  {
   "cell_type": "code",
   "execution_count": 1,
   "metadata": {},
   "outputs": [],
   "source": [
    "import numpy as np\n",
    "import statistics\n",
    "import random"
   ]
  },
  {
   "cell_type": "code",
   "execution_count": null,
   "metadata": {},
   "outputs": [],
   "source": []
  },
  {
   "cell_type": "code",
   "execution_count": null,
   "metadata": {},
   "outputs": [],
   "source": [
    "numbers = input(\"Enter the number: \")\n",
    "numlist = numbers.split(\" \")\n",
    "for i in range(len(numlist)):\n",
    "    numlist[i] = int(numlist[i])\n",
    "    \n",
    "for i in range(len(numlist)):\n",
    "    for j in range(len(numlist)):\n",
    "        print(numlist[j], end=\" \")\n",
    "    a = numlist[0]\n",
    "    for j in range(len(numlist)):\n",
    "        if j <= len(numlist) - 2:\n",
    "            numlist[j] = numlist[j+ 1]\n",
    "        else:\n",
    "            numlist[j] = a\n",
    "    print()"
   ]
  },
  {
   "cell_type": "code",
   "execution_count": null,
   "metadata": {},
   "outputs": [],
   "source": []
  },
  {
   "cell_type": "code",
   "execution_count": 37,
   "metadata": {},
   "outputs": [],
   "source": [
    "def gcd(n, m):\n",
    "\n",
    "    a = [i for i in range(1,n+1) if i % n == 0]\n",
    "    b = [i for i in range(1,m+1) if i % n == 0]\n",
    "    \n",
    "    return max(list(set(a) & set(b)))\n",
    "def lcm(n, m):\n",
    "    return n * m / gcd(n,m)\n"
   ]
  },
  {
   "cell_type": "code",
   "execution_count": 40,
   "metadata": {},
   "outputs": [],
   "source": [
    "def lcm(n, m):\n",
    "    return n * m / gcd(n,m)"
   ]
  },
  {
   "cell_type": "code",
   "execution_count": 41,
   "metadata": {},
   "outputs": [
    {
     "data": {
      "text/plain": [
       "36.0"
      ]
     },
     "execution_count": 41,
     "metadata": {},
     "output_type": "execute_result"
    }
   ],
   "source": []
  },
  {
   "cell_type": "code",
   "execution_count": 42,
   "metadata": {},
   "outputs": [],
   "source": [
    "def gcd(n, m):\n",
    "    gcd_list = []\n",
    "    for i in range(1, max(n, m)):\n",
    "        if n % i == 0 and m % i == 0:\n",
    "            gcd_list.append(i)\n",
    "    return max(gcd_list)"
   ]
  },
  {
   "cell_type": "code",
   "execution_count": 43,
   "metadata": {},
   "outputs": [
    {
     "data": {
      "text/plain": [
       "12"
      ]
     },
     "execution_count": 43,
     "metadata": {},
     "output_type": "execute_result"
    }
   ],
   "source": [
    "gcd(12,36)"
   ]
  },
  {
   "cell_type": "code",
   "execution_count": 59,
   "metadata": {},
   "outputs": [
    {
     "data": {
      "text/plain": [
       "2333416668"
      ]
     },
     "execution_count": 59,
     "metadata": {},
     "output_type": "execute_result"
    }
   ],
   "source": [
    "def isMulThree(n):\n",
    "    return n % 3 == 0\n",
    "def isMulFive(n):\n",
    "    return n % 5 == 0\n",
    "\n",
    "sum(list([i for i in range(1,100001) if isMulThree(i) or isMulFive(i)]))"
   ]
  },
  {
   "cell_type": "code",
   "execution_count": 65,
   "metadata": {},
   "outputs": [],
   "source": [
    "#216 정수 n을 입력 받았을 때, 1부터 n까지의 정수에 나오는 1의 총 개수를 구하는 프로그램을 구하시오.\n",
    "\n",
    "#ex) n = 4 일 때, 결과는 1 (1, 2, 3, 4중 1은 1개)\n",
    "#ex) n = 13일 때, 결과는 6(1~13중 1은 5개)\n",
    "#ex) n = 25일 때, 결과는 12\n",
    "\n",
    "def one_count(n):\n",
    "    a = 0\n",
    "    for i in range(n):\n",
    "        if \"1\" in str(i):\n",
    "            a += 1\n",
    "    return a"
   ]
  },
  {
   "cell_type": "code",
   "execution_count": 67,
   "metadata": {},
   "outputs": [
    {
     "data": {
      "text/plain": [
       "4"
      ]
     },
     "execution_count": 67,
     "metadata": {},
     "output_type": "execute_result"
    }
   ],
   "source": [
    "one_count(13)"
   ]
  },
  {
   "cell_type": "code",
   "execution_count": null,
   "metadata": {},
   "outputs": [],
   "source": [
    "#219 모든 분수는 유한소수나 순환마디를 갖는 무한소수로 표현된다. \n",
    "# 예를들어, 1/8 은 0.125의 유한소수이며, 1/7은 순환마디가 142857인 순환하는 무한소수이다.\n",
    "\n",
    "# 1부터 100까지의 N에 대하여 fun_recurring(N)은 1/N의 순환마디를 구하는 함수이다.\n",
    "# 만약, 1/N이 유한 소수이면 0을 리턴하고, 무한소수이면 순환마디를 구하여 리턴한다. fun_recurring(N)함수를 작성하시오\n",
    "\n"
   ]
  },
  {
   "cell_type": "code",
   "execution_count": 69,
   "metadata": {},
   "outputs": [],
   "source": [
    "def fun_recurring(n):\n",
    "    nstr = str(1/n)[2:]\n",
    "    if len(nstr) <= 10:\n",
    "        print(\"Not a recurring\")\n",
    "    else:\n",
    "        rec = \"\""
   ]
  },
  {
   "cell_type": "code",
   "execution_count": 72,
   "metadata": {},
   "outputs": [
    {
     "data": {
      "text/plain": [
       "0.14285714285714285"
      ]
     },
     "execution_count": 72,
     "metadata": {},
     "output_type": "execute_result"
    }
   ],
   "source": [
    "1/7"
   ]
  },
  {
   "cell_type": "code",
   "execution_count": 73,
   "metadata": {},
   "outputs": [
    {
     "data": {
      "text/plain": [
       "0.125"
      ]
     },
     "execution_count": 73,
     "metadata": {},
     "output_type": "execute_result"
    }
   ],
   "source": [
    "1/8"
   ]
  },
  {
   "cell_type": "code",
   "execution_count": null,
   "metadata": {},
   "outputs": [],
   "source": []
  },
  {
   "cell_type": "code",
   "execution_count": null,
   "metadata": {},
   "outputs": [],
   "source": []
  }
 ],
 "metadata": {
  "kernelspec": {
   "display_name": "Python 3",
   "language": "python",
   "name": "python3"
  },
  "language_info": {
   "codemirror_mode": {
    "name": "ipython",
    "version": 3
   },
   "file_extension": ".py",
   "mimetype": "text/x-python",
   "name": "python",
   "nbconvert_exporter": "python",
   "pygments_lexer": "ipython3",
   "version": "3.7.4"
  }
 },
 "nbformat": 4,
 "nbformat_minor": 2
}
