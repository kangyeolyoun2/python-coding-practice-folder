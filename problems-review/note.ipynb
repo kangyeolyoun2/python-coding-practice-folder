{
 "cells": [
  {
   "cell_type": "code",
   "execution_count": 3,
   "metadata": {},
   "outputs": [],
   "source": [
    "import numpy as np\n",
    "import statistics\n",
    "import random"
   ]
  },
  {
   "cell_type": "code",
   "execution_count": null,
   "metadata": {},
   "outputs": [],
   "source": []
  },
  {
   "cell_type": "code",
   "execution_count": null,
   "metadata": {},
   "outputs": [],
   "source": [
    "numbers = input(\"Enter the number: \")\n",
    "numlist = numbers.split(\" \")\n",
    "for i in range(len(numlist)):\n",
    "    numlist[i] = int(numlist[i])\n",
    "    \n",
    "for i in range(len(numlist)):\n",
    "    for j in range(len(numlist)):\n",
    "        print(numlist[j], end=\" \")\n",
    "    a = numlist[0]\n",
    "    for j in range(len(numlist)):\n",
    "        if j <= len(numlist) - 2:\n",
    "            numlist[j] = numlist[j+ 1]\n",
    "        else:\n",
    "            numlist[j] = a\n",
    "    print()"
   ]
  },
  {
   "cell_type": "code",
   "execution_count": null,
   "metadata": {},
   "outputs": [],
   "source": []
  },
  {
   "cell_type": "code",
   "execution_count": 10,
   "metadata": {},
   "outputs": [
    {
     "name": "stdout",
     "output_type": "stream",
     "text": [
      "5.7\n"
     ]
    }
   ],
   "source": [
    "print(round(random.random()*10,1))"
   ]
  },
  {
   "cell_type": "code",
   "execution_count": null,
   "metadata": {},
   "outputs": [],
   "source": []
  },
  {
   "cell_type": "code",
   "execution_count": 11,
   "metadata": {},
   "outputs": [
    {
     "name": "stdout",
     "output_type": "stream",
     "text": [
      "Enter the sentenceMerry Christmas\n"
     ]
    }
   ],
   "source": [
    "sentence = input(\"Enter the sentence\")"
   ]
  },
  {
   "cell_type": "code",
   "execution_count": 16,
   "metadata": {},
   "outputs": [
    {
     "data": {
      "text/plain": [
       "'Me'"
      ]
     },
     "execution_count": 16,
     "metadata": {},
     "output_type": "execute_result"
    }
   ],
   "source": []
  },
  {
   "cell_type": "code",
   "execution_count": 18,
   "metadata": {},
   "outputs": [
    {
     "name": "stdout",
     "output_type": "stream",
     "text": [
      "M\n",
      "Me\n",
      "Mer\n",
      "Merr\n",
      "Merry\n",
      "Merry \n",
      "Merry C\n",
      "Merry Ch\n",
      "Merry Chr\n",
      "Merry Chri\n",
      "Merry Chris\n",
      "Merry Christ\n",
      "Merry Christm\n",
      "Merry Christma\n",
      "Merry Christmas\n"
     ]
    }
   ],
   "source": [
    "sentence = input(\"Enter the sentence\")\n",
    "for i in range(len(sentence)):\n",
    "    print(sentence[0:i+1])"
   ]
  },
  {
   "cell_type": "code",
   "execution_count": 28,
   "metadata": {},
   "outputs": [],
   "source": [
    "def is_prime(n):\n",
    "    a = []\n",
    "    for i in range(1,n+1):\n",
    "        if n % i == 0:\n",
    "            a.append(i)\n",
    "    if len(a) == 2:\n",
    "        return True"
   ]
  },
  {
   "cell_type": "code",
   "execution_count": 30,
   "metadata": {},
   "outputs": [
    {
     "name": "stdout",
     "output_type": "stream",
     "text": [
      "11 13\n"
     ]
    }
   ],
   "source": [
    "b = []\n",
    "for i in range(1,144):\n",
    "    if 143 % i == 0:\n",
    "        b.append(i)\n",
    "\n",
    "if is_prime(b[1]) and is_prime(b[2]) == True:\n",
    "    print(b[1],b[2])\n"
   ]
  },
  {
   "cell_type": "code",
   "execution_count": 32,
   "metadata": {},
   "outputs": [
    {
     "data": {
      "text/plain": [
       "495"
      ]
     },
     "execution_count": 32,
     "metadata": {},
     "output_type": "execute_result"
    }
   ],
   "source": [
    "a = 0\n",
    "for i in range(24):\n",
    "    for j in range(60):\n",
    "        three = str(i) + str(j)\n",
    "        if \"3\" in three:\n",
    "            a += 1\n",
    "a"
   ]
  },
  {
   "cell_type": "code",
   "execution_count": null,
   "metadata": {},
   "outputs": [],
   "source": []
  }
 ],
 "metadata": {
  "kernelspec": {
   "display_name": "Python 3",
   "language": "python",
   "name": "python3"
  },
  "language_info": {
   "codemirror_mode": {
    "name": "ipython",
    "version": 3
   },
   "file_extension": ".py",
   "mimetype": "text/x-python",
   "name": "python",
   "nbconvert_exporter": "python",
   "pygments_lexer": "ipython3",
   "version": "3.7.4"
  }
 },
 "nbformat": 4,
 "nbformat_minor": 2
}
