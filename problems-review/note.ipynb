{
 "cells": [
  {
   "cell_type": "code",
   "execution_count": 1,
   "metadata": {},
   "outputs": [],
   "source": [
    "a = \"Merry Christmas\""
   ]
  },
  {
   "cell_type": "code",
   "execution_count": 8,
   "metadata": {},
   "outputs": [],
   "source": [
    "import numpy as np\n",
    "import statistics\n",
    "import random"
   ]
  },
  {
   "cell_type": "code",
   "execution_count": 52,
   "metadata": {},
   "outputs": [
    {
     "data": {
      "text/plain": [
       "[[47, 74], [80, 100], [10, 42]]"
      ]
     },
     "execution_count": 52,
     "metadata": {},
     "output_type": "execute_result"
    }
   ],
   "source": [
    "# make array\n",
    "\n",
    "array = [[0] * 2 for i in range(3)]\n",
    "\n",
    "# input data \n",
    "for i in range(6):\n",
    "    array[i//2][i % 2] = random.randrange(1,101)\n",
    "array\n",
    "\n",
    "\n"
   ]
  },
  {
   "cell_type": "code",
   "execution_count": 66,
   "metadata": {},
   "outputs": [
    {
     "name": "stdout",
     "output_type": "stream",
     "text": [
      "row_avg: [26.0, 78.5, 63.5], hor_avg: [73.66666666666666, 38.333333333333336], total_avg: [56]\n"
     ]
    }
   ],
   "source": [
    "# make array\n",
    "\n",
    "array = [[0] * 2 for i in range(3)]\n",
    "\n",
    "# input data \n",
    "for i in range(6):\n",
    "    array[i//2][i % 2] = random.randrange(1,101)\n",
    "array\n",
    "\n",
    "\n",
    "#avg\n",
    "row_avg = []\n",
    "hor_avg = []\n",
    "total_avg = []\n",
    "#row\n",
    "for i in range(3):\n",
    "    row_avg.append(sum(array[i])/2)\n",
    "#hor\n",
    "for i in range(2):\n",
    "    hor_sum = 0\n",
    "\n",
    "    for j in range(3):\n",
    "        hor_sum += array[j][i] / 3\n",
    "\n",
    "    hor_avg.append(hor_sum)\n",
    "\n",
    "# total avg \n",
    "total_avg.append(statistics.mean([num for nums in array for num in nums]))\n",
    "        \n",
    "    \n",
    "print(\"row_avg: {}, hor_avg: {}, total_avg: {}\".format(row_avg, hor_avg, total_avg))\n",
    "\n",
    "\n"
   ]
  },
  {
   "cell_type": "code",
   "execution_count": 67,
   "metadata": {},
   "outputs": [
    {
     "data": {
      "text/plain": [
       "[31, 21, 94, 63, 96, 31]"
      ]
     },
     "execution_count": 67,
     "metadata": {},
     "output_type": "execute_result"
    }
   ],
   "source": [
    "a"
   ]
  },
  {
   "cell_type": "code",
   "execution_count": null,
   "metadata": {},
   "outputs": [],
   "source": []
  }
 ],
 "metadata": {
  "kernelspec": {
   "display_name": "Python 3",
   "language": "python",
   "name": "python3"
  },
  "language_info": {
   "codemirror_mode": {
    "name": "ipython",
    "version": 3
   },
   "file_extension": ".py",
   "mimetype": "text/x-python",
   "name": "python",
   "nbconvert_exporter": "python",
   "pygments_lexer": "ipython3",
   "version": "3.7.4"
  }
 },
 "nbformat": 4,
 "nbformat_minor": 2
}
