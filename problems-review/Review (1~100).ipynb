{
 "cells": [
  {
   "cell_type": "code",
   "execution_count": 12,
   "metadata": {},
   "outputs": [
    {
     "name": "stdout",
     "output_type": "stream",
     "text": [
      "0b10 2\n",
      "0b100 4\n",
      "0b1000 8\n",
      "0b10000 16\n",
      "0b100000 32\n",
      "0b1000000 64\n",
      "0b10000000 128\n"
     ]
    }
   ],
   "source": [
    "# (48) num =1 변수선언, shift연산사용 -> 2 **1 , ~ 2 ** 7까지\n",
    "\n",
    "num = 1\n",
    "for i in range(7):\n",
    "    print(bin(num << i+1), num << i+1)"
   ]
  },
  {
   "cell_type": "code",
   "execution_count": 15,
   "metadata": {},
   "outputs": [
    {
     "name": "stdout",
     "output_type": "stream",
     "text": [
      "insert number5\n"
     ]
    },
    {
     "data": {
      "text/plain": [
       "False"
      ]
     },
     "execution_count": 15,
     "metadata": {},
     "output_type": "execute_result"
    }
   ],
   "source": [
    "#(59)  2와 3의배수 찾기\n",
    "num = int(input(\"insert number\"))\n",
    "True if num % 2 == 0 or num % 3 == 0 else False"
   ]
  },
  {
   "cell_type": "code",
   "execution_count": 19,
   "metadata": {},
   "outputs": [
    {
     "name": "stdout",
     "output_type": "stream",
     "text": [
      "52\n"
     ]
    }
   ],
   "source": [
    "#(81) 애국가 길이(띄어쓰기 제외 길이)\n",
    "\n",
    "anthem = \"동해물과 백두산이 마르고 닳도록 하느님이 보우하사 우리나라 만세 무궁화 삼천리 화려강산 대한사람 대한으로 길이 보전하세\"\n",
    "\n",
    "print(len(anthem) - anthem.count(\" \"))"
   ]
  },
  {
   "cell_type": "code",
   "execution_count": 20,
   "metadata": {},
   "outputs": [
    {
     "data": {
      "text/plain": [
       "\"I'M From Korea, But I Don'T Like Kimchi\""
      ]
     },
     "execution_count": 20,
     "metadata": {},
     "output_type": "execute_result"
    }
   ],
   "source": [
    "#(82)  문장의 시작만 대문자로 만들기\n",
    "Sentence = \"I'm from Korea, but I don't like Kimchi\"\n",
    "\n",
    "Sentence.title()"
   ]
  },
  {
   "cell_type": "code",
   "execution_count": 23,
   "metadata": {},
   "outputs": [
    {
     "name": "stdout",
     "output_type": "stream",
     "text": [
      "what year?2055\n",
      "2055년 지수의 나이는 58세입니다\n"
     ]
    }
   ],
   "source": [
    "#(92) 지수는 2017년 나이가 20살. 미래년도를 입력했을때 나이를 출력해주는 프로그램\n",
    "\n",
    "year = int(input(\"what year?\"))\n",
    "print(\"{}년 지수의 나이는 {}세입니다\".format(year, year-2017+20))"
   ]
  },
  {
   "cell_type": "code",
   "execution_count": 25,
   "metadata": {},
   "outputs": [
    {
     "name": "stdout",
     "output_type": "stream",
     "text": [
      "type sth : 동해물과 백두산이 마르고 닳도록 하느님이 보우하사 우리나라 만세 무궁화 삼천리 화려강산 대한사람 대한으로 길이 보전하세\n",
      "해당 문장의 단어 수는 15개입니다.\n"
     ]
    }
   ],
   "source": [
    "#(94) 문장을 입력받아 단어의 수를 출력하는 프로그램 작성(띄어쓰기 기준)\n",
    "#ex) 나는 서울에서 태어났다 <ㅡ3단어\n",
    "\n",
    "sentence = input(\"type sth : \").split(\" \")\n",
    "print(\"해당 문장의 단어 수는 {}개입니다.\".format(len(sentence)))\n",
    "\n"
   ]
  },
  {
   "cell_type": "code",
   "execution_count": null,
   "metadata": {},
   "outputs": [],
   "source": []
  }
 ],
 "metadata": {
  "kernelspec": {
   "display_name": "Python 3",
   "language": "python",
   "name": "python3"
  },
  "language_info": {
   "codemirror_mode": {
    "name": "ipython",
    "version": 3
   },
   "file_extension": ".py",
   "mimetype": "text/x-python",
   "name": "python",
   "nbconvert_exporter": "python",
   "pygments_lexer": "ipython3",
   "version": "3.7.4"
  }
 },
 "nbformat": 4,
 "nbformat_minor": 2
}
