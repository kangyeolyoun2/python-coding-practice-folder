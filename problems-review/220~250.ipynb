{
 "cells": [
  {
   "cell_type": "code",
   "execution_count": 3,
   "metadata": {},
   "outputs": [],
   "source": [
    "import numpy as np\n",
    "import statistics\n",
    "import random"
   ]
  },
  {
   "cell_type": "code",
   "execution_count": 2,
   "metadata": {},
   "outputs": [
    {
     "name": "stdout",
     "output_type": "stream",
     "text": [
      "[0, 1, 2]\n",
      "[1, 2, 3]\n",
      "[2, 3, 4]\n"
     ]
    }
   ],
   "source": [
    "#223 다음과 같은 array만드시오\n"
   ]
  },
  {
   "cell_type": "code",
   "execution_count": 6,
   "metadata": {},
   "outputs": [
    {
     "name": "stdout",
     "output_type": "stream",
     "text": [
      "[0, 1, 2]\n",
      "[1, 2, 3]\n",
      "[2, 3, 4]\n"
     ]
    }
   ],
   "source": [
    "array = [[0] * 3 for i in range(3)]\n",
    "\n",
    "for i in range(3):\n",
    "    for j in range(3):\n",
    "        array[i][j] = i + j\n",
    "for i in range(3):\n",
    "    print(array[i])"
   ]
  },
  {
   "cell_type": "code",
   "execution_count": 2,
   "metadata": {},
   "outputs": [
    {
     "data": {
      "text/plain": [
       "array([[0, 1, 2],\n",
       "       [1, 2, 3],\n",
       "       [2, 3, 4]])"
      ]
     },
     "execution_count": 2,
     "metadata": {},
     "output_type": "execute_result"
    }
   ],
   "source": [
    "import numpy as np\n",
    "np.array([[0,1,2],[1,2,3],[2,3,4]])"
   ]
  },
  {
   "cell_type": "code",
   "execution_count": 7,
   "metadata": {},
   "outputs": [
    {
     "data": {
      "text/plain": [
       "[2, 4, 6, 8, 10, 12, 14, 16, 18, 20]"
      ]
     },
     "execution_count": 7,
     "metadata": {},
     "output_type": "execute_result"
    }
   ],
   "source": [
    "#224 다음을 그리시오"
   ]
  },
  {
   "cell_type": "code",
   "execution_count": 8,
   "metadata": {},
   "outputs": [
    {
     "data": {
      "text/plain": [
       "[2, 4, 6, 8, 10, 12, 14, 16, 18, 20]"
      ]
     },
     "execution_count": 8,
     "metadata": {},
     "output_type": "execute_result"
    }
   ],
   "source": [
    "[2 * i for i in range(1,11)]"
   ]
  },
  {
   "cell_type": "code",
   "execution_count": 3,
   "metadata": {},
   "outputs": [
    {
     "data": {
      "text/plain": [
       "[2, 4, 6, 8, 10, 12, 14, 16, 18, 20]"
      ]
     },
     "execution_count": 3,
     "metadata": {},
     "output_type": "execute_result"
    }
   ],
   "source": [
    "[num for num in np.arange(1,21) if num % 2 == 0]"
   ]
  },
  {
   "cell_type": "code",
   "execution_count": 14,
   "metadata": {},
   "outputs": [
    {
     "name": "stdout",
     "output_type": "stream",
     "text": [
      "[0, 1, 2, 3]\n",
      "[4, 5, 6, 7]\n",
      "[8, 9, 10, 11]\n",
      "[12, 13, 14, 15]\n"
     ]
    }
   ],
   "source": [
    "#225 다음을 그리시오\n"
   ]
  },
  {
   "cell_type": "code",
   "execution_count": 15,
   "metadata": {},
   "outputs": [
    {
     "name": "stdout",
     "output_type": "stream",
     "text": [
      "[0, 1, 2, 3]\n",
      "[4, 5, 6, 7]\n",
      "[8, 9, 10, 11]\n",
      "[12, 13, 14, 15]\n"
     ]
    }
   ],
   "source": [
    "array = [[0] * 4 for i in range(4)]\n",
    "for i in range(0 ,16):\n",
    "    array[i // 4][i % 4] = i\n",
    "for i in range(4):\n",
    "    print(array[i])"
   ]
  },
  {
   "cell_type": "code",
   "execution_count": null,
   "metadata": {},
   "outputs": [],
   "source": [
    "np.arange(16).reshape(4,4)"
   ]
  },
  {
   "cell_type": "code",
   "execution_count": 18,
   "metadata": {},
   "outputs": [
    {
     "name": "stdout",
     "output_type": "stream",
     "text": [
      " 0  1  2  3 \n",
      " 4  5  6  7 \n",
      " 8  9 10 11 \n"
     ]
    }
   ],
   "source": [
    "# %2d를 붙여 이런식으로 오른쪽에 맞추는것도 가능하다\n",
    "for i in range(3):\n",
    "    for j in range(4):\n",
    "        print(\"%2d\" %array[i][j], end= \" \")\n",
    "    print()"
   ]
  },
  {
   "cell_type": "code",
   "execution_count": 2,
   "metadata": {},
   "outputs": [
    {
     "data": {
      "text/plain": [
       "[[1, 2, 3, 4, 5],\n",
       " [2, 3, 4, 5, 6],\n",
       " [3, 4, 5, 6, 7],\n",
       " [4, 5, 6, 7, 8],\n",
       " [5, 6, 7, 8, 9]]"
      ]
     },
     "execution_count": 2,
     "metadata": {},
     "output_type": "execute_result"
    }
   ],
   "source": [
    "# 227 이런식으로 나타내시오\n"
   ]
  },
  {
   "cell_type": "code",
   "execution_count": null,
   "metadata": {},
   "outputs": [],
   "source": [
    "array = [[0] * 5 for i in range(5)]\n",
    "for i in range(5):\n",
    "    for j in range(5):\n",
    "        array[i][j] = 1+i+j\n",
    "array"
   ]
  },
  {
   "cell_type": "code",
   "execution_count": null,
   "metadata": {},
   "outputs": [],
   "source": []
  },
  {
   "cell_type": "code",
   "execution_count": 5,
   "metadata": {},
   "outputs": [
    {
     "data": {
      "text/plain": [
       "[[15, 16, 8, 20, 16],\n",
       " [23, 1, 6, 4, 17],\n",
       " [17, 11, 12, 19, 3],\n",
       " [23, 19, 5, 11, 16],\n",
       " [15, 20, 9, 18, 8]]"
      ]
     },
     "execution_count": 5,
     "metadata": {},
     "output_type": "execute_result"
    }
   ],
   "source": [
    "#228 다음과 같이 5행 5열의 2차원 배열에 랜덤으로 1~25 사이의 수를 저장후, \n",
    "#2차원 배열의 수들의 평균이 12.5 이상일경우 BIG 아니면 Small을 프린트하도록 하시오\n",
    "import random\n"
   ]
  },
  {
   "cell_type": "code",
   "execution_count": 7,
   "metadata": {},
   "outputs": [
    {
     "name": "stdout",
     "output_type": "stream",
     "text": [
      "[11.4, 8.0, 18.2, 8.0, 12.8] Small\n"
     ]
    }
   ],
   "source": [
    "#228\n",
    "import random\n",
    "array = [[random.randrange(0,25) for i in range(5)] for i in range(5)]\n",
    "average = []26\n",
    "for i in range(5):\n",
    "    average.append(sum(array[i])/5)\n",
    "\n",
    "\n",
    "if sum(average)/5 >= 12.5:\n",
    "    print(average,\"Big\")\n",
    "else:\n",
    "    print(average,\"Small\")"
   ]
  },
  {
   "cell_type": "code",
   "execution_count": 1,
   "metadata": {},
   "outputs": [
    {
     "name": "stdout",
     "output_type": "stream",
     "text": [
      "[19, 17, 25, 12, 22] Big\n",
      "[14, 15, 10, 12, 24] Big\n",
      "[16, 25, 15, 15, 9] Big\n",
      "[16, 22, 2, 3, 18] Small\n",
      "[7, 23, 11, 25, 13] Big\n"
     ]
    }
   ],
   "source": [
    "import random\n",
    "import statistics\n",
    "\n",
    "array = [[0] * 5 for i in range(5)]\n",
    "for i in range(25):\n",
    "    array[i//5][i%5] = random.randint(1,25)\n",
    "\n",
    "\n",
    "for i in range(5):\n",
    "    if statistics.mean(array[i]) >= 12.5:\n",
    "        print(array[i], \"Big\")\n",
    "    else:\n",
    "        print(array[i], \"Small\")\n",
    "        "
   ]
  },
  {
   "cell_type": "code",
   "execution_count": 10,
   "metadata": {},
   "outputs": [
    {
     "name": "stdout",
     "output_type": "stream",
     "text": [
      "20  4  5 24 22 \n",
      " 6 13 25 15 11 \n",
      "23 24 25  7 10 \n",
      " 8 14 13 22  3 \n",
      "16 19  6  4 12 \n",
      "Big\n"
     ]
    }
   ],
   "source": [
    "#228(2)\n",
    "import random\n",
    "\n",
    "array = [[0] * 5 for i in range(5)]\n",
    "\n",
    "for i in range(0, 25):\n",
    "    array[i // 5][i % 5] = random.randrange(1,26)\n",
    "    \n",
    "sum = 0\n",
    "for i in range(5):\n",
    "    for j in range(5):\n",
    "        print(\"%2d\" %array[i][j], end= \" \")\n",
    "        sum += array[i][j]\n",
    "    print()\n",
    "\n",
    "if sum/25 >= 12.5:\n",
    "    print(\"Big\")\n",
    "else:\n",
    "    print(\"Small\")"
   ]
  },
  {
   "cell_type": "code",
   "execution_count": null,
   "metadata": {},
   "outputs": [],
   "source": [
    "a = np.empty((5,5))\n",
    "for i in range(5):\n",
    "    for j in range(5):\n",
    "        a[i][j] = random.randrange(1,26)\n",
    "a"
   ]
  },
  {
   "cell_type": "code",
   "execution_count": null,
   "metadata": {},
   "outputs": [],
   "source": []
  },
  {
   "cell_type": "code",
   "execution_count": null,
   "metadata": {},
   "outputs": [],
   "source": [
    "#229 문자열을 입력받아 대문자와 소문자의 수를 구분하는 프로그램\n",
    "\n",
    "#ex) Enter the sentence: This is What I want to say\n",
    "#upper: 3, lower: 17\n",
    "\n",
    "\n",
    "sentence = input(\"Enter the sentence: \")\n",
    "a = 0\n",
    "b = 0\n",
    "for i in range(len(sentence)):\n",
    "    if \"A\" <= sentence[i] <= \"Z\":\n",
    "        a += 1\n",
    "    elif \"a\" <= sentence[i] <= \"z\":\n",
    "        b += 1\n",
    "        \n",
    "print(\"sentence:\",sentence,\n",
    "      \"lower:\", a, \"upper:\",b)"
   ]
  },
  {
   "cell_type": "code",
   "execution_count": 12,
   "metadata": {},
   "outputs": [
    {
     "name": "stdout",
     "output_type": "stream",
     "text": [
      "Enter the sentence: This is What I want to say\n",
      "upper   : 3 lower    : 17\n"
     ]
    }
   ],
   "source": [
    "#229(2)\n",
    "\n",
    "Sentence = input(\"Enter the sentence: \")\n",
    "\n",
    "def numOfsupp(str):\n",
    "    num = 0\n",
    "    for i in range(len(str)):\n",
    "        if \"A\" <= str[i] <= \"Z\":\n",
    "            num += 1\n",
    "    return num\n",
    "\n",
    "def numOflow(str):\n",
    "    num = 0\n",
    "    for i in range(len(str)):\n",
    "        if \"a\" <= str[i] <= \"z\":\n",
    "            num += 1\n",
    "    return num\n",
    "\n",
    "print(\"upper   :\",numOfsupp(Sentence),    \"lower    :\", numOflow(Sentence))"
   ]
  },
  {
   "cell_type": "code",
   "execution_count": null,
   "metadata": {},
   "outputs": [],
   "source": [
    "a = input(\"insert your sentence\")\n",
    "Upper = 0\n",
    "Lower = 0\n",
    "for i in range(len(a)):\n",
    "    if chr(65) <= a[i] <= chr(90):\n",
    "        Upper += 1\n",
    "    elif chr(97) <= a[i] <= chr(122):\n",
    "        Lower += 1\n",
    "print(\"Upper: \", Upper, \"Lower\", Lower)"
   ]
  },
  {
   "cell_type": "code",
   "execution_count": null,
   "metadata": {},
   "outputs": [],
   "source": [
    "#230 문자열을 입력받아, 거꾸로 출력하는 프로그램. (reverse 사용 x)\n",
    "\n",
    "# ex) Enter the Sentence : Merry Christmas\n",
    "# => samtsirhC yrreM\n"
   ]
  },
  {
   "cell_type": "code",
   "execution_count": 1,
   "metadata": {},
   "outputs": [
    {
     "name": "stdout",
     "output_type": "stream",
     "text": [
      "insert SentenceMerry Christmas\n"
     ]
    }
   ],
   "source": [
    "sentence = input(\"insert Sentence: \")\n",
    "\n",
    "def rev_sen(str):\n",
    "    return str[::-1]\n",
    "-\n",
    "rev_sen(sentence)"
   ]
  },
  {
   "cell_type": "code",
   "execution_count": 1,
   "metadata": {},
   "outputs": [
    {
     "name": "stdout",
     "output_type": "stream",
     "text": [
      "insert sentence: Merry Christmas\n",
      "BDFGJKLNOPQUVWXZ"
     ]
    }
   ],
   "source": [
    "#231 문자열을 입력 받아, A ~ Z(혹은 a~z)중 빠진 알파벳을 대문자로 순서대로 출력하는 프로그램을 작성하시오\n",
    "sentence = input(\"insert sentence: \")\n",
    "for i in range(65,91):\n",
    "    if (chr(i+32) not in sentence) and (chr(i) not in sentence):\n",
    "        print(chr(i), end=\"\")"
   ]
  },
  {
   "cell_type": "code",
   "execution_count": 3,
   "metadata": {},
   "outputs": [
    {
     "name": "stdout",
     "output_type": "stream",
     "text": [
      "insert sentence: Merry Christmas\n",
      "BDFGJKLNOPQUVWXZ"
     ]
    }
   ],
   "source": [
    "#231(2)\n",
    "\n",
    "sentence = input(\"insert sentence: \")\n",
    "sentence = sentence.upper()\n",
    "for i in range(65, 91):\n",
    "    if chr(i) not in sentence:\n",
    "        print(chr(i), end = \"\")"
   ]
  },
  {
   "cell_type": "code",
   "execution_count": 4,
   "metadata": {},
   "outputs": [],
   "source": [
    "#232 수(n)을 입력받아, 앞의 n개는 1부터 시작하는 홀수 오름차순, 두의 n개는 2부터 시작하는 짝수의 오름차순\n",
    "# ex) input = 5 >> [1, 3, 5, 7, 9, 10, 8, 6, 4, 2]"
   ]
  },
  {
   "cell_type": "code",
   "execution_count": 5,
   "metadata": {},
   "outputs": [
    {
     "name": "stdout",
     "output_type": "stream",
     "text": [
      "insert number: 5\n",
      "[1, 3, 5, 7, 9, 10, 8, 6, 4, 2]\n"
     ]
    }
   ],
   "source": [
    "n = int(input(\"insert number: \"))\n",
    "\n",
    "num = [0] * (2 * n)\n",
    "\n",
    "for i in range(0, n):\n",
    "    num[i] = i*2 + 1\n",
    "    \n",
    "for j in range(0, n):\n",
    "    num[2*n-1-j] = 2 + 2 * j\n",
    "    \n",
    "print(num)"
   ]
  },
  {
   "cell_type": "code",
   "execution_count": null,
   "metadata": {},
   "outputs": [],
   "source": [
    "a = int(input(\"inserted number: \"))\n",
    "\n",
    "array = [0] * a * 2\n",
    "\n",
    "for i in range(a):\n",
    "    array[i] = 1+ 2*i\n",
    "    array[-i-1] = 2*i+2\n",
    "array"
   ]
  },
  {
   "cell_type": "code",
   "execution_count": 6,
   "metadata": {},
   "outputs": [
    {
     "name": "stdout",
     "output_type": "stream",
     "text": [
      "[16, 27]\n",
      "[39, 100]\n",
      "[19, 88]\n"
     ]
    }
   ],
   "source": [
    "#233\n",
    "#3행 2열 2차원 배열을 입력받아 가로 평균, 세로평균 전체평균을 출력하는 프로그램"
   ]
  },
  {
   "cell_type": "code",
   "execution_count": null,
   "metadata": {},
   "outputs": [],
   "source": [
    "# make array\n",
    "\n",
    "array = [[0] * 2 for i in range(3)]\n",
    "\n",
    "# input data \n",
    "for i in range(6):\n",
    "    array[i//2][i % 2] = random.randrange(1,101)\n",
    "array\n",
    "\n",
    "# Vertical\n",
    "v_sum1 = 0\n",
    "v_sum2 = 0\n",
    "v_avg = []\n",
    "\n",
    "for i in range(3):\n",
    "    v_sum1 += array[i][0] / 3\n",
    "    v_sum2 += array[i][1] / 3\n",
    "    \n",
    "v_avg.append(v_sum1)\n",
    "v_avg.append(v_sum2)\n",
    "\n",
    "# Horizontal\n",
    "\n",
    "h_sum1 = 0\n",
    "h_sum2 = 0\n",
    "h_sum3 = 0\n",
    "\n",
    "h_avg = []\n",
    "\n",
    "for i in range(2):\n",
    "    h_sum1 += array[0][i] / 2\n",
    "    h_sum2 += array[1][i] / 2\n",
    "    h_sum3 += array[2][i] / 2\n",
    "\n",
    "h_avg.append(h_sum1)    \n",
    "h_avg.append(h_sum2)\n",
    "h_avg.append(h_sum3)    \n"
   ]
  },
  {
   "cell_type": "code",
   "execution_count": 26,
   "metadata": {},
   "outputs": [
    {
     "name": "stdout",
     "output_type": "stream",
     "text": [
      "CPU times: user 2 µs, sys: 0 ns, total: 2 µs\n",
      "Wall time: 5.25 µs\n",
      "[16, 27]\n",
      "[39, 100]\n",
      "[19, 88]\n",
      "[21, 69, 53]\n",
      "24 71 \n",
      "48.166666666666664\n"
     ]
    }
   ],
   "source": [
    "%time\n",
    "import math\n",
    "array = [[16, 27], [39, 100], [19, 88]]\n",
    "for i in range(3):\n",
    "    print(array[i])\n",
    "\n",
    "\n",
    "#가로 평균\n",
    "\n",
    "row_avg = []\n",
    "for i in range(3):\n",
    "    row_avg.append(math.floor(sum(array[i])/2))\n",
    "print(row_avg)\n",
    "\n",
    "# 세로 평균\n",
    "\n",
    "sum1 = 0\n",
    "for i in range(2):\n",
    "    sum2 = 0\n",
    "    for j in range(3):\n",
    "        sum2 += array[j][i]\n",
    "    sum1 += sum2\n",
    "    print(sum2 // 3, end = \" \")\n",
    "print()\n",
    "\n",
    "# 전체 평균\n",
    "print(sum1/6)"
   ]
  },
  {
   "cell_type": "code",
   "execution_count": 40,
   "metadata": {},
   "outputs": [
    {
     "name": "stdout",
     "output_type": "stream",
     "text": [
      "CPU times: user 2 µs, sys: 0 ns, total: 2 µs\n",
      "Wall time: 5.96 µs\n",
      "row_avg: [73.5, 41.0, 41.0], hor_avg: [58.33333333333333, 45.333333333333336], total_avg: [51.833333333333336]\n"
     ]
    }
   ],
   "source": [
    "#크! 내가한게 더 깔끔스무승~\n",
    "%time\n",
    "# make array\n",
    "\n",
    "array = [[0] * 2 for i in range(3)]\n",
    "\n",
    "# input data \n",
    "for i in range(6):\n",
    "    array[i//2][i % 2] = random.randrange(1,101)\n",
    "array\n",
    "\n",
    "\n",
    "#avg\n",
    "row_avg = []\n",
    "hor_avg = []\n",
    "total_avg = []\n",
    "#row\n",
    "for i in range(3):\n",
    "    row_avg.append(sum(array[i])/2)\n",
    "#hor\n",
    "for i in range(2):\n",
    "    hor_sum = 0\n",
    "\n",
    "    for j in range(3):\n",
    "        hor_sum += array[j][i] / 3\n",
    "\n",
    "    hor_avg.append(hor_sum)\n",
    "\n",
    "# total avg \n",
    "total_avg.append(statistics.mean([num for nums in array for num in nums]))\n",
    "        \n",
    "    \n",
    "print(\"row_avg: {}, hor_avg: {}, total_avg: {}\".format(row_avg, hor_avg, total_avg))\n",
    "\n",
    "\n"
   ]
  },
  {
   "cell_type": "code",
   "execution_count": null,
   "metadata": {},
   "outputs": [],
   "source": [
    "#234 앞으로읽거나, 거꾸로 읽으나 같은 문장은 \"Handsome 표기하도록 하시오\"\n",
    "\n",
    "#ex) toot => Handsome"
   ]
  },
  {
   "cell_type": "code",
   "execution_count": 2,
   "metadata": {},
   "outputs": [
    {
     "name": "stdout",
     "output_type": "stream",
     "text": [
      "insert word: toot\n",
      "Handsome\n"
     ]
    }
   ],
   "source": [
    "word = input(\"insert word: \")\n",
    "def isHandsome(str):\n",
    "    for i in range(len(word)):\n",
    "        if word[i] == word[len(word)-1-i]:\n",
    "            return True\n",
    "        else:\n",
    "            return False\n",
    "        \n",
    "if isHandsome(word) == True:\n",
    "    print(\"Handsome\")\n"
   ]
  },
  {
   "cell_type": "code",
   "execution_count": null,
   "metadata": {},
   "outputs": [],
   "source": [
    "#내거가 맞는듯 ;\n",
    "def handsome(str):\n",
    "    a = \"\"\n",
    "    b = \"\"\n",
    "    for i in range(len(str)):\n",
    "        a += str[i]\n",
    "        b += str[-i-1]\n",
    "        \n",
    "    if a == b:\n",
    "        print(\"Handsome\")\n",
    "    else:\n",
    "        print(\"Not Handsome\")\n",
    "handsome(\"brarb\")"
   ]
  },
  {
   "cell_type": "code",
   "execution_count": 1,
   "metadata": {},
   "outputs": [],
   "source": [
    "#235\n",
    "# 길이가 10인 1차원 배열을 만들고, 10 미만의 자연수 2개를 입력받아, 첫번째 원소와 두번째 원소를 입력받은 수로 초기화\n",
    "# 세 번째 원소부터 마지막 원소까지는 전전항과 전항을 곱한 값의 1의 자리\n",
    "\n",
    "#ex) Enter the two number\n",
    "#[3, 4, 2, 8, 6, 8, 8, 4, 2, 8]"
   ]
  },
  {
   "cell_type": "code",
   "execution_count": 10,
   "metadata": {},
   "outputs": [
    {
     "name": "stdout",
     "output_type": "stream",
     "text": [
      "insert number: 3\n",
      "insert number: 4\n"
     ]
    },
    {
     "data": {
      "text/plain": [
       "[3, 4, 2, 8, 6, 8, 8, 4, 2, 8]"
      ]
     },
     "execution_count": 10,
     "metadata": {},
     "output_type": "execute_result"
    }
   ],
   "source": [
    "array = [0] * 10\n",
    "a = int(input(\"insert number: \"))\n",
    "b = int(input(\"insert number: \"))\n",
    "array[0] = a\n",
    "array[1] = b\n",
    "for i in range(2,10):\n",
    "    array[i] = array[i-2] * array[i-1] % 10\n",
    "    \n",
    "array\n",
    "    "
   ]
  },
  {
   "cell_type": "code",
   "execution_count": null,
   "metadata": {},
   "outputs": [],
   "source": [
    "#내거가 더 깔끔한듯?ㅋ\n",
    "array = [0] * 10\n",
    "for i in range(10):\n",
    "    if i <= 1:\n",
    "        array[i] = int(input(\"insert number: \"))\n",
    "    else:\n",
    "        array[i] = array[i-2] * array[i-1] % 10\n",
    "array"
   ]
  },
  {
   "cell_type": "code",
   "execution_count": null,
   "metadata": {},
   "outputs": [],
   "source": []
  },
  {
   "cell_type": "code",
   "execution_count": null,
   "metadata": {},
   "outputs": [],
   "source": [
    "def print_arr(arr):\n",
    "    for i in range(len(arr)):\n",
    "        for j in range(len(arr[i])):\n",
    "            print(\"%2d\" %arr[i][j], end = \" \")\n",
    "        print()\n",
    "        \n",
    "def mul_array(arr1, arr2):\n",
    "    arr = [[0] * 3 for i in range(3)]\n",
    "    for i in range(3):\n",
    "        for j in rang"
   ]
  },
  {
   "cell_type": "code",
   "execution_count": null,
   "metadata": {},
   "outputs": [],
   "source": [
    "#237 공백을 포함한 문자열을 입력받아, 출력예시와 함께 문자열을 나누시오\n",
    "# Enter the sentence: My name is Hong Gildong\n",
    "# 1. My\n",
    "# 2. name\n",
    "# 3. is\n",
    "# 4. Hong\n",
    "# 5. Gildong"
   ]
  },
  {
   "cell_type": "code",
   "execution_count": 12,
   "metadata": {},
   "outputs": [
    {
     "name": "stdout",
     "output_type": "stream",
     "text": [
      "Enter the sentence: My name is Hong Gildong\n",
      "1. My\n",
      "2. name\n",
      "3. is\n",
      "4. Hong\n",
      "5. Gildong\n"
     ]
    }
   ],
   "source": [
    "sentence = input(\"Enter the sentence: \").split(\" \")\n",
    "for i in range(len(sentence)):\n",
    "    print(\"{}. {}\".format(1+i, sentence[i]))"
   ]
  },
  {
   "cell_type": "code",
   "execution_count": 13,
   "metadata": {},
   "outputs": [
    {
     "name": "stdout",
     "output_type": "stream",
     "text": [
      "숙제한 사람: 2 6 4 16 19 11 5\n",
      "숙제 안한사람: [1, 3, 7, 8, 9, 10, 12, 13, 14, 15, 17, 18, 20]\n"
     ]
    }
   ],
   "source": [
    "# 238\n",
    "\n",
    "#학급에서 20명이 있고, 출석번호가 1~20번 까지 있다. 다음과 같은 숙제를 내지 않은 학생들을 골라내시오\n",
    "# 숙제를 제출한 출석 번호: 2 6 4 16 19 11 5\n",
    "# 1 3 7 8 9 10 12 13 14 15 17 18 20\n"
   ]
  },
  {
   "cell_type": "code",
   "execution_count": 14,
   "metadata": {},
   "outputs": [
    {
     "name": "stdout",
     "output_type": "stream",
     "text": [
      "숙제한 사람: 2 6 4 16 19 11 5\n",
      "숙제 안한사람: [1, 3, 7, 8, 9, 10, 12, 13, 14, 15, 17, 18, 20]\n"
     ]
    }
   ],
   "source": [
    "did_hw = input(\"숙제한 사람: \").split(\" \")\n",
    "a = []\n",
    "for i in range(1, 21):\n",
    "    if str(i) not in did_hw:\n",
    "        a.append(str(i))\n",
    "a = list(map(int,a))\n",
    "print(\"숙제 안한사람: {}\".format(a))"
   ]
  },
  {
   "cell_type": "code",
   "execution_count": null,
   "metadata": {},
   "outputs": [],
   "source": [
    "sentence = input(\"Enter the sentence: \")\n",
    "students = [i for i in range(1,21)]\n",
    "students\n",
    "did_hw = []\n",
    "a = \"2 6 4 16 19 11 5\"\n",
    "for i in a.split(\" \"):\n",
    "    did_hw.append(int(i))\n",
    "did_hw\n",
    "\n",
    "for i in did_hw:\n",
    "    students.remove(i)\n"
   ]
  },
  {
   "cell_type": "code",
   "execution_count": null,
   "metadata": {},
   "outputs": [],
   "source": [
    "#239 문제집 참조;"
   ]
  },
  {
   "cell_type": "code",
   "execution_count": 21,
   "metadata": {},
   "outputs": [
    {
     "name": "stdout",
     "output_type": "stream",
     "text": [
      "[[0, 0, 0, 0, 0, 0, 0, 0, 0, 0, 0, 0, 0, 0, 0, 0, 0, 0, 0, 0, 0, 0, 0, 0, 0, 0, 0], [0, 0, 0, 0, 0, 0, 0, 0, 0, 0, 0, 0, 0, 0, 0, 0, 0, 0, 0, 0, 0, 0, 0, 0, 0, 0, 0]] "
     ]
    }
   ],
   "source": [
    "cryplist = [[0] * 27 for i in range(2)]\n",
    "print(cryplist, end=\" \")"
   ]
  },
  {
   "cell_type": "code",
   "execution_count": 22,
   "metadata": {},
   "outputs": [],
   "source": [
    "cryplist[0] = [\"a, b, c, d, e, f, g, h, i, j, k, l, m, n, o, p, q, r, s, t, u, v, w, z, y, z\", \" \"]"
   ]
  },
  {
   "cell_type": "code",
   "execution_count": 25,
   "metadata": {},
   "outputs": [],
   "source": [
    "cryplist[1] = [\"k, i, y, d, h, n, s, z, m, a, r, q, g, x, c, u, j, b, t, v, o, e, l, p, f, w, *\"]"
   ]
  },
  {
   "cell_type": "code",
   "execution_count": 26,
   "metadata": {},
   "outputs": [
    {
     "data": {
      "text/plain": [
       "['k, i, y, d, h, n, s, z, m, a, r, q, g, x, c, u, j, b, t, v, o, e, l, p, f, w, *']"
      ]
     },
     "execution_count": 26,
     "metadata": {},
     "output_type": "execute_result"
    }
   ],
   "source": [
    "def ChangetoSecret(str):\n",
    "    a_list = [0] * len(str)\n",
    "    for i in range(len(str)):\n",
    "        for j in range(27):\n",
    "            if str[i] == cryplist[0][j]:\n",
    "                list[i] = cryplist[0][j]:\n",
    "                    a_list[i] = cryplist[1][j]\n",
    "                    break\n",
    "                elif str[i] == cryplist[0][j].upper():\n",
    "                    list[i] = cryplist[1][j]"
   ]
  },
  {
   "cell_type": "code",
   "execution_count": 1,
   "metadata": {},
   "outputs": [
    {
     "name": "stdout",
     "output_type": "stream",
     "text": [
      "insert numbers: 1 5 4 6 8 1 3 9 4 10 6 9 8 1 3 7 9 8 1 6 2 1 6 4\n",
      "number of 1 is 5.\n",
      "number of 2 is 1.\n",
      "number of 3 is 2.\n",
      "number of 4 is 3.\n",
      "number of 5 is 1.\n",
      "number of 6 is 4.\n",
      "number of 7 is 1.\n",
      "number of 8 is 3.\n",
      "number of 9 is 3.\n",
      "number of 10 is 1.\n"
     ]
    }
   ],
   "source": [
    "#240 임의의 숫자가 주어졌을때, 각 숫자들의 개수를 counting 하시오 (크> <)\n",
    "\n",
    "numbers = input(\"insert numbers: \").split(\" \")\n",
    "numbers = list(map(int, numbers))\n",
    "\n",
    "for i in range(1, 11):\n",
    "    b = 0\n",
    "    for j in numbers:\n",
    "        if j == i:\n",
    "            b += 1\n",
    "    print(\"number of {} is {}.\".format(i, b))"
   ]
  },
  {
   "cell_type": "code",
   "execution_count": null,
   "metadata": {},
   "outputs": [],
   "source": [
    "import collections\n",
    "\n",
    "numbers = []\n",
    "while True:\n",
    "    try:\n",
    "        numbers.append(int(input(\"insert numbers: \")))\n",
    "    except:\n",
    "        break\n",
    "\n",
    "a = dict(collections.Counter(numbers))\n",
    "a = collections.OrderedDict(sorted(a.items()))"
   ]
  },
  {
   "cell_type": "code",
   "execution_count": 3,
   "metadata": {},
   "outputs": [
    {
     "name": "stdout",
     "output_type": "stream",
     "text": [
      "insert first word: abcd\n",
      "insert second word: cabd\n"
     ]
    }
   ],
   "source": [
    "#241 두 단어를 입력받아 그 구성이 다르면 not same, 같으면 same을 출력하시오\n",
    "# abcd, cadb는 구성이 같다.\n",
    "# abef, beac는 구성이 다르다\n",
    "\n",
    "a = input(\"insert first word: \")\n",
    "b = input(\"insert second word: \")\n",
    "if set(a) == set(b):\n",
    "    print(\"same\")\n",
    "else:\n",
    "    print(\"not same\")"
   ]
  },
  {
   "cell_type": "code",
   "execution_count": null,
   "metadata": {},
   "outputs": [],
   "source": [
    "a = input(\"insert word: \")\n",
    "b = input(\"insert word: \")\n",
    "\n",
    "if collections.Counter(a) - collections.Counter(b):\n",
    "    print(\"not same\")\n",
    "else:\n",
    "    print(\"same\")"
   ]
  },
  {
   "cell_type": "code",
   "execution_count": null,
   "metadata": {},
   "outputs": [],
   "source": [
    "#242 정수를 차례로 입력받다가 0이 입력되거나, 입력된 정수가 100개를 초과하면, 0을 제외하고 가장 나중에 입력된 정수부터 차례대로 출력\n",
    "\n"
   ]
  },
  {
   "cell_type": "code",
   "execution_count": 12,
   "metadata": {},
   "outputs": [
    {
     "name": "stdout",
     "output_type": "stream",
     "text": [
      "Enter the number: 10\n",
      "Enter the number: 2\n",
      "Enter the number: 4\n",
      "Enter the number: 5\n",
      "Enter the number: 0\n",
      "5 4 2 10 "
     ]
    }
   ],
   "source": [
    "array = [0] * 100\n",
    "i = 0\n",
    "a = int(input(\"Enter the number: \"))\n",
    "\n",
    "while a != 0:\n",
    "    array[i] = a\n",
    "    i += 1\n",
    "    a = int(input(\"Enter the number: \"))\n",
    "    \n",
    "for j in range(i-1, -1, -1):\n",
    "    print(array[j], end= \" \")"
   ]
  },
  {
   "cell_type": "code",
   "execution_count": null,
   "metadata": {},
   "outputs": [],
   "source": [
    "a = []\n",
    "b = 1\n",
    "while len(a) < 100:\n",
    "    try:\n",
    "        b = int(input(\"insert number\"))\n",
    "        if b == 0:\n",
    "            break\n",
    "        a.append(b)\n",
    "    except:\n",
    "        break\n",
    "a.sort(reverse = True)\n",
    "a"
   ]
  },
  {
   "cell_type": "code",
   "execution_count": null,
   "metadata": {},
   "outputs": [],
   "source": []
  },
  {
   "cell_type": "code",
   "execution_count": 13,
   "metadata": {},
   "outputs": [
    {
     "name": "stdout",
     "output_type": "stream",
     "text": [
      "insert number: 10\n",
      "insert number: 5\n",
      "insert number: 4\n",
      "insert number: 2\n",
      "insert number: 1\n",
      "insert number: 0\n",
      "1 2 4 5 10 "
     ]
    }
   ],
   "source": [
    "array = [0] * 100\n",
    "i = 0\n",
    "a = int(input(\"insert number: \"))\n",
    "\n",
    "while a != 0:\n",
    "    array[i] = a\n",
    "    i += 1\n",
    "    a = int(input(\"insert number: \"))\n",
    "    \n",
    "for j in range(i-1,-1,-1):\n",
    "    print(array[j], end=\" \")"
   ]
  },
  {
   "cell_type": "code",
   "execution_count": null,
   "metadata": {},
   "outputs": [],
   "source": []
  },
  {
   "cell_type": "code",
   "execution_count": 2,
   "metadata": {},
   "outputs": [],
   "source": [
    "#243 숫자(n)이 입력되면, \n",
    "#a) 1열은 모두 1\n",
    "#b) n번째 행의 다른 원소들은 n-1과 n번째 행 바로위으 숫자를 더한값으로 표현하시오.\n",
    "\n",
    "# ex) 1 | 1| 1\n",
    "#     1 | 2| 3\n",
    "#     1 | 3| 6\n",
    "\n",
    "\n"
   ]
  },
  {
   "cell_type": "code",
   "execution_count": 7,
   "metadata": {},
   "outputs": [
    {
     "name": "stdout",
     "output_type": "stream",
     "text": [
      "insert number: 5\n",
      "    1    1    1    1    1\n",
      "    1    2    3    4    5\n",
      "    1    3    6   10   15\n",
      "    1    4   10   20   35\n",
      "    1    5   15   35   70\n"
     ]
    }
   ],
   "source": [
    "a = int(input(\"insert number: \"))\n",
    "array = [[0] * a for i in range(a)]\n",
    "for i in range(0, a):\n",
    "    for j in range(0, a):\n",
    "        if i == 0 or j == 0: #첫째 행이나 열은 1\n",
    "            array[i][j] = 1\n",
    "        else:\n",
    "            array[i][j] = array[i-1][j] + array[i][j-1]\n",
    "            \n",
    "def printarray(array):\n",
    "    for i in range(len(array)):\n",
    "        for j in range(len(array[0])):\n",
    "            print(\"%5d\" %array[i][j], end = \"\")\n",
    "        print()\n",
    "        \n",
    "printarray(array)"
   ]
  },
  {
   "cell_type": "code",
   "execution_count": 8,
   "metadata": {},
   "outputs": [],
   "source": [
    "#244 숫자(n)이 입력되면, \n",
    "#a) n개의 숫자를 왼쪽으로 한 자리씩 순서대로 자리이동하여 출력하는 프로그램\n",
    "\n",
    "\n",
    "# ex) Enter the numbers : 1 2 3 4 5\n",
    "#     1 | 2| 3 | 4| 5\n",
    "#     2 | 3| 4 | 5| 1\n",
    "#     3 | 4| 5 | 1| 2\n",
    "#     4 | 5| 1 | 2| 3\n",
    "#     5 | 1| 2 | 3| 4\n",
    "\n",
    "\n"
   ]
  },
  {
   "cell_type": "code",
   "execution_count": 2,
   "metadata": {},
   "outputs": [
    {
     "name": "stdout",
     "output_type": "stream",
     "text": [
      "Enter the number: 1 2 3 4 5\n",
      "1 2 3 4 5 \n",
      "2 3 4 5 1 \n",
      "3 4 5 1 2 \n",
      "4 5 1 2 3 \n",
      "5 1 2 3 4 \n"
     ]
    }
   ],
   "source": [
    "numbers = input(\"Enter the number: \")\n",
    "numlist = numbers.split(\" \")\n",
    "for i in range(len(numlist)):\n",
    "    numlist[i] = int(numlist[i])\n",
    "\n",
    "for i in range(len(numlist)):\n",
    "    for j in range(len(numlist)):\n",
    "        print(numlist[j], end= \" \")\n",
    "    a = numlist[0]\n",
    "    for j in range(len(numlist)):\n",
    "        if j <= len(numlist) - 2:\n",
    "            numlist[j] = numlist[j+1]\n",
    "        else:\n",
    "            numlist[j] = a\n",
    "    print()"
   ]
  },
  {
   "cell_type": "code",
   "execution_count": 16,
   "metadata": {},
   "outputs": [
    {
     "data": {
      "text/plain": [
       "[[1, 2, 3, 4, 5],\n",
       " [2, 3, 4, 5, 1],\n",
       " [3, 4, 5, 1, 2],\n",
       " [4, 5, 1, 2, 3],\n",
       " [5, 1, 2, 3, 4]]"
      ]
     },
     "execution_count": 16,
     "metadata": {},
     "output_type": "execute_result"
    }
   ],
   "source": [
    "# 크 'ㅡ'\n",
    "def make_array(n):\n",
    "    \n",
    "    array = [[0] * n for i in range(n)]\n",
    "    array\n",
    "    for i in range(n):\n",
    "        for j in range(n):\n",
    "            if i == 0: \n",
    "                array[i][j%n] = j+1\n",
    "            else:\n",
    "                if j+1 > n-1:\n",
    "                    array[i][j%n] = array[i-1][j-(n-1)]      \n",
    "                else:\n",
    "                    array[i][j%n] = array[i-1][j+1]\n",
    "    return array\n",
    "make_array(5)"
   ]
  },
  {
   "cell_type": "code",
   "execution_count": null,
   "metadata": {},
   "outputs": [],
   "source": [
    "# 245 숫자(n)이 입력되면 다음과 같은 규칙을 만들어내는 배열을 만드시오 \n",
    "\n",
    "\n",
    "# Entered number: 3\n",
    "# ex) 1 | 6 | 7\n",
    "#     2 | 5 | 8\n",
    "#     3 | 4 | 9\n",
    "\n",
    "\n",
    "# Entered number: 5\n",
    "#     1 | 10 | 11 | 20| 21\n",
    "#     2 | 9 | 12 | 19| 22\n",
    "#     3 | 8 | 13 | 18| 23\n",
    "#     4 | 7 | 14 | 17| 24\n",
    "#     5 | 6 | 15 | 16| 25"
   ]
  },
  {
   "cell_type": "code",
   "execution_count": null,
   "metadata": {},
   "outputs": [],
   "source": [
    "# 내풀이\n",
    "def fun_array(n):\n",
    "    array = [[0] * n for i in range(n)]\n",
    "\n",
    "    for i in range(n):\n",
    "        for j in range(n):\n",
    "            if i == 0:\n",
    "                array[j][i] = j+1\n",
    "\n",
    "            elif i != 0 and i % 2 != 0:\n",
    "                if j == 0:\n",
    "                    array[-j-1][i] = array[-j-1][i-1] + 1\n",
    "                else:\n",
    "                    array[-j-1][i] = array[-j][i] + 1\n",
    "            else:\n",
    "                if j == 0:\n",
    "                    array[j][i] = array[j][i-1] + 1\n",
    "                else:\n",
    "                    array[j][i] = array[j-1][i] + 1\n",
    "    return array\n",
    "fun_array(5)"
   ]
  },
  {
   "cell_type": "code",
   "execution_count": 16,
   "metadata": {},
   "outputs": [
    {
     "name": "stdout",
     "output_type": "stream",
     "text": [
      "insert number5\n",
      "    1   10   11   20   21\n",
      "    2    9   12   19   22\n",
      "    3    8   13   18   23\n",
      "    4    7   14   17   24\n",
      "    5    6   15   16   25\n"
     ]
    }
   ],
   "source": [
    "n = int(input(\"insert number\"))\n",
    "array = [[0] * n for i in range(n)]\n",
    "\n",
    "k = 1\n",
    "for i in range(n):\n",
    "    if i % 2 == 0:\n",
    "        for j in range(n):\n",
    "            array[j][i] = k\n",
    "            k += 1\n",
    "            \n",
    "    else:\n",
    "        for j in range(n - 1, -1, -1):\n",
    "            array[j][i] = k\n",
    "            k += 1\n",
    "            \n",
    "def printarray(array):\n",
    "    for i in range(len(array)):\n",
    "        for j in range(len(array[0])):\n",
    "            print(\"%5d\" %array[i][j], end = \"\")\n",
    "        print()\n",
    "        \n",
    "printarray(array)"
   ]
  },
  {
   "cell_type": "code",
   "execution_count": 1,
   "metadata": {},
   "outputs": [
    {
     "data": {
      "text/plain": [
       "[[1, 10, 11, 20, 21],\n",
       " [2, 9, 12, 19, 22],\n",
       " [3, 8, 13, 18, 23],\n",
       " [4, 7, 14, 17, 24],\n",
       " [5, 6, 15, 16, 25]]"
      ]
     },
     "execution_count": 1,
     "metadata": {},
     "output_type": "execute_result"
    }
   ],
   "source": [
    "\n",
    "n = 5\n",
    "array = [[0] * n for i in range(n)]\n",
    "\n",
    "a = 1\n",
    "for i in range(n):\n",
    "    if i % 2 == 0:\n",
    "        for j in range(n):\n",
    "            array[j][i] = a\n",
    "            a += 1\n",
    "    else:\n",
    "        for j in range(n):\n",
    "            array[-j-1][i] = a\n",
    "            a += 1\n",
    "array"
   ]
  },
  {
   "cell_type": "code",
   "execution_count": null,
   "metadata": {},
   "outputs": [],
   "source": [
    "#246 숫자(n)이 입력되면 다음과 같은 규칙을 만들어내는 배열을 만드시오 \n",
    "\n",
    "\n",
    "# Entered number: 3\n",
    "# ex) 1 | 2 | 3\n",
    "#     6 | 5 | 4\n",
    "#     9 | 8 | 7\n",
    "\n",
    "\n",
    "# Entered number: 5\n",
    "#     1  | 2 | 3   | 4 | 5\n",
    "#     10 | 9 | 8  | 7 | 6\n",
    "#     11 | 12| 13 | 14| 15\n",
    "#     20 | 19| 18 | 17| 16\n",
    "#     21 | 22| 23 | 24| 25"
   ]
  },
  {
   "cell_type": "code",
   "execution_count": null,
   "metadata": {},
   "outputs": [],
   "source": [
    "# 내 풀이\n",
    "def fun_array(n):\n",
    "    array = [[0] * n for i in range(n)]\n",
    "\n",
    "    for i in range(n):\n",
    "        for j in range(n):\n",
    "            if i == 0:\n",
    "                array[i][j] = j+1\n",
    "\n",
    "            elif i != 0 and i % 2 != 0:\n",
    "                if j == 0:\n",
    "                    array[i][-j-1] = array[i-1][-j-1] + 1\n",
    "                else:\n",
    "                    array[i][-j-1] = array[i][-j] + 1\n",
    "            else:\n",
    "                if j == 0:\n",
    "                    array[i][j] = array[i-1][j] + 1\n",
    "                else:\n",
    "                    array[i][j] = array[i][j-1] + 1\n",
    "    return array\n",
    "fun_array(5)"
   ]
  },
  {
   "cell_type": "code",
   "execution_count": null,
   "metadata": {},
   "outputs": [],
   "source": [
    "array = [[0] * 5 for i in range(5)]\n",
    "\n",
    "for i in range(5):\n",
    "    for j in range(5):\n",
    "        if i == 0:\n",
    "            array[i][j] = j+1\n",
    "    \n",
    "        elif i != 0 and i % 2 != 0:\n",
    "            if j == 0:\n",
    "                array[i][-j-1] = array[i-1][-j-1] + 1\n",
    "            else:\n",
    "                array[i][-j-1] = array[i][-j] + 1\n",
    "        else:\n",
    "            if j == 0:\n",
    "                array[i][j] = array[i-1][j] + 1\n",
    "            else:\n",
    "                array[i][j] = array[i][j-1] + 1\n",
    "array"
   ]
  },
  {
   "cell_type": "code",
   "execution_count": 3,
   "metadata": {},
   "outputs": [
    {
     "name": "stdout",
     "output_type": "stream",
     "text": [
      "insert number5\n",
      "    1    2    3    4    5\n",
      "   10    9    8    7    6\n",
      "   11   12   13   14   15\n",
      "   20   19   18   17   16\n",
      "   21   22   23   24   25\n"
     ]
    }
   ],
   "source": [
    "n = int(input(\"insert number\"))\n",
    "array = [[0] * n for i in range(n)]\n",
    "\n",
    "k = 1\n",
    "for i in range(n):\n",
    "    if i % 2 == 0:\n",
    "        for j in range(n):\n",
    "            array[i][j] = k\n",
    "            k += 1\n",
    "            \n",
    "    else:\n",
    "        for j in range(n - 1, -1, -1):\n",
    "            array[i][j] = k\n",
    "            k += 1\n",
    "            \n",
    "def printarray(array):\n",
    "    for i in range(len(array)):\n",
    "        for j in range(len(array[0])):\n",
    "            print(\"%5d\" %array[i][j], end = \"\")\n",
    "        print()\n",
    "        \n",
    "printarray(array)"
   ]
  },
  {
   "cell_type": "code",
   "execution_count": null,
   "metadata": {},
   "outputs": [],
   "source": [
    "#247 숫자(n), (m)이 입력되면 다음과 같은 규칙을 만들어내는 배열을 만드시오 \n",
    "\n",
    "# Entered number: 3 4\n",
    "# ex) 1 | 2 | 4 | 7\n",
    "#     3 | 5 | 8 | 10\n",
    "#     6 | 9 | 11| 12\n",
    "\n",
    "\n",
    "# Entered number: 4 5\n",
    "#     1 | 2  | 4   | 7 | 11\n",
    "#     3 | 5  | 8  | 12 | 15\n",
    "#     6 | 9 | 13 | 16 | 18\n",
    "#     10|14| 17 | 19 | 20\n"
   ]
  },
  {
   "cell_type": "code",
   "execution_count": 5,
   "metadata": {},
   "outputs": [
    {
     "name": "stdout",
     "output_type": "stream",
     "text": [
      "Enter the number: 3 4\n"
     ]
    }
   ],
   "source": [
    "n, m = input(\"Enter the number: \").split(\" \")\n",
    "n, m = int(n), int(m)"
   ]
  },
  {
   "cell_type": "code",
   "execution_count": 7,
   "metadata": {},
   "outputs": [],
   "source": [
    "array = [[0] * m for i in range(n)]"
   ]
  },
  {
   "cell_type": "code",
   "execution_count": 8,
   "metadata": {},
   "outputs": [
    {
     "data": {
      "text/plain": [
       "[[0, 0, 0, 0], [0, 0, 0, 0], [0, 0, 0, 0]]"
      ]
     },
     "execution_count": 8,
     "metadata": {},
     "output_type": "execute_result"
    }
   ],
   "source": [
    "array"
   ]
  },
  {
   "cell_type": "code",
   "execution_count": null,
   "metadata": {},
   "outputs": [],
   "source": []
  }
 ],
 "metadata": {
  "kernelspec": {
   "display_name": "Python 3",
   "language": "python",
   "name": "python3"
  },
  "language_info": {
   "codemirror_mode": {
    "name": "ipython",
    "version": 3
   },
   "file_extension": ".py",
   "mimetype": "text/x-python",
   "name": "python",
   "nbconvert_exporter": "python",
   "pygments_lexer": "ipython3",
   "version": "3.7.4"
  }
 },
 "nbformat": 4,
 "nbformat_minor": 2
}
