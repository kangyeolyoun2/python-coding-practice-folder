{
 "cells": [
  {
   "cell_type": "code",
   "execution_count": 28,
   "metadata": {},
   "outputs": [
    {
     "name": "stdout",
     "output_type": "stream",
     "text": [
      "x?42\n",
      "y?50\n",
      "dot is insa rectangle\n"
     ]
    }
   ],
   "source": [
    "x = int(input(\"x?\"))\n",
    "y = int(input(\"y?\"))\n",
    "\n",
    "if x > 40 and x < 100 and y<80 and y>40:\n",
    "    print(\"dot is insa rectangle\")\n",
    "else:\n",
    "    print(\"dot is not in rectangle\")\n",
    "    "
   ]
  },
  {
   "cell_type": "code",
   "execution_count": 30,
   "metadata": {},
   "outputs": [
    {
     "name": "stdout",
     "output_type": "stream",
     "text": [
      "sentenceApple is deliscious\n",
      "Good Sentence\n"
     ]
    }
   ],
   "source": [
    "a = input(\"sentence\")\n",
    "\n",
    "if a[0] in \"aeiouAEIOU\":\n",
    "    print(\"Good Sentence\")\n",
    "else:\n",
    "    print(\"not good\")"
   ]
  },
  {
   "cell_type": "code",
   "execution_count": 31,
   "metadata": {},
   "outputs": [],
   "source": [
    "colors = [\"red\", \"orange\", \"blue\", \"green\", \"white\", \"black\", \"dark blue\", \"purple\"]"
   ]
  },
  {
   "cell_type": "code",
   "execution_count": 39,
   "metadata": {},
   "outputs": [
    {
     "data": {
      "text/plain": [
       "['red',\n",
       " 'orange',\n",
       " 'blue',\n",
       " 'green',\n",
       " 'white',\n",
       " 'black',\n",
       " 'dark blue',\n",
       " 'purple',\n",
       " 'pink']"
      ]
     },
     "execution_count": 39,
     "metadata": {},
     "output_type": "execute_result"
    }
   ],
   "source": [
    "colors"
   ]
  },
  {
   "cell_type": "code",
   "execution_count": 41,
   "metadata": {},
   "outputs": [
    {
     "name": "stdout",
     "output_type": "stream",
     "text": [
      "Enter the color : pika?\n",
      "['red', 'orange', 'blue', 'green', 'white', 'black', 'dark blue', 'purple', 'pink', 'pikachu', 'pika?']\n"
     ]
    }
   ],
   "source": [
    "a = input(\"Enter the color : \")\n",
    "\n",
    "if a not in colors:\n",
    "    colors.append(a)\n",
    "    print(colors)\n",
    "else:\n",
    "    print(\"Sorry\")\n",
    "    \n",
    "\n"
   ]
  },
  {
   "cell_type": "code",
   "execution_count": null,
   "metadata": {},
   "outputs": [],
   "source": []
  },
  {
   "cell_type": "code",
   "execution_count": 44,
   "metadata": {},
   "outputs": [],
   "source": [
    "from random import randrange"
   ]
  },
  {
   "cell_type": "code",
   "execution_count": null,
   "metadata": {},
   "outputs": [],
   "source": []
  },
  {
   "cell_type": "code",
   "execution_count": 48,
   "metadata": {},
   "outputs": [
    {
     "data": {
      "text/plain": [
       "21"
      ]
     },
     "execution_count": 48,
     "metadata": {},
     "output_type": "execute_result"
    }
   ],
   "source": [
    "n = randrange(1, 100)"
   ]
  },
  {
   "cell_type": "code",
   "execution_count": 56,
   "metadata": {},
   "outputs": [
    {
     "name": "stdout",
     "output_type": "stream",
     "text": [
      "Guess number b/w 1-99. Your answer is :10\n",
      "Choose higher number\n",
      "Guess number b/w 1-99. Your answer is :50\n",
      "Choose higher number\n",
      "Guess number b/w 1-99. Your answer is :70\n",
      "Choose lower number\n",
      "Guess number b/w 1-99. Your answer is :60\n",
      "Choose higher number\n",
      "Guess number b/w 1-99. Your answer is :65\n",
      "Choose lower number\n",
      "Guess number b/w 1-99. Your answer is :63\n",
      "Choose lower number\n",
      "Guess number b/w 1-99. Your answer is :62\n",
      "Choose lower number\n",
      "Guess number b/w 1-99. Your answer is :61\n",
      "Correct!\n"
     ]
    }
   ],
   "source": [
    "while True:\n",
    "    ans1 = int(input(\"Guess number b/w 1-99. Your answer is :\"))\n",
    "    if n == ans1:\n",
    "        print(\"Correct!\")\n",
    "        break\n",
    "    elif n > ans1:\n",
    "        print(\"Choose higher number\")\n",
    "    elif n < ans1 :\n",
    "        print(\"Choose lower number\")"
   ]
  },
  {
   "cell_type": "code",
   "execution_count": null,
   "metadata": {},
   "outputs": [],
   "source": []
  },
  {
   "cell_type": "code",
   "execution_count": 57,
   "metadata": {},
   "outputs": [],
   "source": [
    "from random import random"
   ]
  },
  {
   "cell_type": "code",
   "execution_count": 104,
   "metadata": {},
   "outputs": [
    {
     "data": {
      "text/plain": [
       "4.4"
      ]
     },
     "execution_count": 104,
     "metadata": {},
     "output_type": "execute_result"
    }
   ],
   "source": [
    "round(random() * 10,1)"
   ]
  },
  {
   "cell_type": "code",
   "execution_count": null,
   "metadata": {},
   "outputs": [],
   "source": []
  },
  {
   "cell_type": "code",
   "execution_count": 1,
   "metadata": {},
   "outputs": [
    {
     "name": "stdout",
     "output_type": "stream",
     "text": [
      "two integers. must be spearated by space42 17\n"
     ]
    },
    {
     "data": {
      "text/plain": [
       "[42, 17]"
      ]
     },
     "execution_count": 1,
     "metadata": {},
     "output_type": "execute_result"
    }
   ],
   "source": [
    "a = input(\"two integers. must be spearated by space\").split(\" \")\n",
    "a = list(map(int, a))\n",
    "a"
   ]
  },
  {
   "cell_type": "code",
   "execution_count": 6,
   "metadata": {},
   "outputs": [],
   "source": [
    "from random import randrange"
   ]
  },
  {
   "cell_type": "code",
   "execution_count": 83,
   "metadata": {},
   "outputs": [
    {
     "name": "stdout",
     "output_type": "stream",
     "text": [
      "two integers. must be spearated by space17 42\n",
      "30\n"
     ]
    }
   ],
   "source": [
    "from random import randrange\n",
    "a = input(\"two integers. must be spearated by space\").split(\" \")\n",
    "a = list(map(int, a))\n",
    "\n",
    "\n",
    "if min(a) == max(a):\n",
    "    print(\"no integer b/w two numbers\")\n",
    "else:\n",
    "    b = randrange(min(a)+1, max(a))\n",
    "    print(b)"
   ]
  },
  {
   "cell_type": "code",
   "execution_count": 93,
   "metadata": {},
   "outputs": [],
   "source": [
    "four_number = []\n",
    "\n",
    "for i in range(4):\n",
    "    a = randrange(10, 21)\n",
    "    four_number.append(a)"
   ]
  },
  {
   "cell_type": "code",
   "execution_count": 96,
   "metadata": {},
   "outputs": [
    {
     "data": {
      "text/plain": [
       "[17, 12, 20, 17]"
      ]
     },
     "execution_count": 96,
     "metadata": {},
     "output_type": "execute_result"
    }
   ],
   "source": [
    "four_number"
   ]
  },
  {
   "cell_type": "code",
   "execution_count": 95,
   "metadata": {},
   "outputs": [
    {
     "data": {
      "text/plain": [
       "14.25"
      ]
     },
     "execution_count": 95,
     "metadata": {},
     "output_type": "execute_result"
    }
   ],
   "source": []
  },
  {
   "cell_type": "code",
   "execution_count": 97,
   "metadata": {},
   "outputs": [
    {
     "name": "stdout",
     "output_type": "stream",
     "text": [
      "Big\n"
     ]
    }
   ],
   "source": [
    "average = sum(four_number)/len(four_number)\n",
    "\n",
    "if average >= 15:\n",
    "    print(\"Big\")\n",
    "else:\n",
    "    print(\"Small\")"
   ]
  },
  {
   "cell_type": "code",
   "execution_count": 99,
   "metadata": {},
   "outputs": [
    {
     "name": "stdout",
     "output_type": "stream",
     "text": [
      "level1 insert number b/w 1 and 21\n",
      "Correct!\n",
      "level2 insert number b/w 1 and 42\n",
      "Failure\n",
      "Answer was:  1\n"
     ]
    }
   ],
   "source": [
    "min_n = 1\n",
    "max_n = 2\n",
    "level = 0\n",
    "\n",
    "while level<3:\n",
    "    level += 1\n",
    "    ans = randrange(min_n, max_n+1)\n",
    "    num = int(input(\"level {} insert number b/w {} and {}: \".format(level, min_n, max_n)))\n",
    "    if ans == num:\n",
    "        print(\"Correct!\")\n",
    "        max_n=max_n*2\n",
    "    else:\n",
    "        print(\"Failure\")\n",
    "        print(\"Answer was: \", ans)\n",
    "        break\n",
    "    if max_n > 8:\n",
    "        print(\"Lucky!\")"
   ]
  },
  {
   "cell_type": "code",
   "execution_count": 101,
   "metadata": {},
   "outputs": [],
   "source": [
    "from random import shuffle"
   ]
  },
  {
   "cell_type": "code",
   "execution_count": 114,
   "metadata": {},
   "outputs": [],
   "source": [
    "cars = [\"Hyundai\", \"Kia\", \"BMW\", \"Benz\"]\n"
   ]
  },
  {
   "cell_type": "code",
   "execution_count": 120,
   "metadata": {},
   "outputs": [
    {
     "data": {
      "text/plain": [
       "['Kia', 'Benz', 'BMW', 'Hyundai']"
      ]
     },
     "execution_count": 120,
     "metadata": {},
     "output_type": "execute_result"
    }
   ],
   "source": [
    "shuffle(cars)\n",
    "cars"
   ]
  },
  {
   "cell_type": "code",
   "execution_count": 134,
   "metadata": {},
   "outputs": [
    {
     "name": "stdout",
     "output_type": "stream",
     "text": [
      "False\n",
      "['Kia', 'Benz', 'Hyundai', 'BMW']\n"
     ]
    }
   ],
   "source": [
    "from random import shuffle\n",
    "cars = [\"Hyundai\", \"Kia\", \"BMW\", \"Benz\"]\n",
    "shuffle(cars)\n",
    "if cars[0] == \"Hyundai\":\n",
    "    print(\"True\")\n",
    "    print(cars)\n",
    "else:\n",
    "    print(\"False\")\n",
    "    print(cars)"
   ]
  },
  {
   "cell_type": "code",
   "execution_count": null,
   "metadata": {},
   "outputs": [],
   "source": []
  },
  {
   "cell_type": "code",
   "execution_count": null,
   "metadata": {},
   "outputs": [],
   "source": []
  },
  {
   "cell_type": "code",
   "execution_count": null,
   "metadata": {},
   "outputs": [],
   "source": []
  },
  {
   "cell_type": "code",
   "execution_count": null,
   "metadata": {},
   "outputs": [],
   "source": []
  },
  {
   "cell_type": "code",
   "execution_count": null,
   "metadata": {},
   "outputs": [],
   "source": []
  }
 ],
 "metadata": {
  "kernelspec": {
   "display_name": "Python 3",
   "language": "python",
   "name": "python3"
  },
  "language_info": {
   "codemirror_mode": {
    "name": "ipython",
    "version": 3
   },
   "file_extension": ".py",
   "mimetype": "text/x-python",
   "name": "python",
   "nbconvert_exporter": "python",
   "pygments_lexer": "ipython3",
   "version": "3.7.4"
  }
 },
 "nbformat": 4,
 "nbformat_minor": 2
}
