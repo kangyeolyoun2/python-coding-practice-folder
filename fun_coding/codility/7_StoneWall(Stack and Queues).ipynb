{
 "cells": [
  {
   "cell_type": "markdown",
   "metadata": {},
   "source": [
    "<img src=\"./imgs/7_StoneWall(Stack and Ques).png\" width=\"100%\">"
   ]
  },
  {
   "cell_type": "code",
   "execution_count": 7,
   "metadata": {},
   "outputs": [],
   "source": [
    "# O(N)\n",
    "def solution(H):\n",
    "    if len(H) == 1:\n",
    "        return 1\n",
    "    \n",
    "    count = 1\n",
    "    stack = [H[0]]\n",
    "    for data in H:\n",
    "        if data > stack[-1]:\n",
    "            stack.append(data)\n",
    "            count += 1\n",
    "        elif data < stack[-1]:\n",
    "            last = stack.pop()\n",
    "            while last > data:\n",
    "                if len(stack) == 0:\n",
    "                    break\n",
    "                last = stack.pop()\n",
    "            count += 1\n",
    "            if data > last:\n",
    "                stack.append(last)\n",
    "            elif data == last:\n",
    "                count -= 1\n",
    "            stack.append(data)\n",
    "        print(stack)\n",
    "            \n",
    "    return count\n",
    "    "
   ]
  },
  {
   "cell_type": "code",
   "execution_count": 8,
   "metadata": {},
   "outputs": [],
   "source": [
    "H = [8, 8, 5, 7, 9, 8, 7, 4, 8]"
   ]
  },
  {
   "cell_type": "code",
   "execution_count": 9,
   "metadata": {},
   "outputs": [
    {
     "name": "stdout",
     "output_type": "stream",
     "text": [
      "[8]\n",
      "[8]\n",
      "[5]\n",
      "[5, 7]\n",
      "[5, 7, 9]\n",
      "[5, 7, 8]\n",
      "[5, 7]\n",
      "[4]\n",
      "[4, 8]\n"
     ]
    },
    {
     "data": {
      "text/plain": [
       "7"
      ]
     },
     "execution_count": 9,
     "metadata": {},
     "output_type": "execute_result"
    }
   ],
   "source": [
    "solution(H)"
   ]
  },
  {
   "cell_type": "code",
   "execution_count": null,
   "metadata": {},
   "outputs": [],
   "source": [
    "# 문제 해설 -_-;\n",
    "https://killong.blogspot.com/2019/04/\n",
    "# 문제 이해하는데만 너무 오래 걸린듯 -_-"
   ]
  },
  {
   "cell_type": "code",
   "execution_count": null,
   "metadata": {},
   "outputs": [],
   "source": []
  },
  {
   "cell_type": "code",
   "execution_count": null,
   "metadata": {},
   "outputs": [],
   "source": []
  },
  {
   "cell_type": "code",
   "execution_count": null,
   "metadata": {},
   "outputs": [],
   "source": []
  }
 ],
 "metadata": {
  "kernelspec": {
   "display_name": "Python 3",
   "language": "python",
   "name": "python3"
  },
  "language_info": {
   "codemirror_mode": {
    "name": "ipython",
    "version": 3
   },
   "file_extension": ".py",
   "mimetype": "text/x-python",
   "name": "python",
   "nbconvert_exporter": "python",
   "pygments_lexer": "ipython3",
   "version": "3.7.6"
  }
 },
 "nbformat": 4,
 "nbformat_minor": 2
}
