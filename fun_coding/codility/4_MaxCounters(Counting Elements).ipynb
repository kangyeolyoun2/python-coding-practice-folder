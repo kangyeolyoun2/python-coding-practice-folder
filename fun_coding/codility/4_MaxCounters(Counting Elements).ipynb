{
 "cells": [
  {
   "cell_type": "markdown",
   "metadata": {},
   "source": [
    "<img src=\"./imgs/4_MaxCounters.png\" width=\"80%\">"
   ]
  },
  {
   "cell_type": "code",
   "execution_count": 28,
   "metadata": {},
   "outputs": [],
   "source": [
    "# O(N*M) first try. correctness 100%\n",
    "def solution(N,A):\n",
    "    \n",
    "    array = [0 for i in range(N)]\n",
    "    \n",
    "    for i in A:\n",
    "        if i > N:\n",
    "            array = [max(array)] * N\n",
    "        else:\n",
    "            array[i-1] += 1\n",
    "    return array"
   ]
  },
  {
   "cell_type": "code",
   "execution_count": 29,
   "metadata": {},
   "outputs": [
    {
     "data": {
      "text/plain": [
       "[3, 2, 2, 4, 2]"
      ]
     },
     "execution_count": 29,
     "metadata": {},
     "output_type": "execute_result"
    }
   ],
   "source": [
    "solution(5, [3,4,4,6,1,4,4])"
   ]
  },
  {
   "cell_type": "code",
   "execution_count": 117,
   "metadata": {},
   "outputs": [],
   "source": [
    "# O(N+M) 10th try? lol \n",
    "def solution(N,A):\n",
    "    import copy\n",
    "    array = [0 for i in range(N)]\n",
    "    max_i = 0\n",
    "    min_i = 0\n",
    "    \n",
    "    for i in A:\n",
    "\n",
    "        if i > N:\n",
    "            min_i = max_i\n",
    "        \n",
    "        else:        \n",
    "            array[i-1] = max(array[i-1], min_i)+1\n",
    "            \n",
    "            if array[i-1] > max_i:\n",
    "                max_i = array[i-1]\n",
    "#         print(array,min_i)\n",
    "        \n",
    "    for i in range(N):\n",
    "        array[i] = max(min_i, array[i])\n",
    "        \n",
    "        \n",
    "    \n",
    "    return array"
   ]
  },
  {
   "cell_type": "code",
   "execution_count": 118,
   "metadata": {},
   "outputs": [
    {
     "data": {
      "text/plain": [
       "[3, 2, 2, 4, 2]"
      ]
     },
     "execution_count": 118,
     "metadata": {},
     "output_type": "execute_result"
    }
   ],
   "source": [
    "solution(5,[3,4,4,6,1,4,4])"
   ]
  },
  {
   "cell_type": "code",
   "execution_count": 69,
   "metadata": {},
   "outputs": [
    {
     "data": {
      "text/plain": [
       "5"
      ]
     },
     "execution_count": 69,
     "metadata": {},
     "output_type": "execute_result"
    }
   ],
   "source": [
    "a = [1,2,3,4,5]\n",
    "max(a)"
   ]
  },
  {
   "cell_type": "code",
   "execution_count": 33,
   "metadata": {},
   "outputs": [
    {
     "data": {
      "text/plain": [
       "[3, 2, 2, 4, 2]"
      ]
     },
     "execution_count": 33,
     "metadata": {},
     "output_type": "execute_result"
    }
   ],
   "source": [
    "solution(5,[3,4,4,6,1,4,4])"
   ]
  },
  {
   "cell_type": "code",
   "execution_count": null,
   "metadata": {},
   "outputs": [],
   "source": []
  },
  {
   "cell_type": "code",
   "execution_count": null,
   "metadata": {},
   "outputs": [],
   "source": []
  },
  {
   "cell_type": "code",
   "execution_count": null,
   "metadata": {},
   "outputs": [],
   "source": []
  }
 ],
 "metadata": {
  "kernelspec": {
   "display_name": "Python 3",
   "language": "python",
   "name": "python3"
  },
  "language_info": {
   "codemirror_mode": {
    "name": "ipython",
    "version": 3
   },
   "file_extension": ".py",
   "mimetype": "text/x-python",
   "name": "python",
   "nbconvert_exporter": "python",
   "pygments_lexer": "ipython3",
   "version": "3.7.3"
  }
 },
 "nbformat": 4,
 "nbformat_minor": 2
}
