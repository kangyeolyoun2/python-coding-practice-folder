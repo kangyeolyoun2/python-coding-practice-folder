{
 "cells": [
  {
   "cell_type": "markdown",
   "metadata": {},
   "source": [
    "<img src=\"./imgs/4_FrogRiverOne.png\" width=\"60%\">"
   ]
  },
  {
   "cell_type": "code",
   "execution_count": 1,
   "metadata": {},
   "outputs": [],
   "source": [
    "A = [1,3,1,4,2,3,5,4]"
   ]
  },
  {
   "cell_type": "code",
   "execution_count": 12,
   "metadata": {},
   "outputs": [],
   "source": [
    "# O(N ** 2) 1st try.. (correctness = 100%)\n",
    "\n",
    "def solution(X, A):\n",
    "    array = [0] * X\n",
    "    \n",
    "    if len(A) < X:\n",
    "        return -1\n",
    "    \n",
    "    for i,v in enumerate(A):\n",
    "        array[v-1] = 1\n",
    "        if 0 not in array:\n",
    "            return(i)\n",
    "    return -1"
   ]
  },
  {
   "cell_type": "code",
   "execution_count": 31,
   "metadata": {},
   "outputs": [],
   "source": [
    "# O(N) 2nd try\n",
    "\n",
    "def solution(X,A):\n",
    "    \n",
    "    if len(A) < X:\n",
    "        return -1\n",
    "    \n",
    "    # 아니 array를 []로 만들면 N**2이고 {}로 만들면 O(N)이네;?\n",
    "    array = {i+1 for i in range(X)}\n",
    "    for i,v in enumerate(A):\n",
    "        \n",
    "        if v in array:\n",
    "            array.remove(v)\n",
    "        \n",
    "        if not array:\n",
    "            return i\n",
    "    return -1"
   ]
  },
  {
   "cell_type": "markdown",
   "metadata": {},
   "source": [
    "# set, list differences...\n",
    "\n",
    "list.remove(x) Remove the first item from the list whose value is x. It is an error if there is no such item.\n",
    "\n",
    "Without going into the details of the implementation, the item to remove can be anywhere in the list. A linear scan time is necessary in order to find the item before it can be removed. Once you find the index of the item to remove, you need to shift all the elements down by one index. In any case there's index amount of traversal and size - index amount of shifting involved. Therefore the removal time is equivalent to traversing the entire list: O(n).\n",
    "\n",
    "You can find the source here: https://hg.python.org/cpython/file/tip/Objects/listobject.c#l2197 (also look for list_ass_slice(..)).\n",
    "\n",
    "However, a set is different. It uses the hash value of the object being stored to locate it in its buckets. On an average, locating of objects using hash value is almost constant time. Note that it might not always be constant time where there's hash collision and a further search is required. But assuming a good hash function, it usually is.\n",
    "\n",
    "UPDATE: I must thank Stefan Pochmann for pointing out the mistake.\n",
    "\n",
    "https://stackoverflow.com/questions/41092759/python-2-7-set-and-list-remove-time-complexity"
   ]
  },
  {
   "cell_type": "code",
   "execution_count": null,
   "metadata": {},
   "outputs": [],
   "source": []
  }
 ],
 "metadata": {
  "kernelspec": {
   "display_name": "Python 3",
   "language": "python",
   "name": "python3"
  },
  "language_info": {
   "codemirror_mode": {
    "name": "ipython",
    "version": 3
   },
   "file_extension": ".py",
   "mimetype": "text/x-python",
   "name": "python",
   "nbconvert_exporter": "python",
   "pygments_lexer": "ipython3",
   "version": "3.7.6"
  }
 },
 "nbformat": 4,
 "nbformat_minor": 2
}
