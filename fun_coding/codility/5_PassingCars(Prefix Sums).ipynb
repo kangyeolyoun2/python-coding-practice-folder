{
 "cells": [
  {
   "cell_type": "markdown",
   "metadata": {},
   "source": [
    "<img src=\"./imgs/5_PassingCars.png\" width=\"60%\">"
   ]
  },
  {
   "cell_type": "code",
   "execution_count": 22,
   "metadata": {},
   "outputs": [],
   "source": [
    "# O(N**2) -_-;\n",
    "def solution(A):\n",
    "    count = 0\n",
    "    \n",
    "    a = {0:1}\n",
    "    while 0 in A:\n",
    "        b = A.pop(0)\n",
    "        \n",
    "        if b == 0:\n",
    "            count += A.count(a[b])\n",
    "    return count"
   ]
  },
  {
   "cell_type": "code",
   "execution_count": 58,
   "metadata": {},
   "outputs": [
    {
     "data": {
      "text/plain": [
       "0"
      ]
     },
     "execution_count": 58,
     "metadata": {},
     "output_type": "execute_result"
    }
   ],
   "source": [
    "\n",
    "solution([1,0])"
   ]
  },
  {
   "cell_type": "code",
   "execution_count": 56,
   "metadata": {},
   "outputs": [],
   "source": [
    "# O(N) really sick of for loops;\n",
    "def solution(A):\n",
    "    count = 0\n",
    "    sum_A = 0\n",
    "    \n",
    "    for i in A:\n",
    "        \n",
    "        if i == 0:\n",
    "            sum_A += 1\n",
    "        else:\n",
    "            count += sum_A\n",
    "    if count > 1000000000:\n",
    "        return -1\n",
    "    return count\n",
    "        \n",
    "            "
   ]
  },
  {
   "cell_type": "code",
   "execution_count": 1,
   "metadata": {},
   "outputs": [],
   "source": [
    "a = {0:1, 1:0}"
   ]
  },
  {
   "cell_type": "code",
   "execution_count": 4,
   "metadata": {},
   "outputs": [
    {
     "data": {
      "text/plain": [
       "0"
      ]
     },
     "execution_count": 4,
     "metadata": {},
     "output_type": "execute_result"
    }
   ],
   "source": [
    "a[1]"
   ]
  },
  {
   "cell_type": "code",
   "execution_count": null,
   "metadata": {},
   "outputs": [],
   "source": []
  }
 ],
 "metadata": {
  "kernelspec": {
   "display_name": "Python 3",
   "language": "python",
   "name": "python3"
  },
  "language_info": {
   "codemirror_mode": {
    "name": "ipython",
    "version": 3
   },
   "file_extension": ".py",
   "mimetype": "text/x-python",
   "name": "python",
   "nbconvert_exporter": "python",
   "pygments_lexer": "ipython3",
   "version": "3.7.3"
  }
 },
 "nbformat": 4,
 "nbformat_minor": 2
}
