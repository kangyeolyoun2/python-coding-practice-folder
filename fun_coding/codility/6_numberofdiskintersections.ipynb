{
 "cells": [
  {
   "cell_type": "markdown",
   "metadata": {},
   "source": [
    "<img src=\"./imgs/6_numberofdiskintersections.png\" width=\"90%\">"
   ]
  },
  {
   "cell_type": "code",
   "execution_count": 109,
   "metadata": {},
   "outputs": [],
   "source": [
    "A = [1, 5, 2, 1, 4, 0]"
   ]
  },
  {
   "cell_type": "code",
   "execution_count": 110,
   "metadata": {},
   "outputs": [],
   "source": [
    "a = []\n",
    "for i,v in enumerate(A):\n",
    "    a.append([j for j in range(i-v,v+i+1)])"
   ]
  },
  {
   "cell_type": "code",
   "execution_count": 111,
   "metadata": {},
   "outputs": [
    {
     "data": {
      "text/plain": [
       "[[-1, 0, 1],\n",
       " [-4, -3, -2, -1, 0, 1, 2, 3, 4, 5, 6],\n",
       " [0, 1, 2, 3, 4],\n",
       " [2, 3, 4],\n",
       " [0, 1, 2, 3, 4, 5, 6, 7, 8],\n",
       " [5]]"
      ]
     },
     "execution_count": 111,
     "metadata": {},
     "output_type": "execute_result"
    }
   ],
   "source": [
    "a"
   ]
  },
  {
   "cell_type": "code",
   "execution_count": 117,
   "metadata": {},
   "outputs": [],
   "source": [
    "# O(N**2), but Performace == 0% lol\n",
    "def solution(A):\n",
    "    if len(A) > 100000:\n",
    "        return -1\n",
    "    \n",
    "    \n",
    "    a = []\n",
    "    for i,v in enumerate(A):\n",
    "        a.append([j for j in range(i-v,v+i+1)])\n",
    "\n",
    "    count = 0\n",
    "    while_count = 0\n",
    "    d = []\n",
    "    while while_count < len(A):\n",
    "        b = a.pop(0)\n",
    "        for i in a:\n",
    "            if any(j in b for j in i):\n",
    "                d.append([b,i])\n",
    "                count += 1\n",
    "        while_count += 1\n",
    "        a.append(b)\n",
    "        \n",
    "    answer = count // 2\n",
    "    return answer if answer <= 10000000 else -1"
   ]
  },
  {
   "cell_type": "code",
   "execution_count": null,
   "metadata": {},
   "outputs": [],
   "source": [
    "solution([1,2147483647,0])"
   ]
  },
  {
   "cell_type": "code",
   "execution_count": 114,
   "metadata": {},
   "outputs": [
    {
     "data": {
      "text/plain": [
       "[[[-1, 0, 1], [-4, -3, -2, -1, 0, 1, 2, 3, 4, 5, 6]],\n",
       " [[-1, 0, 1], [0, 1, 2, 3, 4]],\n",
       " [[-1, 0, 1], [0, 1, 2, 3, 4, 5, 6, 7, 8]],\n",
       " [[-4, -3, -2, -1, 0, 1, 2, 3, 4, 5, 6], [0, 1, 2, 3, 4]],\n",
       " [[-4, -3, -2, -1, 0, 1, 2, 3, 4, 5, 6], [2, 3, 4]],\n",
       " [[-4, -3, -2, -1, 0, 1, 2, 3, 4, 5, 6], [0, 1, 2, 3, 4, 5, 6, 7, 8]],\n",
       " [[-4, -3, -2, -1, 0, 1, 2, 3, 4, 5, 6], [5]],\n",
       " [[-4, -3, -2, -1, 0, 1, 2, 3, 4, 5, 6], [-1, 0, 1]],\n",
       " [[0, 1, 2, 3, 4], [2, 3, 4]],\n",
       " [[0, 1, 2, 3, 4], [0, 1, 2, 3, 4, 5, 6, 7, 8]],\n",
       " [[0, 1, 2, 3, 4], [-1, 0, 1]],\n",
       " [[0, 1, 2, 3, 4], [-4, -3, -2, -1, 0, 1, 2, 3, 4, 5, 6]],\n",
       " [[2, 3, 4], [0, 1, 2, 3, 4, 5, 6, 7, 8]],\n",
       " [[2, 3, 4], [-4, -3, -2, -1, 0, 1, 2, 3, 4, 5, 6]],\n",
       " [[2, 3, 4], [0, 1, 2, 3, 4]],\n",
       " [[0, 1, 2, 3, 4, 5, 6, 7, 8], [5]],\n",
       " [[0, 1, 2, 3, 4, 5, 6, 7, 8], [-1, 0, 1]],\n",
       " [[0, 1, 2, 3, 4, 5, 6, 7, 8], [-4, -3, -2, -1, 0, 1, 2, 3, 4, 5, 6]],\n",
       " [[0, 1, 2, 3, 4, 5, 6, 7, 8], [0, 1, 2, 3, 4]],\n",
       " [[0, 1, 2, 3, 4, 5, 6, 7, 8], [2, 3, 4]],\n",
       " [[5], [-4, -3, -2, -1, 0, 1, 2, 3, 4, 5, 6]],\n",
       " [[5], [0, 1, 2, 3, 4, 5, 6, 7, 8]]]"
      ]
     },
     "execution_count": 114,
     "metadata": {},
     "output_type": "execute_result"
    }
   ],
   "source": [
    "1, 2147483647, 0"
   ]
  },
  {
   "cell_type": "code",
   "execution_count": null,
   "metadata": {},
   "outputs": [],
   "source": []
  },
  {
   "cell_type": "code",
   "execution_count": null,
   "metadata": {},
   "outputs": [],
   "source": []
  },
  {
   "cell_type": "code",
   "execution_count": null,
   "metadata": {},
   "outputs": [],
   "source": []
  },
  {
   "cell_type": "code",
   "execution_count": null,
   "metadata": {},
   "outputs": [],
   "source": []
  },
  {
   "cell_type": "code",
   "execution_count": null,
   "metadata": {},
   "outputs": [],
   "source": []
  },
  {
   "cell_type": "code",
   "execution_count": null,
   "metadata": {},
   "outputs": [],
   "source": []
  }
 ],
 "metadata": {
  "kernelspec": {
   "display_name": "Python 3",
   "language": "python",
   "name": "python3"
  },
  "language_info": {
   "codemirror_mode": {
    "name": "ipython",
    "version": 3
   },
   "file_extension": ".py",
   "mimetype": "text/x-python",
   "name": "python",
   "nbconvert_exporter": "python",
   "pygments_lexer": "ipython3",
   "version": "3.7.6"
  }
 },
 "nbformat": 4,
 "nbformat_minor": 2
}
