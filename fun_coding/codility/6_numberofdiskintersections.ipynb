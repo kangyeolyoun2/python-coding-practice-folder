{
 "cells": [
  {
   "cell_type": "markdown",
   "metadata": {},
   "source": [
    "<img src=\"./imgs/6_numberofdiskintersections.png\" width=\"90%\">"
   ]
  },
  {
   "cell_type": "code",
   "execution_count": 109,
   "metadata": {},
   "outputs": [],
   "source": [
    "A = [1, 5, 2, 1, 4, 0]"
   ]
  },
  {
   "cell_type": "code",
   "execution_count": 110,
   "metadata": {},
   "outputs": [],
   "source": [
    "a = []\n",
    "for i,v in enumerate(A):\n",
    "    a.append([j for j in range(i-v,v+i+1)])"
   ]
  },
  {
   "cell_type": "code",
   "execution_count": 111,
   "metadata": {},
   "outputs": [
    {
     "data": {
      "text/plain": [
       "[[-1, 0, 1],\n",
       " [-4, -3, -2, -1, 0, 1, 2, 3, 4, 5, 6],\n",
       " [0, 1, 2, 3, 4],\n",
       " [2, 3, 4],\n",
       " [0, 1, 2, 3, 4, 5, 6, 7, 8],\n",
       " [5]]"
      ]
     },
     "execution_count": 111,
     "metadata": {},
     "output_type": "execute_result"
    }
   ],
   "source": [
    "a"
   ]
  },
  {
   "cell_type": "code",
   "execution_count": 117,
   "metadata": {},
   "outputs": [],
   "source": [
    "# 1st try. O(N**2), 87% correctness, Performace == 0% lol\n",
    "def solution(A):\n",
    "    if len(A) > 100000:\n",
    "        return -1\n",
    "    \n",
    "    \n",
    "    a = []\n",
    "    for i,v in enumerate(A):\n",
    "        a.append([j for j in range(i-v,v+i+1)])\n",
    "\n",
    "    count = 0\n",
    "    while_count = 0\n",
    "    d = []\n",
    "    while while_count < len(A):\n",
    "        b = a.pop(0)\n",
    "        for i in a:\n",
    "            if any(j in b for j in i):\n",
    "                d.append([b,i])\n",
    "                count += 1\n",
    "        while_count += 1\n",
    "        a.append(b)\n",
    "        \n",
    "    answer = count // 2\n",
    "    return answer if answer <= 10000000 else -1"
   ]
  },
  {
   "cell_type": "code",
   "execution_count": null,
   "metadata": {},
   "outputs": [],
   "source": []
  },
  {
   "cell_type": "code",
   "execution_count": 23,
   "metadata": {},
   "outputs": [],
   "source": [
    "A = [1, 5, 2, 1, 4, 0]"
   ]
  },
  {
   "cell_type": "code",
   "execution_count": 19,
   "metadata": {},
   "outputs": [
    {
     "data": {
      "text/plain": [
       "[(-1, 1), (-4, 6), (0, 4), (2, 4), (0, 8), (5, 5)]"
      ]
     },
     "execution_count": 19,
     "metadata": {},
     "output_type": "execute_result"
    }
   ],
   "source": [
    "a = []\n",
    "for i,v in enumerate(A):\n",
    "    a.append((i-v,v+i))\n",
    "a"
   ]
  },
  {
   "cell_type": "code",
   "execution_count": 20,
   "metadata": {},
   "outputs": [
    {
     "data": {
      "text/plain": [
       "int"
      ]
     },
     "execution_count": 20,
     "metadata": {},
     "output_type": "execute_result"
    }
   ],
   "source": [
    "type(a[0][0])"
   ]
  },
  {
   "cell_type": "code",
   "execution_count": 25,
   "metadata": {},
   "outputs": [],
   "source": [
    "# 2nd try O(N**2), 100% correctness, 0% performance \n",
    "def solution(A):\n",
    "    a = []\n",
    "    for i,v in enumerate(A):\n",
    "        a.append((i-v,v+i))\n",
    "\n",
    "    while_count = 0\n",
    "    count = 0\n",
    "    while while_count < len(A):\n",
    "        b = a.pop(0)\n",
    "        for i in a:\n",
    "            if (b[0] >= i[0] and b[0] <= i[1]) or (b[0] <= i[0] and b[1] >= i[0]):\n",
    "                count += 1\n",
    "\n",
    "        while_count += 1\n",
    "        a.append(b)\n",
    "    answer = count // 2\n",
    "    return answer if answer <= 10000000 else -1"
   ]
  },
  {
   "cell_type": "code",
   "execution_count": 35,
   "metadata": {},
   "outputs": [
    {
     "data": {
      "text/plain": [
       "2"
      ]
     },
     "execution_count": 35,
     "metadata": {},
     "output_type": "execute_result"
    }
   ],
   "source": [
    "solution([1, 2147483647, 0])"
   ]
  },
  {
   "cell_type": "code",
   "execution_count": 36,
   "metadata": {},
   "outputs": [
    {
     "data": {
      "text/plain": [
       "[(-1, 1), (-4, 6), (0, 4), (2, 4), (0, 8), (5, 5)]"
      ]
     },
     "execution_count": 36,
     "metadata": {},
     "output_type": "execute_result"
    }
   ],
   "source": [
    "a = []\n",
    "for i,v in enumerate(A):\n",
    "    a.append((i-v,v+i))\n",
    "a"
   ]
  },
  {
   "cell_type": "code",
   "execution_count": 33,
   "metadata": {},
   "outputs": [],
   "source": [
    "# 3rd\n",
    "def solution(A):\n",
    "\n",
    "    a = [(i-v, v+i) for i,v in enumerate(A)]\n",
    "    count = 0\n",
    "    for j in range(len(A)):\n",
    "        b = a.pop(0)\n",
    "        for i in a:     \n",
    "            if (b[0] >= i[0] and b[0] <= i[1]) or (b[0] <= i[0] and b[1] >= i[0]):\n",
    "                count += 1\n",
    "        a.append(b)\n",
    "    answer = count // 2\n",
    "    return answer if answer <= 10000000 else -1"
   ]
  },
  {
   "cell_type": "code",
   "execution_count": 34,
   "metadata": {},
   "outputs": [
    {
     "data": {
      "text/plain": [
       "11"
      ]
     },
     "execution_count": 34,
     "metadata": {},
     "output_type": "execute_result"
    }
   ],
   "source": [
    "solution([1, 5, 2, 1, 4, 0])"
   ]
  },
  {
   "cell_type": "code",
   "execution_count": 53,
   "metadata": {},
   "outputs": [
    {
     "data": {
      "text/plain": [
       "[(-1, 1), (-4, 6), (0, 4), (2, 4), (0, 8), (5, 5)]"
      ]
     },
     "execution_count": 53,
     "metadata": {},
     "output_type": "execute_result"
    }
   ],
   "source": [
    "a = [(i-v, v+i) for i,v in enumerate(A)]\n",
    "a"
   ]
  },
  {
   "cell_type": "code",
   "execution_count": null,
   "metadata": {},
   "outputs": [],
   "source": [
    "# 3rd\n",
    "def solution(A):\n",
    "\n",
    "    a = [(i-v, v+i) for i,v in enumerate(A)]\n",
    "    count = 0\n",
    "    for j in range(len(A)):\n",
    "        b = a.pop(0)\n",
    "        for i in a:     \n",
    "            if (b[0] >= i[0] and b[0] <= i[1]) or (b[0] <= i[0] and b[1] >= i[0]):\n",
    "                count += 1\n",
    "        a.append(b)\n",
    "    answer = count // 2\n",
    "    return answer if answer <= 10000000 else -1"
   ]
  },
  {
   "cell_type": "code",
   "execution_count": null,
   "metadata": {},
   "outputs": [],
   "source": []
  },
  {
   "cell_type": "code",
   "execution_count": 63,
   "metadata": {},
   "outputs": [],
   "source": [
    "A = [1, 5, 2, 1, 4, 0]\n",
    "\n",
    "a = []\n",
    "b = []\n",
    "for j,k in enumerate(A):\n",
    "    a.append(j-k)\n",
    "    b.append(j+k)\n",
    "a.sort()\n",
    "b.sort()"
   ]
  },
  {
   "cell_type": "code",
   "execution_count": 64,
   "metadata": {},
   "outputs": [
    {
     "name": "stdout",
     "output_type": "stream",
     "text": [
      "[-4, -1, 0, 0, 2, 5]\n",
      "[1, 4, 4, 5, 6, 8]\n"
     ]
    }
   ],
   "source": [
    "print(a)\n",
    "print(b)\n",
    "while_counter = 0\n",
    "counter = 0"
   ]
  },
  {
   "cell_type": "code",
   "execution_count": 81,
   "metadata": {},
   "outputs": [],
   "source": [
    "# O(N) or O(N*log(N))\n",
    "# upper 보다 작은 lower 들은 반드시 가장 작은 upper 보다 큰 반지름을 갖는다. = 접점\n",
    "def solution(A):\n",
    "    a = []\n",
    "    b = []\n",
    "    for j,k in enumerate(A):\n",
    "        a.append(j-k)\n",
    "        b.append(j+k)\n",
    "\n",
    "    a.sort()\n",
    "    b.sort()\n",
    "\n",
    "    d = 0\n",
    "    counter = 0\n",
    "    n = len(A)\n",
    "    for i in range(n):\n",
    "        while (d < n and a[d] <= b[i]):\n",
    "            counter += d+1-1\n",
    "            counter -= i\n",
    "            d = d + 1\n",
    "            \n",
    "            if counter > 10000000:\n",
    "                return -1\n",
    "            \n",
    "    return counter"
   ]
  },
  {
   "cell_type": "code",
   "execution_count": 80,
   "metadata": {},
   "outputs": [
    {
     "data": {
      "text/plain": [
       "11"
      ]
     },
     "execution_count": 80,
     "metadata": {},
     "output_type": "execute_result"
    }
   ],
   "source": [
    "solution(A)"
   ]
  },
  {
   "cell_type": "code",
   "execution_count": 60,
   "metadata": {},
   "outputs": [
    {
     "data": {
      "text/plain": [
       "[1, 5, 2, 1, 4, 0]"
      ]
     },
     "execution_count": 60,
     "metadata": {},
     "output_type": "execute_result"
    }
   ],
   "source": [
    "A"
   ]
  },
  {
   "cell_type": "code",
   "execution_count": 49,
   "metadata": {},
   "outputs": [],
   "source": [
    "if 1 => [-4, -1, 0, 0]\n",
    "if 4 => [-1, 0, 0, 2]\n",
    "if 4 => [0, 0, 2]\n",
    "if 5 => [0, 2, 5]\n",
    "if 6 => [2, 5]\n",
    "if 8 => [5]\n",
    "3 3 2 2 1 0"
   ]
  },
  {
   "cell_type": "code",
   "execution_count": null,
   "metadata": {},
   "outputs": [],
   "source": [
    "upper 보다 작은 lower 들은 반드시 가장 작은 upper 보다 큰 반지름을 갖는다. = 접점"
   ]
  },
  {
   "cell_type": "code",
   "execution_count": null,
   "metadata": {},
   "outputs": [],
   "source": []
  },
  {
   "cell_type": "code",
   "execution_count": null,
   "metadata": {},
   "outputs": [],
   "source": []
  }
 ],
 "metadata": {
  "kernelspec": {
   "display_name": "Python 3",
   "language": "python",
   "name": "python3"
  },
  "language_info": {
   "codemirror_mode": {
    "name": "ipython",
    "version": 3
   },
   "file_extension": ".py",
   "mimetype": "text/x-python",
   "name": "python",
   "nbconvert_exporter": "python",
   "pygments_lexer": "ipython3",
   "version": "3.7.6"
  }
 },
 "nbformat": 4,
 "nbformat_minor": 2
}
