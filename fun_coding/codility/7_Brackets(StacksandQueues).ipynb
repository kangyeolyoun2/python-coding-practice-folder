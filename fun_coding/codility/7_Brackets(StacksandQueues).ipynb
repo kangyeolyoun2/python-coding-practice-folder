{
 "cells": [
  {
   "cell_type": "markdown",
   "metadata": {},
   "source": [
    "<img src=\"./imgs/7_Brackets(StacksandQueues).png\" width=\"80%\">"
   ]
  },
  {
   "cell_type": "code",
   "execution_count": 117,
   "metadata": {},
   "outputs": [],
   "source": [
    "def solution(S):\n",
    "    \n",
    "    a = [\"{\", \"(\", \"[\"]\n",
    "    b = [\"}\",\")\",\"]\"]\n",
    "    a_dict = {v:i for i,v in zip(a,b)}\n",
    "    \n",
    "    stack = []\n",
    "\n",
    "    for i in S:\n",
    "        if i in a:\n",
    "            stack.append(i)\n",
    "        elif i in b and stack:\n",
    "            if stack and a_dict.get(i) == stack[-1]:\n",
    "                stack.pop()\n",
    "            else:\n",
    "                return 0\n",
    "    return int(not stack)"
   ]
  },
  {
   "cell_type": "code",
   "execution_count": 115,
   "metadata": {},
   "outputs": [],
   "source": [
    "# 다른사람 풀이 깔끔.\n",
    "def solution(S):\n",
    "\n",
    "    matches, stack = dict(['()', '[]', '{}']), []\n",
    "    \n",
    "    for i in S:\n",
    "        if i in matches.values():\n",
    "            if stack and matches[stack[-1]] == i:\n",
    "                stack.pop()\n",
    "            else:\n",
    "                return 0\n",
    "        else:\n",
    "            stack.append(i)\n",
    "\n",
    "    return int(not stack)"
   ]
  },
  {
   "cell_type": "code",
   "execution_count": 119,
   "metadata": {},
   "outputs": [
    {
     "data": {
      "text/plain": [
       "1"
      ]
     },
     "execution_count": 119,
     "metadata": {},
     "output_type": "execute_result"
    }
   ],
   "source": [
    "solution(\"TT\")"
   ]
  },
  {
   "cell_type": "code",
   "execution_count": 70,
   "metadata": {},
   "outputs": [
    {
     "data": {
      "text/plain": [
       "'{'"
      ]
     },
     "execution_count": 70,
     "metadata": {},
     "output_type": "execute_result"
    }
   ],
   "source": [
    "c[0]"
   ]
  },
  {
   "cell_type": "code",
   "execution_count": null,
   "metadata": {},
   "outputs": [],
   "source": []
  }
 ],
 "metadata": {
  "kernelspec": {
   "display_name": "Python 3",
   "language": "python",
   "name": "python3"
  },
  "language_info": {
   "codemirror_mode": {
    "name": "ipython",
    "version": 3
   },
   "file_extension": ".py",
   "mimetype": "text/x-python",
   "name": "python",
   "nbconvert_exporter": "python",
   "pygments_lexer": "ipython3",
   "version": "3.7.6"
  }
 },
 "nbformat": 4,
 "nbformat_minor": 2
}
