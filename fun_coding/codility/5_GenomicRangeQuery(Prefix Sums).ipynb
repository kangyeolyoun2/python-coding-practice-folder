{
 "cells": [
  {
   "cell_type": "markdown",
   "metadata": {},
   "source": [
    "<img src=\"./imgs/5_GenomicRangeQuery.png\" width=\"100%\">"
   ]
  },
  {
   "cell_type": "code",
   "execution_count": 56,
   "metadata": {},
   "outputs": [],
   "source": [
    "#O(N*M) 1st try\n",
    "def solution(S, P, Q):\n",
    "    d = len(P)\n",
    "    b = []\n",
    "    \n",
    "    for i in range(d):\n",
    "        b.append(min(S[P[i]:Q[i]+1]))\n",
    "\n",
    "    a = {\"A\":\"1\",\"C\":\"2\",\"G\":\"3\",\"T\":\"4\"}    \n",
    "    return list(map(lambda x: int(a[x]), b))"
   ]
  },
  {
   "cell_type": "code",
   "execution_count": 57,
   "metadata": {},
   "outputs": [
    {
     "data": {
      "text/plain": [
       "[2, 4, 1]"
      ]
     },
     "execution_count": 57,
     "metadata": {},
     "output_type": "execute_result"
    }
   ],
   "source": [
    "solution(\"CAGCCTA\",[2,5,0],[4,5,6])"
   ]
  },
  {
   "cell_type": "code",
   "execution_count": 60,
   "metadata": {},
   "outputs": [],
   "source": [
    "#O(N*M) 2nd try;\n",
    "def solution(S, P, Q):\n",
    "    d = len(P)\n",
    "    b = []\n",
    "    \n",
    "    a = {\"A\":1,\"C\":2,\"G\":3,\"T\":4}        \n",
    "    \n",
    "    for i in range(d):\n",
    "        b.append(a[min(S[P[i]:Q[i]+1])])\n",
    "\n",
    "\n",
    "    return b"
   ]
  },
  {
   "cell_type": "code",
   "execution_count": 61,
   "metadata": {},
   "outputs": [
    {
     "data": {
      "text/plain": [
       "[2, 4, 1]"
      ]
     },
     "execution_count": 61,
     "metadata": {},
     "output_type": "execute_result"
    }
   ],
   "source": [
    "solution(\"CAGCCTA\",[2,5,0],[4,5,6])"
   ]
  },
  {
   "cell_type": "code",
   "execution_count": 69,
   "metadata": {},
   "outputs": [],
   "source": [
    "#O(N+M) 3rd; OMG -_-argarwjgio;awlyjgoi;arl4jgio\n",
    "def solution(S, P, Q):\n",
    "    d = len(P)\n",
    "    b = []\n",
    "\n",
    "    for i in range(d):\n",
    "        if \"A\" in (S[P[i]:Q[i]+1]):\n",
    "            b.append(1)\n",
    "        elif \"C\" in (S[P[i]:Q[i]+1]):\n",
    "            b.append(2)\n",
    "        elif \"G\" in (S[P[i]:Q[i]+1]):\n",
    "            b.append(3)\n",
    "        else:\n",
    "            b.append(4)\n",
    "        \n",
    "\n",
    "    return b"
   ]
  },
  {
   "cell_type": "code",
   "execution_count": 70,
   "metadata": {},
   "outputs": [
    {
     "data": {
      "text/plain": [
       "[2, 4, 1]"
      ]
     },
     "execution_count": 70,
     "metadata": {},
     "output_type": "execute_result"
    }
   ],
   "source": [
    "solution(\"CAGCCTA\",[2,5,0],[4,5,6])"
   ]
  },
  {
   "cell_type": "code",
   "execution_count": null,
   "metadata": {},
   "outputs": [],
   "source": []
  }
 ],
 "metadata": {
  "kernelspec": {
   "display_name": "Python 3",
   "language": "python",
   "name": "python3"
  },
  "language_info": {
   "codemirror_mode": {
    "name": "ipython",
    "version": 3
   },
   "file_extension": ".py",
   "mimetype": "text/x-python",
   "name": "python",
   "nbconvert_exporter": "python",
   "pygments_lexer": "ipython3",
   "version": "3.7.3"
  }
 },
 "nbformat": 4,
 "nbformat_minor": 2
}
