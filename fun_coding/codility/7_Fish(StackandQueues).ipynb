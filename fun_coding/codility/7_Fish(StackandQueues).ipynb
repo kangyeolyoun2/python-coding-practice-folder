{
 "cells": [
  {
   "cell_type": "markdown",
   "metadata": {},
   "source": [
    "<img src=\"./imgs/7_Fish.png\" width=\"100%\">"
   ]
  },
  {
   "cell_type": "code",
   "execution_count": null,
   "metadata": {},
   "outputs": [],
   "source": []
  },
  {
   "cell_type": "code",
   "execution_count": 9,
   "metadata": {},
   "outputs": [],
   "source": [
    "A, B = [4, 3, 2, 1, 5], [0,1,0,0,0]"
   ]
  },
  {
   "cell_type": "code",
   "execution_count": 32,
   "metadata": {},
   "outputs": [],
   "source": [
    "A, B = [4, 3, 2, 1, 5], [0,0,0,0,0]"
   ]
  },
  {
   "cell_type": "code",
   "execution_count": 33,
   "metadata": {},
   "outputs": [
    {
     "data": {
      "text/plain": [
       "[(4, 0), (3, 0), (2, 0), (1, 0), (5, 0)]"
      ]
     },
     "execution_count": 33,
     "metadata": {},
     "output_type": "execute_result"
    }
   ],
   "source": [
    "c = list(zip(A,B))\n",
    "c"
   ]
  },
  {
   "cell_type": "code",
   "execution_count": 34,
   "metadata": {},
   "outputs": [],
   "source": [
    "def solution(A, B):\n",
    "    c = list(zip(A,B))\n",
    "    a = []\n",
    "    \n",
    "    for i in range(1,len(c)):\n",
    "        if c[i-1][1] == c[i][1]:\n",
    "            a.append(c[i-1])\n",
    "        else:\n",
    "            break\n",
    "    print(a)"
   ]
  },
  {
   "cell_type": "code",
   "execution_count": 35,
   "metadata": {},
   "outputs": [
    {
     "name": "stdout",
     "output_type": "stream",
     "text": [
      "[(4, 0), (3, 0), (2, 0), (1, 0)]\n"
     ]
    }
   ],
   "source": [
    "solution(A,B)"
   ]
  },
  {
   "cell_type": "code",
   "execution_count": null,
   "metadata": {},
   "outputs": [],
   "source": []
  },
  {
   "cell_type": "code",
   "execution_count": null,
   "metadata": {},
   "outputs": [],
   "source": []
  },
  {
   "cell_type": "code",
   "execution_count": null,
   "metadata": {},
   "outputs": [],
   "source": []
  },
  {
   "cell_type": "code",
   "execution_count": 98,
   "metadata": {},
   "outputs": [],
   "source": [
    "def solution(A, B):\n",
    "\n",
    "    survivals = 0\n",
    "    stack = []\n",
    "\n",
    "    for i in range(len(A)):\n",
    "        if B[i] == 0:\n",
    "            while stack:\n",
    "                if stack[-1] > A[i]:\n",
    "                    break\n",
    "                else:\n",
    "                    stack.pop()    \n",
    "\n",
    "            else:\n",
    "                survivals += 1\n",
    "        else:\n",
    "            stack.append(A[i])\n",
    "\n",
    "    survivals += len(stack)\n",
    "\n",
    "    return survivals"
   ]
  },
  {
   "cell_type": "code",
   "execution_count": null,
   "metadata": {},
   "outputs": [],
   "source": []
  }
 ],
 "metadata": {
  "kernelspec": {
   "display_name": "Python 3",
   "language": "python",
   "name": "python3"
  },
  "language_info": {
   "codemirror_mode": {
    "name": "ipython",
    "version": 3
   },
   "file_extension": ".py",
   "mimetype": "text/x-python",
   "name": "python",
   "nbconvert_exporter": "python",
   "pygments_lexer": "ipython3",
   "version": "3.7.6"
  }
 },
 "nbformat": 4,
 "nbformat_minor": 2
}
