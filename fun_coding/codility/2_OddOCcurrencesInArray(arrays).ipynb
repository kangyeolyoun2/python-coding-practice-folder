{
 "cells": [
  {
   "cell_type": "markdown",
   "metadata": {},
   "source": [
    "<img src=\"./imgs/2_OddOccurrencesInArray.png\" width=\"60%\">\n"
   ]
  },
  {
   "cell_type": "code",
   "execution_count": 30,
   "metadata": {},
   "outputs": [],
   "source": [
    "# O(N**2)...\n",
    "def solution(A):\n",
    "    \n",
    "    for i in A:\n",
    "        if A.count(i) % 2 != 0:\n",
    "            return i\n",
    "        else:\n",
    "            A = [j for j in A if j != i]"
   ]
  },
  {
   "cell_type": "code",
   "execution_count": 66,
   "metadata": {},
   "outputs": [],
   "source": [
    "# O(N) or O(N*log(N))\n",
    "def solution(A):\n",
    "    import collections\n",
    "    collections.Counter(A)\n",
    "    \n",
    "    b = dict(collections.Counter(A))\n",
    "    \n",
    "    for i,v in b.items():\n",
    "        if v % 2 != 0:\n",
    "            return i"
   ]
  },
  {
   "cell_type": "code",
   "execution_count": 71,
   "metadata": {},
   "outputs": [
    {
     "data": {
      "text/plain": [
       "7"
      ]
     },
     "execution_count": 71,
     "metadata": {},
     "output_type": "execute_result"
    }
   ],
   "source": [
    "solution([9,3,9,3,9,7,9])"
   ]
  },
  {
   "cell_type": "code",
   "execution_count": null,
   "metadata": {},
   "outputs": [],
   "source": [
    "# Other ppl's solution\n",
    "\n",
    "def solution(A):     \n",
    "    if len(A) == 1:\n",
    "         return A[0]\n",
    "    A = sorted(A)       # O(n*log(N) or N)\n",
    "    for i in range(0 , len (A) , 2): # O(N)\n",
    "         if i+1 == len(A):\n",
    "             return A[i]\n",
    "         if A[i] != A[i+1]:\n",
    "             return A[i]\n",
    "# O(N*log(N) or O(N))"
   ]
  },
  {
   "cell_type": "code",
   "execution_count": 70,
   "metadata": {},
   "outputs": [],
   "source": [
    "# Other ppl's solution;;; O(N)\n",
    "\n",
    "def solution(A):\n",
    "    result = 0\n",
    "    \n",
    "    for number in A:\n",
    "        result ^= number\n",
    "    return result"
   ]
  },
  {
   "cell_type": "code",
   "execution_count": 110,
   "metadata": {},
   "outputs": [
    {
     "name": "stdout",
     "output_type": "stream",
     "text": [
      "9\n",
      "10\n",
      "3\n",
      "0\n",
      "9\n",
      "14\n",
      "7\n"
     ]
    }
   ],
   "source": [
    "A = [9,3,9,3,9,7,9]\n",
    "\n",
    "result = 0\n",
    "for number in A:\n",
    "    result ^= number\n",
    "    print(result)\n",
    "    "
   ]
  },
  {
   "cell_type": "code",
   "execution_count": 125,
   "metadata": {},
   "outputs": [
    {
     "name": "stdout",
     "output_type": "stream",
     "text": [
      "0b1001 0b11\n"
     ]
    }
   ],
   "source": [
    "print(bin(9), bin(3))"
   ]
  },
  {
   "cell_type": "code",
   "execution_count": 133,
   "metadata": {},
   "outputs": [
    {
     "data": {
      "text/plain": [
       "Decimal('1011')"
      ]
     },
     "execution_count": 133,
     "metadata": {},
     "output_type": "execute_result"
    }
   ],
   "source": [
    "import decimal\n",
    "decimal.Decimal(1011)"
   ]
  },
  {
   "cell_type": "code",
   "execution_count": null,
   "metadata": {},
   "outputs": [],
   "source": []
  }
 ],
 "metadata": {
  "kernelspec": {
   "display_name": "Python 3",
   "language": "python",
   "name": "python3"
  },
  "language_info": {
   "codemirror_mode": {
    "name": "ipython",
    "version": 3
   },
   "file_extension": ".py",
   "mimetype": "text/x-python",
   "name": "python",
   "nbconvert_exporter": "python",
   "pygments_lexer": "ipython3",
   "version": "3.7.6"
  }
 },
 "nbformat": 4,
 "nbformat_minor": 2
}
