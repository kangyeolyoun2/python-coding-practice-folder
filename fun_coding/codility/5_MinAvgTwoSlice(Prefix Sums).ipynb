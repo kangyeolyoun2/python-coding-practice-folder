{
 "cells": [
  {
   "cell_type": "markdown",
   "metadata": {},
   "source": [
    "<img src=\"./imgs/5_MinAvgTwoSlice.png\" width=\"100%\">"
   ]
  },
  {
   "cell_type": "code",
   "execution_count": 1,
   "metadata": {},
   "outputs": [],
   "source": [
    "A = [4,2,2,5,1,5,8]"
   ]
  },
  {
   "cell_type": "code",
   "execution_count": 39,
   "metadata": {},
   "outputs": [
    {
     "data": {
      "text/plain": [
       "{0: 4, 1: 2, 2: 2, 3: 5, 4: 1, 5: 5, 6: 8}"
      ]
     },
     "execution_count": 39,
     "metadata": {},
     "output_type": "execute_result"
    }
   ],
   "source": [
    "A_dict = {i:v for i,v in enumerate(A)}\n",
    "A_dict"
   ]
  },
  {
   "cell_type": "code",
   "execution_count": 50,
   "metadata": {},
   "outputs": [],
   "source": [
    "for i in range(len(A)):\n",
    "    "
   ]
  },
  {
   "cell_type": "code",
   "execution_count": 62,
   "metadata": {},
   "outputs": [],
   "source": [
    "def solution(A):\n",
    "    result = 0\n",
    "    len_A = len(A)\n",
    "    a = [0]\n",
    "    \n",
    "    for i in range(len_A):\n",
    "        a.append(a[i] + A[i])\n",
    "        print(a)\n",
    "        \n",
    "    min_avg = sum(A)/len(A)\n",
    "    \n",
    "    for i in range(len_A-1):\n",
    "        idx1 = i + 1\n",
    "        idx2 = i + 2\n",
    "        avg = a[idx1+1] - a[i] / 2.0\n",
    "        if (avg < min_avg):\n",
    "            min_avg = avg\n",
    "            result = i\n",
    "        \n",
    "        if (i < len_A - 2):\n",
    "            avg = (a[idx2 + 1] - a[i]) / 3.0\n",
    "            if avg < min_avg:\n",
    "                min_avg = avg\n",
    "                result = i\n",
    "    return result"
   ]
  },
  {
   "cell_type": "code",
   "execution_count": 64,
   "metadata": {},
   "outputs": [],
   "source": [
    "import sys\n",
    "\n",
    "def solution(A):\n",
    "  result = 0\n",
    "  length = len(A)\n",
    "  valueList = [0]\n",
    "  for i in range(length):\n",
    "    valueList.append(valueList[i] + A[i])\n",
    "\n",
    "  minAvg = sys.float_info.max\n",
    "  for i in range(length - 1):\n",
    "    index1 = i + 1\n",
    "    index2 = i + 2\n",
    "    avg = (valueList[index1 + 1] - valueList[i]) / 2.0\n",
    "    if(avg < minAvg):\n",
    "      minAvg = avg\n",
    "      result = i\n",
    "\n",
    "    if(i < length - 2):\n",
    "      avg = (valueList[index2 + 1] - valueList[i]) / 3.0\n",
    "      if(avg < minAvg):\n",
    "        minAvg = avg\n",
    "        result = i\n",
    "\n",
    "  return result"
   ]
  },
  {
   "cell_type": "code",
   "execution_count": 65,
   "metadata": {},
   "outputs": [
    {
     "data": {
      "text/plain": [
       "1"
      ]
     },
     "execution_count": 65,
     "metadata": {},
     "output_type": "execute_result"
    }
   ],
   "source": [
    "solution(A)"
   ]
  },
  {
   "cell_type": "code",
   "execution_count": 59,
   "metadata": {},
   "outputs": [
    {
     "data": {
      "text/plain": [
       "1.7976931348623157e+308"
      ]
     },
     "execution_count": 59,
     "metadata": {},
     "output_type": "execute_result"
    }
   ],
   "source": [
    "import sys\n",
    "sys.float_info.max"
   ]
  },
  {
   "cell_type": "code",
   "execution_count": null,
   "metadata": {},
   "outputs": [],
   "source": []
  }
 ],
 "metadata": {
  "kernelspec": {
   "display_name": "Python 3",
   "language": "python",
   "name": "python3"
  },
  "language_info": {
   "codemirror_mode": {
    "name": "ipython",
    "version": 3
   },
   "file_extension": ".py",
   "mimetype": "text/x-python",
   "name": "python",
   "nbconvert_exporter": "python",
   "pygments_lexer": "ipython3",
   "version": "3.7.6"
  }
 },
 "nbformat": 4,
 "nbformat_minor": 2
}
