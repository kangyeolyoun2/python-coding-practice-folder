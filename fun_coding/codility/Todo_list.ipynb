{
 "cells": [
  {
   "cell_type": "code",
   "execution_count": 4,
   "metadata": {},
   "outputs": [
    {
     "data": {
      "text/plain": [
       "92"
      ]
     },
     "execution_count": 4,
     "metadata": {},
     "output_type": "execute_result"
    }
   ],
   "source": [
    "# 최댓값 찾기 만들어보기\n",
    "\n",
    "def find_max(a):\n",
    "    n = len(a)\n",
    "    max_v = a[0]\n",
    "    \n",
    "    for i in range(1,n):\n",
    "        if a[i] > max_v:\n",
    "            max_v = a[i]\n",
    "    return max_v\n",
    "\n",
    "find_max([17, 92, 18, 33, 58, 7, 33, 42])"
   ]
  },
  {
   "cell_type": "code",
   "execution_count": null,
   "metadata": {},
   "outputs": [],
   "source": []
  },
  {
   "cell_type": "code",
   "execution_count": null,
   "metadata": {},
   "outputs": [],
   "source": [
    "def find_max"
   ]
  },
  {
   "cell_type": "code",
   "execution_count": 8,
   "metadata": {},
   "outputs": [
    {
     "data": {
      "text/plain": [
       "1"
      ]
     },
     "execution_count": 8,
     "metadata": {},
     "output_type": "execute_result"
    }
   ],
   "source": [
    "# 최댓값 idx 구하는 알고리즘\n",
    "\n",
    "def find_max_idx(a):\n",
    "    n = len(a)\n",
    "    max_idx = 0\n",
    "    for i in range(1,n):\n",
    "        if a[i] > a[max_idx]:\n",
    "            max_idx = i\n",
    "    return max_idx\n",
    "    \n",
    "find_max_idx([17, 92, 18, 33, 58, 7, 33, 42])"
   ]
  },
  {
   "cell_type": "code",
   "execution_count": null,
   "metadata": {},
   "outputs": [],
   "source": []
  },
  {
   "cell_type": "code",
   "execution_count": 10,
   "metadata": {},
   "outputs": [
    {
     "data": {
      "text/plain": [
       "[['Tom', 'Jerry'], ['Tom', 'Mike'], ['Jerry', 'Mike']]"
      ]
     },
     "execution_count": 10,
     "metadata": {},
     "output_type": "execute_result"
    }
   ],
   "source": [
    "# 다음 이름의 조합 만들기 (2개씩)\n",
    "a = [\"Tom\", \"Jerry\", \"Mike\"]\n",
    "\n",
    "b = []\n",
    "\n",
    "for i in range(len(a)-1):\n",
    "    for j in range(i+1, len(a)):\n",
    "        b.append([a[i],a[j]])\n",
    "b\n",
    "    "
   ]
  },
  {
   "cell_type": "code",
   "execution_count": null,
   "metadata": {},
   "outputs": [],
   "source": []
  },
  {
   "cell_type": "code",
   "execution_count": 20,
   "metadata": {},
   "outputs": [
    {
     "data": {
      "text/plain": [
       "24"
      ]
     },
     "execution_count": 20,
     "metadata": {},
     "output_type": "execute_result"
    }
   ],
   "source": [
    "# 팩토리얼 구하기\n",
    "# 1 1 2 6 24 120...\n",
    "def factorial(n):\n",
    "    if n <= 1:\n",
    "        return 1\n",
    "    return n * factorial(n-1)\n",
    "factorial(4)"
   ]
  },
  {
   "cell_type": "code",
   "execution_count": null,
   "metadata": {},
   "outputs": [],
   "source": []
  },
  {
   "cell_type": "code",
   "execution_count": 21,
   "metadata": {},
   "outputs": [],
   "source": [
    "# 1부터 n 까지의 합 구하기\n",
    "def n_sum(n):\n",
    "    if n == 1:\n",
    "        return 1\n",
    "    return n_sum(n-1) + n"
   ]
  },
  {
   "cell_type": "code",
   "execution_count": null,
   "metadata": {},
   "outputs": [],
   "source": []
  },
  {
   "cell_type": "code",
   "execution_count": 26,
   "metadata": {},
   "outputs": [
    {
     "data": {
      "text/plain": [
       "[92]"
      ]
     },
     "execution_count": 26,
     "metadata": {},
     "output_type": "execute_result"
    }
   ],
   "source": [
    "# 리스트 안에서의 가장 큰 수 구하기\n",
    "def n_max(n):\n",
    "    if len(n) == 1:\n",
    "        return n\n",
    "    else:\n",
    "        i = 0\n",
    "        n.remove(min(n[i], n[i+1]))\n",
    "        return n_max(n)\n",
    "n_max([17, 92, 18, 33, 58, 7, 33, 42])"
   ]
  },
  {
   "cell_type": "code",
   "execution_count": null,
   "metadata": {},
   "outputs": [],
   "source": []
  },
  {
   "cell_type": "code",
   "execution_count": 119,
   "metadata": {},
   "outputs": [],
   "source": [
    "# 최소 공약수 구하기\n",
    "def gcd(a,b):\n",
    "    c = min(a,b)\n",
    "    \n",
    "    while True:\n",
    "        if a % c == 0 and b % c == 0:\n",
    "            return c\n",
    "        \n",
    "        c -= 1\n",
    "        \n",
    "#유클리드 호제법\n",
    "def gcd(a,b):\n",
    "    big, small = max(a,b), min(a,b)\n",
    "    while big % small:\n",
    "        big, small = small, big%small\n",
    "    return small\n",
    "\n",
    "#유클리드 호제법(재귀)\n",
    "def gcd(a, b):\n",
    "    a, b = min(a,b), max(a,b)\n",
    "    if b == 0:\n",
    "        return a\n",
    "    return gcd(b, a%b)"
   ]
  },
  {
   "cell_type": "code",
   "execution_count": null,
   "metadata": {},
   "outputs": [],
   "source": []
  },
  {
   "cell_type": "code",
   "execution_count": 149,
   "metadata": {},
   "outputs": [
    {
     "data": {
      "text/plain": [
       "13"
      ]
     },
     "execution_count": 149,
     "metadata": {},
     "output_type": "execute_result"
    }
   ],
   "source": [
    "# 피보나치\n",
    "# 0, 1, 1, 2, 3, 5, 8, 13\n",
    "\n",
    "def fibonacci(n):\n",
    "    if n == 0:\n",
    "        return 0\n",
    "    elif n < 3:\n",
    "        return 1\n",
    "    else:\n",
    "        return fibonacci(n-1) + fibonacci(n-2)\n",
    "fibonacci(7)"
   ]
  },
  {
   "cell_type": "code",
   "execution_count": null,
   "metadata": {},
   "outputs": [],
   "source": []
  },
  {
   "cell_type": "code",
   "execution_count": 161,
   "metadata": {},
   "outputs": [
    {
     "data": {
      "text/plain": [
       "[[1, 3]]"
      ]
     },
     "execution_count": 161,
     "metadata": {},
     "output_type": "execute_result"
    }
   ],
   "source": [
    "# 하노이 탑\n",
    "\n",
    "a = []\n",
    "\n",
    "def hanoi(n, from_pos, aux_pos, to_pos):\n",
    "    if n == 1:\n",
    "        a.append([from_pos, to_pos])\n",
    "    else:\n",
    "        hanoi(n-1, from_pos, to_pos, aux_pos)\n",
    "        hanoi(1, from_pos, aux_pos, to_pos)\n",
    "        hanoi(n-1, aux_pos, from_pos, to_pos)\n",
    "    \n",
    "    return a\n",
    "\n",
    "def solution(n):\n",
    "    \n",
    "    b = hanoi(n,1,2,3)\n",
    "    \n",
    "    return b\n",
    "\n",
    "solution(1)"
   ]
  },
  {
   "cell_type": "code",
   "execution_count": null,
   "metadata": {},
   "outputs": [],
   "source": []
  },
  {
   "cell_type": "code",
   "execution_count": 171,
   "metadata": {},
   "outputs": [
    {
     "name": "stdout",
     "output_type": "stream",
     "text": [
      "insert stu_no: 105\n",
      "Summer\n"
     ]
    }
   ],
   "source": [
    "# 순차탐색 \n",
    "# 다음을 가지고 번호를 입력시 학생이름을 찾아주게 만드세요~~~ 없으면 ? return 하세요.\n",
    "\n",
    "stu_no = [39, 14, 67, 105]\n",
    "stu_name = [\"Justin\", \"John\", \"Mike\", \"Summer\"]\n",
    "\n",
    "a = dict(zip(stu_no, stu_name))\n",
    "b = int(input(\"insert stu_no: \"))\n",
    "print(a.get(b) if a.get(b) else \"?\")\n",
    "    "
   ]
  },
  {
   "cell_type": "code",
   "execution_count": null,
   "metadata": {},
   "outputs": [],
   "source": []
  },
  {
   "cell_type": "code",
   "execution_count": 210,
   "metadata": {},
   "outputs": [
    {
     "name": "stdout",
     "output_type": "stream",
     "text": [
      "i: 1 a: [2, 4, 5, 1, 3] j: 0 a[j]: 2 key: 4\n",
      "after while: [2, 4, 5, 1, 3]\n",
      "i: 2 a: [2, 4, 5, 1, 3] j: 1 a[j]: 4 key: 5\n",
      "after while: [2, 4, 5, 1, 3]\n",
      "i: 3 a: [2, 4, 5, 1, 3] j: 2 a[j]: 5 key: 1\n",
      "while: i = 3 a: [2, 4, 5, 5, 3] j: 1 a[j]: 4 key: 1\n",
      "while: i = 3 a: [2, 4, 4, 5, 3] j: 0 a[j]: 2 key: 1\n",
      "while: i = 3 a: [2, 2, 4, 5, 3] j: -1 a[j]: 3 key: 1\n",
      "after while: [1, 2, 4, 5, 3]\n",
      "i: 4 a: [1, 2, 4, 5, 3] j: 3 a[j]: 5 key: 3\n",
      "while: i = 4 a: [1, 2, 4, 5, 5] j: 2 a[j]: 4 key: 3\n",
      "while: i = 4 a: [1, 2, 4, 4, 5] j: 1 a[j]: 2 key: 3\n",
      "after while: [1, 2, 3, 4, 5]\n"
     ]
    }
   ],
   "source": [
    "# 선택정렬 알고리즘 [2,4,5,1,3] O(n)으로 만들기, 와 혼자 짜라하면 어케짜지\n",
    "def ins_sort(a):\n",
    "    n = len(a)\n",
    "    for i in range(1, n):\n",
    "        key = a[i]\n",
    "        j = i-1\n",
    "        print(\"i:\",i,\"a:\",a, \"j:\",j,\"a[j]:\",a[j],\"key:\", key)        \n",
    "        while j >= 0 and a[j] > key:\n",
    "            a[j+1] = a[j]\n",
    "            j -= 1\n",
    "            print(\"while:\", \"i =\",i,\"a:\",a, \"j:\",j,\"a[j]:\",a[j],\"key:\", key) \n",
    "        a[j+1] = key\n",
    "        print(\"after while:\",a)\n",
    "    \n",
    "d = [2,4,5,1,3]\n",
    "ins_sort(d)\n",
    "\n"
   ]
  },
  {
   "cell_type": "code",
   "execution_count": 198,
   "metadata": {},
   "outputs": [
    {
     "data": {
      "text/plain": [
       "[1, 2, 3, 4, 5]"
      ]
     },
     "execution_count": 198,
     "metadata": {},
     "output_type": "execute_result"
    }
   ],
   "source": [
    "d"
   ]
  },
  {
   "cell_type": "code",
   "execution_count": 33,
   "metadata": {},
   "outputs": [],
   "source": [
    "# 일반적인 선택 정렬 알고리즘\n",
    "\n",
    "def sel_sort(a):\n",
    "    n = len(a)\n",
    "    for i in range(0, n-1):\n",
    "        min_idx = i\n",
    "        for j in range(i+1, n):\n",
    "            if a[j] < a[min_idx]:\n",
    "                min_idx = j\n",
    "        a[i], a[min_idx] = a[min_idx], a[i]\n",
    "        print(a)\n",
    "    "
   ]
  },
  {
   "cell_type": "code",
   "execution_count": 35,
   "metadata": {},
   "outputs": [
    {
     "name": "stdout",
     "output_type": "stream",
     "text": [
      "[2, 4, 7, 3, 10, 5]\n",
      "[2, 3, 7, 4, 10, 5]\n",
      "[2, 3, 4, 7, 10, 5]\n",
      "[2, 3, 4, 5, 10, 7]\n",
      "[2, 3, 4, 5, 7, 10]\n"
     ]
    }
   ],
   "source": [
    "sel_sort([3,4,7,2,10,5])"
   ]
  },
  {
   "cell_type": "code",
   "execution_count": 27,
   "metadata": {},
   "outputs": [],
   "source": [
    "# 삽입정렬\n",
    "\n",
    "def find_ins_idx(r, v):\n",
    "    for i in range(0, len(r)):\n",
    "        if v < r[i]:\n",
    "            return i\n",
    "    return len(r)\n",
    "\n",
    "def ins_sort(a):\n",
    "    result = []\n",
    "    \n",
    "    while a:\n",
    "        value = a.pop(0)\n",
    "        ins_idx = find_ins_idx(result, value)\n",
    "        result.insert(ins_idx, value)\n",
    "        \n",
    "    return result"
   ]
  },
  {
   "cell_type": "code",
   "execution_count": 28,
   "metadata": {},
   "outputs": [
    {
     "data": {
      "text/plain": [
       "[1, 2, 3, 4, 5]"
      ]
     },
     "execution_count": 28,
     "metadata": {},
     "output_type": "execute_result"
    }
   ],
   "source": [
    "ins_sort([2,4,5,1,3])"
   ]
  },
  {
   "cell_type": "code",
   "execution_count": 31,
   "metadata": {},
   "outputs": [],
   "source": [
    "# 일반쩍인 삽입정렬(안보고 짤 수 있을때까졍 고고쉬)\n",
    "\n",
    "def ins_sort(a):\n",
    "    n = len(a)\n",
    "    for i in range(1, n):\n",
    "        key = a[i]\n",
    "        j = i - 1\n",
    "        \n",
    "        while j >= 0 and a[j] > key:\n",
    "            a[j+1] = a[j]\n",
    "            j -= 1\n",
    "        a[j+1] = key\n",
    "    return a"
   ]
  },
  {
   "cell_type": "code",
   "execution_count": 32,
   "metadata": {},
   "outputs": [
    {
     "data": {
      "text/plain": [
       "[1, 2, 3, 4, 5]"
      ]
     },
     "execution_count": 32,
     "metadata": {},
     "output_type": "execute_result"
    }
   ],
   "source": [
    "ins_sort([2,4,5,1,3])"
   ]
  },
  {
   "cell_type": "code",
   "execution_count": null,
   "metadata": {},
   "outputs": [],
   "source": []
  },
  {
   "cell_type": "code",
   "execution_count": null,
   "metadata": {},
   "outputs": [],
   "source": []
  },
  {
   "cell_type": "code",
   "execution_count": null,
   "metadata": {},
   "outputs": [],
   "source": []
  },
  {
   "cell_type": "code",
   "execution_count": null,
   "metadata": {},
   "outputs": [],
   "source": []
  },
  {
   "cell_type": "code",
   "execution_count": null,
   "metadata": {},
   "outputs": [],
   "source": []
  },
  {
   "cell_type": "code",
   "execution_count": null,
   "metadata": {},
   "outputs": [],
   "source": []
  }
 ],
 "metadata": {
  "kernelspec": {
   "display_name": "Python 3",
   "language": "python",
   "name": "python3"
  },
  "language_info": {
   "codemirror_mode": {
    "name": "ipython",
    "version": 3
   },
   "file_extension": ".py",
   "mimetype": "text/x-python",
   "name": "python",
   "nbconvert_exporter": "python",
   "pygments_lexer": "ipython3",
   "version": "3.7.6"
  }
 },
 "nbformat": 4,
 "nbformat_minor": 2
}
