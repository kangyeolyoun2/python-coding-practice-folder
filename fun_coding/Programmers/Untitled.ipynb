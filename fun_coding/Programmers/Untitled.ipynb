{
 "cells": [
  {
   "cell_type": "code",
   "execution_count": 1,
   "metadata": {},
   "outputs": [],
   "source": [
    "#1. 먼저 몇개로 나눌 수 있는지 계산 (전체길이의 절반 이상은 안되겠지?)\n",
    "    # 어떻게 각 숫자별로 나눌까?\n",
    "#2. 각 길이별로 압축시도\n",
    "#3. 가장 짧은 len을 return"
   ]
  },
  {
   "cell_type": "code",
   "execution_count": 2,
   "metadata": {},
   "outputs": [],
   "source": [
    "def solution(s):\n",
    "    answer = 0\n",
    "    return answer"
   ]
  },
  {
   "cell_type": "code",
   "execution_count": 15,
   "metadata": {},
   "outputs": [],
   "source": [
    "s = \"ababcdcdababcdcd\""
   ]
  },
  {
   "cell_type": "code",
   "execution_count": 21,
   "metadata": {},
   "outputs": [
    {
     "data": {
      "text/plain": [
       "16"
      ]
     },
     "execution_count": 21,
     "metadata": {},
     "output_type": "execute_result"
    }
   ],
   "source": [
    "len(s)"
   ]
  },
  {
   "cell_type": "code",
   "execution_count": null,
   "metadata": {},
   "outputs": [],
   "source": [
    "1 2 3 4 5 6 7 8 9\n",
    "0 1 2 3 4 5 6 7 8 9 10 11 12 13 14 15 16\n"
   ]
  },
  {
   "cell_type": "code",
   "execution_count": 27,
   "metadata": {},
   "outputs": [],
   "source": [
    "a = []\n",
    "for i in range(1,(len(s)//2)+1):\n",
    "    b = []\n",
    "    for j in range(len(s)):\n",
    "        if i*j+i <= len(s):\n",
    "            b.append(s[i*j:i*j+i])\n",
    "        else:\n",
    "            if s[i*j:] != \"\":\n",
    "                b.append(s[i*j:])\n",
    "    a.append(b)\n"
   ]
  },
  {
   "cell_type": "code",
   "execution_count": 29,
   "metadata": {},
   "outputs": [],
   "source": [
    "d = []\n",
    "for i in range(len(a)):\n",
    "    c = \"\"\n",
    "    for j in range(len(a[i])):\n",
    "        \n",
    "        if j+1 == len(a[i]):\n",
    "            c += a[i][j]\n",
    "        \n",
    "        elif a[i][j] == a[i][j+1]:\n",
    "            c += \"1\"\n",
    "        else:\n",
    "            c += a[i][j]\n",
    "    d.append(c)\n",
    "            "
   ]
  },
  {
   "cell_type": "code",
   "execution_count": 30,
   "metadata": {},
   "outputs": [
    {
     "data": {
      "text/plain": [
       "['ababcdcdababcdcd',\n",
       " '1ab1cd1ab1cd',\n",
       " 'ababcdcdababcdcd',\n",
       " 'ababcdcdababcdcd',\n",
       " 'ababcdcdababcdcd',\n",
       " 'ababcdcdababcdcd',\n",
       " 'ababcdcdababcdcd',\n",
       " '1ababcdcd']"
      ]
     },
     "execution_count": 30,
     "metadata": {},
     "output_type": "execute_result"
    }
   ],
   "source": [
    "d"
   ]
  },
  {
   "cell_type": "code",
   "execution_count": null,
   "metadata": {},
   "outputs": [],
   "source": []
  }
 ],
 "metadata": {
  "kernelspec": {
   "display_name": "Python 3",
   "language": "python",
   "name": "python3"
  },
  "language_info": {
   "codemirror_mode": {
    "name": "ipython",
    "version": 3
   },
   "file_extension": ".py",
   "mimetype": "text/x-python",
   "name": "python",
   "nbconvert_exporter": "python",
   "pygments_lexer": "ipython3",
   "version": "3.7.4"
  }
 },
 "nbformat": 4,
 "nbformat_minor": 2
}
