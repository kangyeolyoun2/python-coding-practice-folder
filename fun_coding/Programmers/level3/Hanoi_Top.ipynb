{
 "cells": [
  {
   "cell_type": "markdown",
   "metadata": {},
   "source": [
    "<img src=\"./imgs/하노이1.png\" width=\"80%\">"
   ]
  },
  {
   "cell_type": "markdown",
   "metadata": {},
   "source": [
    "<img src=\"./imgs/하노이2.png\" width=\"80%\">"
   ]
  },
  {
   "cell_type": "code",
   "execution_count": 2,
   "metadata": {},
   "outputs": [
    {
     "data": {
      "text/plain": [
       "[[1, 3]]"
      ]
     },
     "execution_count": 2,
     "metadata": {},
     "output_type": "execute_result"
    }
   ],
   "source": [
    "# 하노이 탑\n",
    "\n",
    "a = []\n",
    "\n",
    "def hanoi(n, from_pos, aux_pos, to_pos):\n",
    "    if n == 1:\n",
    "        a.append([from_pos, to_pos])\n",
    "    else:\n",
    "        hanoi(n-1, from_pos, to_pos, aux_pos)\n",
    "        hanoi(1, from_pos, aux_pos, to_pos)\n",
    "        hanoi(n-1, aux_pos, from_pos, to_pos)\n",
    "    \n",
    "    return a\n",
    "\n",
    "def solution(n):\n",
    "    \n",
    "    b = hanoi(n,1,2,3)\n",
    "    \n",
    "    return b\n",
    "\n",
    "solution(1)"
   ]
  },
  {
   "cell_type": "code",
   "execution_count": null,
   "metadata": {},
   "outputs": [],
   "source": []
  }
 ],
 "metadata": {
  "kernelspec": {
   "display_name": "Python 3",
   "language": "python",
   "name": "python3"
  },
  "language_info": {
   "codemirror_mode": {
    "name": "ipython",
    "version": 3
   },
   "file_extension": ".py",
   "mimetype": "text/x-python",
   "name": "python",
   "nbconvert_exporter": "python",
   "pygments_lexer": "ipython3",
   "version": "3.7.6"
  }
 },
 "nbformat": 4,
 "nbformat_minor": 2
}
