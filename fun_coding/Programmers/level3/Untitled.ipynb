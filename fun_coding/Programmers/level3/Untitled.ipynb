{
 "cells": [
  {
   "cell_type": "markdown",
   "metadata": {},
   "source": [
    "<img src=\"./imgs/N-Queen.png\" width=\"60%\">"
   ]
  },
  {
   "cell_type": "code",
   "execution_count": 1,
   "metadata": {},
   "outputs": [],
   "source": [
    "# 가설 세우기\n",
    "# 1. n x n 의 array를 만든다.\n",
    "# 2. 첫번째 array[0,0] -> array[0,1] 순으로 가면서 3번조건을 모두 그려봄\n",
    "# 3. 다음 Row 그려지는 Q는 row, column 앞선 조건에 안겹치고 대각선도 안겹쳐야한다.\n",
    "# 4. 다음 Row는 앞선 2개조건도 안겹쳐야함\n",
    "# 5. 앞선3개… 이렇게 n개 까지 간다.\n",
    "\n",
    "# 마지막까지 그려지는 case는 성공이므로 result +1을한다.\n"
   ]
  },
  {
   "cell_type": "code",
   "execution_count": null,
   "metadata": {},
   "outputs": [],
   "source": []
  }
 ],
 "metadata": {
  "kernelspec": {
   "display_name": "Python 3",
   "language": "python",
   "name": "python3"
  },
  "language_info": {
   "codemirror_mode": {
    "name": "ipython",
    "version": 3
   },
   "file_extension": ".py",
   "mimetype": "text/x-python",
   "name": "python",
   "nbconvert_exporter": "python",
   "pygments_lexer": "ipython3",
   "version": "3.7.6"
  }
 },
 "nbformat": 4,
 "nbformat_minor": 2
}
