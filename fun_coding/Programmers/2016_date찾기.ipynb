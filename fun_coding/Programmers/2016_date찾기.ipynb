{
 "cells": [
  {
   "cell_type": "markdown",
   "metadata": {},
   "source": [
    "<img src=\".././imgs/2016.png\" width=\"60%\">\n"
   ]
  },
  {
   "cell_type": "code",
   "execution_count": 161,
   "metadata": {},
   "outputs": [],
   "source": [
    "# 정답\n",
    "def solution(a,b):\n",
    "    \n",
    "    x = [\"SUN\",\"MON\",\"TUE\",\"WED\",\"THU\",\"FRI\",\"SAT\"]\n",
    "    y = [\"FRI\",\"MON\",\"TUE\",\"FRI\",\"SUN\",\"WED\",\"FRI\",\"TUE\",\"THU\",\"SAT\",\"TUE\",\"THU\"]\n",
    "    m = {i+1:k for i,k in enumerate(x)}\n",
    "    n = {k:i+1 for i,k in enumerate(x)}\n",
    "    z = {i+1:k for i,k in enumerate(y)}\n",
    "\n",
    "    if b == 1:\n",
    "        return z[a]\n",
    "    elif n[z[a]]+b%7-1+b%7 == 0:\n",
    "        return m[n[z[a]]+b%7+6]\n",
    "    \n",
    "    else:\n",
    "        if n[z[a]]+b%7-1 > 7:\n",
    "            return m[n[z[a]]+b%7-1-7]\n",
    "        else:\n",
    "            return m[n[z[a]]+b%7-1]"
   ]
  },
  {
   "cell_type": "code",
   "execution_count": 180,
   "metadata": {},
   "outputs": [
    {
     "data": {
      "text/plain": [
       "'TUE'"
      ]
     },
     "execution_count": 180,
     "metadata": {},
     "output_type": "execute_result"
    }
   ],
   "source": [
    "solution(5,17)"
   ]
  },
  {
   "cell_type": "code",
   "execution_count": null,
   "metadata": {},
   "outputs": [],
   "source": [
    "# 다른사람 풀이 (함수활용)\n",
    "import datetime\n",
    "\n",
    "def getDayName(a,b):\n",
    "    t = 'MON TUE WED THU FRI SAT SUN'.split()\n",
    "    return t[datetime.datetime(2016, a, b).weekday()]\n",
    "\n",
    "\n",
    "#아래 코드는 테스트를 위한 출력 코드입니다.\n",
    "print(getDayName(5,24))"
   ]
  },
  {
   "cell_type": "code",
   "execution_count": null,
   "metadata": {},
   "outputs": [],
   "source": [
    "# 다른사람 풀이(2)\n",
    "def getDayName(a,b):\n",
    "    months = [31, 29, 31, 30, 31, 30, 31, 31, 30, 31, 30, 31]\n",
    "    days = ['FRI', 'SAT', 'SUN', 'MON', 'TUE', 'WED', 'THU']\n",
    "    return days[(sum(months[:a-1])+b-1)%7]\n",
    "\n",
    "#아래 코드는 테스트를 위한 출력 코드입니다.\n",
    "print(getDayName(5,24))\n"
   ]
  }
 ],
 "metadata": {
  "kernelspec": {
   "display_name": "Python 3",
   "language": "python",
   "name": "python3"
  },
  "language_info": {
   "codemirror_mode": {
    "name": "ipython",
    "version": 3
   },
   "file_extension": ".py",
   "mimetype": "text/x-python",
   "name": "python",
   "nbconvert_exporter": "python",
   "pygments_lexer": "ipython3",
   "version": "3.7.4"
  }
 },
 "nbformat": 4,
 "nbformat_minor": 2
}
