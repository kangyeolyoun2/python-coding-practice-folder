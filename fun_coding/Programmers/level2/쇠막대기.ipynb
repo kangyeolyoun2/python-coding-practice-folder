{
 "cells": [
  {
   "cell_type": "markdown",
   "metadata": {},
   "source": [
    "<img src=\"./imgs/쇠막대기1.png\" width=\"80%\">"
   ]
  },
  {
   "cell_type": "markdown",
   "metadata": {},
   "source": [
    "<img src=\"./imgs/쇠막대기2.png\" width=\"100%\">"
   ]
  },
  {
   "cell_type": "code",
   "execution_count": 5,
   "metadata": {},
   "outputs": [],
   "source": [
    "# distinct = i 대신에 a[-1] == \"(\"을 하니 안됨 ㅠ. 초반에 문제가 이해가 갔고 거의 접근했으나 잘 되지 않아 다른사람의 풀이를 ㅈ참조하였다. \n",
    "#나중에 다시 해보자.\n",
    "\n",
    "def solution(arrangement):\n",
    "    a = []\n",
    "    b = 0\n",
    "    for i in arrangement:\n",
    "        if i == \"(\":\n",
    "            a.append(i)\n",
    "            distinct = i\n",
    "        else:\n",
    "            if distinct == \"(\":\n",
    "                a.pop()\n",
    "                b += len(a)\n",
    "                distinct = i\n",
    "            else:\n",
    "                a.pop()\n",
    "                b += 1\n",
    "    return b"
   ]
  },
  {
   "cell_type": "code",
   "execution_count": 6,
   "metadata": {},
   "outputs": [
    {
     "data": {
      "text/plain": [
       "17"
      ]
     },
     "execution_count": 6,
     "metadata": {},
     "output_type": "execute_result"
    }
   ],
   "source": [
    "solution(\"()(((()())(())()))(())\")"
   ]
  },
  {
   "cell_type": "code",
   "execution_count": null,
   "metadata": {},
   "outputs": [],
   "source": []
  },
  {
   "cell_type": "code",
   "execution_count": 10,
   "metadata": {},
   "outputs": [],
   "source": [
    "# 다른사람 풀이. 이런식으로 레이저를 할 수 있는 방법은 없을까 생각했는데, 이렇게 한사람이 있다!\n",
    "def solution(arrangement):\n",
    "    answer = 0\n",
    "    sticks = 0\n",
    "    rasor_to_zero = arrangement.replace('()','0')\n",
    "    print(rasor_to_zero)\n",
    "    for i in rasor_to_zero:\n",
    "        if i == '(':\n",
    "            sticks += 1\n",
    "        elif i =='0' :\n",
    "            answer += sticks\n",
    "        else :\n",
    "            sticks -= 1\n",
    "            answer += 1\n",
    "\n",
    "    return answer"
   ]
  },
  {
   "cell_type": "code",
   "execution_count": 11,
   "metadata": {},
   "outputs": [
    {
     "name": "stdout",
     "output_type": "stream",
     "text": [
      "0(((00)(0)0))(0)\n"
     ]
    },
    {
     "data": {
      "text/plain": [
       "17"
      ]
     },
     "execution_count": 11,
     "metadata": {},
     "output_type": "execute_result"
    }
   ],
   "source": [
    "solution(\"()(((()())(())()))(())\")"
   ]
  },
  {
   "cell_type": "code",
   "execution_count": null,
   "metadata": {},
   "outputs": [],
   "source": []
  },
  {
   "cell_type": "code",
   "execution_count": null,
   "metadata": {},
   "outputs": [],
   "source": []
  }
 ],
 "metadata": {
  "kernelspec": {
   "display_name": "Python 3",
   "language": "python",
   "name": "python3"
  },
  "language_info": {
   "codemirror_mode": {
    "name": "ipython",
    "version": 3
   },
   "file_extension": ".py",
   "mimetype": "text/x-python",
   "name": "python",
   "nbconvert_exporter": "python",
   "pygments_lexer": "ipython3",
   "version": "3.7.6"
  }
 },
 "nbformat": 4,
 "nbformat_minor": 2
}
