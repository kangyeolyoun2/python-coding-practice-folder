{
 "cells": [
  {
   "cell_type": "code",
   "execution_count": null,
   "metadata": {},
   "outputs": [],
   "source": []
  },
  {
   "cell_type": "code",
   "execution_count": 137,
   "metadata": {},
   "outputs": [],
   "source": [
    "# a.append로 하면 효율성 통과를 못함-_-;\n",
    "def solution(prices):\n",
    "    n = len(prices)\n",
    "    a = [0] * n\n",
    "    for i in range(n-1):\n",
    "        for j in range(i+1, n):\n",
    "            a[i] += 1\n",
    "            if prices[i] > prices[j]:\n",
    "                break\n",
    "    return a"
   ]
  },
  {
   "cell_type": "code",
   "execution_count": 138,
   "metadata": {},
   "outputs": [
    {
     "data": {
      "text/plain": [
       "[4, 3, 1, 1, 0]"
      ]
     },
     "execution_count": 138,
     "metadata": {},
     "output_type": "execute_result"
    }
   ],
   "source": [
    "solution(prices)"
   ]
  },
  {
   "cell_type": "code",
   "execution_count": null,
   "metadata": {},
   "outputs": [],
   "source": [
    "# 다른사람풀이 (deque를 이용해 풀었다.)\n",
    "from collections import deque\n",
    "def solution(prices):\n",
    "    answer = []\n",
    "    prices = deque(prices)\n",
    "    while prices:\n",
    "        c = prices.popleft()\n",
    "\n",
    "        count = 0\n",
    "        for i in prices:\n",
    "            if c > i:\n",
    "                count += 1\n",
    "                break\n",
    "            count += 1\n",
    "\n",
    "        answer.append(count)\n",
    "\n",
    "    return answer"
   ]
  },
  {
   "cell_type": "code",
   "execution_count": null,
   "metadata": {},
   "outputs": [],
   "source": []
  }
 ],
 "metadata": {
  "kernelspec": {
   "display_name": "Python 3",
   "language": "python",
   "name": "python3"
  },
  "language_info": {
   "codemirror_mode": {
    "name": "ipython",
    "version": 3
   },
   "file_extension": ".py",
   "mimetype": "text/x-python",
   "name": "python",
   "nbconvert_exporter": "python",
   "pygments_lexer": "ipython3",
   "version": "3.7.6"
  }
 },
 "nbformat": 4,
 "nbformat_minor": 2
}
