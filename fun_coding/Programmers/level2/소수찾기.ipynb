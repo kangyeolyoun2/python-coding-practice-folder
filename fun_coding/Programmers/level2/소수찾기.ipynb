{
 "cells": [
  {
   "cell_type": "markdown",
   "metadata": {},
   "source": [
    "<img src=\"./imgs/소수찾기.png\" width=\"80%\">"
   ]
  },
  {
   "cell_type": "code",
   "execution_count": 58,
   "metadata": {},
   "outputs": [],
   "source": [
    "def is_prime(A):\n",
    "    if A < 2:\n",
    "        return 0\n",
    "    \n",
    "    for i in range(2, int(A//2 + 1)):\n",
    "        if A % i == 0:\n",
    "            return 0\n",
    "    return 1"
   ]
  },
  {
   "cell_type": "code",
   "execution_count": 75,
   "metadata": {},
   "outputs": [
    {
     "data": {
      "text/plain": [
       "[('1', '7'), ('7', '1')]"
      ]
     },
     "execution_count": 75,
     "metadata": {},
     "output_type": "execute_result"
    }
   ],
   "source": [
    "from itertools import combinations, permutations\n",
    "\n",
    "list(permutations(\"17\", 2))"
   ]
  },
  {
   "cell_type": "code",
   "execution_count": 81,
   "metadata": {},
   "outputs": [],
   "source": [
    "def perm(s):\n",
    "    res = []\n",
    "    for i in range(1, len(s)+1):\n",
    "        for j in permutations(s,i):\n",
    "            res.append(int(\"\".join(j)))\n",
    "    return set(res)\n",
    "        \n",
    "def is_prime(A):\n",
    "    if A < 2:\n",
    "        return 0\n",
    "    \n",
    "    for i in range(2, int(A//2 + 1)):\n",
    "        if A % i == 0:\n",
    "            return 0\n",
    "    return 1\n",
    "\n",
    "def solution(s):\n",
    "    answer = 0\n",
    "    A = perm(s)\n",
    "    for i in A:\n",
    "        answer += is_prime(i)\n",
    "    return answer"
   ]
  },
  {
   "cell_type": "code",
   "execution_count": 82,
   "metadata": {},
   "outputs": [
    {
     "data": {
      "text/plain": [
       "3"
      ]
     },
     "execution_count": 82,
     "metadata": {},
     "output_type": "execute_result"
    }
   ],
   "source": [
    "solution(\"17\")"
   ]
  },
  {
   "cell_type": "code",
   "execution_count": 80,
   "metadata": {},
   "outputs": [
    {
     "data": {
      "text/plain": [
       "{1, 7, 11, 17, 71, 117, 171, 711}"
      ]
     },
     "execution_count": 80,
     "metadata": {},
     "output_type": "execute_result"
    }
   ],
   "source": [
    "possible_numbers(\"171\")"
   ]
  },
  {
   "cell_type": "code",
   "execution_count": null,
   "metadata": {},
   "outputs": [],
   "source": []
  }
 ],
 "metadata": {
  "kernelspec": {
   "display_name": "Python 3",
   "language": "python",
   "name": "python3"
  },
  "language_info": {
   "codemirror_mode": {
    "name": "ipython",
    "version": 3
   },
   "file_extension": ".py",
   "mimetype": "text/x-python",
   "name": "python",
   "nbconvert_exporter": "python",
   "pygments_lexer": "ipython3",
   "version": "3.7.6"
  }
 },
 "nbformat": 4,
 "nbformat_minor": 2
}
