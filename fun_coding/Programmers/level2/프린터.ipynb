{
 "cells": [
  {
   "cell_type": "markdown",
   "metadata": {},
   "source": [
    "<img src=\"./imgs/프린터.png\" width=\"120%\">"
   ]
  },
  {
   "cell_type": "code",
   "execution_count": null,
   "metadata": {},
   "outputs": [],
   "source": [
    "# 내풀이, 예전 백준풀은것처럼\n",
    "def solution(priorities, location):\n",
    "    n = len(priorities)\n",
    "    printing_list = [i for i in priorities]\n",
    "    queue = [i for i in range(n)]\n",
    "    result = [0] * n\n",
    "    seq = 1\n",
    "    while queue:\n",
    "        if printing_list[queue[0]] == max(priorities):\n",
    "            result[queue.pop(0)] = seq\n",
    "            priorities.remove(max(priorities))\n",
    "            seq += 1\n",
    "        else:\n",
    "            queue.append(queue.pop(0))\n",
    "            \n",
    "    return result[location]"
   ]
  },
  {
   "cell_type": "code",
   "execution_count": 47,
   "metadata": {},
   "outputs": [
    {
     "data": {
      "text/plain": [
       "([2, 1, 3, 2], [0, 1, 2, 3])"
      ]
     },
     "execution_count": 47,
     "metadata": {},
     "output_type": "execute_result"
    }
   ],
   "source": [
    "printing_list = [i for i in priorities]\n",
    "queue = [i for i in range(len(priorities))]\n",
    "printing_list,queue"
   ]
  },
  {
   "cell_type": "code",
   "execution_count": 54,
   "metadata": {},
   "outputs": [
    {
     "data": {
      "text/plain": [
       "1"
      ]
     },
     "execution_count": 54,
     "metadata": {},
     "output_type": "execute_result"
    }
   ],
   "source": [
    "solution([2,1,3,2],2)"
   ]
  },
  {
   "cell_type": "code",
   "execution_count": null,
   "metadata": {},
   "outputs": [],
   "source": []
  },
  {
   "cell_type": "code",
   "execution_count": null,
   "metadata": {},
   "outputs": [],
   "source": []
  },
  {
   "cell_type": "code",
   "execution_count": 5,
   "metadata": {},
   "outputs": [
    {
     "name": "stdout",
     "output_type": "stream",
     "text": [
      "6 0\n"
     ]
    }
   ],
   "source": [
    "N, M = map(int, input().split())"
   ]
  },
  {
   "cell_type": "code",
   "execution_count": 10,
   "metadata": {},
   "outputs": [
    {
     "name": "stdout",
     "output_type": "stream",
     "text": [
      "1 1 9 1 1 1\n"
     ]
    }
   ],
   "source": [
    "queue = list(enumerate(map(int, input().split())))"
   ]
  },
  {
   "cell_type": "code",
   "execution_count": 11,
   "metadata": {},
   "outputs": [
    {
     "data": {
      "text/plain": [
       "[(0, 1), (1, 1), (2, 9), (3, 1), (4, 1), (5, 1)]"
      ]
     },
     "execution_count": 11,
     "metadata": {},
     "output_type": "execute_result"
    }
   ],
   "source": [
    "queue"
   ]
  },
  {
   "cell_type": "code",
   "execution_count": 6,
   "metadata": {},
   "outputs": [
    {
     "name": "stdout",
     "output_type": "stream",
     "text": [
      "초기 상황:  [(0, 1), (1, 1), (2, 9), (3, 1), (4, 1), (5, 1)]\n",
      "1 번째 상황:  [(1, 1), (2, 9), (3, 1), (4, 1), (5, 1), (0, 1)]\n",
      "2 번째 상황:  [(2, 9), (3, 1), (4, 1), (5, 1), (0, 1), (1, 1)]\n",
      "3 번째 상황:  [(3, 1), (4, 1), (5, 1), (0, 1), (1, 1)]\n",
      "4 번째 상황:  [(4, 1), (5, 1), (0, 1), (1, 1)]\n",
      "5 번째 상황:  [(5, 1), (0, 1), (1, 1)]\n",
      "6 번째 상황:  [(0, 1), (1, 1)]\n",
      "5 번째로 출력되었습니다.\n"
     ]
    }
   ],
   "source": [
    "print(\"초기 상황: \", queue)\n",
    "\n",
    "cycle = 0\n",
    "count = 0\n",
    "while cycle <= 10:\n",
    "    cycle += 1\n",
    "    paper = queue.pop(0)\n",
    "    max_priority = max(queue, key=lambda x : x[1])[1]\n",
    "    if paper[1] >= max_priority:\n",
    "        count += 1\n",
    "        if paper[0] == M:\n",
    "            print(count, \"번째로 출력되었습니다.\")\n",
    "            break\n",
    "    else:\n",
    "        queue.append(paper)\n",
    "    print(cycle, \"번째 상황: \", queue)"
   ]
  },
  {
   "cell_type": "code",
   "execution_count": 27,
   "metadata": {},
   "outputs": [],
   "source": [
    "queue = [1, 1, 9, 1, 1, 1]"
   ]
  },
  {
   "cell_type": "code",
   "execution_count": 28,
   "metadata": {},
   "outputs": [],
   "source": [
    "queue = list(enumerate(queue))"
   ]
  },
  {
   "cell_type": "code",
   "execution_count": 29,
   "metadata": {},
   "outputs": [
    {
     "data": {
      "text/plain": [
       "[(0, 1), (1, 1), (2, 9), (3, 1), (4, 1), (5, 1)]"
      ]
     },
     "execution_count": 29,
     "metadata": {},
     "output_type": "execute_result"
    }
   ],
   "source": [
    "queue"
   ]
  },
  {
   "cell_type": "code",
   "execution_count": 30,
   "metadata": {},
   "outputs": [
    {
     "name": "stdout",
     "output_type": "stream",
     "text": [
      "5\n"
     ]
    }
   ],
   "source": [
    "cycle = 0\n",
    "count = 0\n",
    "location = 0\n",
    "\n",
    "while cycle <= 10:\n",
    "    cycle += 1\n",
    "    paper = queue.pop(0)\n",
    "    max_priority = max(queue, key=lambda x: x[1])[1]\n",
    "    if paper[1] >= max_priority:\n",
    "        count += 1\n",
    "        if paper[0] == location:\n",
    "            break\n",
    "    else:\n",
    "        queue.append(paper)\n",
    "    \n",
    "print(count)"
   ]
  },
  {
   "cell_type": "code",
   "execution_count": 67,
   "metadata": {},
   "outputs": [
    {
     "data": {
      "text/plain": [
       "[(0, 1), (1, 1), (2, 9), (3, 1), (4, 1), (5, 1)]"
      ]
     },
     "execution_count": 67,
     "metadata": {},
     "output_type": "execute_result"
    }
   ],
   "source": [
    "queue = [1,1,9,1,1,1]\n",
    "queue = list(enumerate(map(int,queue)))\n",
    "queue"
   ]
  },
  {
   "cell_type": "code",
   "execution_count": 72,
   "metadata": {},
   "outputs": [
    {
     "name": "stdout",
     "output_type": "stream",
     "text": [
      "1\n"
     ]
    }
   ],
   "source": [
    "queue = [2,1,3,2]\n",
    "queue = list(enumerate(map(int,queue)))\n",
    "location = 2\n",
    "count = 0\n",
    "\n",
    "while True:\n",
    "    max_priority = max(queue, key=lambda x: x[1])[1]\n",
    "    paper = queue.pop(0)\n",
    "    \n",
    "    if paper[1] == max_priority:\n",
    "        count += 1\n",
    "        if paper[0] == location:\n",
    "            break\n",
    "    else:\n",
    "        queue.append(paper)\n",
    "print(count)"
   ]
  },
  {
   "cell_type": "code",
   "execution_count": 68,
   "metadata": {},
   "outputs": [
    {
     "data": {
      "text/plain": [
       "9"
      ]
     },
     "execution_count": 68,
     "metadata": {},
     "output_type": "execute_result"
    }
   ],
   "source": [
    "queue[2][1] == "
   ]
  },
  {
   "cell_type": "code",
   "execution_count": 69,
   "metadata": {},
   "outputs": [
    {
     "name": "stdout",
     "output_type": "stream",
     "text": [
      "1 번째 루프\n",
      "queue: [(0, 1), (1, 1), (2, 9), (3, 1), (4, 1), (5, 1)]\n",
      "paper: (0, 1) , 남은 놈 중에 max_priority: 9\n",
      "else문이 작동합니다.\n",
      "\n",
      "2 번째 루프\n",
      "queue: [(1, 1), (2, 9), (3, 1), (4, 1), (5, 1), (0, 1)]\n",
      "paper: (1, 1) , 남은 놈 중에 max_priority: 9\n",
      "else문이 작동합니다.\n",
      "\n",
      "3 번째 루프\n",
      "queue: [(2, 9), (3, 1), (4, 1), (5, 1), (0, 1), (1, 1)]\n",
      "paper: (2, 9) , 남은 놈 중에 max_priority: 1\n",
      "else문이 작동합니다.\n",
      "\n",
      "4 번째 루프\n",
      "queue: [(3, 1), (4, 1), (5, 1), (0, 1), (1, 1), (2, 9)]\n",
      "paper: (3, 1) , 남은 놈 중에 max_priority: 9\n",
      "else문이 작동합니다.\n",
      "\n",
      "5 번째 루프\n",
      "queue: [(4, 1), (5, 1), (0, 1), (1, 1), (2, 9), (3, 1)]\n",
      "paper: (4, 1) , 남은 놈 중에 max_priority: 9\n",
      "else문이 작동합니다.\n",
      "\n",
      "6 번째 루프\n",
      "queue: [(5, 1), (0, 1), (1, 1), (2, 9), (3, 1), (4, 1)]\n",
      "paper: (5, 1) , 남은 놈 중에 max_priority: 9\n",
      "else문이 작동합니다.\n",
      "\n",
      "7 번째 루프\n",
      "queue: [(0, 1), (1, 1), (2, 9), (3, 1), (4, 1), (5, 1)]\n",
      "paper: (0, 1) , 남은 놈 중에 max_priority: 9\n",
      "else문이 작동합니다.\n",
      "\n",
      "8 번째 루프\n",
      "queue: [(1, 1), (2, 9), (3, 1), (4, 1), (5, 1), (0, 1)]\n",
      "paper: (1, 1) , 남은 놈 중에 max_priority: 9\n",
      "else문이 작동합니다.\n",
      "\n",
      "9 번째 루프\n",
      "queue: [(2, 9), (3, 1), (4, 1), (5, 1), (0, 1), (1, 1)]\n",
      "paper: (2, 9) , 남은 놈 중에 max_priority: 1\n",
      "else문이 작동합니다.\n",
      "\n",
      "10 번째 루프\n",
      "queue: [(3, 1), (4, 1), (5, 1), (0, 1), (1, 1), (2, 9)]\n",
      "paper: (3, 1) , 남은 놈 중에 max_priority: 9\n",
      "else문이 작동합니다.\n",
      "\n"
     ]
    }
   ],
   "source": [
    "# 실험용 \n",
    "queue = [1, 1, 9, 1, 1, 1]\n",
    "queue = list(enumerate(map(int, queue)))\n",
    "location = 0\n",
    "count = 0\n",
    "\n",
    "c = 1\n",
    "while c < 11:\n",
    "    print(c, \"번째 루프\")\n",
    "    print(\"queue:\", queue)\n",
    "\n",
    "    paper = queue.pop(0)\n",
    "    max_priority = max(queue, key=lambda x: x[1])[1]\n",
    "\n",
    "    print(\"paper:\", paper, \", 남은 놈 중에 max_priority:\", max_priority)\n",
    "    if paper[1] == max_priority:\n",
    "        print(\"if문이 작동합니다.\")\n",
    "        count += 1\n",
    "        if paper[0] == location:\n",
    "            break\n",
    "    else:\n",
    "        print(\"else문이 작동합니다.\")\n",
    "        queue.append(paper)\n",
    "\n",
    "    c += 1\n",
    "    print()"
   ]
  },
  {
   "cell_type": "code",
   "execution_count": null,
   "metadata": {},
   "outputs": [],
   "source": []
  }
 ],
 "metadata": {
  "kernelspec": {
   "display_name": "Python 3",
   "language": "python",
   "name": "python3"
  },
  "language_info": {
   "codemirror_mode": {
    "name": "ipython",
    "version": 3
   },
   "file_extension": ".py",
   "mimetype": "text/x-python",
   "name": "python",
   "nbconvert_exporter": "python",
   "pygments_lexer": "ipython3",
   "version": "3.7.6"
  }
 },
 "nbformat": 4,
 "nbformat_minor": 2
}
