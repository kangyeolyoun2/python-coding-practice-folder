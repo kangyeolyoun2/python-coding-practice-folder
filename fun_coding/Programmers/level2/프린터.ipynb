{
 "cells": [
  {
   "cell_type": "markdown",
   "metadata": {},
   "source": [
    "<img src=\"./imgs/프린터.png\" width=\"120%\">"
   ]
  },
  {
   "cell_type": "code",
   "execution_count": null,
   "metadata": {},
   "outputs": [],
   "source": [
    "# 내풀이, 예전 백준풀은것처럼\n",
    "def solution(priorities, location):\n",
    "    n = len(priorities)\n",
    "    printing_list = [i for i in priorities]\n",
    "    queue = [i for i in range(n)]\n",
    "    result = [0] * n\n",
    "    seq = 1\n",
    "    while queue:\n",
    "        if printing_list[queue[0]] == max(priorities):\n",
    "            result[queue.pop(0)] = seq\n",
    "            priorities.remove(max(priorities))\n",
    "            seq += 1\n",
    "        else:\n",
    "            queue.append(queue.pop(0))\n",
    "            \n",
    "    return result[location]"
   ]
  },
  {
   "cell_type": "code",
   "execution_count": 47,
   "metadata": {},
   "outputs": [
    {
     "data": {
      "text/plain": [
       "([2, 1, 3, 2], [0, 1, 2, 3])"
      ]
     },
     "execution_count": 47,
     "metadata": {},
     "output_type": "execute_result"
    }
   ],
   "source": [
    "printing_list = [i for i in priorities]\n",
    "queue = [i for i in range(len(priorities))]\n",
    "printing_list,queue"
   ]
  },
  {
   "cell_type": "code",
   "execution_count": 54,
   "metadata": {},
   "outputs": [
    {
     "data": {
      "text/plain": [
       "1"
      ]
     },
     "execution_count": 54,
     "metadata": {},
     "output_type": "execute_result"
    }
   ],
   "source": [
    "solution([2,1,3,2],2)"
   ]
  },
  {
   "cell_type": "code",
   "execution_count": null,
   "metadata": {},
   "outputs": [],
   "source": []
  },
  {
   "cell_type": "code",
   "execution_count": null,
   "metadata": {},
   "outputs": [],
   "source": []
  },
  {
   "cell_type": "code",
   "execution_count": 5,
   "metadata": {},
   "outputs": [
    {
     "name": "stdout",
     "output_type": "stream",
     "text": [
      "6 0\n"
     ]
    }
   ],
   "source": [
    "N, M = map(int, input().split())"
   ]
  },
  {
   "cell_type": "code",
   "execution_count": 10,
   "metadata": {},
   "outputs": [
    {
     "name": "stdout",
     "output_type": "stream",
     "text": [
      "1 1 9 1 1 1\n"
     ]
    }
   ],
   "source": [
    "queue = list(enumerate(map(int, input().split())))"
   ]
  },
  {
   "cell_type": "code",
   "execution_count": 11,
   "metadata": {},
   "outputs": [
    {
     "data": {
      "text/plain": [
       "[(0, 1), (1, 1), (2, 9), (3, 1), (4, 1), (5, 1)]"
      ]
     },
     "execution_count": 11,
     "metadata": {},
     "output_type": "execute_result"
    }
   ],
   "source": [
    "queue"
   ]
  },
  {
   "cell_type": "code",
   "execution_count": 6,
   "metadata": {},
   "outputs": [
    {
     "name": "stdout",
     "output_type": "stream",
     "text": [
      "초기 상황:  [(0, 1), (1, 1), (2, 9), (3, 1), (4, 1), (5, 1)]\n",
      "1 번째 상황:  [(1, 1), (2, 9), (3, 1), (4, 1), (5, 1), (0, 1)]\n",
      "2 번째 상황:  [(2, 9), (3, 1), (4, 1), (5, 1), (0, 1), (1, 1)]\n",
      "3 번째 상황:  [(3, 1), (4, 1), (5, 1), (0, 1), (1, 1)]\n",
      "4 번째 상황:  [(4, 1), (5, 1), (0, 1), (1, 1)]\n",
      "5 번째 상황:  [(5, 1), (0, 1), (1, 1)]\n",
      "6 번째 상황:  [(0, 1), (1, 1)]\n",
      "5 번째로 출력되었습니다.\n"
     ]
    }
   ],
   "source": [
    "print(\"초기 상황: \", queue)\n",
    "\n",
    "cycle = 0\n",
    "count = 0\n",
    "while cycle <= 10:\n",
    "    cycle += 1\n",
    "    paper = queue.pop(0)\n",
    "    max_priority = max(queue, key=lambda x : x[1])[1]\n",
    "    if paper[1] >= max_priority:\n",
    "        count += 1\n",
    "        if paper[0] == M:\n",
    "            print(count, \"번째로 출력되었습니다.\")\n",
    "            break\n",
    "    else:\n",
    "        queue.append(paper)\n",
    "    print(cycle, \"번째 상황: \", queue)"
   ]
  },
  {
   "cell_type": "code",
   "execution_count": null,
   "metadata": {},
   "outputs": [],
   "source": []
  },
  {
   "cell_type": "code",
   "execution_count": null,
   "metadata": {},
   "outputs": [],
   "source": []
  },
  {
   "cell_type": "code",
   "execution_count": null,
   "metadata": {},
   "outputs": [],
   "source": []
  },
  {
   "cell_type": "code",
   "execution_count": null,
   "metadata": {},
   "outputs": [],
   "source": []
  },
  {
   "cell_type": "code",
   "execution_count": null,
   "metadata": {},
   "outputs": [],
   "source": []
  },
  {
   "cell_type": "code",
   "execution_count": null,
   "metadata": {},
   "outputs": [],
   "source": []
  },
  {
   "cell_type": "code",
   "execution_count": null,
   "metadata": {},
   "outputs": [],
   "source": []
  },
  {
   "cell_type": "code",
   "execution_count": null,
   "metadata": {},
   "outputs": [],
   "source": []
  }
 ],
 "metadata": {
  "kernelspec": {
   "display_name": "Python 3",
   "language": "python",
   "name": "python3"
  },
  "language_info": {
   "codemirror_mode": {
    "name": "ipython",
    "version": 3
   },
   "file_extension": ".py",
   "mimetype": "text/x-python",
   "name": "python",
   "nbconvert_exporter": "python",
   "pygments_lexer": "ipython3",
   "version": "3.7.6"
  }
 },
 "nbformat": 4,
 "nbformat_minor": 2
}
