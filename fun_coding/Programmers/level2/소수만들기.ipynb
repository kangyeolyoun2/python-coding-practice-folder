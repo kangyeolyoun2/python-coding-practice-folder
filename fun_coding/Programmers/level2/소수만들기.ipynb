{
 "cells": [
  {
   "cell_type": "markdown",
   "metadata": {},
   "source": [
    "<img src=\"./imgs/소수만들기.png\" width=\"100%\">"
   ]
  },
  {
   "cell_type": "code",
   "execution_count": 1,
   "metadata": {},
   "outputs": [],
   "source": [
    "def is_prime(a):\n",
    "    for i in range(2, a//2+1):\n",
    "        if a % i == 0:\n",
    "            return 0\n",
    "            \n",
    "    return 1\n",
    "        \n",
    "\n",
    "def solution(nums):\n",
    "\n",
    "    from itertools import combinations\n",
    "\n",
    "    b = list(map(sum,combinations(nums,3)))\n",
    "    c = 0\n",
    "    for i in b:\n",
    "        c += is_prime(i)\n",
    "    return c\n"
   ]
  },
  {
   "cell_type": "code",
   "execution_count": null,
   "metadata": {},
   "outputs": [],
   "source": []
  }
 ],
 "metadata": {
  "kernelspec": {
   "display_name": "Python 3",
   "language": "python",
   "name": "python3"
  },
  "language_info": {
   "codemirror_mode": {
    "name": "ipython",
    "version": 3
   },
   "file_extension": ".py",
   "mimetype": "text/x-python",
   "name": "python",
   "nbconvert_exporter": "python",
   "pygments_lexer": "ipython3",
   "version": "3.7.6"
  }
 },
 "nbformat": 4,
 "nbformat_minor": 2
}
