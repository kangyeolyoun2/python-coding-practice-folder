{
 "cells": [
  {
   "cell_type": "markdown",
   "metadata": {},
   "source": [
    "<img src=\"./imgs/기능개발.png\" width=\"100%\">"
   ]
  },
  {
   "cell_type": "code",
   "execution_count": 58,
   "metadata": {},
   "outputs": [],
   "source": [
    "progresses = [93,30,55]\n",
    "speeds = [1,30,5]\n",
    "result = []\n",
    "\n",
    "\n",
    "while len(progresses) > 0:\n",
    "    \n",
    "    if progresses[0] >= 100:\n",
    "        \n",
    "        count = 0\n",
    "        \n",
    "        for i in range(len(progresses)):\n",
    "            if progresses[0] >= 100:\n",
    "                progresses.pop(0)\n",
    "                speeds.pop(0)\n",
    "                count += 1\n",
    "        \n",
    "        result.append(count)\n",
    "    \n",
    "    \n",
    "    progresses =  [x+y for x,y in zip(progresses,speeds)]\n",
    "    "
   ]
  },
  {
   "cell_type": "code",
   "execution_count": 70,
   "metadata": {},
   "outputs": [],
   "source": [
    "# 내풀이\n",
    "def solution(progresses,speeds):\n",
    "    \n",
    "    result = []\n",
    "    \n",
    "    while len(progresses) > 0:\n",
    "\n",
    "        if progresses[0] >= 100:\n",
    "            count = 0\n",
    "            for i in range(len(progresses)):\n",
    "                if progresses[0] >= 100:\n",
    "                    progresses.pop(0)\n",
    "                    speeds.pop(0)\n",
    "                    count += 1\n",
    "\n",
    "            result.append(count)\n",
    "\n",
    "        progresses =  [x+y for x,y in zip(progresses,speeds)]\n",
    "\n",
    "    return result"
   ]
  },
  {
   "cell_type": "code",
   "execution_count": 3,
   "metadata": {},
   "outputs": [],
   "source": [
    "progresses = [93,30,55]\n",
    "speeds = [1,30,5]"
   ]
  },
  {
   "cell_type": "code",
   "execution_count": 79,
   "metadata": {},
   "outputs": [
    {
     "name": "stdout",
     "output_type": "stream",
     "text": [
      "CPU times: user 2 µs, sys: 0 ns, total: 2 µs\n",
      "Wall time: 4.77 µs\n"
     ]
    },
    {
     "data": {
      "text/plain": [
       "[2, 1]"
      ]
     },
     "execution_count": 79,
     "metadata": {},
     "output_type": "execute_result"
    }
   ],
   "source": [
    "%time\n",
    "solution(progresses, speeds)"
   ]
  },
  {
   "cell_type": "code",
   "execution_count": 6,
   "metadata": {},
   "outputs": [],
   "source": [
    "# 다른사람 풀이 (뭐 무슨논린지; -_-;ㅋ)\n",
    "def solution2(progresses, speeds):\n",
    "    Q=[]\n",
    "    for p, s in zip(progresses, speeds):\n",
    "        if len(Q)==0 or Q[-1][0]<-((p-100)//s):\n",
    "            Q.append([-((p-100)//s),1])\n",
    "            print(Q)\n",
    "        else:\n",
    "            Q[-1][1]+=1\n",
    "\n",
    "    return [q[1] for q in Q]"
   ]
  },
  {
   "cell_type": "code",
   "execution_count": 7,
   "metadata": {},
   "outputs": [
    {
     "name": "stdout",
     "output_type": "stream",
     "text": [
      "[[7, 1]]\n",
      "[[7, 2], [9, 1]]\n"
     ]
    },
    {
     "data": {
      "text/plain": [
       "[2, 1]"
      ]
     },
     "execution_count": 7,
     "metadata": {},
     "output_type": "execute_result"
    }
   ],
   "source": [
    "solution2(progresses,speeds)"
   ]
  },
  {
   "cell_type": "code",
   "execution_count": null,
   "metadata": {},
   "outputs": [],
   "source": []
  }
 ],
 "metadata": {
  "kernelspec": {
   "display_name": "Python 3",
   "language": "python",
   "name": "python3"
  },
  "language_info": {
   "codemirror_mode": {
    "name": "ipython",
    "version": 3
   },
   "file_extension": ".py",
   "mimetype": "text/x-python",
   "name": "python",
   "nbconvert_exporter": "python",
   "pygments_lexer": "ipython3",
   "version": "3.7.6"
  }
 },
 "nbformat": 4,
 "nbformat_minor": 2
}
