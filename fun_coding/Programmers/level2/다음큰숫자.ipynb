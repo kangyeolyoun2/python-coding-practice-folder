{
 "cells": [
  {
   "cell_type": "markdown",
   "metadata": {},
   "source": [
    "<img src=\"./imgs/2_다음큰숫자.png\" width=\"80%\">"
   ]
  },
  {
   "cell_type": "code",
   "execution_count": 32,
   "metadata": {},
   "outputs": [],
   "source": [
    "def solution(n):\n",
    "    a = n+1\n",
    "    while bin(n).count(\"1\") != bin(a).count(\"1\"):\n",
    "         a += 1\n",
    "    return a"
   ]
  },
  {
   "cell_type": "code",
   "execution_count": 34,
   "metadata": {},
   "outputs": [
    {
     "data": {
      "text/plain": [
       "23"
      ]
     },
     "execution_count": 34,
     "metadata": {},
     "output_type": "execute_result"
    }
   ],
   "source": [
    "solution(15)"
   ]
  },
  {
   "cell_type": "code",
   "execution_count": null,
   "metadata": {},
   "outputs": [],
   "source": [
    "# 다른사람 풀이!!! \n",
    "# 문제가 개편 되었습니다. 이로 인해 함수 구성이 변경되어, 과거의 코드는 동작하지 않을 수 있습니다.\n",
    "# 새로운 함수 구성을 적용하려면 [코드 초기화] 버튼을 누르세요. 단, [코드 초기화] 버튼을 누르면 작성 중인 코드는 사라집니다.\n",
    "def nextBigNumber(n):\n",
    "    answer = 0\n",
    "    int2bin = \"{0:b}\".format(n)\n",
    "    count = int2bin.count('1')\n",
    "\n",
    "    if count == len(int2bin):\n",
    "        answer = '0'+int2bin\n",
    "        return int(answer,2)\n",
    "\n",
    "    if count - 1 == len(int2bin):\n",
    "        for i in range(0, count):\n",
    "            answer = answer + '1'\n",
    "        return int('0' + answer,2)\n",
    "\n",
    "    r_int2char = int2bin[::-1]\n",
    "    index = 0\n",
    "    flag = 0\n",
    "    if r_int2char[0:1] == '0':\n",
    "        for i in range(1, len(int2bin)):\n",
    "            if index != 0:\n",
    "                break\n",
    "            if r_int2char[i:].find('1') == 0:\n",
    "                flag = 1\n",
    "            if r_int2char[i:].find('0') == 0 and flag == 1:\n",
    "                index = i\n",
    "    else:\n",
    "        for i in range(0, len(int2bin)):\n",
    "            if index != 0:\n",
    "                break\n",
    "            if r_int2char[i:].find('0') == 0:\n",
    "                index = i\n",
    "\n",
    "    realIndex = len(int2bin) - index -1 \n",
    "    answer = int2bin[0:realIndex]\n",
    "    answer = answer + '1'\n",
    "    rCount = count - answer.count('1')\n",
    "\n",
    "    banswer = ''\n",
    "    for i in range(0,rCount):\n",
    "        banswer = banswer + '1'\n",
    "\n",
    "    for i in range(0, len(int2bin)):\n",
    "        if (len(answer) + len(banswer)) == len(int2bin):\n",
    "\n",
    "            return int(answer + banswer,2)\n",
    "        else:\n",
    "            banswer = '0' + banswer\n",
    "\n",
    "    return answer\n",
    "\n",
    "#아래 코드는 테스트를 위한 출력 코드입니다.\n",
    "print(nextBigNumber(949250))"
   ]
  }
 ],
 "metadata": {
  "kernelspec": {
   "display_name": "Python 3",
   "language": "python",
   "name": "python3"
  },
  "language_info": {
   "codemirror_mode": {
    "name": "ipython",
    "version": 3
   },
   "file_extension": ".py",
   "mimetype": "text/x-python",
   "name": "python",
   "nbconvert_exporter": "python",
   "pygments_lexer": "ipython3",
   "version": "3.7.6"
  }
 },
 "nbformat": 4,
 "nbformat_minor": 2
}
