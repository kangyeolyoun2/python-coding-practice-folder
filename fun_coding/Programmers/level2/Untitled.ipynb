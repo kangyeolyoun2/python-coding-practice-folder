{
 "cells": [
  {
   "cell_type": "code",
   "execution_count": 24,
   "metadata": {},
   "outputs": [
    {
     "data": {
      "text/plain": [
       "{'A': 0,\n",
       " 'B': 1,\n",
       " 'C': 2,\n",
       " 'D': 3,\n",
       " 'E': 4,\n",
       " 'F': 5,\n",
       " 'G': 6,\n",
       " 'H': 7,\n",
       " 'I': 8,\n",
       " 'J': 9,\n",
       " 'K': 10,\n",
       " 'L': 11,\n",
       " 'M': 12,\n",
       " 'N': 13,\n",
       " 'O': 14,\n",
       " 'P': 15,\n",
       " 'Q': 16,\n",
       " 'R': 17,\n",
       " 'S': 18,\n",
       " 'T': 19,\n",
       " 'U': 20,\n",
       " 'V': 21,\n",
       " 'W': 22,\n",
       " 'X': 23,\n",
       " 'Y': 24,\n",
       " 'Z': 25}"
      ]
     },
     "execution_count": 24,
     "metadata": {},
     "output_type": "execute_result"
    }
   ],
   "source": [
    "alphabets = {k:i for i,k in enumerate([chr(i) for i in range(65,91)])}\n",
    "alphabets"
   ]
  },
  {
   "cell_type": "code",
   "execution_count": 89,
   "metadata": {},
   "outputs": [],
   "source": [
    "# 내풀이 + 다른사람 참조 ㅠ. 다시한번 혼자서 안보고 풀어봐야겠다.\n",
    "\n",
    "def solution()\n",
    "alphabets = {k:i for i,k in enumerate([chr(i) for i in range(65,91)])}\n",
    "\n",
    "array = [0] * len(name)\n",
    "for i in range(len(name)):    \n",
    "    \n",
    "    if alphabets[name[i]] <= 13:\n",
    "        array[i] = alphabets[name[i]]\n",
    "    else:\n",
    "        array[i] = 26 - alphabets[name[i]]\n",
    "\n",
    "answer = 0\n",
    "location = 0\n",
    "\n",
    "while True:\n",
    "    \n",
    "    answer += array[location]\n",
    "    array[location] = 0\n",
    "    \n",
    "    if sum(array) == 0:\n",
    "        break\n",
    "        \n",
    "    left,right = 1, 1\n",
    "    \n",
    "    while array[location - left] <= 0:\n",
    "        left += 1\n",
    "    while array[location + right] <= 0:\n",
    "        right += 1\n",
    "        \n",
    "    answer += left if left < right else right\n",
    "    location -= left if left < right else right"
   ]
  },
  {
   "cell_type": "code",
   "execution_count": 91,
   "metadata": {},
   "outputs": [
    {
     "data": {
      "text/plain": [
       "11"
      ]
     },
     "execution_count": 91,
     "metadata": {},
     "output_type": "execute_result"
    }
   ],
   "source": [
    "answer"
   ]
  },
  {
   "cell_type": "code",
   "execution_count": 82,
   "metadata": {},
   "outputs": [
    {
     "data": {
      "text/plain": [
       "([0, 0, 1], [0, 1, 2])"
      ]
     },
     "execution_count": 82,
     "metadata": {},
     "output_type": "execute_result"
    }
   ],
   "source": [
    "array, idx"
   ]
  },
  {
   "cell_type": "code",
   "execution_count": 78,
   "metadata": {},
   "outputs": [
    {
     "data": {
      "text/plain": [
       "1"
      ]
     },
     "execution_count": 78,
     "metadata": {},
     "output_type": "execute_result"
    }
   ],
   "source": [
    "3//2"
   ]
  },
  {
   "cell_type": "code",
   "execution_count": null,
   "metadata": {},
   "outputs": [],
   "source": [
    "\"BBABA\" → 6\n",
    "\"BBAABAA\" → 7\n",
    "\"BBAABBB\" → 10\n",
    "\"BBAABAAAA\" → 7\n",
    "\"BBAABAAAAB\" → 10\n",
    "\n"
   ]
  }
 ],
 "metadata": {
  "kernelspec": {
   "display_name": "Python 3",
   "language": "python",
   "name": "python3"
  },
  "language_info": {
   "codemirror_mode": {
    "name": "ipython",
    "version": 3
   },
   "file_extension": ".py",
   "mimetype": "text/x-python",
   "name": "python",
   "nbconvert_exporter": "python",
   "pygments_lexer": "ipython3",
   "version": "3.7.6"
  }
 },
 "nbformat": 4,
 "nbformat_minor": 2
}
