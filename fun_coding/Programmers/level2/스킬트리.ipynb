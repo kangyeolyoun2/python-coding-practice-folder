{
 "cells": [
  {
   "cell_type": "markdown",
   "metadata": {},
   "source": [
    "<img src=\"./imgs/스킬트리.png\" width=\"60%\">"
   ]
  },
  {
   "cell_type": "code",
   "execution_count": 41,
   "metadata": {},
   "outputs": [],
   "source": [
    "# 내풀이, 해설은 밑을 참조\n",
    "def solution(skill, skill_trees):\n",
    "    count = 0\n",
    "\n",
    "    for i in skill_trees:\n",
    "        answer = True\n",
    "        l = []\n",
    "        for j in range(len(skill)):\n",
    "            #find함수는 없을 시 -1을 리턴한다. 즉 여기선 CBD 를 순회하며 없을시 -1하겠지?\n",
    "            index = i.find(skill[j])\n",
    "            if index == -1:\n",
    "                l.append(27)\n",
    "            else:\n",
    "                l.append(index)\n",
    "\n",
    "        for i in range(1,len(l)):\n",
    "            if l[i] < l[i-1]:\n",
    "                answer = False\n",
    "                break\n",
    "        if answer == True:\n",
    "            count += 1\n",
    "    return count\n"
   ]
  },
  {
   "cell_type": "code",
   "execution_count": 42,
   "metadata": {},
   "outputs": [
    {
     "data": {
      "text/plain": [
       "2"
      ]
     },
     "execution_count": 42,
     "metadata": {},
     "output_type": "execute_result"
    }
   ],
   "source": [
    "solution(skill, skill_trees)"
   ]
  },
  {
   "cell_type": "code",
   "execution_count": 33,
   "metadata": {},
   "outputs": [],
   "source": [
    "skill = \"CBD\"\n",
    "skill_trees = [\"BACDE\", \"CBADF\", \"AECB\", \"BDA\"]"
   ]
  },
  {
   "cell_type": "code",
   "execution_count": 35,
   "metadata": {},
   "outputs": [
    {
     "name": "stdout",
     "output_type": "stream",
     "text": [
      "[2, 0, 3]\n",
      "[0, 1, 3]\n",
      "[2, 3, 27]\n",
      "[27, 0, 1]\n"
     ]
    },
    {
     "data": {
      "text/plain": [
       "2"
      ]
     },
     "execution_count": 35,
     "metadata": {},
     "output_type": "execute_result"
    }
   ],
   "source": [
    "count = 0\n",
    "\n",
    "for i in skill_trees:\n",
    "    answer = True\n",
    "    l = []\n",
    "    for j in range(len(skill)):\n",
    "        #find함수는 없을 시 -1을 리턴한다. 즉 여기선 CBD 를 순회하며 없을시 -1하겠지?\n",
    "        index = i.find(skill[j])\n",
    "        if index == -1:\n",
    "            l.append(27)\n",
    "        else:\n",
    "            l.append(index)\n",
    "    print(l)\n",
    "    \n",
    "    for i in range(1,len(l)):\n",
    "        if l[i] < l[i-1]:\n",
    "            answer = False\n",
    "            break\n",
    "    if answer == True:\n",
    "        count += 1\n",
    "count"
   ]
  },
  {
   "cell_type": "code",
   "execution_count": null,
   "metadata": {},
   "outputs": [],
   "source": []
  },
  {
   "cell_type": "code",
   "execution_count": 43,
   "metadata": {},
   "outputs": [],
   "source": [
    "# 다른사람 풀이\n",
    "\n",
    "def solution(skill, skill_trees):\n",
    "    cnt = 0\n",
    "    for tree in skill_trees:\n",
    "        a = [tree.index(i) for i in skill if i in tree]\n",
    "        a_ = sorted(a)\n",
    "        if a == a_ and all(i in tree for i in skill[:len(a)]):\n",
    "            cnt += 1\n",
    "    return cnt"
   ]
  },
  {
   "cell_type": "code",
   "execution_count": 44,
   "metadata": {},
   "outputs": [
    {
     "data": {
      "text/plain": [
       "2"
      ]
     },
     "execution_count": 44,
     "metadata": {},
     "output_type": "execute_result"
    }
   ],
   "source": [
    "solution(skill, skill_trees)"
   ]
  },
  {
   "cell_type": "code",
   "execution_count": null,
   "metadata": {},
   "outputs": [],
   "source": [
    "# 다른사람 풀이 2\n",
    "def solution(skill, skill_trees):\n",
    "    answer = 0\n",
    "\n",
    "    for skills in skill_trees:\n",
    "        skill_list = list(skill)\n",
    "\n",
    "        for s in skills:\n",
    "            if s in skill:\n",
    "                if s != skill_list.pop(0):\n",
    "                    break\n",
    "        else:\n",
    "            answer += 1\n",
    "\n",
    "    return answer\n"
   ]
  }
 ],
 "metadata": {
  "kernelspec": {
   "display_name": "Python 3",
   "language": "python",
   "name": "python3"
  },
  "language_info": {
   "codemirror_mode": {
    "name": "ipython",
    "version": 3
   },
   "file_extension": ".py",
   "mimetype": "text/x-python",
   "name": "python",
   "nbconvert_exporter": "python",
   "pygments_lexer": "ipython3",
   "version": "3.7.6"
  }
 },
 "nbformat": 4,
 "nbformat_minor": 2
}
