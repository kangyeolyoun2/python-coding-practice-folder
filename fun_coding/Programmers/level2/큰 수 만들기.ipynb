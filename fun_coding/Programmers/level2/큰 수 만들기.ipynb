{
 "cells": [
  {
   "cell_type": "markdown",
   "metadata": {},
   "source": [
    "<img src=\"./imgs/큰수만들기.png\" width=\"60%\">"
   ]
  },
  {
   "cell_type": "code",
   "execution_count": 278,
   "metadata": {},
   "outputs": [],
   "source": [
    "#이것도 풀이성공 ^ㅡ^\n",
    "def solution(number, k):\n",
    "    ans_len = len(number)-k\n",
    "    a = []\n",
    "    for i in range(len(number)):\n",
    "\n",
    "        while a and number[i] > a[-1] and k > 0:\n",
    "            a.pop()\n",
    "            k -= 1\n",
    "\n",
    "        a.append(number[i])\n",
    "        \n",
    "        # 하단의것은 매번마다 max(number[i:]을 계산하기 때문에 성능이 안나오는것으로 판단된다!)\n",
    "        if len(a) == ans_len:\n",
    "            if a[-1] >= max(number[i:]):\n",
    "                break\n",
    "# 시관초과 뜨는 부분. 왜 시간초과가 뜨는지 분명히 하단의 풀이보다 더 짧아야 정상인것같은데; \n",
    "#         if a[-1] >= max(number[i:]) and len(a) == ans_len:\n",
    "#             break\n",
    "\n",
    "        \n",
    "    b = \"\".join(a)\n",
    "    \n",
    "    \n",
    "    return b"
   ]
  },
  {
   "cell_type": "code",
   "execution_count": 279,
   "metadata": {},
   "outputs": [
    {
     "data": {
      "text/plain": [
       "'775841'"
      ]
     },
     "execution_count": 279,
     "metadata": {},
     "output_type": "execute_result"
    }
   ],
   "source": [
    "solution(\"4177252841\",4)"
   ]
  },
  {
   "cell_type": "code",
   "execution_count": 276,
   "metadata": {},
   "outputs": [],
   "source": [
    "def solution(number, k):\n",
    "    ans_len = len(number)-k\n",
    "    a = []\n",
    "    for i in range(len(number)):\n",
    "\n",
    "        while a and number[i] > a[-1] and k > 0:\n",
    "            a.pop()\n",
    "            k -= 1\n",
    "\n",
    "        a.append(number[i])\n",
    "        \n",
    "    # 와... 이부분이 진짜 오래걸렸다. 1개가 시간초과 ;\n",
    "    #한 1시간넘게 고민한것같다. 다른사람의 풀이를 참조하였으나 똑같이 시간초과;;;\n",
    "    if k > 0:\n",
    "        a = a[:ans_len]\n",
    "        \n",
    "\n",
    "\n",
    "    b = \"\".join(a)\n",
    "    \n",
    "    \n",
    "    return b"
   ]
  },
  {
   "cell_type": "code",
   "execution_count": 277,
   "metadata": {},
   "outputs": [
    {
     "data": {
      "text/plain": [
       "'775841'"
      ]
     },
     "execution_count": 277,
     "metadata": {},
     "output_type": "execute_result"
    }
   ],
   "source": [
    "solution(\"4177252841\",4)"
   ]
  },
  {
   "cell_type": "code",
   "execution_count": null,
   "metadata": {},
   "outputs": [],
   "source": []
  },
  {
   "cell_type": "code",
   "execution_count": null,
   "metadata": {},
   "outputs": [],
   "source": [
    "#다른사람풀이, 내가 처음 생각했던데로 enumerate사용해서 풀었다. 나도 이렇게 풀어봐야지.\n",
    "def solution(number, k):\n",
    "    collected = []\n",
    "\n",
    "    for (i, num) in enumerate(number):\n",
    "        while collected and collected[-1] < num and k > 0:\n",
    "            collected.pop()\n",
    "            k -= 1\n",
    "        \n",
    "        if k == 0:\n",
    "            collected += number[i:]\n",
    "            break\n",
    "\n",
    "        collected.append(num)\n",
    "\n",
    "    collected = collected[:-k] if k > 0 else collected\n",
    "    answer = \"\".join(collected)\n",
    "    return answer"
   ]
  },
  {
   "cell_type": "code",
   "execution_count": null,
   "metadata": {},
   "outputs": [],
   "source": []
  },
  {
   "cell_type": "code",
   "execution_count": null,
   "metadata": {},
   "outputs": [],
   "source": []
  },
  {
   "cell_type": "code",
   "execution_count": null,
   "metadata": {},
   "outputs": [],
   "source": []
  }
 ],
 "metadata": {
  "kernelspec": {
   "display_name": "Python 3",
   "language": "python",
   "name": "python3"
  },
  "language_info": {
   "codemirror_mode": {
    "name": "ipython",
    "version": 3
   },
   "file_extension": ".py",
   "mimetype": "text/x-python",
   "name": "python",
   "nbconvert_exporter": "python",
   "pygments_lexer": "ipython3",
   "version": "3.7.6"
  }
 },
 "nbformat": 4,
 "nbformat_minor": 2
}
