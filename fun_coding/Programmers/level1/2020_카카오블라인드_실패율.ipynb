{
 "cells": [
  {
   "cell_type": "markdown",
   "metadata": {},
   "source": [
    "<img src=\".././imgs/2020_kakablind_실패율1.png\" width=\"100%\">"
   ]
  },
  {
   "cell_type": "markdown",
   "metadata": {},
   "source": [
    "<img src=\".././imgs/2020_kakablind_실패율2.png\" width=\"100%\">"
   ]
  },
  {
   "cell_type": "code",
   "execution_count": 16,
   "metadata": {},
   "outputs": [],
   "source": [
    "stages, N = [2, 1, 2, 6, 2, 4, 3, 3], [3,4,2,1,5]"
   ]
  },
  {
   "cell_type": "code",
   "execution_count": 13,
   "metadata": {},
   "outputs": [],
   "source": [
    "from collections import Counter"
   ]
  },
  {
   "cell_type": "code",
   "execution_count": 22,
   "metadata": {},
   "outputs": [],
   "source": [
    "# 분수화와, len사용한다는 개념까지 맞췄지만 이렇게 깔끔하겐 못해서 베낌 ㅠㅠ 반성하고 \n",
    "#계속봅시당\n",
    "def solution(N, stages):\n",
    "    # stages에 도전한 사람의 수를 구한다.\n",
    "    denominator = len(stages)\n",
    "    # result를 담을 딕셔너리?\n",
    "    result = {}\n",
    "    \n",
    "    # stage별 실패한 사람들 카운트 해봅시다.\n",
    "    for stage in range(1, N+1):\n",
    "        if denominator != 0:\n",
    "            count = stages.count(stage)\n",
    "            result[stage] = count / denominator\n",
    "            denominator -= count\n",
    "        else:\n",
    "            result[stage] = 0\n",
    "    \n",
    "    # result라는 딕셔너리를, value값에 따라 내림차순 기준으로 정리합니다.\n",
    "    return sorted(result, key=lambda x: result[x], reverse = True)"
   ]
  },
  {
   "cell_type": "code",
   "execution_count": 21,
   "metadata": {},
   "outputs": [
    {
     "data": {
      "text/plain": [
       "[1, 2, 3, 4, 5]"
      ]
     },
     "execution_count": 21,
     "metadata": {},
     "output_type": "execute_result"
    }
   ],
   "source": [
    "solution(N, stages)"
   ]
  },
  {
   "cell_type": "code",
   "execution_count": 24,
   "metadata": {},
   "outputs": [
    {
     "data": {
      "text/plain": [
       "{1: 0.125, 2: 0.42857142857142855, 3: 0.5, 4: 0.5, 5: 0.0}"
      ]
     },
     "execution_count": 24,
     "metadata": {},
     "output_type": "execute_result"
    }
   ],
   "source": [
    "result"
   ]
  },
  {
   "cell_type": "code",
   "execution_count": null,
   "metadata": {},
   "outputs": [],
   "source": [
    "# 다른사람의 풀이, 너무 깔끔하다. 보고배워야겠다.\n",
    "def solution(N, stages):\n",
    "    fail = {}\n",
    "    for i in range(1,N+1):\n",
    "        try:\n",
    "            fail_ = len([a for a in stages if a==i])/len([a for a in stages if a>=i])\n",
    "        except:\n",
    "            fail_ = 0\n",
    "        fail[i]=fail_\n",
    "    answer = sorted(fail, key=fail.get, reverse=True)\n",
    "    return answer"
   ]
  }
 ],
 "metadata": {
  "kernelspec": {
   "display_name": "Python 3",
   "language": "python",
   "name": "python3"
  },
  "language_info": {
   "codemirror_mode": {
    "name": "ipython",
    "version": 3
   },
   "file_extension": ".py",
   "mimetype": "text/x-python",
   "name": "python",
   "nbconvert_exporter": "python",
   "pygments_lexer": "ipython3",
   "version": "3.7.6"
  }
 },
 "nbformat": 4,
 "nbformat_minor": 2
}
