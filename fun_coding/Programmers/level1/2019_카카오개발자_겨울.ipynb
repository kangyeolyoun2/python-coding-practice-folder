{
 "cells": [
  {
   "cell_type": "markdown",
   "metadata": {},
   "source": [
    "<img src=\"./imgs/크레인인형1.png\" width=\"100%\">"
   ]
  },
  {
   "cell_type": "markdown",
   "metadata": {},
   "source": [
    "<img src=\"./imgs/크레인인형2.png\" width=\"100%\">"
   ]
  },
  {
   "cell_type": "code",
   "execution_count": 5,
   "metadata": {},
   "outputs": [
    {
     "data": {
      "text/plain": [
       "[[0, 0, 0, 0, 0],\n",
       " [0, 0, 1, 0, 3],\n",
       " [0, 2, 5, 0, 1],\n",
       " [4, 2, 4, 4, 2],\n",
       " [3, 5, 1, 3, 1]]"
      ]
     },
     "execution_count": 5,
     "metadata": {},
     "output_type": "execute_result"
    }
   ],
   "source": [
    "board"
   ]
  },
  {
   "cell_type": "code",
   "execution_count": 19,
   "metadata": {},
   "outputs": [
    {
     "name": "stdout",
     "output_type": "stream",
     "text": [
      "[[4, 3], [2, 2, 5], [1, 5, 4, 1], [4, 3], [3, 1, 2, 1]]\n"
     ]
    },
    {
     "data": {
      "text/plain": [
       "4"
      ]
     },
     "execution_count": 19,
     "metadata": {},
     "output_type": "execute_result"
    }
   ],
   "source": [
    "solution(board, moves)"
   ]
  },
  {
   "cell_type": "code",
   "execution_count": 243,
   "metadata": {},
   "outputs": [],
   "source": [
    "# 그냥 떠오르는데로 짜다보니 너무 길어졌다;;\n",
    "def solution(board, moves):\n",
    "    \n",
    "    if len(moves) == 0 or len(board) == 0:\n",
    "        return 0\n",
    "    \n",
    "\n",
    "    a = []\n",
    "\n",
    "    b = []\n",
    "    for i in range(len(board)):\n",
    "        for j in range(len(board)):\n",
    "            a.append(board[j][i])\n",
    "\n",
    "    for i in range(len(board)):\n",
    "        b.append(a[i*len(board):i*len(board)+len(board)])\n",
    "\n",
    "\n",
    "    for i in b:\n",
    "        while 0 in i:\n",
    "            i.pop(0)\n",
    "\n",
    "    c = []\n",
    "\n",
    "    for i in moves:\n",
    "        if not b[i-1]:\n",
    "            continue\n",
    "        e = b[i-1].pop(0)\n",
    "        c.append(e)\n",
    "\n",
    "\n",
    "    count = 0\n",
    "    \n",
    "    d = []\n",
    "    \n",
    "    d.append(c.pop(0))\n",
    "\n",
    "    while c:\n",
    "        \n",
    "        if not d:\n",
    "            d.append(c.pop(0))\n",
    "\n",
    "        if c and d and c[0] == d[-1]:\n",
    "            c.pop(0)\n",
    "            d.pop()\n",
    "            count += 2\n",
    "        elif c:\n",
    "            d.append(c.pop(0))\n",
    "    return count"
   ]
  },
  {
   "cell_type": "code",
   "execution_count": 242,
   "metadata": {},
   "outputs": [
    {
     "data": {
      "text/plain": [
       "2"
      ]
     },
     "execution_count": 242,
     "metadata": {},
     "output_type": "execute_result"
    }
   ],
   "source": [
    "board = [[0,0,0,0,0],[0,0,1,0,3],[0,2,5,0,1],[4,2,4,4,2],[3,5,1,3,1]]\n",
    "moves = [1,2,3,4,1,5,1]\n",
    "solution(board, moves)"
   ]
  },
  {
   "cell_type": "code",
   "execution_count": null,
   "metadata": {},
   "outputs": [],
   "source": []
  },
  {
   "cell_type": "code",
   "execution_count": 244,
   "metadata": {},
   "outputs": [
    {
     "data": {
      "text/plain": [
       "10"
      ]
     },
     "execution_count": 244,
     "metadata": {},
     "output_type": "execute_result"
    }
   ],
   "source": [
    "board = [[1,1,1,1,1],[2,2,2,2,2],[3,3,3,3,3],[4,4,4,4,4],[5,5,5,5,5]]\n",
    "moves = [1,2,3,4,1,2,3,4,1,2]\n",
    "solution(board,moves)"
   ]
  },
  {
   "cell_type": "code",
   "execution_count": null,
   "metadata": {},
   "outputs": [],
   "source": []
  },
  {
   "cell_type": "code",
   "execution_count": null,
   "metadata": {},
   "outputs": [],
   "source": []
  },
  {
   "cell_type": "code",
   "execution_count": 240,
   "metadata": {},
   "outputs": [
    {
     "data": {
      "text/plain": [
       "4"
      ]
     },
     "execution_count": 240,
     "metadata": {},
     "output_type": "execute_result"
    }
   ],
   "source": [
    "board = [[0,0,1,2],[0,0,2,1],[1,2,1,3],[1,2,3,4]]\n",
    "moves = [0,1,1,1,1,1,1,1,2,2,2,2,2,2,2,2,2,2,3,3,3,3,3,3,2,2,2,2,4,4,4,4]\n",
    "solution(board,moves)"
   ]
  },
  {
   "cell_type": "code",
   "execution_count": null,
   "metadata": {},
   "outputs": [],
   "source": []
  },
  {
   "cell_type": "code",
   "execution_count": null,
   "metadata": {},
   "outputs": [],
   "source": []
  },
  {
   "cell_type": "code",
   "execution_count": null,
   "metadata": {},
   "outputs": [],
   "source": []
  },
  {
   "cell_type": "code",
   "execution_count": 135,
   "metadata": {},
   "outputs": [
    {
     "name": "stdout",
     "output_type": "stream",
     "text": [
      "[3, 1, 1, 3, 2, 4] [4]\n",
      "[1, 1, 3, 2, 4] [4, 3]\n",
      "[1, 3, 2, 4] [4, 3, 1]\n",
      "[2, 4] [4, 3, 3]\n",
      "[4] [4, 3, 3, 2]\n",
      "[] [4, 3, 3, 2, 4]\n"
     ]
    },
    {
     "data": {
      "text/plain": [
       "2"
      ]
     },
     "execution_count": 135,
     "metadata": {},
     "output_type": "execute_result"
    }
   ],
   "source": [
    "board = [[0,0,0,0,0],[0,0,1,0,3],[0,2,5,0,1],[4,2,4,4,2],[3,5,1,3,1]]\n",
    "moves = [1,5,3,5,1,2,1,4]\n",
    "solution(board, moves)"
   ]
  },
  {
   "cell_type": "code",
   "execution_count": null,
   "metadata": {},
   "outputs": [],
   "source": []
  },
  {
   "cell_type": "code",
   "execution_count": 37,
   "metadata": {},
   "outputs": [
    {
     "data": {
      "text/plain": [
       "[[0, 0, 0, 0, 0],\n",
       " [0, 0, 1, 0, 3],\n",
       " [0, 2, 5, 0, 1],\n",
       " [4, 2, 4, 4, 2],\n",
       " [3, 5, 1, 3, 1]]"
      ]
     },
     "execution_count": 37,
     "metadata": {},
     "output_type": "execute_result"
    }
   ],
   "source": [
    "board"
   ]
  },
  {
   "cell_type": "code",
   "execution_count": 38,
   "metadata": {},
   "outputs": [
    {
     "name": "stdout",
     "output_type": "stream",
     "text": [
      "[4, 3, 1, 1, 3, 2, 4]\n",
      "[4, 2, 4]\n"
     ]
    },
    {
     "data": {
      "text/plain": [
       "4"
      ]
     },
     "execution_count": 38,
     "metadata": {},
     "output_type": "execute_result"
    }
   ],
   "source": [
    "solution(board, moves)"
   ]
  },
  {
   "cell_type": "code",
   "execution_count": null,
   "metadata": {},
   "outputs": [],
   "source": []
  },
  {
   "cell_type": "code",
   "execution_count": null,
   "metadata": {},
   "outputs": [],
   "source": []
  },
  {
   "cell_type": "code",
   "execution_count": null,
   "metadata": {},
   "outputs": [],
   "source": [
    "def solution(board, moves):\n",
    "    \n",
    "    if len(moves) == 0 or len(board) == 0:\n",
    "        return 0\n",
    "\n",
    "    a = []\n",
    "\n",
    "    b = []\n",
    "    for i in range(len(board)):\n",
    "        for j in range(len(board)):\n",
    "            a.append(board[j][i])\n",
    "\n",
    "    for i in range(len(board)):\n",
    "        b.append(a[i*len(board):i*len(board)+len(board)])\n",
    "\n",
    "\n",
    "    for i in b:\n",
    "        while 0 in i:\n",
    "            i.pop(0)\n",
    "            \n",
    "    c = []\n",
    "    for i in moves:\n",
    "        if not b[i-1]:\n",
    "            continue\n",
    "        e = b[i-1].pop(0)\n",
    "        c.append(e)\n",
    "\n",
    "    d = []\n",
    "    count = 0\n",
    "    d.append(c.pop(0))\n",
    "    for _ in range(len(c)):\n",
    "        if d[-1] == c[0]:\n",
    "            d.pop()\n",
    "            c.pop(0)\n",
    "            count += 2\n",
    "        else:\n",
    "            d.append(c.pop(0))\n",
    "    print(d)\n",
    "    return count"
   ]
  },
  {
   "cell_type": "code",
   "execution_count": null,
   "metadata": {},
   "outputs": [],
   "source": []
  },
  {
   "cell_type": "code",
   "execution_count": 246,
   "metadata": {},
   "outputs": [],
   "source": [
    "import numpy as np\n",
    "\n",
    "def solution(board, moves):\n",
    "    answer = 0\n",
    "    matrix = [[row[i] for row in board] for i in range(len(board))]\n",
    "    points = []\n",
    "    for col in matrix:\n",
    "        p = np.array(col)\n",
    "        try:\n",
    "            p = np.nonzero(p)[0][0]\n",
    "        except:\n",
    "            p = len(matrix)\n",
    "        points.append(p)\n",
    "\n",
    "    bucket=[]\n",
    "    for col in moves:\n",
    "        if points[col-1] == len(matrix):\n",
    "            continue\n",
    "        else:\n",
    "            target = matrix[col-1][points[col-1]]\n",
    "            points[col-1] += 1\n",
    "            if bucket[-1:] == [target]:\n",
    "                answer += 1\n",
    "                bucket.remove(bucket[-1])\n",
    "            else:\n",
    "                bucket.append(target)\n",
    "    return answer*2"
   ]
  },
  {
   "cell_type": "code",
   "execution_count": 247,
   "metadata": {},
   "outputs": [
    {
     "data": {
      "text/plain": [
       "10"
      ]
     },
     "execution_count": 247,
     "metadata": {},
     "output_type": "execute_result"
    }
   ],
   "source": [
    "board = [[1,1,1,1,1],[2,2,2,2,2],[3,3,3,3,3],[4,4,4,4,4],[5,5,5,5,5]]\n",
    "moves = [1,2,3,4,1,2,3,4,1,2]\n",
    "solution(board,moves)"
   ]
  },
  {
   "cell_type": "code",
   "execution_count": null,
   "metadata": {},
   "outputs": [],
   "source": []
  }
 ],
 "metadata": {
  "kernelspec": {
   "display_name": "Python 3",
   "language": "python",
   "name": "python3"
  },
  "language_info": {
   "codemirror_mode": {
    "name": "ipython",
    "version": 3
   },
   "file_extension": ".py",
   "mimetype": "text/x-python",
   "name": "python",
   "nbconvert_exporter": "python",
   "pygments_lexer": "ipython3",
   "version": "3.7.6"
  }
 },
 "nbformat": 4,
 "nbformat_minor": 2
}
