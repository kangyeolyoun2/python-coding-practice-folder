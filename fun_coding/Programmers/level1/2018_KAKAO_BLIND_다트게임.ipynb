{
 "cells": [
  {
   "cell_type": "markdown",
   "metadata": {},
   "source": [
    "<img src=\"./imgs/kakao_다트게임1.png\" width=\"100%\">"
   ]
  },
  {
   "cell_type": "markdown",
   "metadata": {},
   "source": [
    "<img src=\"./imgs/kakao_다트게임2.png\" width=\"60%\">"
   ]
  },
  {
   "cell_type": "code",
   "execution_count": 1,
   "metadata": {},
   "outputs": [],
   "source": [
    "# 앞에 result 구하는 부분에서 너무 나중에 어거지로 맞추느라 코드가 길어졌다. 나중에 슬라이싱으로 바꿔보자.\n",
    "def solution(dartResult):\n",
    "    dartResult = list(dartResult)\n",
    "    c = 0\n",
    "    result = []\n",
    "    while len(dartResult) > 0:\n",
    "        a = ''\n",
    "\n",
    "        while dartResult[0].isdigit() == True:\n",
    "            a += dartResult.pop(0)\n",
    "\n",
    "        while dartResult[0].isdigit() == False:\n",
    "            a += dartResult.pop(0)\n",
    "            if len(dartResult) == 0:\n",
    "                break\n",
    "\n",
    "        result.append(a)\n",
    "\n",
    "    for i in range(1,len(result)):\n",
    "        if \"*\" in result[i]:\n",
    "            result[i-1] += '*'\n",
    "\n",
    "    # result를 계산해준 후 2차계산\n",
    "    while result:\n",
    "\n",
    "        a = ''\n",
    "        b = 0\n",
    "        calculation = result.pop(0)\n",
    "        calculation = list(calculation)\n",
    "\n",
    "        while calculation[0].isdigit():\n",
    "            a += calculation.pop(0)\n",
    "\n",
    "        b += int(a)\n",
    "\n",
    "        while calculation[0].isdigit() == False:\n",
    "            a += calculation.pop(0)\n",
    "            if len(calculation) == 0:\n",
    "                break\n",
    "\n",
    "        for i in a:\n",
    "            if i == \"D\":\n",
    "                b **= 2\n",
    "            elif i == \"T\":\n",
    "                b **= 3\n",
    "            elif i == \"*\":\n",
    "                b *= 2\n",
    "            elif i == \"#\":\n",
    "                b *= -1\n",
    "\n",
    "        c += b\n",
    "\n",
    "    return c"
   ]
  },
  {
   "cell_type": "code",
   "execution_count": 2,
   "metadata": {},
   "outputs": [],
   "source": [
    "# 다른사람 풀이. 정규표현식으로 풀고, 처음에 생각한 딕셔너리 형태로 반환하였다.\n",
    "import re\n",
    "\n",
    "\n",
    "def solution(dartResult):\n",
    "    bonus = {'S' : 1, 'D' : 2, 'T' : 3}\n",
    "    option = {'' : 1, '*' : 2, '#' : -1}\n",
    "    p = re.compile('(\\d+)([SDT])([*#]?)')\n",
    "    dart = p.findall(dartResult)\n",
    "    for i in range(len(dart)):\n",
    "        if dart[i][2] == '*' and i > 0:\n",
    "            dart[i-1] *= 2\n",
    "        dart[i] = int(dart[i][0]) ** bonus[dart[i][1]] * option[dart[i][2]]\n",
    "\n",
    "    answer = sum(dart)\n",
    "    return answer"
   ]
  },
  {
   "cell_type": "code",
   "execution_count": null,
   "metadata": {},
   "outputs": [],
   "source": [
    "# 다른사람풀이2, 정규표현식없이 그냥 깔끔하게 풀었다. \n",
    "\n",
    "def solution(dartResult):\n",
    "    point = []\n",
    "    answer = []\n",
    "    dartResult = dartResult.replace('10','k')\n",
    "    point = ['10' if i == 'k' else i for i in dartResult]\n",
    "    print(point)\n",
    "\n",
    "    i = -1\n",
    "    sdt = ['S', 'D', 'T']\n",
    "    for j in point:\n",
    "        if j in sdt :\n",
    "            answer[i] = answer[i] ** (sdt.index(j)+1)\n",
    "        elif j == '*':\n",
    "            answer[i] = answer[i] * 2\n",
    "            if i != 0 :\n",
    "                answer[i - 1] = answer[i - 1] * 2\n",
    "        elif j == '#':\n",
    "            answer[i] = answer[i] * (-1)\n",
    "        else:\n",
    "            answer.append(int(j))\n",
    "            i += 1\n",
    "    return sum(answer)\n"
   ]
  }
 ],
 "metadata": {
  "kernelspec": {
   "display_name": "Python 3",
   "language": "python",
   "name": "python3"
  },
  "language_info": {
   "codemirror_mode": {
    "name": "ipython",
    "version": 3
   },
   "file_extension": ".py",
   "mimetype": "text/x-python",
   "name": "python",
   "nbconvert_exporter": "python",
   "pygments_lexer": "ipython3",
   "version": "3.7.6"
  }
 },
 "nbformat": 4,
 "nbformat_minor": 2
}
