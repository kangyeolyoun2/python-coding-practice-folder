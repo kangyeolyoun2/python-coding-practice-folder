{
 "cells": [
  {
   "cell_type": "markdown",
   "metadata": {},
   "source": [
    "<img src=\"./imgs/카카오_비밀지도1.png\" width=\"100%\">"
   ]
  },
  {
   "cell_type": "markdown",
   "metadata": {},
   "source": [
    "<img src=\"./imgs/카카오_비밀지도2.png\" width=\"60%\">"
   ]
  },
  {
   "cell_type": "code",
   "execution_count": 3,
   "metadata": {},
   "outputs": [],
   "source": [
    "n = 5\n",
    "array = [[0] * n for i in range(n)]"
   ]
  },
  {
   "cell_type": "code",
   "execution_count": 5,
   "metadata": {},
   "outputs": [
    {
     "data": {
      "text/plain": [
       "[[0, 0, 0, 0, 0],\n",
       " [0, 0, 0, 0, 0],\n",
       " [0, 0, 0, 0, 0],\n",
       " [0, 0, 0, 0, 0],\n",
       " [0, 0, 0, 0, 0]]"
      ]
     },
     "execution_count": 5,
     "metadata": {},
     "output_type": "execute_result"
    }
   ],
   "source": [
    "array"
   ]
  },
  {
   "cell_type": "code",
   "execution_count": 39,
   "metadata": {},
   "outputs": [],
   "source": [
    "arr1 = [9, 20, 28, 18, 11]\n",
    "arr2 = [30, 1, 21, 17, 28]"
   ]
  },
  {
   "cell_type": "code",
   "execution_count": 40,
   "metadata": {},
   "outputs": [],
   "source": [
    "n = 5\n",
    "puz1 = []\n",
    "puz2 = []\n",
    "\n",
    "for i in arr1:\n",
    "    a = \"\"\n",
    "    while i > 0:\n",
    "        a += str(i % 2)\n",
    "        i = i // 2\n",
    "\n",
    "    while len(a) < n:\n",
    "        a += str(0)\n",
    "\n",
    "    a = a[::-1]\n",
    "    puz1.append(a)\n",
    "    \n",
    "for i in arr2:\n",
    "    a = \"\"\n",
    "    while i > 0:\n",
    "        a += str(i % 2)\n",
    "        i = i // 2\n",
    "\n",
    "    while len(a) < n:\n",
    "        a += str(0)\n",
    "\n",
    "    a = a[::-1]\n",
    "    puz2.append(a)\n",
    "\n"
   ]
  },
  {
   "cell_type": "code",
   "execution_count": 150,
   "metadata": {},
   "outputs": [
    {
     "data": {
      "text/plain": [
       "(['01001', '10100', '11100', '10010', '01011'],\n",
       " ['11110', '00001', '10101', '10001', '11100'])"
      ]
     },
     "execution_count": 150,
     "metadata": {},
     "output_type": "execute_result"
    }
   ],
   "source": [
    "puz1, puz2"
   ]
  },
  {
   "cell_type": "code",
   "execution_count": 52,
   "metadata": {},
   "outputs": [],
   "source": [
    "result = [int(x)+int(y) for x,y in zip(puz1,puz2)]\n",
    "result = list(map(str,result))"
   ]
  },
  {
   "cell_type": "code",
   "execution_count": 53,
   "metadata": {},
   "outputs": [
    {
     "data": {
      "text/plain": [
       "['12111', '10101', '21201', '20011', '12111']"
      ]
     },
     "execution_count": 53,
     "metadata": {},
     "output_type": "execute_result"
    }
   ],
   "source": [
    "result"
   ]
  },
  {
   "cell_type": "code",
   "execution_count": 89,
   "metadata": {},
   "outputs": [],
   "source": [
    "a = [''] * n\n",
    "for i in range(n):\n",
    "    for j in range(n):\n",
    "        if result[i][j] == '1' or result[i][j] == '2':\n",
    "            a[i] += '#'\n",
    "        else:\n",
    "            a[i] += \" \""
   ]
  },
  {
   "cell_type": "code",
   "execution_count": 90,
   "metadata": {},
   "outputs": [
    {
     "data": {
      "text/plain": [
       "['#####', '# # #', '### #', '#  ##', '#####']"
      ]
     },
     "execution_count": 90,
     "metadata": {},
     "output_type": "execute_result"
    }
   ],
   "source": [
    "a"
   ]
  },
  {
   "cell_type": "code",
   "execution_count": null,
   "metadata": {},
   "outputs": [],
   "source": []
  },
  {
   "cell_type": "code",
   "execution_count": 140,
   "metadata": {},
   "outputs": [],
   "source": [
    "# 내풀이\n",
    "\n",
    "def solution(n, arr1, arr2):\n",
    "    puz1 = []\n",
    "    puz2 = []\n",
    "\n",
    "    for i in arr1:\n",
    "        a = \"\"\n",
    "        while i > 0:\n",
    "            a += str(i % 2)\n",
    "            i = i // 2\n",
    "\n",
    "        while len(a) < n:\n",
    "            a += str(0)\n",
    "\n",
    "        a = a[::-1]\n",
    "        puz1.append(a)\n",
    "\n",
    "    for i in arr2:\n",
    "        a = \"\"\n",
    "        while i > 0:\n",
    "            a += str(i % 2)\n",
    "            i = i // 2\n",
    "\n",
    "        while len(a) < n:\n",
    "            a += str(0)\n",
    "\n",
    "        a = a[::-1]\n",
    "        puz2.append(a)\n",
    "\n",
    "    result = [str(int(x)+int(y)) for x,y in zip(puz1,puz2)]\n",
    "    \n",
    "    for i in range(len(result)):\n",
    "        result[i] = result[i].rjust(n, \"0\")\n",
    "    \n",
    "    print(result)\n",
    "    \n",
    "    \n",
    "    a = [''] * n\n",
    "    for i in range(n):\n",
    "        for j in range(n):\n",
    "            if result[i][j] == '1' or result[i][j] == '2':\n",
    "                a[i] += '#'\n",
    "            else:\n",
    "                a[i] += \" \"\n",
    "        \n",
    "                \n",
    "    return a"
   ]
  },
  {
   "cell_type": "code",
   "execution_count": 141,
   "metadata": {},
   "outputs": [
    {
     "name": "stdout",
     "output_type": "stream",
     "text": [
      "['112121', '211001', '110012', '011220', '012221', '111020']\n"
     ]
    },
    {
     "data": {
      "text/plain": [
       "['######', '###  #', '##  ##', ' #### ', ' #####', '### # ']"
      ]
     },
     "execution_count": 141,
     "metadata": {},
     "output_type": "execute_result"
    }
   ],
   "source": [
    "solution(6, [46, 33, 33 ,22, 31, 50], [27 ,56, 19, 14, 14, 10])"
   ]
  },
  {
   "cell_type": "code",
   "execution_count": null,
   "metadata": {},
   "outputs": [],
   "source": []
  },
  {
   "cell_type": "code",
   "execution_count": 149,
   "metadata": {},
   "outputs": [
    {
     "data": {
      "text/plain": [
       "5"
      ]
     },
     "execution_count": 149,
     "metadata": {},
     "output_type": "execute_result"
    }
   ],
   "source": [
    "# 다른사람풀이, 다들 bin을 사용했네 -_-;\n",
    "\n",
    "def solution(n, arr1, arr2):\n",
    "    answer = []\n",
    "    for i,j in zip(arr1,arr2):\n",
    "        a12 = str(bin(i|j)[2:])\n",
    "        a12=a12.rjust(n,'0')\n",
    "        a12=a12.replace('1','#')\n",
    "        a12=a12.replace('0',' ')\n",
    "        answer.append(a12)\n",
    "    return answer"
   ]
  },
  {
   "cell_type": "code",
   "execution_count": null,
   "metadata": {},
   "outputs": [],
   "source": []
  }
 ],
 "metadata": {
  "kernelspec": {
   "display_name": "Python 3",
   "language": "python",
   "name": "python3"
  },
  "language_info": {
   "codemirror_mode": {
    "name": "ipython",
    "version": 3
   },
   "file_extension": ".py",
   "mimetype": "text/x-python",
   "name": "python",
   "nbconvert_exporter": "python",
   "pygments_lexer": "ipython3",
   "version": "3.7.6"
  }
 },
 "nbformat": 4,
 "nbformat_minor": 2
}
