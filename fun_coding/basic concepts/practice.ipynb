{
 "cells": [
  {
   "cell_type": "code",
   "execution_count": 33,
   "metadata": {},
   "outputs": [],
   "source": [
    "def linear_search(data, target):\n",
    "    \n",
    "    for i in range(len(data)):\n",
    "        if data[i] == target:\n",
    "            print(\"index is {}, data is {}\".format(i, data[i]))\n",
    "            return i\n",
    "        \n",
    "    return None"
   ]
  },
  {
   "cell_type": "code",
   "execution_count": 34,
   "metadata": {},
   "outputs": [
    {
     "name": "stdout",
     "output_type": "stream",
     "text": [
      "index is 2, data is 9\n"
     ]
    }
   ],
   "source": [
    "if __name__ == \"__main__\":\n",
    "    data = [i **2 for i in range(1, 11)]\n",
    "    target = 9\n",
    "    linear_search(data, target)"
   ]
  },
  {
   "cell_type": "code",
   "execution_count": null,
   "metadata": {},
   "outputs": [],
   "source": []
  },
  {
   "cell_type": "code",
   "execution_count": 38,
   "metadata": {},
   "outputs": [],
   "source": [
    "def binary_search(data, target):\n",
    "    data.sort()\n",
    "    start = 0\n",
    "    end = len(data) - 1\n",
    "    \n",
    "    while start <= end:\n",
    "        mid = (start+end) // 2\n",
    "\n",
    "        if data[mid] == target:\n",
    "            print(\"index is {}, data is {}\".format(mid, data[mid]))\n",
    "            return mid\n",
    "        \n",
    "        elif target < data[mid]:\n",
    "            end = mid -1\n",
    "            \n",
    "        else:\n",
    "            start = mid +1\n",
    "            \n",
    "    return None"
   ]
  },
  {
   "cell_type": "code",
   "execution_count": 39,
   "metadata": {},
   "outputs": [
    {
     "name": "stdout",
     "output_type": "stream",
     "text": [
      "index is 2, data is 9\n"
     ]
    }
   ],
   "source": [
    "if __name__ == \"__main__\":\n",
    "    data = [i **2 for i in range(1, 11)]\n",
    "    target = 9\n",
    "    binary_search(data, target)"
   ]
  },
  {
   "cell_type": "code",
   "execution_count": null,
   "metadata": {},
   "outputs": [],
   "source": []
  },
  {
   "cell_type": "code",
   "execution_count": 51,
   "metadata": {},
   "outputs": [],
   "source": [
    "def bubble_sort(data):\n",
    "    \n",
    "    for i in range(len(data)-1):\n",
    "        for j in range(len(data) -1 -i):\n",
    "            if data[j] > data[j+1]:\n",
    "                data[j+1], data[j] = data[j], data[j+1]\n",
    "                \n",
    "    print(data)\n",
    "    return data"
   ]
  },
  {
   "cell_type": "code",
   "execution_count": 52,
   "metadata": {},
   "outputs": [
    {
     "name": "stdout",
     "output_type": "stream",
     "text": [
      "[1, 2, 2, 3, 3, 4, 5, 6, 7, 8, 8, 10]\n"
     ]
    }
   ],
   "source": [
    "if __name__ == \"__main__\":\n",
    "    li = [2, 3, 5, 2, 3, 8, 6, 7, 10, 8, 1, 4]\n",
    "    bubble_sort(li)"
   ]
  },
  {
   "cell_type": "code",
   "execution_count": 54,
   "metadata": {},
   "outputs": [],
   "source": [
    "data = [2, 5, 4, 1, 8, 10, 5, 3, 6, 6, 5, 7, 9, 12, 11]"
   ]
  },
  {
   "cell_type": "code",
   "execution_count": 55,
   "metadata": {},
   "outputs": [
    {
     "data": {
      "text/plain": [
       "15"
      ]
     },
     "execution_count": 55,
     "metadata": {},
     "output_type": "execute_result"
    }
   ],
   "source": [
    "len(data)"
   ]
  },
  {
   "cell_type": "code",
   "execution_count": 57,
   "metadata": {},
   "outputs": [
    {
     "data": {
      "text/plain": [
       "5"
      ]
     },
     "execution_count": 57,
     "metadata": {},
     "output_type": "execute_result"
    }
   ],
   "source": [
    "0 + 10 // 2"
   ]
  },
  {
   "cell_type": "code",
   "execution_count": 58,
   "metadata": {},
   "outputs": [
    {
     "data": {
      "text/plain": [
       "0"
      ]
     },
     "execution_count": 58,
     "metadata": {},
     "output_type": "execute_result"
    }
   ],
   "source": [
    "1//2"
   ]
  },
  {
   "cell_type": "code",
   "execution_count": 59,
   "metadata": {},
   "outputs": [],
   "source": [
    "def quick_sort(data, start, end):\n",
    "    \n",
    "    if start >= end:\n",
    "        return\n",
    "    \n",
    "    left = start\n",
    "    right = end\n",
    "    pivot = data[(start + end) // 2]\n",
    "    \n",
    "    while left <= right:\n",
    "        while data[left] < pivot:\n",
    "            left += 1\n",
    "            \n",
    "        while data[right] > pivot:\n",
    "            right -= 1\n",
    "            \n",
    "        if left <= right:\n",
    "            data[left], data[right] = data[right], data[left]\n",
    "            left += 1\n",
    "            right -=1\n",
    "            \n",
    "    quick_sort(data, start, right)\n",
    "    quick_sort(data, left, end)"
   ]
  },
  {
   "cell_type": "code",
   "execution_count": 63,
   "metadata": {},
   "outputs": [
    {
     "name": "stdout",
     "output_type": "stream",
     "text": [
      "[1, 2, 3, 4, 5, 5, 5, 6, 6, 7, 8, 9, 10, 11, 12]\n"
     ]
    }
   ],
   "source": [
    "if __name__ == \"__main__\":\n",
    "    data = [2, 5, 4, 1, 8, 10, 5, 3, 6, 6, 5, 7, 9, 12, 11]\n",
    "    quick_sort(data, 0, len(data) -1)\n",
    "    print(data)"
   ]
  },
  {
   "cell_type": "code",
   "execution_count": null,
   "metadata": {},
   "outputs": [],
   "source": []
  },
  {
   "cell_type": "code",
   "execution_count": null,
   "metadata": {},
   "outputs": [],
   "source": [
    "def solution(participant, completion):\n",
    "    \n",
    "    \n",
    "    return pass"
   ]
  },
  {
   "cell_type": "code",
   "execution_count": 17,
   "metadata": {},
   "outputs": [],
   "source": [
    "participant = [\"mislav\", \"stanko\", \"mislav\", \"ana\"]\n",
    "completion = [\"stanko\", \"ana\", \"mislav\"]"
   ]
  },
  {
   "cell_type": "code",
   "execution_count": null,
   "metadata": {},
   "outputs": [],
   "source": [
    "def solution(participant, completion):\n",
    "    import collections\n",
    "    return list((collections.Counter(participant) - collections.Counter(completion)).keys())[0]"
   ]
  },
  {
   "cell_type": "code",
   "execution_count": 20,
   "metadata": {},
   "outputs": [
    {
     "data": {
      "text/plain": [
       "['mislav']"
      ]
     },
     "execution_count": 20,
     "metadata": {},
     "output_type": "execute_result"
    }
   ],
   "source": [
    "import collections\n",
    "list(collections.Counter(participant) - collections.Counter(completion))"
   ]
  },
  {
   "cell_type": "code",
   "execution_count": 113,
   "metadata": {},
   "outputs": [],
   "source": [
    "answers = [1,2,3,4,5,2,4,4,5,4,4,1,5]\n",
    "one = [1, 2, 3, 4, 5]\n",
    "two = [2, 1, 2, 3, 2, 4, 2, 5]\n",
    "three = [3,3,1,1,2,2,4,4,5,5]\n",
    "a = [0] * len(answers)\n",
    "b = [0] * len(answers)\n",
    "c = [0] * len(answers)\n",
    "\n",
    "for i in range(len(answers)):\n",
    "    a[i] = (i % 5)+1\n",
    "for i in range(len(answers)):\n",
    "    b[i] = two[i%8]\n",
    "for i in range(len(answers)):\n",
    "    c[i] = three[i%10]\n",
    "\n",
    "x = 0\n",
    "y = 0\n",
    "z = 0\n",
    "\n",
    "\n",
    "for i in range(len(answers)):\n",
    "    if a[i] == answers[i]:\n",
    "        x += 1        \n",
    "    elif b[i] == answers[i]:\n",
    "        y += 1\n",
    "    elif c[i] == answers[i]:\n",
    "        z += 1\n",
    "rank = [x,y,z]\n",
    "\n",
    "dic = {(i+1):v for i,v in enumerate(rank)}\n",
    "dic\n",
    "\n",
    "sorted_dic = sorted(dic.items(), key = lambda x: x[1])[::-1]\n",
    "sorted_dic\n",
    "\n",
    "\n",
    "if sorted_dic[0][1] == sorted_dic[1][1] == sorted_dic[2][1]:\n",
    "    return [1,2,3]\n",
    "elif sorted_dic[0][1] == sorted_dic[1][1]:\n",
    "    return [1,2]\n",
    "elif sorted_dic[0][1] == sorted_dic[2][1]:\n",
    "    return [1,3]\n",
    "elif sorted_dic[1][1] == sorted_dic[2][1]:\n",
    "    return [2,3]\n",
    "else:\n",
    "    return sorted_dic[0]"
   ]
  },
  {
   "cell_type": "code",
   "execution_count": 114,
   "metadata": {},
   "outputs": [
    {
     "data": {
      "text/plain": [
       "[1, 2, 3, 4, 5, 2, 4, 4, 5, 4, 4, 1, 5]"
      ]
     },
     "execution_count": 114,
     "metadata": {},
     "output_type": "execute_result"
    }
   ],
   "source": [
    "answers"
   ]
  },
  {
   "cell_type": "code",
   "execution_count": 115,
   "metadata": {},
   "outputs": [],
   "source": [
    "x = 0\n",
    "y = 0\n",
    "z = 0\n",
    "\n",
    "\n",
    "for i in range(len(answers)):\n",
    "    if a[i] == answers[i]:\n",
    "        x += 1        \n",
    "    elif b[i] == answers[i]:\n",
    "        y += 1\n",
    "    elif c[i] == answers[i]:\n",
    "        z += 1\n",
    "rank = [x,y,z]"
   ]
  },
  {
   "cell_type": "code",
   "execution_count": 132,
   "metadata": {},
   "outputs": [
    {
     "data": {
      "text/plain": [
       "{1: 5, 2: 0, 3: 4}"
      ]
     },
     "execution_count": 132,
     "metadata": {},
     "output_type": "execute_result"
    }
   ],
   "source": [
    "dic = {(i+1):v for i,v in enumerate(rank)}\n",
    "dic"
   ]
  },
  {
   "cell_type": "code",
   "execution_count": 133,
   "metadata": {},
   "outputs": [
    {
     "data": {
      "text/plain": [
       "dict_items([(1, 5), (2, 0), (3, 4)])"
      ]
     },
     "execution_count": 133,
     "metadata": {},
     "output_type": "execute_result"
    }
   ],
   "source": [
    "dic.items()"
   ]
  },
  {
   "cell_type": "code",
   "execution_count": 172,
   "metadata": {},
   "outputs": [
    {
     "data": {
      "text/plain": [
       "[(1, 5), (3, 4), (2, 0)]"
      ]
     },
     "execution_count": 172,
     "metadata": {},
     "output_type": "execute_result"
    }
   ],
   "source": [
    "sorted_dic = sorted(dic.items(), key = lambda x: x[1])[::-1]\n",
    "sorted_dic"
   ]
  },
  {
   "cell_type": "code",
   "execution_count": 195,
   "metadata": {},
   "outputs": [
    {
     "data": {
      "text/plain": [
       "5"
      ]
     },
     "execution_count": 195,
     "metadata": {},
     "output_type": "execute_result"
    }
   ],
   "source": [
    "\n",
    "if sorted_dic[0][1] == sorted_dic[1][1] == sorted_dic[2][1]:\n",
    "    return [1,2,3]\n",
    "elif sorted_dic[0][1] == sorted_dic[1][1]:\n",
    "    return [1,2]\n",
    "elif sorted_dic[0][1] == sorted_dic[2][1]:\n",
    "    return [1,3]\n",
    "elif sorted_dic[1][1] == sorted_dic[2][1]:\n",
    "    return [2,3]"
   ]
  },
  {
   "cell_type": "code",
   "execution_count": null,
   "metadata": {},
   "outputs": [],
   "source": []
  },
  {
   "cell_type": "code",
   "execution_count": null,
   "metadata": {},
   "outputs": [],
   "source": []
  },
  {
   "cell_type": "code",
   "execution_count": 243,
   "metadata": {},
   "outputs": [],
   "source": [
    "def solution(answers):\n",
    "    \n",
    "    winner = []\n",
    "    one = [1, 2, 3, 4, 5]\n",
    "    two = [2, 1, 2, 3, 2, 4, 2, 5]\n",
    "    three = [3,3,1,1,2,2,4,4,5,5]\n",
    "    a = [0] * len(answers)\n",
    "    b = [0] * len(answers)\n",
    "    c = [0] * len(answers)\n",
    "\n",
    "    for i in range(len(answers)):\n",
    "        a[i] = (i % 5)+1\n",
    "    for i in range(len(answers)):\n",
    "        b[i] = two[i%8]\n",
    "    for i in range(len(answers)):\n",
    "        c[i] = three[i%10]\n",
    "\n",
    "    rank = [0, 0, 0]\n",
    "\n",
    "    for i in range(len(answers)):\n",
    "        if a[i] == answers[i]:\n",
    "            rank[0] += 1        \n",
    "        if b[i] == answers[i]:\n",
    "            rank[1] += 1\n",
    "        if c[i] == answers[i]:\n",
    "            rank[2] += 1\n",
    "\n",
    "\n",
    "    for i, score in enumerate(rank):\n",
    "        if score == max(rank):\n",
    "            winner.append(i+1)\n",
    "\n",
    "    return winner\n"
   ]
  },
  {
   "cell_type": "code",
   "execution_count": 245,
   "metadata": {},
   "outputs": [
    {
     "data": {
      "text/plain": [
       "[1]"
      ]
     },
     "execution_count": 245,
     "metadata": {},
     "output_type": "execute_result"
    }
   ],
   "source": [
    "solution([1,2,3,4,5])"
   ]
  },
  {
   "cell_type": "code",
   "execution_count": 242,
   "metadata": {},
   "outputs": [
    {
     "ename": "SyntaxError",
     "evalue": "'return' outside function (<ipython-input-242-2c04e50da35e>, line 32)",
     "output_type": "error",
     "traceback": [
      "\u001b[0;36m  File \u001b[0;32m\"<ipython-input-242-2c04e50da35e>\"\u001b[0;36m, line \u001b[0;32m32\u001b[0m\n\u001b[0;31m    return winner\u001b[0m\n\u001b[0m    ^\u001b[0m\n\u001b[0;31mSyntaxError\u001b[0m\u001b[0;31m:\u001b[0m 'return' outside function\n"
     ]
    }
   ],
   "source": [
    "# def solution(answers):\n",
    "    \n",
    "\n",
    "#     one = [1, 2, 3, 4, 5]\n",
    "#     two = [2, 1, 2, 3, 2, 4, 2, 5]\n",
    "#     three = [3,3,1,1,2,2,4,4,5,5]\n",
    "#     a = [0] * len(answers)\n",
    "#     b = [0] * len(answers)\n",
    "#     c = [0] * len(answers)\n",
    "\n",
    "#     for i in range(len(answers)):\n",
    "#         a[i] = (i % 5)+1\n",
    "#     for i in range(len(answers)):\n",
    "#         b[i] = two[i%8]\n",
    "#     for i in range(len(answers)):\n",
    "#         c[i] = three[i%10]\n",
    "\n",
    "#     x = 0\n",
    "#     y = 0\n",
    "#     z = 0\n",
    "\n",
    "#     for i in range(len(answers)):\n",
    "#         if a[i] == answers[i]:\n",
    "#             x += 1        \n",
    "#         if b[i] == answers[i]:\n",
    "#             y += 1\n",
    "#         if c[i] == answers[i]:\n",
    "#             z += 1\n",
    "#     rank = [x,y,z]\n",
    "\n",
    "#     dic = {(i+1):v for i,v in enumerate(rank)}\n",
    "\n",
    "\n",
    "#     sorted_dic = sorted(dic.items(), key = lambda x: x[1])[::-1]\n",
    "\n",
    "\n",
    "#     h = []\n",
    "#     if sorted_dic[0][1] == sorted_dic[1][1] == sorted_dic[2][1]:\n",
    "#         return [1,2,3]\n",
    "#     elif sorted_dic[0][1] == sorted_dic[1][1] > sorted_dic[2][1]:\n",
    "#         return [1,2]\n",
    "#     elif sorted_dic[0][1] == sorted_dic[2][1] > sorted_dic[1][1]:\n",
    "#         return [1,3]\n",
    "#     elif sorted_dic[1][1] == sorted_dic[2][1] > sorted_dic[0][1]:\n",
    "#         return [2,3]\n",
    "#     else:\n",
    "#         h.append(sorted_dic[0][0])\n",
    "#         return h\n"
   ]
  },
  {
   "cell_type": "code",
   "execution_count": 231,
   "metadata": {},
   "outputs": [
    {
     "data": {
      "text/plain": [
       "[(3, 2), (2, 2), (1, 2)]"
      ]
     },
     "execution_count": 231,
     "metadata": {},
     "output_type": "execute_result"
    }
   ],
   "source": [
    "sorted_dic"
   ]
  },
  {
   "cell_type": "code",
   "execution_count": 232,
   "metadata": {},
   "outputs": [
    {
     "data": {
      "text/plain": [
       "[1, 2, 3, 4, 5]"
      ]
     },
     "execution_count": 232,
     "metadata": {},
     "output_type": "execute_result"
    }
   ],
   "source": [
    "a"
   ]
  },
  {
   "cell_type": "code",
   "execution_count": 233,
   "metadata": {},
   "outputs": [
    {
     "data": {
      "text/plain": [
       "True"
      ]
     },
     "execution_count": 233,
     "metadata": {},
     "output_type": "execute_result"
    }
   ],
   "source": [
    "c[4] == answers[4]"
   ]
  },
  {
   "cell_type": "code",
   "execution_count": null,
   "metadata": {},
   "outputs": [],
   "source": []
  },
  {
   "cell_type": "code",
   "execution_count": 240,
   "metadata": {},
   "outputs": [],
   "source": [
    "from itertools import cycle\n",
    "\n",
    "def solution(answers):\n",
    "    winner = []\n",
    "    pattern_supo_1 = [1 ,2, 3, 4, 5]\n",
    "    pattern_supo_2 = [2, 1, 2, 3, 2, 4, 2, 5]\n",
    "    pattern_supo_3 = [3, 3, 1, 1, 2, 2, 4, 4, 5, 5]\n",
    "    score_supo = [0, 0, 0]\n",
    "    \n",
    "    for supo_1, supo_2, supo_3, answer in zip\\\n",
    "    (cycle(pattern_supo_1), cycle(pattern_supo_2), cycle(pattern_supo_3), answers):\n",
    "        if supo_1 == answer: \n",
    "            score_supo[0] += 1\n",
    "        if supo_2 == answer: \n",
    "            score_supo[1] += 1\n",
    "        if supo_3 == answer: \n",
    "            score_supo[2] += 1\n",
    "\n",
    "    for i, score in enumerate(score_supo):\n",
    "         if score == max(score_supo):\n",
    "            winner.append(i+1)\n",
    "\n",
    "    return winner"
   ]
  },
  {
   "cell_type": "code",
   "execution_count": null,
   "metadata": {},
   "outputs": [],
   "source": []
  },
  {
   "cell_type": "code",
   "execution_count": null,
   "metadata": {},
   "outputs": [],
   "source": []
  },
  {
   "cell_type": "code",
   "execution_count": null,
   "metadata": {},
   "outputs": [],
   "source": []
  },
  {
   "cell_type": "code",
   "execution_count": null,
   "metadata": {},
   "outputs": [],
   "source": []
  }
 ],
 "metadata": {
  "kernelspec": {
   "display_name": "Python 3",
   "language": "python",
   "name": "python3"
  },
  "language_info": {
   "codemirror_mode": {
    "name": "ipython",
    "version": 3
   },
   "file_extension": ".py",
   "mimetype": "text/x-python",
   "name": "python",
   "nbconvert_exporter": "python",
   "pygments_lexer": "ipython3",
   "version": "3.7.3"
  }
 },
 "nbformat": 4,
 "nbformat_minor": 2
}
