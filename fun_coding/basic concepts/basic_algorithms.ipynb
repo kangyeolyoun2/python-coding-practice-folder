{
 "cells": [
  {
   "cell_type": "code",
   "execution_count": 1,
   "metadata": {},
   "outputs": [],
   "source": [
    "# 1.linear\n",
    "\n",
    "def linear_search(data, target):\n",
    "    \n",
    "    for idx in range(len(data)):\n",
    "        if data[idx] ==  target:\n",
    "            return idx\n",
    "    return None"
   ]
  },
  {
   "cell_type": "code",
   "execution_count": 2,
   "metadata": {},
   "outputs": [
    {
     "name": "stdout",
     "output_type": "stream",
     "text": [
      "찾는 데이터의 인덱스는 2 이고 데이터는 9입니다\n"
     ]
    }
   ],
   "source": [
    "if __name__ ==\"__main__\":\n",
    "    data = [i ** 2 for i in range(1, 11)]\n",
    "    target = 9\n",
    "    idx = linear_search(data, target)\n",
    "    \n",
    "    if idx == None:\n",
    "        print(\"{} 이 존재하지 않습니다\".format(target))\n",
    "    else:\n",
    "        print(\"찾는 데이터의 인덱스는 {} 이고 데이터는 {}입니다\".format(idx, data[idx]))"
   ]
  },
  {
   "cell_type": "code",
   "execution_count": null,
   "metadata": {},
   "outputs": [],
   "source": []
  },
  {
   "cell_type": "code",
   "execution_count": null,
   "metadata": {},
   "outputs": [],
   "source": [
    "def linear_search(data, target):\n",
    "    \n",
    "    for i in range(len(data)):\n",
    "        if data[i] == target:\n",
    "            print(\"index is {}, data is {}\".format(i, data[i]))\n",
    "            return i\n",
    "        \n",
    "    return None"
   ]
  },
  {
   "cell_type": "code",
   "execution_count": null,
   "metadata": {},
   "outputs": [],
   "source": [
    "if __name__ == \"__main__\":\n",
    "    data = [i **2 for i in range(1, 11)]\n",
    "    target = 9\n",
    "    linear_search(data, target)"
   ]
  },
  {
   "cell_type": "code",
   "execution_count": null,
   "metadata": {},
   "outputs": [],
   "source": []
  },
  {
   "cell_type": "code",
   "execution_count": null,
   "metadata": {},
   "outputs": [],
   "source": [
    "#2.Binary Search\n",
    "\n",
    "def binary_search(data, target):\n",
    "    # 먼저 정렬합니다.\n",
    "    data.sort()\n",
    "    start = 0\n",
    "    end = len(data) - 1\n",
    "    \n",
    "    while start <= end:\n",
    "        mid = (start + end) // 2\n",
    "        \n",
    "        if data[mid] == target:\n",
    "            return mid\n",
    "        \n",
    "        elif data[mid] > target:\n",
    "            end = mid -1\n",
    "            \n",
    "        else:\n",
    "            start = mid + 1\n",
    "            \n",
    "    return None"
   ]
  },
  {
   "cell_type": "code",
   "execution_count": null,
   "metadata": {},
   "outputs": [],
   "source": [
    "if __name__ ==\"__main__\":\n",
    "    data = [i ** 2 for i in range(1, 11)]\n",
    "    target = 9\n",
    "    idx = binary_search(data, target)\n",
    "    \n",
    "    if idx == None:\n",
    "        print(\"{} 이 존재하지 않습니다\".format(target))\n",
    "    else:\n",
    "        print(\"찾는 데이터의 인덱스는 {} 이고 데이터는 {}입니다\".format(idx, data[idx]))"
   ]
  },
  {
   "cell_type": "code",
   "execution_count": null,
   "metadata": {},
   "outputs": [],
   "source": []
  },
  {
   "cell_type": "code",
   "execution_count": null,
   "metadata": {},
   "outputs": [],
   "source": [
    "def binary_search(data, target):\n",
    "    data.sort()\n",
    "    start = 0\n",
    "    end = len(data) - 1\n",
    "    \n",
    "    while start <= end:\n",
    "        mid = (start+end) // 2\n",
    "\n",
    "        if data[mid] == target:\n",
    "            print(\"index is {}, data is {}\".format(mid, data[mid]))\n",
    "            return mid\n",
    "        \n",
    "        elif target < data[mid]:\n",
    "            end = mid -1\n",
    "            \n",
    "        else:\n",
    "            start = mid +1\n",
    "            \n",
    "    return None"
   ]
  },
  {
   "cell_type": "code",
   "execution_count": null,
   "metadata": {},
   "outputs": [],
   "source": [
    "if __name__ == \"__main__\":\n",
    "    data = [i **2 for i in range(1, 11)]\n",
    "    target = 9\n",
    "    binary_search(data, target)"
   ]
  },
  {
   "cell_type": "code",
   "execution_count": null,
   "metadata": {},
   "outputs": [],
   "source": []
  },
  {
   "cell_type": "code",
   "execution_count": null,
   "metadata": {},
   "outputs": [],
   "source": []
  },
  {
   "cell_type": "code",
   "execution_count": 4,
   "metadata": {},
   "outputs": [],
   "source": [
    "#3 Bubble sort\n",
    "def bubble_sort(data):\n",
    "    data_len = len(data)\n",
    "    \n",
    "    for i in range(data_len - 1):\n",
    "        for j in range(data_len -1 -i):\n",
    "            if data[j] > data[j+1]:\n",
    "                data[j], data[j+1] = data[j+1], data[j]"
   ]
  },
  {
   "cell_type": "code",
   "execution_count": 5,
   "metadata": {},
   "outputs": [
    {
     "name": "stdout",
     "output_type": "stream",
     "text": [
      "[1, 2, 2, 3, 3, 4, 5, 6, 7, 8, 8, 10]\n"
     ]
    }
   ],
   "source": [
    "if __name__ == \"__main__\":\n",
    "    li = [2, 3, 5, 2, 3, 8, 6, 7, 10, 8, 1, 4]\n",
    "    bubble_sort(li)\n",
    "    print(li)"
   ]
  },
  {
   "cell_type": "code",
   "execution_count": null,
   "metadata": {},
   "outputs": [],
   "source": []
  },
  {
   "cell_type": "code",
   "execution_count": 1,
   "metadata": {},
   "outputs": [],
   "source": [
    "#bubble sort\n",
    "\n",
    "def bubble_sort(data):\n",
    "    \n",
    "    for i in range(len(data) - 1):\n",
    "        for j in range(len(data) -1 -i):\n",
    "            if data[j] > data[j+1]:\n",
    "                data[j], data[j+1] = data[j+1], data[j]\n",
    "    print(data)\n",
    "    return data"
   ]
  },
  {
   "cell_type": "code",
   "execution_count": 2,
   "metadata": {},
   "outputs": [
    {
     "name": "stdout",
     "output_type": "stream",
     "text": [
      "[1, 2, 2, 3, 3, 4, 5, 6, 7, 8, 8, 10]\n"
     ]
    }
   ],
   "source": [
    "if __name__ == \"__main__\":\n",
    "    li = [2, 3, 5, 2, 3, 8, 6, 7, 10, 8, 1, 4]\n",
    "    bubble_sort(li)"
   ]
  },
  {
   "cell_type": "code",
   "execution_count": null,
   "metadata": {},
   "outputs": [],
   "source": []
  },
  {
   "cell_type": "code",
   "execution_count": null,
   "metadata": {},
   "outputs": [],
   "source": []
  },
  {
   "cell_type": "code",
   "execution_count": null,
   "metadata": {},
   "outputs": [],
   "source": []
  },
  {
   "cell_type": "code",
   "execution_count": 11,
   "metadata": {},
   "outputs": [],
   "source": [
    "#4 Quick sort\n",
    "\n",
    "def quick_sort(data, start, end):\n",
    "    \n",
    "    if start >= end:\n",
    "        return\n",
    "    \n",
    "    left = start\n",
    "    right = end\n",
    "    pivot = data[(start + end) // 2]\n",
    "    \n",
    "    # right = index의 마지막이다\n",
    "    while left <= right:\n",
    "\n",
    "        while data[left] < pivot:\n",
    "            left +=1\n",
    "\n",
    "        while data[right] > pivot:\n",
    "            right -= 1\n",
    "        #left 와 right가 교차하지 않았다면 교환\n",
    "        if left <= right:\n",
    "            data[left], data[right] = data[right], data[left]\n",
    "            left += 1\n",
    "            right -=1\n",
    "\n",
    "    quick_sort(data, start, right)\n",
    "    quick_sort(data, left, end)"
   ]
  },
  {
   "cell_type": "code",
   "execution_count": 12,
   "metadata": {},
   "outputs": [
    {
     "name": "stdout",
     "output_type": "stream",
     "text": [
      "[1, 2, 3, 4, 5, 5, 5, 6, 6, 7, 8, 9, 10, 11, 12]\n"
     ]
    }
   ],
   "source": [
    "if __name__ == \"__main__\":\n",
    "    data = [2, 5, 4, 1, 8, 10, 5, 3, 6, 6, 5, 7, 9, 12, 11]\n",
    "    quick_sort(data, 0, len(data) -1)\n",
    "    print(data)"
   ]
  },
  {
   "cell_type": "code",
   "execution_count": null,
   "metadata": {},
   "outputs": [],
   "source": []
  }
 ],
 "metadata": {
  "kernelspec": {
   "display_name": "Python 3",
   "language": "python",
   "name": "python3"
  },
  "language_info": {
   "codemirror_mode": {
    "name": "ipython",
    "version": 3
   },
   "file_extension": ".py",
   "mimetype": "text/x-python",
   "name": "python",
   "nbconvert_exporter": "python",
   "pygments_lexer": "ipython3",
   "version": "3.7.4"
  }
 },
 "nbformat": 4,
 "nbformat_minor": 2
}
