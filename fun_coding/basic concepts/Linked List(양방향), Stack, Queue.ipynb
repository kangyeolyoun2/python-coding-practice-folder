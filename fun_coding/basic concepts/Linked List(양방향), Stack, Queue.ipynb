{
 "cells": [
  {
   "cell_type": "code",
   "execution_count": 1,
   "metadata": {},
   "outputs": [],
   "source": [
    "class Node:\n",
    "    def __init__(self, data=None):\n",
    "        self.__data = data\n",
    "        self.__next = None\n",
    "        self.__prev = None\n",
    "        \n",
    "    def __del__(self):\n",
    "        print(\"data of {} is deleted\".format(self.data))\n",
    "        \n",
    "    @property\n",
    "    def data(self):\n",
    "        return self.__data\n",
    "    \n",
    "    @data.setter\n",
    "    def data(self, data):\n",
    "        self.__data = data\n",
    "        \n",
    "    @property\n",
    "    def next(self):\n",
    "        return self.__next\n",
    "    \n",
    "    @next.setter\n",
    "    def next(self, n):\n",
    "        self.__next = n\n",
    "        \n",
    "    @property\n",
    "    def prev(self):\n",
    "        return self.__prev\n",
    "    \n",
    "    @prev.setter\n",
    "    def prev(self, n):\n",
    "        self.__prev = n"
   ]
  },
  {
   "cell_type": "code",
   "execution_count": 2,
   "metadata": {},
   "outputs": [],
   "source": [
    "class Linked_list:\n",
    "    def __init__(self):\n",
    "        self.head = None\n",
    "        self.tail = None\n",
    "        self.d_size = 0\n",
    "        \n",
    "    def empty(self):\n",
    "        if self.d_size == 0:\n",
    "            return True\n",
    "        else:\n",
    "            return False\n",
    "        \n",
    "    def size(self):\n",
    "        return self.d_size\n",
    "    \n",
    "    def rappend(self, data):\n",
    "        new_node = Node(data)\n",
    "        \n",
    "        if self.empty():\n",
    "            self.head = new_node\n",
    "            self.tail = new_node\n",
    "            self.d_size += 1\n",
    "            \n",
    "        else:\n",
    "            self.tail.next = new_node\n",
    "            new_node.prev = self.tail\n",
    "            self.tail = new_node\n",
    "            self.d_size += 1\n",
    "        \n",
    "    def lappend(self, data):\n",
    "        new_node = Node(data)\n",
    "        \n",
    "        if self.empty():\n",
    "            self.head = new_node\n",
    "            self.tail = new_node\n",
    "            self.d_size += 1\n",
    "            \n",
    "        else:\n",
    "            self.head.prev = new_node\n",
    "            new_node.next = self.head\n",
    "            self.head = new_node\n",
    "            self.d_size += 1\n",
    "            \n",
    "    def __search_lpos(self, pos): # 왼쪽부터 검색\n",
    "        if pos > self.size() - 1:\n",
    "            return None\n",
    "        \n",
    "        cnt = 0\n",
    "        cur = self.head\n",
    "        \n",
    "        if cnt == pos:\n",
    "            return cur.data\n",
    "        \n",
    "        while cnt < pos:\n",
    "            cur = cur.next\n",
    "            cnt += 1\n",
    "            \n",
    "        return cur.data\n",
    "    \n",
    "    def __search_rpos(self, pos): # 오른쪽부터 검색\n",
    "        pos = abs(pos) - 1 # -1 ==> 0, -2 ==> 1, -3 ==> 2 대응 위해서\n",
    "        \n",
    "        if pos > self.size() - 1:\n",
    "            return None\n",
    "        \n",
    "        cnt = 0\n",
    "        cur = self.tail\n",
    "        \n",
    "        if cnt == pos:\n",
    "            return cur.data\n",
    "        \n",
    "        while cnt < pos:\n",
    "            cur = cur.prev # 뒤로간다 뒤로 붕붕\n",
    "            cnt += 1\n",
    "            \n",
    "        return cur.data\n",
    "    \n",
    "    def search_pos(self, pos):\n",
    "        if pos >= 0:\n",
    "            return self.__search_lpos(pos)\n",
    "        else:\n",
    "            return self.__search_rpos(pos)\n",
    "        \n",
    "        \n",
    "    def __search_data(self, target, start):\n",
    "        if self.empty():\n",
    "            return None, None\n",
    "        \n",
    "        pos = 0\n",
    "        cur = self.head\n",
    "        \n",
    "        if pos >= start and target == cur.data:\n",
    "            return cur, pos\n",
    "        \n",
    "        while cur.next:\n",
    "            pos += 1\n",
    "            cur = cur.next\n",
    "            if pos >= start and target == cur.data:\n",
    "                return cur, pos\n",
    "            \n",
    "        return None, None\n",
    "    \n",
    "    def search_target(self, target, start = 0):\n",
    "        cur, pos = self.__search_data(target, start)\n",
    "        if not pos:\n",
    "            return None, None\n",
    "        else:\n",
    "            return cur.data, pos\n",
    "        \n",
    "        \n",
    "    def remove(self, target):\n",
    "        if self.empty():\n",
    "            return None\n",
    "        \n",
    "        cur, _ = self.__search_data(target, 0)\n",
    "        \n",
    "        if not cur:\n",
    "            return None\n",
    "        \n",
    "        if not cur.prev and not cur.next:\n",
    "            self.head = None\n",
    "            self.tail = None\n",
    "        elif not cur.prev:\n",
    "            self.head = cur.next\n",
    "            cur.next.prev = None\n",
    "        elif not cur.next:\n",
    "            self.tail = cur.prev\n",
    "            cur.prev.next = None\n",
    "        else:\n",
    "            cur.next.prev = cur.prev\n",
    "            cur.prev.next = cur.next\n",
    "        \n",
    "        self.d_size -= 1\n",
    "        return cur.data\n",
    "    \n",
    "    \n",
    "    def show_list(slist):\n",
    "        if slist.empty():\n",
    "            print(\"The list is empty\")\n",
    "            return\n",
    "        \n",
    "        for i in range(slist.size()):\n",
    "            print(slist.search_pos(i), end = \" \")\n",
    "            \n",
    "            \n",
    "    def __repr__(self): #slist라고만 쳐도 slist.show_list()역할을 한다.\n",
    "        \n",
    "        \n",
    "        if self.empty():\n",
    "            return \"[]\"\n",
    "        \n",
    "        cur = self.head\n",
    "        string = \"[{}\".format(cur.data) #0, 1, 2, 3 괄호를 닫으면 안되기 떄문에\n",
    "        \n",
    "        while cur.next:\n",
    "            cur = cur.next\n",
    "            string += \", {}\".format(cur.data)\n",
    "        string += \"]\"\n",
    "        \n",
    "        return string\n",
    "    \n",
    "        \n",
    "            \n",
    "        \n",
    "        \n",
    "        \n",
    "    def __str__(self): #print() 형식으로 출력\n",
    "        \n",
    "        if self.empty():\n",
    "            return \"[]\"\n",
    "\n",
    "        cur = self.head\n",
    "        string = \"[{}\".format(cur.data) #0, 1, 2, 3 괄호를 닫으면 안되기 떄문에\n",
    "\n",
    "        while cur.next:\n",
    "            cur = cur.next\n",
    "            string += \", {}\".format(cur.data)\n",
    "        string += \"]\"\n",
    "\n",
    "        return string\n",
    "    \n",
    "        "
   ]
  },
  {
   "cell_type": "code",
   "execution_count": 9,
   "metadata": {},
   "outputs": [],
   "source": [
    "slist = Linked_list()"
   ]
  },
  {
   "cell_type": "code",
   "execution_count": 10,
   "metadata": {},
   "outputs": [],
   "source": [
    "slist.rappend(3)\n",
    "slist.rappend(2)\n",
    "slist.lappend(4)\n"
   ]
  },
  {
   "cell_type": "code",
   "execution_count": 11,
   "metadata": {},
   "outputs": [
    {
     "data": {
      "text/plain": [
       "[4, 3, 2]"
      ]
     },
     "execution_count": 11,
     "metadata": {},
     "output_type": "execute_result"
    }
   ],
   "source": [
    "slist"
   ]
  },
  {
   "cell_type": "code",
   "execution_count": 12,
   "metadata": {},
   "outputs": [
    {
     "name": "stdout",
     "output_type": "stream",
     "text": [
      "4 3 2 "
     ]
    }
   ],
   "source": [
    "slist.show_list()"
   ]
  },
  {
   "cell_type": "code",
   "execution_count": 13,
   "metadata": {},
   "outputs": [
    {
     "name": "stdout",
     "output_type": "stream",
     "text": [
      "data of 2 is deleted\n"
     ]
    },
    {
     "data": {
      "text/plain": [
       "2"
      ]
     },
     "execution_count": 13,
     "metadata": {},
     "output_type": "execute_result"
    }
   ],
   "source": [
    "slist.remove(2)"
   ]
  },
  {
   "cell_type": "code",
   "execution_count": 14,
   "metadata": {},
   "outputs": [
    {
     "data": {
      "text/plain": [
       "[4, 3]"
      ]
     },
     "execution_count": 14,
     "metadata": {},
     "output_type": "execute_result"
    }
   ],
   "source": [
    "slist"
   ]
  },
  {
   "cell_type": "code",
   "execution_count": 8,
   "metadata": {},
   "outputs": [
    {
     "data": {
      "text/plain": [
       "[3, 2]"
      ]
     },
     "execution_count": 8,
     "metadata": {},
     "output_type": "execute_result"
    }
   ],
   "source": [
    "slist"
   ]
  },
  {
   "cell_type": "code",
   "execution_count": 272,
   "metadata": {},
   "outputs": [
    {
     "name": "stdout",
     "output_type": "stream",
     "text": [
      "[3, 2, 4]\n"
     ]
    }
   ],
   "source": [
    "print(slist)"
   ]
  },
  {
   "cell_type": "code",
   "execution_count": 266,
   "metadata": {},
   "outputs": [],
   "source": [
    "slist = Linked_list()"
   ]
  },
  {
   "cell_type": "code",
   "execution_count": 267,
   "metadata": {},
   "outputs": [],
   "source": [
    "slist.rappend(3)"
   ]
  },
  {
   "cell_type": "code",
   "execution_count": 268,
   "metadata": {},
   "outputs": [],
   "source": [
    "slist.rappend(2)"
   ]
  },
  {
   "cell_type": "code",
   "execution_count": 269,
   "metadata": {},
   "outputs": [],
   "source": [
    "slist.rappend(4)"
   ]
  },
  {
   "cell_type": "code",
   "execution_count": 270,
   "metadata": {},
   "outputs": [
    {
     "name": "stdout",
     "output_type": "stream",
     "text": [
      "3 2 4 "
     ]
    }
   ],
   "source": [
    "slist.show_list()"
   ]
  },
  {
   "cell_type": "code",
   "execution_count": 228,
   "metadata": {},
   "outputs": [
    {
     "name": "stdout",
     "output_type": "stream",
     "text": [
      "data of 3 is deleted\n"
     ]
    },
    {
     "data": {
      "text/plain": [
       "3"
      ]
     },
     "execution_count": 228,
     "metadata": {},
     "output_type": "execute_result"
    }
   ],
   "source": [
    "slist.remove(3)"
   ]
  },
  {
   "cell_type": "code",
   "execution_count": 229,
   "metadata": {},
   "outputs": [
    {
     "data": {
      "text/plain": [
       "(2, 4, None)"
      ]
     },
     "execution_count": 229,
     "metadata": {},
     "output_type": "execute_result"
    }
   ],
   "source": [
    "slist.search_pos(0), slist.search_pos(1), slist.search_pos(2) "
   ]
  },
  {
   "cell_type": "code",
   "execution_count": 245,
   "metadata": {},
   "outputs": [],
   "source": [
    "a = [1, 2, 3]"
   ]
  },
  {
   "cell_type": "code",
   "execution_count": 246,
   "metadata": {},
   "outputs": [
    {
     "data": {
      "text/plain": [
       "[1, 2, 3]"
      ]
     },
     "execution_count": 246,
     "metadata": {},
     "output_type": "execute_result"
    }
   ],
   "source": [
    "a"
   ]
  },
  {
   "cell_type": "code",
   "execution_count": null,
   "metadata": {},
   "outputs": [],
   "source": [
    "# __은닉기능을 사용. __를 통해 append, pop, peek을 제외한 다른 함수를 사용한 접근을 거부\n",
    "\n",
    "class Stack():\n",
    "    \n",
    "    def __init__(self):\n",
    "        self.__data = []\n",
    "        \n",
    "    def append(self, data):\n",
    "        self.__data.append(data)\n",
    "        \n",
    "    def pop(self):\n",
    "        if self.__data:\n",
    "            return self.__data.pop()\n",
    "        \n",
    "    def peek(self):\n",
    "        if self.__data:\n",
    "            return self.__data[-1]"
   ]
  },
  {
   "cell_type": "code",
   "execution_count": null,
   "metadata": {},
   "outputs": [],
   "source": []
  },
  {
   "cell_type": "code",
   "execution_count": 446,
   "metadata": {},
   "outputs": [],
   "source": [
    "class Queue():\n",
    "    \n",
    "    def __init__(self):\n",
    "        self.__data = []\n",
    "        \n",
    "    def enqqueue(self, data):\n",
    "        self.__data.append(data)\n",
    "        \n",
    "    def deqqueue(self):\n",
    "        if self.__data:\n",
    "            return self.__data.pop(0)\n",
    "        \n",
    "    def peek(self):\n",
    "        if self.__data:\n",
    "            return self.__data[0]\n",
    "        "
   ]
  },
  {
   "cell_type": "code",
   "execution_count": 447,
   "metadata": {},
   "outputs": [],
   "source": [
    "a= Queue()"
   ]
  },
  {
   "cell_type": "code",
   "execution_count": 455,
   "metadata": {},
   "outputs": [],
   "source": [
    "a.enqqueue(1)"
   ]
  },
  {
   "cell_type": "code",
   "execution_count": 456,
   "metadata": {},
   "outputs": [],
   "source": [
    "a.enqqueue(2)"
   ]
  },
  {
   "cell_type": "code",
   "execution_count": 457,
   "metadata": {},
   "outputs": [],
   "source": [
    "a.enqqueue(3)"
   ]
  },
  {
   "cell_type": "code",
   "execution_count": 454,
   "metadata": {},
   "outputs": [],
   "source": [
    "a.deqqueue()"
   ]
  },
  {
   "cell_type": "code",
   "execution_count": 458,
   "metadata": {},
   "outputs": [
    {
     "data": {
      "text/plain": [
       "1"
      ]
     },
     "execution_count": 458,
     "metadata": {},
     "output_type": "execute_result"
    }
   ],
   "source": [
    "a.peek()"
   ]
  },
  {
   "cell_type": "code",
   "execution_count": null,
   "metadata": {},
   "outputs": [],
   "source": []
  },
  {
   "cell_type": "code",
   "execution_count": 460,
   "metadata": {},
   "outputs": [],
   "source": [
    "# 큐큐큐큐큐큐큐큐큐큐 라이브러리를 사용하자\n",
    "\n",
    "from collections import deque\n",
    "d = deque()"
   ]
  },
  {
   "cell_type": "code",
   "execution_count": null,
   "metadata": {},
   "outputs": [],
   "source": []
  },
  {
   "cell_type": "code",
   "execution_count": null,
   "metadata": {},
   "outputs": [],
   "source": []
  },
  {
   "cell_type": "code",
   "execution_count": null,
   "metadata": {},
   "outputs": [],
   "source": []
  },
  {
   "cell_type": "code",
   "execution_count": null,
   "metadata": {},
   "outputs": [],
   "source": []
  },
  {
   "cell_type": "code",
   "execution_count": null,
   "metadata": {},
   "outputs": [],
   "source": []
  },
  {
   "cell_type": "code",
   "execution_count": null,
   "metadata": {},
   "outputs": [],
   "source": []
  },
  {
   "cell_type": "code",
   "execution_count": null,
   "metadata": {},
   "outputs": [],
   "source": []
  },
  {
   "cell_type": "code",
   "execution_count": null,
   "metadata": {},
   "outputs": [],
   "source": []
  },
  {
   "cell_type": "code",
   "execution_count": null,
   "metadata": {},
   "outputs": [],
   "source": []
  },
  {
   "cell_type": "code",
   "execution_count": null,
   "metadata": {},
   "outputs": [],
   "source": []
  },
  {
   "cell_type": "code",
   "execution_count": null,
   "metadata": {},
   "outputs": [],
   "source": []
  },
  {
   "cell_type": "code",
   "execution_count": null,
   "metadata": {},
   "outputs": [],
   "source": []
  }
 ],
 "metadata": {
  "kernelspec": {
   "display_name": "Python 3",
   "language": "python",
   "name": "python3"
  },
  "language_info": {
   "codemirror_mode": {
    "name": "ipython",
    "version": 3
   },
   "file_extension": ".py",
   "mimetype": "text/x-python",
   "name": "python",
   "nbconvert_exporter": "python",
   "pygments_lexer": "ipython3",
   "version": "3.7.4"
  }
 },
 "nbformat": 4,
 "nbformat_minor": 2
}
