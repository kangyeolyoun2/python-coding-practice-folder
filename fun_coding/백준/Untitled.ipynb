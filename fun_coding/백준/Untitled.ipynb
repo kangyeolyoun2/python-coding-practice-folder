{
 "cells": [
  {
   "cell_type": "markdown",
   "metadata": {},
   "source": [
    "<img src=\"./imgs/123더하기_재귀.png\" width=\"60%\">\n",
    "\n",
    "\n",
    "\n",
    "###### 출처: ICPC > Regionals > Asia Pacific > Korea > Asia Regional - Taejon 2001 PC번"
   ]
  },
  {
   "cell_type": "code",
   "execution_count": 50,
   "metadata": {},
   "outputs": [],
   "source": [
    "def solution(n):\n",
    "    arr = [0]*(n+4)\n",
    "    arr[0] = 0\n",
    "    arr[1] = 1\n",
    "    arr[2] = 2\n",
    "    arr[3] = 4\n",
    "    \n",
    "    \n",
    "    for i in range(4, n+1):\n",
    "        arr[n] = arr[n-3] + arr[n-2] + arr[n-1]\n",
    "    \n",
    "    return arr[n]\n",
    "    \n",
    "    "
   ]
  },
  {
   "cell_type": "code",
   "execution_count": 56,
   "metadata": {},
   "outputs": [
    {
     "data": {
      "text/plain": [
       "7"
      ]
     },
     "execution_count": 56,
     "metadata": {},
     "output_type": "execute_result"
    }
   ],
   "source": [
    "solution(4)"
   ]
  },
  {
   "cell_type": "code",
   "execution_count": null,
   "metadata": {},
   "outputs": [],
   "source": [
    "arr = [0]*12\n",
    "arr[0] = 0\n",
    "arr[1] = 1\n",
    "arr[2] = 2\n",
    "arr[3] = 4\n",
    "\n",
    "for i in range(4, 12) :\n",
    "    arr[i] = arr[i -3] + arr[i - 2] + arr[i -1]\n",
    "\n",
    "for _ in range(0,z\n",
    "               int(input())):\n",
    "    num = int(input())\n",
    "    print(arr[num])"
   ]
  },
  {
   "cell_type": "code",
   "execution_count": null,
   "metadata": {},
   "outputs": [],
   "source": [
    "# solution(2)"
   ]
  },
  {
   "cell_type": "code",
   "execution_count": 8,
   "metadata": {},
   "outputs": [],
   "source": [
    "arr = [[0]*3]\n",
    "arr[0][0] = 1\n",
    "arr[0][1] = 2\n",
    "arr[0][2] = 4"
   ]
  },
  {
   "cell_type": "code",
   "execution_count": null,
   "metadata": {},
   "outputs": [],
   "source": []
  }
 ],
 "metadata": {
  "kernelspec": {
   "display_name": "Python 3",
   "language": "python",
   "name": "python3"
  },
  "language_info": {
   "codemirror_mode": {
    "name": "ipython",
    "version": 3
   },
   "file_extension": ".py",
   "mimetype": "text/x-python",
   "name": "python",
   "nbconvert_exporter": "python",
   "pygments_lexer": "ipython3",
   "version": "3.7.6"
  }
 },
 "nbformat": 4,
 "nbformat_minor": 2
}
