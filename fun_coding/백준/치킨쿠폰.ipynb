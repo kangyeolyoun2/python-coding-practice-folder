{
 "cells": [
  {
   "cell_type": "markdown",
   "metadata": {},
   "source": [
    "<img src=\"./imgs/치킨쿠폰.png\" width=\"100%\">"
   ]
  },
  {
   "cell_type": "code",
   "execution_count": 7,
   "metadata": {},
   "outputs": [
    {
     "name": "stdout",
     "output_type": "stream",
     "text": [
      "101 5\n",
      "125\n"
     ]
    }
   ],
   "source": [
    "# 왜 틀리는거지 이해불가 ㅡㅡㅋ\n",
    "def solution(n, k):\n",
    "    a = n\n",
    "    b = n // k\n",
    "    while b != 0:\n",
    "        a += b\n",
    "        b = b // k\n",
    "    return a\n",
    "\n",
    "n, k = map(int, input().split())\n",
    "print(solution(n,k))"
   ]
  },
  {
   "cell_type": "markdown",
   "metadata": {},
   "source": [
    "### "
   ]
  },
  {
   "cell_type": "code",
   "execution_count": null,
   "metadata": {},
   "outputs": [],
   "source": []
  },
  {
   "cell_type": "code",
   "execution_count": 8,
   "metadata": {},
   "outputs": [
    {
     "name": "stdout",
     "output_type": "stream",
     "text": [
      "101 5\n",
      "126\n"
     ]
    }
   ],
   "source": [
    "def chicken(n, k, d):\n",
    "    if n<1:\n",
    "        return 0\n",
    "    return n+chicken((n+d)//k, k, (n+d)%k)\n",
    "\n",
    "n, k = map(int, input().split())\n",
    "print(chicken(n, k, 0))"
   ]
  },
  {
   "cell_type": "code",
   "execution_count": null,
   "metadata": {},
   "outputs": [],
   "source": []
  }
 ],
 "metadata": {
  "kernelspec": {
   "display_name": "Python 3",
   "language": "python",
   "name": "python3"
  },
  "language_info": {
   "codemirror_mode": {
    "name": "ipython",
    "version": 3
   },
   "file_extension": ".py",
   "mimetype": "text/x-python",
   "name": "python",
   "nbconvert_exporter": "python",
   "pygments_lexer": "ipython3",
   "version": "3.7.6"
  }
 },
 "nbformat": 4,
 "nbformat_minor": 2
}
