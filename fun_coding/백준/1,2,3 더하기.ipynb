{
 "cells": [
  {
   "cell_type": "markdown",
   "metadata": {},
   "source": [
    "<img src=\"./imgs/123더하기_재귀.png\" width=\"60%\">\n",
    "\n",
    "\n",
    "\n",
    "###### 출처: ICPC > Regionals > Asia Pacific > Korea > Asia Regional - Taejon 2001 PC번"
   ]
  },
  {
   "cell_type": "code",
   "execution_count": 22,
   "metadata": {},
   "outputs": [
    {
     "name": "stdout",
     "output_type": "stream",
     "text": [
      "3\n",
      "4\n",
      "7\n",
      "7\n",
      "44\n",
      "10\n",
      "274\n"
     ]
    }
   ],
   "source": [
    "def solution(n):\n",
    "    arr = [0]*(n+4)\n",
    "    arr[0] = 0\n",
    "    arr[1] = 1\n",
    "    arr[2] = 2\n",
    "    arr[3] = 4\n",
    "    \n",
    "\n",
    "    for i in range(4, n+1):\n",
    "        arr[i] = arr[i-3] + arr[i-2] + arr[i-1]\n",
    "\n",
    "    return arr[n]\n",
    "a = int(input())\n",
    "for _ in range(a):\n",
    "    n = int(input())\n",
    "    print(solution(n))\n",
    "    "
   ]
  },
  {
   "cell_type": "code",
   "execution_count": 17,
   "metadata": {},
   "outputs": [
    {
     "data": {
      "text/plain": [
       "274"
      ]
     },
     "execution_count": 17,
     "metadata": {},
     "output_type": "execute_result"
    }
   ],
   "source": [
    "solution(10)"
   ]
  },
  {
   "cell_type": "code",
   "execution_count": null,
   "metadata": {},
   "outputs": [],
   "source": []
  }
 ],
 "metadata": {
  "kernelspec": {
   "display_name": "Python 3",
   "language": "python",
   "name": "python3"
  },
  "language_info": {
   "codemirror_mode": {
    "name": "ipython",
    "version": 3
   },
   "file_extension": ".py",
   "mimetype": "text/x-python",
   "name": "python",
   "nbconvert_exporter": "python",
   "pygments_lexer": "ipython3",
   "version": "3.7.6"
  }
 },
 "nbformat": 4,
 "nbformat_minor": 2
}
