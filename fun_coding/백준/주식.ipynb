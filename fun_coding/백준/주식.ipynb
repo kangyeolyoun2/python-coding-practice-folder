{
 "cells": [
  {
   "cell_type": "markdown",
   "metadata": {},
   "source": [
    "<img src=\"./imgs/주식.png\" width=\"60%\">"
   ]
  },
  {
   "cell_type": "code",
   "execution_count": 3,
   "metadata": {},
   "outputs": [],
   "source": [
    "# 이건 정해진 값싼 날짜에 맞춰 한번에 모두 구매하는것이 아닌, 하루에 1번씩 정해진 행동을 한다. \n",
    "# 즉 가장 싼 날에 모두 샀다가, 가장 비싼날에 파는것이 아닌 하루에 1번씩 결정하는것\n",
    "\n",
    "stock = [1, 1, 3, 1, 2]\n",
    "\n",
    "\n",
    "def max_profit(prices):\n",
    "    n = len(prices)\n",
    "    accumulated_profit = 0\n",
    "    min_price = stock[0]\n",
    "    max_profit = 0\n",
    "    \n",
    "    \n",
    "    for i in range(1,n):\n",
    "        \n",
    "        profit = prices[i] - min_price\n",
    "        \n",
    "        if profit > max_profit:\n",
    "            max_profit = profit\n",
    "        \n",
    "        if prices[i] < min_price:\n",
    "            min_price = prices[i]\n",
    "    \n",
    "    return max_profit\n",
    "        \n",
    "        \n"
   ]
  },
  {
   "cell_type": "code",
   "execution_count": 4,
   "metadata": {},
   "outputs": [
    {
     "data": {
      "text/plain": [
       "2"
      ]
     },
     "execution_count": 4,
     "metadata": {},
     "output_type": "execute_result"
    }
   ],
   "source": [
    "max_profit(stock)"
   ]
  },
  {
   "cell_type": "code",
   "execution_count": 104,
   "metadata": {},
   "outputs": [
    {
     "data": {
      "text/plain": [
       "3"
      ]
     },
     "execution_count": 104,
     "metadata": {},
     "output_type": "execute_result"
    }
   ],
   "source": [
    "ac_profit"
   ]
  },
  {
   "cell_type": "code",
   "execution_count": 110,
   "metadata": {},
   "outputs": [],
   "source": [
    "# 풀이 \n",
    "stock = [1,1,3,2,7,3]\n",
    "\n",
    "\n",
    "ac_profit = 0\n",
    "\n",
    "a = len(stock)\n",
    "\n",
    "if max(stock) == stock[-1]:\n",
    "    for i in range(len(stock)-1):\n",
    "        ac_profit += stock[-1] - stock[i]\n",
    "\n",
    "else:\n",
    "    while a != 1:\n",
    "        \n",
    "        if stock[-1] > stock[a-2]:\n",
    "            ac_profit += stock[-1] - stock[a-2]\n",
    "            \n",
    "        else:\n",
    "            for i in range(b+1):\n",
    "                stock.pop()\n",
    "                b = 0\n",
    "        b += 1\n",
    "        a -= 1\n",
    "\n"
   ]
  },
  {
   "cell_type": "code",
   "execution_count": 111,
   "metadata": {},
   "outputs": [
    {
     "data": {
      "text/plain": [
       "[1, 1, 3, 2, 7]"
      ]
     },
     "execution_count": 111,
     "metadata": {},
     "output_type": "execute_result"
    }
   ],
   "source": [
    "stock"
   ]
  },
  {
   "cell_type": "code",
   "execution_count": 112,
   "metadata": {},
   "outputs": [
    {
     "data": {
      "text/plain": [
       "21"
      ]
     },
     "execution_count": 112,
     "metadata": {},
     "output_type": "execute_result"
    }
   ],
   "source": [
    "ac_profit"
   ]
  },
  {
   "cell_type": "code",
   "execution_count": null,
   "metadata": {},
   "outputs": [],
   "source": [
    "# 1 max_price의 위치를 구한다.\n",
    "# recursion 탑시다\n",
    "# 2 max_price의 위치가 마지막이 아닐경우, 앞에있는 min_price들을 모두 하나씩 max-앞의것들 하고 profit += 해줌.\n",
    "# 계산한것들은 done = set(), pop등을 통해서 목록에서 제거해줍시다.\n",
    "# 3. max_price 의 다음부터 그 다음범위 내에서 max_price 를 구해준다. \n",
    "# 3 "
   ]
  },
  {
   "cell_type": "code",
   "execution_count": 4,
   "metadata": {},
   "outputs": [
    {
     "name": "stdout",
     "output_type": "stream",
     "text": [
      "3\n",
      "5\n",
      "1 1 1 1 1\n",
      "0\n",
      "5\n",
      "5 4 3 2 1\n",
      "0\n",
      "4\n",
      "1 2 4 3\n",
      "5\n"
     ]
    }
   ],
   "source": [
    "# 풀이\n",
    "\n",
    "for i in range(int(input())):\n",
    "    days = int(input())\n",
    "    stock = list(map(int, input().split()))\n",
    "\n",
    "\n",
    "    ac_profit = 0\n",
    "\n",
    "    a = len(stock)\n",
    "    b = 0\n",
    "\n",
    "    while a != 1:\n",
    "        \n",
    "        if stock[-1] == stock[a-2]:\n",
    "            stock.pop()\n",
    "        \n",
    "        elif stock[-1] > stock[a-2]:\n",
    "            ac_profit += stock[-1] - stock[a-2]\n",
    "\n",
    "        else:\n",
    "            [stock.pop() for i in range(b+1) if stock]\n",
    "            b = 0\n",
    "            \n",
    "        b += 1\n",
    "        a -= 1\n",
    "    print(ac_profit)\n",
    "\n"
   ]
  },
  {
   "cell_type": "code",
   "execution_count": 2,
   "metadata": {},
   "outputs": [],
   "source": [
    "# 이건 정해진 값싼 날짜에 맞춰 한번에 모두 구매하는것이 아닌, 하루에 1번씩 정해진 행동을 한다. \n",
    "# 즉 가장 싼 날에 모두 샀다가, 가장 비싼날에 파는것이 아닌 하루에 1번씩 결정하는것\n",
    "\n",
    "stock = [1, 1, 3, 1, 2]\n",
    "\n",
    "def max_profit(prices):\n",
    "    n = len(prices)\n",
    "    ac_profit = 0\n",
    "    min_price = stock[0]\n",
    "    a = 0\n",
    "    b = 0\n",
    "    \n",
    "    if stock[a] > stock[a+1]: \n",
    "        for i in range(len(b)):\n",
    "            ac_profit += stock[b-1] - stock[i]\n",
    "            \n",
    "    else:\n",
    "        b += 1\n",
    "            \n",
    "        \n",
    "    \n",
    "    for i in range(1,n):\n",
    "        profit = prices[i] - min_price\n",
    "        if profit > max_profit:\n",
    "            max_profit = profit\n",
    "        \n",
    "        if prices[i] < min_price:\n",
    "            min_price = prices[i]\n",
    "    \n",
    "    return max_profit\n",
    "        \n",
    "        \n"
   ]
  },
  {
   "cell_type": "code",
   "execution_count": null,
   "metadata": {},
   "outputs": [],
   "source": [
    "# 뒤에서부터 오면서 뒤에가 앞보다 크면 빼고 맥스에 더해준후, 앞에껄 팝\n",
    "# 앞에가 더 크면 뒤에껄 팝 이걸 while로?"
   ]
  },
  {
   "cell_type": "code",
   "execution_count": 24,
   "metadata": {},
   "outputs": [
    {
     "name": "stdout",
     "output_type": "stream",
     "text": [
      "3\n",
      "2\n",
      "1\n",
      "0\n"
     ]
    }
   ],
   "source": [
    "for i in range(3,-1,-1):\n",
    "    print(i)"
   ]
  },
  {
   "cell_type": "code",
   "execution_count": 32,
   "metadata": {},
   "outputs": [],
   "source": [
    "def max_profit(prices):\n",
    "    n = len(prices)\n",
    "    max_profit = 0\n",
    "    max_price = prices[-1]\n",
    "    \n",
    "    for i in range(n-2,-1,-1):\n",
    "        if max_price > prices[i]:\n",
    "            max_profit += max_price - prices[i]\n",
    "        else:\n",
    "            max_price = prices[i]\n",
    "            \n",
    "    return max_profit\n",
    "\n",
    "for i in range(int(input())):\n",
    "    days = int(input())\n",
    "    stock = list(map(int, input().split()))\n",
    "    print(max_profit(stock))\n",
    "            "
   ]
  },
  {
   "cell_type": "code",
   "execution_count": 35,
   "metadata": {},
   "outputs": [
    {
     "name": "stdout",
     "output_type": "stream",
     "text": [
      "3\n",
      "3\n",
      "10 7 6\n",
      "0\n",
      "3\n",
      "3 5 9\n",
      "10\n",
      "5\n",
      "1 1 3 1 2\n",
      "5\n"
     ]
    }
   ],
   "source": [
    "for i in range(int(input())):\n",
    "    days = int(input())\n",
    "    stock = list(map(int, input().split()))\n",
    "    print(max_profit(stock))"
   ]
  },
  {
   "cell_type": "code",
   "execution_count": null,
   "metadata": {},
   "outputs": [],
   "source": []
  }
 ],
 "metadata": {
  "kernelspec": {
   "display_name": "Python 3",
   "language": "python",
   "name": "python3"
  },
  "language_info": {
   "codemirror_mode": {
    "name": "ipython",
    "version": 3
   },
   "file_extension": ".py",
   "mimetype": "text/x-python",
   "name": "python",
   "nbconvert_exporter": "python",
   "pygments_lexer": "ipython3",
   "version": "3.7.6"
  }
 },
 "nbformat": 4,
 "nbformat_minor": 2
}
