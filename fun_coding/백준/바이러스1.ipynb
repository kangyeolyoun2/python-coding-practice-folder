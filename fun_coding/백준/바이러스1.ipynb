{
 "cells": [
  {
   "cell_type": "markdown",
   "metadata": {},
   "source": [
    "<img src=\"./imgs/바이러스1.png\" width=\"60%\">"
   ]
  },
  {
   "cell_type": "code",
   "execution_count": 1,
   "metadata": {},
   "outputs": [],
   "source": [
    "# 위의 예제처럼 연결시키면 된다.\n",
    "# 처음줄, 컴퓨터의 수\n",
    "# 두번째줄, 총 몇쌍이 연결되어있는지, 이번 케이스의 경우 6쌍이 연결되어있다.\n",
    "# 출력은 총 몇대가 1번으로부터 감염되었는지 출력한다.\n",
    "# 맨마지막장에 답"
   ]
  },
  {
   "cell_type": "code",
   "execution_count": 137,
   "metadata": {},
   "outputs": [],
   "source": [
    "#array 순서뒤집어서 넣기\n",
    "array1 = [[array[i][1], array[i][0]] for i in range(6)]"
   ]
  },
  {
   "cell_type": "code",
   "execution_count": 138,
   "metadata": {},
   "outputs": [
    {
     "data": {
      "text/plain": [
       "[[2, 1], [3, 2], [5, 1], [2, 5], [6, 5], [7, 4]]"
      ]
     },
     "execution_count": 138,
     "metadata": {},
     "output_type": "execute_result"
    }
   ],
   "source": [
    "array1"
   ]
  },
  {
   "cell_type": "code",
   "execution_count": 144,
   "metadata": {},
   "outputs": [],
   "source": [
    "dict_array = {}\n",
    "for i in range(1,computer+1):\n",
    "    dict_array[i] = []"
   ]
  },
  {
   "cell_type": "code",
   "execution_count": 145,
   "metadata": {},
   "outputs": [
    {
     "data": {
      "text/plain": [
       "{1: [], 2: [], 3: [], 4: [], 5: [], 6: [], 7: []}"
      ]
     },
     "execution_count": 145,
     "metadata": {},
     "output_type": "execute_result"
    }
   ],
   "source": [
    "dict_array"
   ]
  },
  {
   "cell_type": "code",
   "execution_count": 149,
   "metadata": {},
   "outputs": [
    {
     "data": {
      "text/plain": [
       "([[1, 2], [2, 3], [1, 5], [5, 2], [5, 6], [4, 7]],\n",
       " [[2, 1], [3, 2], [5, 1], [2, 5], [6, 5], [7, 4]])"
      ]
     },
     "execution_count": 149,
     "metadata": {},
     "output_type": "execute_result"
    }
   ],
   "source": [
    "array, array1"
   ]
  },
  {
   "cell_type": "code",
   "execution_count": 91,
   "metadata": {},
   "outputs": [],
   "source": [
    "if array[0][1] not in dict_array[array[0][0]]:\n",
    "    dict_array[array[0][0]].add(array[0][1])"
   ]
  },
  {
   "cell_type": "code",
   "execution_count": 92,
   "metadata": {},
   "outputs": [
    {
     "data": {
      "text/plain": [
       "{1: [2], 2: [], 3: [], 4: [], 5: [], 6: [], 7: []}"
      ]
     },
     "execution_count": 92,
     "metadata": {},
     "output_type": "execute_result"
    }
   ],
   "source": [
    "dict_array"
   ]
  },
  {
   "cell_type": "code",
   "execution_count": 153,
   "metadata": {},
   "outputs": [],
   "source": [
    "dict_array = {}\n",
    "for i in range(1,computer+1):\n",
    "    dict_array[i] = []"
   ]
  },
  {
   "cell_type": "code",
   "execution_count": 154,
   "metadata": {},
   "outputs": [],
   "source": [
    "for i in range(6):\n",
    "    dict_array[array[i][0]].append(array[i][1])\n",
    "    dict_array[array1[i][0]].append(array1[i][1])"
   ]
  },
  {
   "cell_type": "code",
   "execution_count": 155,
   "metadata": {},
   "outputs": [
    {
     "data": {
      "text/plain": [
       "{1: [2, 5], 2: [1, 3, 5], 3: [2], 4: [7], 5: [1, 2, 6], 6: [5], 7: [4]}"
      ]
     },
     "execution_count": 155,
     "metadata": {},
     "output_type": "execute_result"
    }
   ],
   "source": [
    "dict_array"
   ]
  },
  {
   "cell_type": "code",
   "execution_count": 168,
   "metadata": {},
   "outputs": [],
   "source": [
    "def print_all_friends(g, start):\n",
    "    qu = []\n",
    "    done = set()\n",
    "    \n",
    "    qu.append(start)\n",
    "    done.add(start)\n",
    "    \n",
    "    while qu:\n",
    "        p = qu.pop(0)\n",
    "        print(p)\n",
    "        for x in g[p]:\n",
    "            if x not in done:\n",
    "                qu.append(x)\n",
    "                done.add(x)\n",
    "    print(len(done)-1)"
   ]
  },
  {
   "cell_type": "code",
   "execution_count": 169,
   "metadata": {},
   "outputs": [
    {
     "name": "stdout",
     "output_type": "stream",
     "text": [
      "1\n",
      "2\n",
      "5\n",
      "3\n",
      "6\n",
      "4\n"
     ]
    }
   ],
   "source": [
    "print_all_friends(dict_array, 1)"
   ]
  },
  {
   "cell_type": "code",
   "execution_count": 172,
   "metadata": {},
   "outputs": [
    {
     "name": "stdout",
     "output_type": "stream",
     "text": [
      "7\n",
      "6\n",
      "1 2\n",
      "2 3\n",
      "1 5\n",
      "5 2\n",
      "5 6\n",
      "4 7\n"
     ]
    }
   ],
   "source": [
    "computer = int(input())\n",
    "network = int(input())\n",
    "array = [list(map(int, input().split())) for i in range(network)]\n",
    "#array 순서뒤집어서 넣기\n",
    "array1 = [[array[i][1], array[i][0]] for i in range(network)]"
   ]
  },
  {
   "cell_type": "code",
   "execution_count": 2,
   "metadata": {},
   "outputs": [],
   "source": [
    "dict_array = {}\n",
    "for i in range(1,computer+1):\n",
    "    dict_array[i] = []\n"
   ]
  },
  {
   "cell_type": "code",
   "execution_count": 3,
   "metadata": {},
   "outputs": [
    {
     "data": {
      "text/plain": [
       "{1: [], 2: [], 3: [], 4: [], 5: [], 6: [], 7: []}"
      ]
     },
     "execution_count": 3,
     "metadata": {},
     "output_type": "execute_result"
    }
   ],
   "source": [
    "dict_array"
   ]
  },
  {
   "cell_type": "code",
   "execution_count": 4,
   "metadata": {},
   "outputs": [],
   "source": [
    "for i in range(6):\n",
    "    if array[i][1] not in dict_array[array[i][0]]:\n",
    "        dict_array[array[i][0]].append(array[i][1])\n",
    "    if array1[i][1] not in dict_array[array1[i][0]]:\n",
    "        dict_array[array1[i][0]].append(array1[i][1])"
   ]
  },
  {
   "cell_type": "code",
   "execution_count": 8,
   "metadata": {},
   "outputs": [
    {
     "name": "stdout",
     "output_type": "stream",
     "text": [
      "5\n",
      "4\n",
      "1 2\n",
      "2 4\n",
      "2 5\n",
      "1 3\n",
      "4\n"
     ]
    }
   ],
   "source": [
    "computer = int(input())\n",
    "network = int(input())\n",
    "array = [list(map(int, input().split())) for i in range(network)]\n",
    "#array 순서뒤집어서 넣기\n",
    "array1 = [[array[i][1], array[i][0]] for i in range(network)]\n",
    "\n",
    "dict_array = {}\n",
    "for i in range(1,computer+1):\n",
    "    dict_array[i] = []\n",
    "for i in range(network):\n",
    "    if array[i][1] not in dict_array[array[i][0]]:\n",
    "        dict_array[array[i][0]].append(array[i][1])\n",
    "    if array1[i][1] not in dict_array[array1[i][0]]:\n",
    "        dict_array[array1[i][0]].append(array1[i][1])\n",
    "    \n",
    "    \n",
    "def print_all_friends(g, start):\n",
    "    qu = []\n",
    "    done = set()\n",
    "    \n",
    "    qu.append(start)\n",
    "    done.add(start)\n",
    "    \n",
    "    while qu:\n",
    "        p = qu.pop(0)\n",
    "        for x in g[p]:\n",
    "            if x not in done:\n",
    "                qu.append(x)\n",
    "                done.add(x)\n",
    "    print(len(done)-1)\n",
    "print_all_friends(dict_array, 1)"
   ]
  },
  {
   "cell_type": "code",
   "execution_count": 179,
   "metadata": {},
   "outputs": [
    {
     "name": "stdout",
     "output_type": "stream",
     "text": [
      "4\n"
     ]
    }
   ],
   "source": [
    "print_all_friends(dict_array, 1)"
   ]
  },
  {
   "cell_type": "code",
   "execution_count": null,
   "metadata": {},
   "outputs": [],
   "source": [
    "# 인중님 풀이\n",
    "\n",
    "cycle = 0\n",
    "count = 0\n",
    "\n",
    "N, M = map(int, input().split())\n",
    "queue = list(enumerate(map(int, input().split())))\n",
    "\n",
    "\n",
    "print(\"초기 상황: \", queue)\n",
    "while cycle <= 10:\n",
    "    cycle += 1\n",
    "    paper = queue.pop(0)\n",
    "    max_priority = max(queue, key=lambda x : x[1])[1]\n",
    "    if paper[1] >= max_priority:\n",
    "        count += 1\n",
    "        if paper[0] == M:\n",
    "            print(count, \"번째로 출력되었습니다.\")\n",
    "            break\n",
    "    else:\n",
    "        queue.append(paper)\n",
    "    print(cycle, \"번째 상황: \", queue)"
   ]
  }
 ],
 "metadata": {
  "kernelspec": {
   "display_name": "Python 3",
   "language": "python",
   "name": "python3"
  },
  "language_info": {
   "codemirror_mode": {
    "name": "ipython",
    "version": 3
   },
   "file_extension": ".py",
   "mimetype": "text/x-python",
   "name": "python",
   "nbconvert_exporter": "python",
   "pygments_lexer": "ipython3",
   "version": "3.7.6"
  }
 },
 "nbformat": 4,
 "nbformat_minor": 2
}
