{
 "cells": [
  {
   "cell_type": "markdown",
   "metadata": {},
   "source": [
    "<img src=\"./imgs/바이러스1.png\" width=\"60%\">"
   ]
  },
  {
   "cell_type": "code",
   "execution_count": 1,
   "metadata": {},
   "outputs": [],
   "source": [
    "# 위의 예제처럼 연결시키면 된다.\n",
    "# 처음줄, 컴퓨터의 수\n",
    "# 두번째줄, 총 몇쌍이 연결되어있는지, 이번 케이스의 경우 6쌍이 연결되어있다.\n",
    "# 출력은 총 몇대가 1번으로부터 감염되었는지 출력한다.\n",
    "# 맨마지막장에 답\n",
    "#"
   ]
  },
  {
   "cell_type": "code",
   "execution_count": 137,
   "metadata": {},
   "outputs": [],
   "source": [
    "#array 순서뒤집어서 넣기\n",
    "array1 = [[array[i][1], array[i][0]] for i in range(6)]"
   ]
  },
  {
   "cell_type": "code",
   "execution_count": 138,
   "metadata": {},
   "outputs": [
    {
     "data": {
      "text/plain": [
       "[[2, 1], [3, 2], [5, 1], [2, 5], [6, 5], [7, 4]]"
      ]
     },
     "execution_count": 138,
     "metadata": {},
     "output_type": "execute_result"
    }
   ],
   "source": [
    "array1"
   ]
  },
  {
   "cell_type": "code",
   "execution_count": 144,
   "metadata": {},
   "outputs": [],
   "source": [
    "dict_array = {}\n",
    "for i in range(1,computer+1):\n",
    "    dict_array[i] = []"
   ]
  },
  {
   "cell_type": "code",
   "execution_count": 145,
   "metadata": {},
   "outputs": [
    {
     "data": {
      "text/plain": [
       "{1: [], 2: [], 3: [], 4: [], 5: [], 6: [], 7: []}"
      ]
     },
     "execution_count": 145,
     "metadata": {},
     "output_type": "execute_result"
    }
   ],
   "source": [
    "dict_array"
   ]
  },
  {
   "cell_type": "code",
   "execution_count": 149,
   "metadata": {},
   "outputs": [
    {
     "data": {
      "text/plain": [
       "([[1, 2], [2, 3], [1, 5], [5, 2], [5, 6], [4, 7]],\n",
       " [[2, 1], [3, 2], [5, 1], [2, 5], [6, 5], [7, 4]])"
      ]
     },
     "execution_count": 149,
     "metadata": {},
     "output_type": "execute_result"
    }
   ],
   "source": [
    "array, array1"
   ]
  },
  {
   "cell_type": "code",
   "execution_count": 91,
   "metadata": {},
   "outputs": [],
   "source": [
    "if array[0][1] not in dict_array[array[0][0]]:\n",
    "    dict_array[array[0][0]].add(array[0][1])"
   ]
  },
  {
   "cell_type": "code",
   "execution_count": 92,
   "metadata": {},
   "outputs": [
    {
     "data": {
      "text/plain": [
       "{1: [2], 2: [], 3: [], 4: [], 5: [], 6: [], 7: []}"
      ]
     },
     "execution_count": 92,
     "metadata": {},
     "output_type": "execute_result"
    }
   ],
   "source": [
    "dict_array"
   ]
  },
  {
   "cell_type": "code",
   "execution_count": 1,
   "metadata": {},
   "outputs": [
    {
     "ename": "NameError",
     "evalue": "name 'computer' is not defined",
     "output_type": "error",
     "traceback": [
      "\u001b[0;31m---------------------------------------------------------------------------\u001b[0m",
      "\u001b[0;31mNameError\u001b[0m                                 Traceback (most recent call last)",
      "\u001b[0;32m<ipython-input-1-bd91354c0fbf>\u001b[0m in \u001b[0;36m<module>\u001b[0;34m\u001b[0m\n\u001b[1;32m      1\u001b[0m \u001b[0mdict_array\u001b[0m \u001b[0;34m=\u001b[0m \u001b[0;34m{\u001b[0m\u001b[0;34m}\u001b[0m\u001b[0;34m\u001b[0m\u001b[0;34m\u001b[0m\u001b[0m\n\u001b[0;32m----> 2\u001b[0;31m \u001b[0;32mfor\u001b[0m \u001b[0mi\u001b[0m \u001b[0;32min\u001b[0m \u001b[0mrange\u001b[0m\u001b[0;34m(\u001b[0m\u001b[0;36m1\u001b[0m\u001b[0;34m,\u001b[0m\u001b[0mcomputer\u001b[0m\u001b[0;34m+\u001b[0m\u001b[0;36m1\u001b[0m\u001b[0;34m)\u001b[0m\u001b[0;34m:\u001b[0m\u001b[0;34m\u001b[0m\u001b[0;34m\u001b[0m\u001b[0m\n\u001b[0m\u001b[1;32m      3\u001b[0m     \u001b[0mdict_array\u001b[0m\u001b[0;34m[\u001b[0m\u001b[0mi\u001b[0m\u001b[0;34m]\u001b[0m \u001b[0;34m=\u001b[0m \u001b[0;34m[\u001b[0m\u001b[0;34m]\u001b[0m\u001b[0;34m\u001b[0m\u001b[0;34m\u001b[0m\u001b[0m\n",
      "\u001b[0;31mNameError\u001b[0m: name 'computer' is not defined"
     ]
    }
   ],
   "source": [
    "dict_array = {}\n",
    "for i in range(1,computer+1):\n",
    "    dict_array[i] = []"
   ]
  },
  {
   "cell_type": "code",
   "execution_count": 154,
   "metadata": {},
   "outputs": [],
   "source": [
    "for i in range(6):\n",
    "    dict_array[array[i][0]].append(array[i][1])\n",
    "    dict_array[array1[i][0]].append(array1[i][1])"
   ]
  },
  {
   "cell_type": "code",
   "execution_count": 155,
   "metadata": {},
   "outputs": [
    {
     "data": {
      "text/plain": [
       "{1: [2, 5], 2: [1, 3, 5], 3: [2], 4: [7], 5: [1, 2, 6], 6: [5], 7: [4]}"
      ]
     },
     "execution_count": 155,
     "metadata": {},
     "output_type": "execute_result"
    }
   ],
   "source": [
    "dict_array"
   ]
  },
  {
   "cell_type": "code",
   "execution_count": 168,
   "metadata": {},
   "outputs": [],
   "source": [
    "def print_all_friends(g, start):\n",
    "    qu = []\n",
    "    done = set()\n",
    "    \n",
    "    qu.append(start)\n",
    "    done.add(start)\n",
    "    \n",
    "    while qu:\n",
    "        p = qu.pop(0)\n",
    "        print(p)\n",
    "        for x in g[p]:\n",
    "            if x not in done:\n",
    "                qu.append(x)\n",
    "                done.add(x)\n",
    "    print(len(done)-1)"
   ]
  },
  {
   "cell_type": "code",
   "execution_count": 169,
   "metadata": {},
   "outputs": [
    {
     "name": "stdout",
     "output_type": "stream",
     "text": [
      "1\n",
      "2\n",
      "5\n",
      "3\n",
      "6\n",
      "4\n"
     ]
    }
   ],
   "source": [
    "print_all_friends(dict_array, 1)"
   ]
  },
  {
   "cell_type": "code",
   "execution_count": 172,
   "metadata": {},
   "outputs": [
    {
     "name": "stdout",
     "output_type": "stream",
     "text": [
      "7\n",
      "6\n",
      "1 2\n",
      "2 3\n",
      "1 5\n",
      "5 2\n",
      "5 6\n",
      "4 7\n"
     ]
    }
   ],
   "source": [
    "computer = int(input())\n",
    "network = int(input())\n",
    "array = [list(map(int, input().split())) for i in range(network)]\n",
    "#array 순서뒤집어서 넣기\n",
    "array1 = [[array[i][1], array[i][0]] for i in range(network)]"
   ]
  },
  {
   "cell_type": "code",
   "execution_count": 2,
   "metadata": {},
   "outputs": [],
   "source": [
    "dict_array = {}\n",
    "for i in range(1,computer+1):\n",
    "    dict_array[i] = []\n"
   ]
  },
  {
   "cell_type": "code",
   "execution_count": 3,
   "metadata": {},
   "outputs": [
    {
     "data": {
      "text/plain": [
       "{1: [], 2: [], 3: [], 4: [], 5: [], 6: [], 7: []}"
      ]
     },
     "execution_count": 3,
     "metadata": {},
     "output_type": "execute_result"
    }
   ],
   "source": [
    "dict_array"
   ]
  },
  {
   "cell_type": "code",
   "execution_count": 4,
   "metadata": {},
   "outputs": [],
   "source": [
    "for i in range(6):\n",
    "    if array[i][1] not in dict_array[array[i][0]]:\n",
    "        dict_array[array[i][0]].append(array[i][1])\n",
    "    if array1[i][1] not in dict_array[array1[i][0]]:\n",
    "        dict_array[array1[i][0]].append(array1[i][1])"
   ]
  },
  {
   "cell_type": "code",
   "execution_count": 8,
   "metadata": {},
   "outputs": [
    {
     "name": "stdout",
     "output_type": "stream",
     "text": [
      "5\n",
      "4\n",
      "1 2\n",
      "2 4\n",
      "2 5\n",
      "1 3\n",
      "4\n"
     ]
    }
   ],
   "source": [
    "computer = int(input())\n",
    "network = int(input())\n",
    "array = [list(map(int, input().split())) for i in range(network)]\n",
    "#array 순서뒤집어서 넣기\n",
    "array1 = [[array[i][1], array[i][0]] for i in range(network)]\n",
    "\n",
    "dict_array = {}\n",
    "for i in range(1,computer+1):\n",
    "    dict_array[i] = []\n",
    "for i in range(network):\n",
    "    if array[i][1] not in dict_array[array[i][0]]:\n",
    "        dict_array[array[i][0]].append(array[i][1])\n",
    "    if array1[i][1] not in dict_array[array1[i][0]]:\n",
    "        dict_array[array1[i][0]].append(array1[i][1])\n",
    "    \n",
    "    \n",
    "def print_all_friends(g, start):\n",
    "    qu = []\n",
    "    done = set()\n",
    "    \n",
    "    qu.append(start)\n",
    "    done.add(start)\n",
    "    \n",
    "    while qu:\n",
    "        p = qu.pop(0)\n",
    "        for x in g[p]:\n",
    "            if x not in done:\n",
    "                qu.append(x)\n",
    "                done.add(x)\n",
    "    print(len(done)-1)\n",
    "print_all_friends(dict_array, 1)"
   ]
  },
  {
   "cell_type": "code",
   "execution_count": 179,
   "metadata": {},
   "outputs": [
    {
     "name": "stdout",
     "output_type": "stream",
     "text": [
      "4\n"
     ]
    }
   ],
   "source": [
    "print_all_friends(dict_array, 1)"
   ]
  },
  {
   "cell_type": "code",
   "execution_count": null,
   "metadata": {},
   "outputs": [],
   "source": []
  },
  {
   "cell_type": "code",
   "execution_count": null,
   "metadata": {},
   "outputs": [],
   "source": [
    "# 인중님 풀이\n",
    "computerCount = int(input())\n",
    "networkCount = int(input())\n",
    "\n",
    "network = dict()\n",
    "warm_computer = set()\n",
    "\n",
    "for idx in range(1, computerCount+1):\n",
    "    network[idx] = set()\n",
    "\n",
    "for _ in range(networkCount):\n",
    "    left, right = map(int, input().split())\n",
    "    network[left].add(right)\n",
    "    network[right].add(left)\n",
    "\n",
    "# print(network)\n",
    "\n",
    "def warmvirus(idx):\n",
    "    global warm_computer\n",
    "    warm_computer.add(idx)\n",
    "    if network[idx].issubset(warm_computer):\n",
    "        # print(\"이미 모든 연결된 컴퓨터가 감염되었습니다.\")\n",
    "        return\n",
    "    else:\n",
    "        warm_computer = warm_computer.union(network[idx])\n",
    "        # print(\"현재까지 웜바이러스에 걸린 컴퓨터들:\", warm_computer)\n",
    "        for i in network[idx]:\n",
    "            # print()\n",
    "            # print(i, \"번 컴퓨터에 의한 감염\", sep=\"\")\n",
    "            warmvirus(i)\n",
    "\n",
    "\n",
    "warmvirus(1)\n",
    "print(warm_computer)"
   ]
  }
 ],
 "metadata": {
  "kernelspec": {
   "display_name": "Python 3",
   "language": "python",
   "name": "python3"
  },
  "language_info": {
   "codemirror_mode": {
    "name": "ipython",
    "version": 3
   },
   "file_extension": ".py",
   "mimetype": "text/x-python",
   "name": "python",
   "nbconvert_exporter": "python",
   "pygments_lexer": "ipython3",
   "version": "3.7.6"
  }
 },
 "nbformat": 4,
 "nbformat_minor": 2
}
