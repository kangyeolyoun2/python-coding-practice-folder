{
 "cells": [
  {
   "cell_type": "markdown",
   "metadata": {},
   "source": [
    "<img src=\"./imgs/프린터큐.png\" width=\"60%\">"
   ]
  },
  {
   "cell_type": "code",
   "execution_count": 1,
   "metadata": {},
   "outputs": [],
   "source": [
    "# 문제해설. 우선 3을입력하면 3개의 case를 진행할 수 있다.\n",
    "\n",
    "# 그중 1 0 을 입력하면, 총 1장의 프린트물을 뽑고, 0번째(맨앞)의 프린터물의 언제 인쇄되는지를 물어보고\n",
    "# 그다음 5를 입력하여 문서1개의 중요도를 나타낸다. 그래서 1장밖에 없으므로 1번째로 인쇄된다는걸 알 수 있다.\n",
    "\n",
    "\n",
    "# 2번째 케이스로는 4 2, 총4장의 인쇄물, 2(3번째 유인물은 언제 인쇄되ㅡㄴ지를 물어보는것이다.)\n",
    "# 다음에서 1 2 3 4 (총4개의 문서의 중요도를 나타낸다.) 맨뒤인 4가 0번째인쇄, 3은 1번째 인쇄, 2는 2번째 인쇄이므로 2다.\n",
    "\n",
    "#마지막 케이스 6,0 (0번째 위치)\n",
    "# 1 1 9 1 1 1 이므로, 9인(2)가 인쇄되고, 그다음 중요도가 모두 1이니 1 1 1 이 인쇄되고 첫번째 장인 1은 앞서 지나쳤으니\n",
    "#그 다음 인쇄되어 5이다."
   ]
  },
  {
   "cell_type": "code",
   "execution_count": 32,
   "metadata": {},
   "outputs": [
    {
     "name": "stdout",
     "output_type": "stream",
     "text": [
      "1\n",
      "6 0\n",
      "1 1 9 1 1 1\n",
      "5\n"
     ]
    }
   ],
   "source": [
    "case = int(input())\n",
    "\n",
    "for i in range(case):\n",
    "    N, M = map(int, input().split())\n",
    "    print_list = list(map(int, input().split()))\n",
    "    priority_level = []\n",
    "  \n",
    "    for i in print_list:\n",
    "        priority_level.append(i)\n",
    "\n",
    "    result = [0 for i in range(N)]\n",
    "    queue = [i for i in range(N)]\n",
    "    sequence = 1\n",
    "\n",
    "    while queue:\n",
    "        if print_list[queue[0]] == max(priority_level):\n",
    "            priority_level.remove(max(priority_level))\n",
    "            result[queue.pop(0)] = sequence\n",
    "            sequence += 1\n",
    "        else:\n",
    "            queue.append(queue.pop(0))\n",
    "    print(result[M])\n"
   ]
  },
  {
   "cell_type": "code",
   "execution_count": 33,
   "metadata": {},
   "outputs": [
    {
     "data": {
      "text/plain": [
       "[5, 6, 1, 2, 3, 4]"
      ]
     },
     "execution_count": 33,
     "metadata": {},
     "output_type": "execute_result"
    }
   ],
   "source": [
    "result"
   ]
  },
  {
   "cell_type": "code",
   "execution_count": 34,
   "metadata": {},
   "outputs": [
    {
     "data": {
      "text/plain": [
       "[1, 1, 9, 1, 1, 1]"
      ]
     },
     "execution_count": 34,
     "metadata": {},
     "output_type": "execute_result"
    }
   ],
   "source": [
    "print_list"
   ]
  },
  {
   "cell_type": "code",
   "execution_count": 35,
   "metadata": {},
   "outputs": [
    {
     "data": {
      "text/plain": [
       "[]"
      ]
     },
     "execution_count": 35,
     "metadata": {},
     "output_type": "execute_result"
    }
   ],
   "source": [
    "priority_level"
   ]
  },
  {
   "cell_type": "code",
   "execution_count": 37,
   "metadata": {},
   "outputs": [
    {
     "data": {
      "text/plain": [
       "[]"
      ]
     },
     "execution_count": 37,
     "metadata": {},
     "output_type": "execute_result"
    }
   ],
   "source": [
    "queue"
   ]
  },
  {
   "cell_type": "code",
   "execution_count": null,
   "metadata": {},
   "outputs": [],
   "source": []
  },
  {
   "cell_type": "code",
   "execution_count": null,
   "metadata": {},
   "outputs": [],
   "source": [
    "# 인중님 풀이\n",
    "\n",
    "cycle = 0\n",
    "count = 0\n",
    "\n",
    "N, M = map(int, input().split())\n",
    "queue = list(enumerate(map(int, input().split())))\n",
    "\n",
    "\n",
    "print(\"초기 상황: \", queue)\n",
    "while cycle <= 10:\n",
    "    cycle += 1\n",
    "    paper = queue.pop(0)\n",
    "    max_priority = max(queue, key=lambda x : x[1])[1]\n",
    "    if paper[1] >= max_priority:\n",
    "        count += 1\n",
    "        if paper[0] == M:\n",
    "            print(count, \"번째로 출력되었습니다.\")\n",
    "            break\n",
    "    else:\n",
    "        queue.append(paper)\n",
    "    print(cycle, \"번째 상황: \", queue)"
   ]
  },
  {
   "cell_type": "code",
   "execution_count": null,
   "metadata": {},
   "outputs": [],
   "source": []
  },
  {
   "cell_type": "code",
   "execution_count": null,
   "metadata": {},
   "outputs": [],
   "source": []
  },
  {
   "cell_type": "code",
   "execution_count": null,
   "metadata": {},
   "outputs": [],
   "source": []
  }
 ],
 "metadata": {
  "kernelspec": {
   "display_name": "Python 3",
   "language": "python",
   "name": "python3"
  },
  "language_info": {
   "codemirror_mode": {
    "name": "ipython",
    "version": 3
   },
   "file_extension": ".py",
   "mimetype": "text/x-python",
   "name": "python",
   "nbconvert_exporter": "python",
   "pygments_lexer": "ipython3",
   "version": "3.7.6"
  }
 },
 "nbformat": 4,
 "nbformat_minor": 2
}
