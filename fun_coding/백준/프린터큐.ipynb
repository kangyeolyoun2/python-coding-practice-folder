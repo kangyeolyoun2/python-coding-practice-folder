{
 "cells": [
  {
   "cell_type": "markdown",
   "metadata": {},
   "source": [
    "<img src=\"./imgs/프린터큐.png\" width=\"60%\">"
   ]
  },
  {
   "cell_type": "code",
   "execution_count": 1,
   "metadata": {},
   "outputs": [],
   "source": [
    "# 문제해설. 우선 3을입력하면 3개의 case를 진행할 수 있다.\n",
    "\n",
    "# 그중 1 0 을 입력하면, 총 1장의 프린트물을 뽑고, 0번째(맨앞)의 프린터물의 언제 인쇄되는지를 물어보고\n",
    "# 그다음 5를 입력하여 문서1개의 중요도를 나타낸다. 그래서 1장밖에 없으므로 1번째로 인쇄된다는걸 알 수 있다.\n",
    "\n",
    "\n",
    "# 2번째 케이스로는 4 2, 총4장의 인쇄물, 2(3번째 유인물은 언제 인쇄되ㅡㄴ지를 물어보는것이다.)\n",
    "# 다음에서 1 2 3 4 (총4개의 문서의 중요도를 나타낸다.) 맨뒤인 4가 0번째인쇄, 3은 1번째 인쇄, 2는 2번째 인쇄이므로 2다.\n",
    "\n",
    "#마지막 케이스 6,0 (0번째 위치)\n",
    "# 1 1 9 1 1 1 이므로, 9인(2)가 인쇄되고, 그다음 중요도가 모두 1이니 1 1 1 이 인쇄되고 첫번째 장인 1은 앞서 지나쳤으니\n",
    "#그 다음 인쇄되어 5이다."
   ]
  },
  {
   "cell_type": "code",
   "execution_count": null,
   "metadata": {},
   "outputs": [],
   "source": []
  }
 ],
 "metadata": {
  "kernelspec": {
   "display_name": "Python 3",
   "language": "python",
   "name": "python3"
  },
  "language_info": {
   "codemirror_mode": {
    "name": "ipython",
    "version": 3
   },
   "file_extension": ".py",
   "mimetype": "text/x-python",
   "name": "python",
   "nbconvert_exporter": "python",
   "pygments_lexer": "ipython3",
   "version": "3.7.6"
  }
 },
 "nbformat": 4,
 "nbformat_minor": 2
}
