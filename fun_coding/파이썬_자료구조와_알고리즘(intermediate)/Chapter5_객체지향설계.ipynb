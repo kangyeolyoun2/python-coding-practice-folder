{
 "cells": [
  {
   "cell_type": "markdown",
   "metadata": {},
   "source": [
    "## Chapter 5 객체지향 설계"
   ]
  },
  {
   "cell_type": "code",
   "execution_count": 2,
   "metadata": {},
   "outputs": [
    {
     "data": {
      "text/plain": [
       "__main__.Circle"
      ]
     },
     "execution_count": 2,
     "metadata": {},
     "output_type": "execute_result"
    }
   ],
   "source": [
    "import collections\n",
    "circle = collections.namedtuple(\"Circle\", \"x y radius\")\n",
    "circle"
   ]
  },
  {
   "cell_type": "code",
   "execution_count": 3,
   "metadata": {},
   "outputs": [
    {
     "data": {
      "text/plain": [
       "Circle(x=13, y=84, radius=9)"
      ]
     },
     "execution_count": 3,
     "metadata": {},
     "output_type": "execute_result"
    }
   ],
   "source": [
    "circle = circle(13, 84, 9)\n",
    "circle"
   ]
  },
  {
   "cell_type": "markdown",
   "metadata": {},
   "source": [
    "### namedtuple을 이용하여, 원을 나타내는 객체를 정의함. \n",
    "### a) 사용자가 원의 반지름을 입력할 때, 음수 등 유효하지 않은 값을 입력할 수도 있다.\n",
    "### b) 원의 넓이, 둘레를 구하고 싶다면??\n",
    "\n",
    "- 이를 통해 우리가 기대하는 속성만 가진 객체를 만들어야 한다. 즉, 데이터를 패키지화하고, 메서드를 제한해야 한다.\n",
    "- 이것이 바로 객체지향 프로그래밍입니다."
   ]
  },
  {
   "cell_type": "code",
   "execution_count": null,
   "metadata": {},
   "outputs": [],
   "source": []
  },
  {
   "cell_type": "markdown",
   "metadata": {},
   "source": [
    "### 5.1 클래스와 객체\n",
    "\n",
    "- `클래스`는 사전에 정의된 특별한 데이터와 메서드의 집합이다. \n",
    "- 클래스에 선언된 모양 그대로 생성된 실체를 `객체`라고 한다.\n",
    "- 객체가 소프트웨어에 실체화될 때(메모리 할당되어 사용될 때), 이 실체를 `인스턴스`라고 한다."
   ]
  },
  {
   "cell_type": "code",
   "execution_count": 1,
   "metadata": {},
   "outputs": [
    {
     "data": {
      "text/plain": [
       "<__main__.ClassName at 0x11a0395d0>"
      ]
     },
     "execution_count": 1,
     "metadata": {},
     "output_type": "execute_result"
    }
   ],
   "source": [
    "class ClassName:\n",
    "    # 문장 1\n",
    "    # ...\n",
    "    # 문장 n\n",
    "    pass\n",
    "\n",
    "x = ClassName() #클래스 정의에 따라 인스턴스 생성\n",
    "x"
   ]
  },
  {
   "cell_type": "markdown",
   "metadata": {},
   "source": [
    "### 5.1.1 클래스 인스턴스 생성\n",
    "\n",
    "- 함수 표기법을 사용하여 초기 상태의 객체를 생성하는 일이다.\n",
    "- 인스턴스 생성 작업은 어떤 특징을 가진 빈 객체를 만드는것.\n",
    "- (여러 범위의) 여러 이름을 같은 객체에 바인딩(binding) = 에일리어싱(aliasing)할 수 있다.\n",
    "\n",
    "ex) Hello라는 클래스가 있고, Hello()를 호출하여 객체를 생성하는데, Hello()를 생성자(constructor)라고한다.\n",
    "생성자 호출하면, Hello.__new__()라는 특수 메서드가 호출되어 객체가 할당되고, 그다음 Hello.__init__() 메서드가 객체를 초기화한다.\n",
    "\n",
    "#### 속성\n",
    "- 객체에는 데이터, 메서드로 이루어지는 클래스 `속성`(attribute)이 있다. 메서드 속성은 함수\n",
    "- 메서드 속성의 첫 번째 인수는 호출된 인스턴스 자신(self).\n",
    "\n",
    "#### 네임스페이스\n",
    "- `네임스페이스`는 이름을 객체로 매핑하는것. 대부분 네임스페이스는 파이썬 딕셔너리로 구현되어있음. \n",
    "- 스크립트 파일 또는 대화식 인터프리터의 최상위 호출에 의해 실행되는 명령문은 __main__ 이라는 모듈의 일부로 간주, 고유의 전역 네임스페이스를 갖는다.\n",
    "\n",
    "#### 스코프\n",
    "- 네임스페이스에 직접 접근할 수 있는 파이썬 프로그램의 텍스트영역. \n",
    "- 스코프는 정적으로 결정되지만, 동적으로 사용된다. (텍스트에 다라 결정)\n",
    "- 클래스 정의가 실행되면, 새로운 네임스페이스가 만들어지고, 지역 스코프로 사용됨."
   ]
  },
  {
   "cell_type": "markdown",
   "metadata": {},
   "source": [
    "### 5.2 객체지향 프로그래밍의 원리\n",
    "\n",
    "#### 5.2.1 특수화\n",
    "- `특수화`는 슈퍼클래스의 모든 속성을 상속하여 새 클래스를 만드는 절차.\n",
    "\n",
    "#### 5.2.2 다형성\n",
    "- `다형성`은 메서드가 서브 클래스 내에서 재정의될 수 있다는 원리.\n",
    "- 즉!! 서브 클래스 객체에서 슈퍼 클래스와 동명의 메서드를 호출하면, 파이썬은 서브클래스에서 정의된 메서드를 사용.\n",
    "- super를 사용해야 할 경우, super()메서드를 사용하여 쉽게 호출 가능."
   ]
  },
  {
   "cell_type": "code",
   "execution_count": 8,
   "metadata": {},
   "outputs": [
    {
     "name": "stdout",
     "output_type": "stream",
     "text": [
      "False\n",
      "False\n",
      "2\n",
      "{<__main__.Symbol object at 0x11a09d510>, <__main__.Symbol object at 0x11a09d690>}\n"
     ]
    }
   ],
   "source": [
    "class Symbol(object):\n",
    "    def __init__(self, value):\n",
    "        self.value = value\n",
    "\n",
    "if __name__ == \"__main__\":\n",
    "    x = Symbol(\"Py\")\n",
    "    y = Symbol(\"Py\")\n",
    "    \n",
    "    symbols = set()\n",
    "    symbols.add(x)\n",
    "    symbols.add(y)\n",
    "    \n",
    "    print(x is y) #1\n",
    "    print(x == y) #2\n",
    "    print(len(symbols)) #3\n",
    "    print(symbols)\n",
    "    \n",
    "#1의 경우 두 변수 x,y가 참조가 다르므로 False가 나오나, #2, #3은??"
   ]
  },
  {
   "cell_type": "code",
   "execution_count": 4,
   "metadata": {},
   "outputs": [
    {
     "ename": "TypeError",
     "evalue": "unhashable type: 'Symbol'",
     "output_type": "error",
     "traceback": [
      "\u001b[0;31m---------------------------------------------------------------------------\u001b[0m",
      "\u001b[0;31mTypeError\u001b[0m                                 Traceback (most recent call last)",
      "\u001b[0;32m<ipython-input-4-de2491931cb4>\u001b[0m in \u001b[0;36m<module>\u001b[0;34m\u001b[0m\n\u001b[1;32m     14\u001b[0m \u001b[0;34m\u001b[0m\u001b[0m\n\u001b[1;32m     15\u001b[0m     \u001b[0msymbols\u001b[0m \u001b[0;34m=\u001b[0m \u001b[0mset\u001b[0m\u001b[0;34m(\u001b[0m\u001b[0;34m)\u001b[0m\u001b[0;34m\u001b[0m\u001b[0;34m\u001b[0m\u001b[0m\n\u001b[0;32m---> 16\u001b[0;31m     \u001b[0msymbols\u001b[0m\u001b[0;34m.\u001b[0m\u001b[0madd\u001b[0m\u001b[0;34m(\u001b[0m\u001b[0mx\u001b[0m\u001b[0;34m)\u001b[0m\u001b[0;34m\u001b[0m\u001b[0;34m\u001b[0m\u001b[0m\n\u001b[0m\u001b[1;32m     17\u001b[0m     \u001b[0msymbols\u001b[0m\u001b[0;34m.\u001b[0m\u001b[0madd\u001b[0m\u001b[0;34m(\u001b[0m\u001b[0my\u001b[0m\u001b[0;34m)\u001b[0m\u001b[0;34m\u001b[0m\u001b[0;34m\u001b[0m\u001b[0m\n\u001b[1;32m     18\u001b[0m \u001b[0;34m\u001b[0m\u001b[0m\n",
      "\u001b[0;31mTypeError\u001b[0m: unhashable type: 'Symbol'"
     ]
    }
   ],
   "source": [
    "class Symbol(object):\n",
    "    def __init__(self, value):\n",
    "        self.value = value\n",
    "        \n",
    "    def __eq__(self, other):\n",
    "        if isinstance(self, other.__class__):\n",
    "            return self.value == other.value\n",
    "        else:\n",
    "            return NotImplemented\n",
    "        \n",
    "if __name__ == \"__main__\":\n",
    "    x = Symbol(\"Py\")\n",
    "    y = Symbol(\"Py\")\n",
    "    \n",
    "    symbols = set()\n",
    "    symbols.add(x)\n",
    "    symbols.add(y)\n",
    "    \n",
    "    print(x is y)\n",
    "    print(x == y)\n",
    "    print(len(symbols))\n",
    "    \n",
    "#  해시가 가능하지 않다는것은 가변 객체임을 의미, 셋은 불변 객체이다."
   ]
  },
  {
   "cell_type": "code",
   "execution_count": 5,
   "metadata": {},
   "outputs": [
    {
     "name": "stdout",
     "output_type": "stream",
     "text": [
      "False\n",
      "True\n",
      "1\n"
     ]
    }
   ],
   "source": [
    "# hash 가능화 하기 위해, __hash__()메서드를 추가\n",
    "\n",
    "class Symbol(object):\n",
    "    def __init__(self, value):\n",
    "        self.value = value\n",
    "        \n",
    "    def __eq__(self, other):\n",
    "        if isinstance(self, other.__class__):\n",
    "            return self.value == other.value\n",
    "        else:\n",
    "            return NotImplemented\n",
    "        \n",
    "    def __hash__(self):\n",
    "        return hash(self.value)\n",
    "        \n",
    "if __name__ == \"__main__\":\n",
    "    x = Symbol(\"Py\")\n",
    "    y = Symbol(\"Py\")\n",
    "    \n",
    "    symbols = set()\n",
    "    symbols.add(x)\n",
    "    symbols.add(y)\n",
    "    \n",
    "    print(x is y)\n",
    "    print(x == y)\n",
    "    print(len(symbols))\n",
    "    \n"
   ]
  },
  {
   "cell_type": "markdown",
   "metadata": {},
   "source": [
    "#### 5.2.3 합성과 집합화\n",
    "- 합성(composition), 집합화(aggregation)은 한 클래스에서 다른 클래스의 인스턴스 변수를 포함하는 것을 말하며,\\\n",
    "클래스 간의 관계를 나타낸다.\n",
    "- 파이썬의 모든 클래스는 상속을 사용한다. 대부분 클래스는 다양한 타입의 인스턴스 변수를 가지며, 합성과 집합화 사용.\n",
    "\n",
    "#### 5.2.4 클래스 예제\n",
    "\n",
    "- 원의 데이터 컨테이너를 만들어 보자. \n",
    "- 1) 일반적인 데이터와 메서드 속성을 가진 점(Point)클래스 구현하고\n",
    "- 2) 상속을 사용하여 Circle 서브 클래스 구현\n"
   ]
  },
  {
   "cell_type": "code",
   "execution_count": 9,
   "metadata": {},
   "outputs": [],
   "source": [
    "import math\n",
    "\n",
    "class Point(object):\n",
    "    def __init__(self, x=0, y=0):\n",
    "        self.x = x #데이터 속성(attribute)\n",
    "        self.y = y\n",
    "    \n",
    "    def distance_from_origin(self): #메서드 속성\n",
    "        return math.hypot(self.x, self.y)\n",
    "    \n",
    "    def __eq__(self, other):\n",
    "        return self.x == other.x and self.y == other.y\n",
    "    \n",
    "    def __repr__(self):\n",
    "        return \"point ({0.x!r}, {0.y!r})\".format(self)\n",
    "    \n",
    "    def __str__(self):\n",
    "        return \"({0.x!r}, {0.y!r})\".format(self)\n",
    "    \n",
    "class Circle(Point):\n",
    "    def __init__(self, radius, x=0, y=0):\n",
    "        super().__init__(x,y) #생성 및 초기화\n",
    "        self.radius = radius\n",
    "        \n",
    "    def edge_distance_from_origin(self):\n",
    "        return abs(self.distance_from_origin() - self.radius)\n",
    "    \n",
    "    def area(self):\n",
    "        return math.pi*(self.radius**2)\n",
    "    \n",
    "    def circumference(self):\n",
    "        return 2*math.pi*self.radius\n",
    "    \n",
    "    def __eq__(self):\n",
    "        return self.radius == other.radius and super().__eq__(other)\n",
    "    \n",
    "    def __str__(self):\n",
    "        return repr(self)"
   ]
  },
  {
   "cell_type": "code",
   "execution_count": 11,
   "metadata": {},
   "outputs": [
    {
     "data": {
      "text/plain": [
       "point (3, 4)"
      ]
     },
     "execution_count": 11,
     "metadata": {},
     "output_type": "execute_result"
    }
   ],
   "source": [
    "a = Point(3,4)\n",
    "a"
   ]
  },
  {
   "cell_type": "code",
   "execution_count": 12,
   "metadata": {},
   "outputs": [
    {
     "data": {
      "text/plain": [
       "'point (3, 4)'"
      ]
     },
     "execution_count": 12,
     "metadata": {},
     "output_type": "execute_result"
    }
   ],
   "source": [
    "repr(a)"
   ]
  },
  {
   "cell_type": "code",
   "execution_count": 13,
   "metadata": {},
   "outputs": [
    {
     "data": {
      "text/plain": [
       "'(3, 4)'"
      ]
     },
     "execution_count": 13,
     "metadata": {},
     "output_type": "execute_result"
    }
   ],
   "source": [
    "str(a)"
   ]
  },
  {
   "cell_type": "code",
   "execution_count": 14,
   "metadata": {},
   "outputs": [
    {
     "data": {
      "text/plain": [
       "5.0"
      ]
     },
     "execution_count": 14,
     "metadata": {},
     "output_type": "execute_result"
    }
   ],
   "source": [
    "a.distance_from_origin()"
   ]
  },
  {
   "cell_type": "code",
   "execution_count": 36,
   "metadata": {},
   "outputs": [],
   "source": [
    "a = shape.Point(3,4)"
   ]
  },
  {
   "cell_type": "code",
   "execution_count": 37,
   "metadata": {},
   "outputs": [
    {
     "data": {
      "text/plain": [
       "point (3, 4)"
      ]
     },
     "execution_count": 37,
     "metadata": {},
     "output_type": "execute_result"
    }
   ],
   "source": [
    "a"
   ]
  },
  {
   "cell_type": "code",
   "execution_count": 38,
   "metadata": {},
   "outputs": [
    {
     "data": {
      "text/plain": [
       "5.0"
      ]
     },
     "execution_count": 38,
     "metadata": {},
     "output_type": "execute_result"
    }
   ],
   "source": [
    "a.distance_from_origin()"
   ]
  },
  {
   "cell_type": "code",
   "execution_count": 40,
   "metadata": {},
   "outputs": [
    {
     "data": {
      "text/plain": [
       "18.84955592153876"
      ]
     },
     "execution_count": 40,
     "metadata": {},
     "output_type": "execute_result"
    }
   ],
   "source": [
    "c.circumference()"
   ]
  },
  {
   "cell_type": "code",
   "execution_count": 41,
   "metadata": {},
   "outputs": [
    {
     "data": {
      "text/plain": [
       "0.7639320225002102"
      ]
     },
     "execution_count": 41,
     "metadata": {},
     "output_type": "execute_result"
    }
   ],
   "source": [
    "c.edge_distance_from_origin()"
   ]
  },
  {
   "cell_type": "markdown",
   "metadata": {},
   "source": [
    "### 5.3 디자인패턴\n",
    "- `디자인 패턴`은 잘 설계된 구조의 형식적 정의를 소프트웨어 엔지니어링으로 옮긴것.\n",
    "\n",
    "#### 5.3.1 데커레이터 패턴\n",
    "- 데커레이터 패턴은 `@` 표기를 사용해 함수 또는 메서드의 반환을 우아하게 지정해주는 도구.\n",
    "- 데커레이터 패턴은 함수의 객체와 함수를 변경하는 다른 객체의 wrapping을 허용한다."
   ]
  }
 ],
 "metadata": {
  "kernelspec": {
   "display_name": "Python 3",
   "language": "python",
   "name": "python3"
  },
  "language_info": {
   "codemirror_mode": {
    "name": "ipython",
    "version": 3
   },
   "file_extension": ".py",
   "mimetype": "text/x-python",
   "name": "python",
   "nbconvert_exporter": "python",
   "pygments_lexer": "ipython3",
   "version": "3.7.6"
  }
 },
 "nbformat": 4,
 "nbformat_minor": 2
}
