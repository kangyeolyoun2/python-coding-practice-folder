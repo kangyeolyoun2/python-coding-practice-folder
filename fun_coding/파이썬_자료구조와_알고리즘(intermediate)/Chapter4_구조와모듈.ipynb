{
 "cells": [
  {
   "cell_type": "markdown",
   "metadata": {},
   "source": [
    "## 4.1 모듈\n",
    "- 모듈은 `def` 를 사용하여 정의"
   ]
  },
  {
   "cell_type": "markdown",
   "metadata": {},
   "source": [
    "### 4.1.1 스택과 활성화 레코드\n",
    "\n",
    "- 함수가 호출시 `활성화 레코드(activation record)`가 생성됨. \n",
    "- 레코드에는 반환값, 매개변수, 지역 변수, 반환값, 반환주소등이 기록됨."
   ]
  },
  {
   "cell_type": "markdown",
   "metadata": {},
   "source": [
    "### 4.1.2 모듈의 기본값\n",
    "- 모듈 생성시, 함수 또는 메서드에서 가변 객체를 기본값으로 사용하면 안된다.\n",
    "\n",
    "\n",
    "```python\n",
    "def append(number, number_list=[]):\n",
    "    number_list.append(number)\n",
    "    return number_list\n",
    "```\n",
    "- 안좋은 예시\n",
    "\n",
    "```python\n",
    "append(5)\n",
    ">>> [5]\n",
    "\n",
    "append(7)\n",
    ">>> [5,7]\n",
    "\n",
    "append(2)\n",
    ">>> [5,7,2]\n",
    "```\n",
    "\n",
    "- 좋은 예시\n",
    "\n",
    "```python\n",
    "def append(number, number_list=None):\n",
    "    if number_list is None:\n",
    "        number_list = []\n",
    "    number_list.append(number)\n",
    "    return number_list\n",
    "```\n",
    "\n",
    "```python\n",
    "append(5)\n",
    ">>> [5]\n",
    "\n",
    "append(7)\n",
    ">>> [7]\n",
    "\n",
    "append(2)\n",
    ">>> [2]\n",
    "```\n",
    "\n",
    "     \n",
    "\n",
    "---"
   ]
  },
  {
   "cell_type": "markdown",
   "metadata": {},
   "source": [
    "### 4.1.3 __init__.py 파일\n",
    "\n",
    "- `package`는 모듈과 __init__.py 파일이 있는 디렉터리다. 파이썬은 __init__.py 파일이 있는 디렉터리를 패키지로 취급한다. string과 같이 흔한 이름의 디렉터리에 유효한 모듈이 들어 있는 경우 이러한 모듈이 검색되지 않는 문제를 방지하기 위해서다."
   ]
  },
  {
   "cell_type": "markdown",
   "metadata": {},
   "source": [
    "### 4.1.4 __name__ 변수\n",
    "\n",
    "- 파이썬은 모듈을 임포트 할때마다 __name__ 이라는 변수를 만들고, 모듈 이름을 저장한다. "
   ]
  },
  {
   "cell_type": "code",
   "execution_count": 20,
   "metadata": {},
   "outputs": [
    {
     "name": "stdout",
     "output_type": "stream",
     "text": [
      "__main__ directly executed\n"
     ]
    }
   ],
   "source": [
    "hello = \"hello\"\n",
    "\n",
    "def world():\n",
    "    return \"world\"\n",
    "\n",
    "if __name__ == \"__main__\":\n",
    "    print(\"{0} directly executed\".format(__name__))\n",
    "else:\n",
    "    print(\"{0} imported\".format(__name__))"
   ]
  },
  {
   "cell_type": "code",
   "execution_count": 21,
   "metadata": {},
   "outputs": [],
   "source": [
    "import hello"
   ]
  },
  {
   "cell_type": "markdown",
   "metadata": {},
   "source": [
    "```python\n",
    "hello.hello\n",
    "\n",
    ">>> 'hello`\n",
    "```\n",
    "\n",
    "```python\n",
    "hello.world\n",
    "\n",
    ">>> 'world'\n",
    "```\n",
    "\n",
    "```python\n",
    "__name__\n",
    "\n",
    ">>> '__main__'\n",
    "```\n",
    "\n",
    "```python\n",
    "python3 hello.py\n",
    "\n",
    ">>> __main__ directly executed\n",
    "```"
   ]
  },
  {
   "cell_type": "code",
   "execution_count": 18,
   "metadata": {},
   "outputs": [
    {
     "data": {
      "text/plain": [
       "'__main__'"
      ]
     },
     "execution_count": 18,
     "metadata": {},
     "output_type": "execute_result"
    }
   ],
   "source": [
    "__name__"
   ]
  },
  {
   "cell_type": "markdown",
   "metadata": {},
   "source": [
    "### 4.1.5 컴파일된 바이트코드 모듈\n",
    "\n",
    "- 컴파일러가 사용하는 `바이트 컴파일 코드`는 표준 모듈을 많이 사용하는 프로그램의 시작 시간 (로딩 시간) 을 줄이기 위한 것이다.\n",
    "\n",
    "- `-0` 플래그를 사용하여 파이썬 인터프리터를 호출하면, 최적화된 코드가 생성되어 `.pyo` or `pyc`파일에 저장된다.\n",
    "- 이렇게 만든 파일은 리버스 엔지니어링이 까다롭다. 라이브러리로 배포하는 데에도 사용할 수 있다."
   ]
  },
  {
   "cell_type": "markdown",
   "metadata": {},
   "source": [
    "### 4.1.6 sys 모듈\n",
    "\n",
    "- `sys.path` 는 인터프리터가 모듈을 검색할 경로를 담은 문자열 리스트다. sys.path 변수는 PYTHONPATH 환경변수 또는 내장된 기본값 경로로 초기화된다. \n",
    "\n",
    "- `dir()` 내장 함수\n",
    "는 모듈이 정의하는 모든 유형의 이름(모듈, 변수, 함수)을 찾는데 사용된다. 이름 기준으로 정렬된 문자열 리스트를 반환한다.\n",
    "\n"
   ]
  },
  {
   "cell_type": "markdown",
   "metadata": {},
   "source": [
    "### 4.2.4 `return` vs `yield`\n",
    "\n",
    "- 제너레이터는 이터레이터를 작성하는 편리한 방법. 객체에 __iter__()와 __next__()메서드를 둘 다 정의하면 이터레이터 프로토콜을 구현한 셈. 이때 yield 키워드를 사용하면 편리하다.\n",
    "\n",
    "- `return`은 반환값을 반화하고 메서드를 종료하고, 호출자에게 제어를 반환한다.  `yield`는 반환값을 호출자에게 반환하고, 메서드는 반환값이 모두 소진 되었을 때에만 메서드가 종료된다."
   ]
  },
  {
   "cell_type": "code",
   "execution_count": null,
   "metadata": {},
   "outputs": [],
   "source": []
  },
  {
   "cell_type": "code",
   "execution_count": 26,
   "metadata": {},
   "outputs": [
    {
     "name": "stdout",
     "output_type": "stream",
     "text": [
      "1\n",
      "3\n",
      "5\n",
      "7\n",
      "9\n",
      "for문 종료!\n"
     ]
    }
   ],
   "source": [
    "# else위치가;; 와 신기\n",
    "for i in range(10):\n",
    "    if i % 2 == 0:\n",
    "        continue\n",
    "    print(i)\n",
    "else:\n",
    "    print(\"for문 종료!\")"
   ]
  },
  {
   "cell_type": "code",
   "execution_count": null,
   "metadata": {},
   "outputs": [],
   "source": []
  },
  {
   "cell_type": "markdown",
   "metadata": {},
   "source": [
    "### 4.2.7 enumerate()\n",
    "\n",
    "- `enumerate()` 메서드는 반복 가능한 객체의 인덱스 값과 항목 값의 튜플을 반환한다. 특정 단어를 나타내는 위치를 출력하는 `grep`\n",
    "함수를 만들 수 있다."
   ]
  },
  {
   "cell_type": "code",
   "execution_count": 37,
   "metadata": {},
   "outputs": [],
   "source": [
    "import sys\n",
    "\n",
    "def grep_word_from_files():\n",
    "    word = sys.argv[1]\n",
    "    for filename in sys.argv[2:]:\n",
    "        with open(filename) as file:\n",
    "            for lino, line in enumerate(file, start=1):\n",
    "                if word in line:\n",
    "                    print(\"{0}:{1}:{2:.40}\".format(filename, lino, line.rstrip()))\n",
    "                    \n",
    "if __name__ == \"__main__\":\n",
    "    if len(sys.argv) < 2:\n",
    "        print(\"Usage: python {0} [word] [file ...]\".format(sys.argv[0]))\n",
    "        sys.exit()\n",
    "    else:\n",
    "        grep_word_from_files()\n",
    "    "
   ]
  },
  {
   "cell_type": "code",
   "execution_count": null,
   "metadata": {},
   "outputs": [],
   "source": [
    "python3 3_grep_word_from_files.py for 3_grep_word_from_files.py\n",
    "\n",
    ">>> \n",
    "3_grep_word_from_files.py:5:    for filename in sys.argv[2:]:\n",
    "3_grep_word_from_files.py:7:            for lino, line in enumerate(\n",
    "3_grep_word_from_files.py:9:                    print(\"{0}:{1}:{2:.4\n",
    "3_grep_word_from_files.py:13:        print(\"Usage: python {0} [word]"
   ]
  },
  {
   "cell_type": "code",
   "execution_count": null,
   "metadata": {},
   "outputs": [],
   "source": []
  },
  {
   "cell_type": "markdown",
   "metadata": {},
   "source": [
    "### 4.2.9 filter() 는 시퀀스의 항목들 중 함수 조건이 참(True)인 항목만 추출해서 구성된 시퀀스르 반환\n",
    "\n",
    "```python\n",
    "def f(x): return x % 2 != 0 and x%3 != 0\n",
    "\n",
    ">>> f(33)\n",
    "False\n",
    "\n",
    ">>> f(17)\n",
    "True\n",
    "\n",
    ">>> list(filter(f, range(2,25)))\n",
    "[5, 7, 11, 13, 17, 19, 23]\n",
    "```"
   ]
  },
  {
   "cell_type": "markdown",
   "metadata": {},
   "source": [
    "### 4.2.10 map() 메서드는 시퀀스의 모든 항목에 함수를 적용한 결과 리스트를 반환한다.\n",
    "\n",
    "```python\n",
    "\n",
    "def cube(x):\n",
    "    return x**3\n",
    "\n",
    "list(map(cube, range(1,11)))\n",
    ">>> [1, 8, 27, 64, 125, 216, 343, 512, 729, 1000]\n",
    "```\n",
    "\n",
    "```python\n",
    "seq = range(8)\n",
    "def square(x):\n",
    "    return x ** 2\n",
    "list(zip(seq, map(square, seq)))\n",
    ">>> [(0, 0), (1, 1), (2, 4), (3, 9), (4, 16), (5, 25), (6, 36), (7, 49)]\n",
    "```"
   ]
  },
  {
   "cell_type": "code",
   "execution_count": null,
   "metadata": {},
   "outputs": [],
   "source": []
  },
  {
   "cell_type": "markdown",
   "metadata": {},
   "source": [
    "### 4.2.11 람다 함수\n",
    "- 람다를 쓰면 코드 내에서 함수를 간결하게 동적으로 사용할 수 있다.\n",
    "\n",
    "```python\n",
    "def area(b,h):\n",
    "    return 0.5 * b * h\n",
    "\n",
    "area = lambda b, h: 0.5 * b * h\n",
    "area(5,4)\n",
    "\n",
    ">>> 10.0\n",
    "```\n"
   ]
  },
  {
   "cell_type": "code",
   "execution_count": 44,
   "metadata": {},
   "outputs": [],
   "source": [
    "area = lambda b,h : 0.5*b*h"
   ]
  },
  {
   "cell_type": "code",
   "execution_count": 45,
   "metadata": {},
   "outputs": [
    {
     "data": {
      "text/plain": [
       "10.0"
      ]
     },
     "execution_count": 45,
     "metadata": {},
     "output_type": "execute_result"
    }
   ],
   "source": [
    "area(5,4)"
   ]
  },
  {
   "cell_type": "code",
   "execution_count": 4,
   "metadata": {},
   "outputs": [],
   "source": [
    "import collections\n",
    "\n",
    "minus_one_dict = collections.defaultdict(lambda: -1)"
   ]
  },
  {
   "cell_type": "code",
   "execution_count": 5,
   "metadata": {},
   "outputs": [
    {
     "name": "stdout",
     "output_type": "stream",
     "text": [
      "defaultdict(<function <lambda> at 0x123c69290>, {0: -1, 1: 0, 2: 1, 3: 2, 4: 3, 5: 4, 6: 5, 7: 6, 8: 7, 9: 8})\n"
     ]
    }
   ],
   "source": [
    "for num in range(10):\n",
    "    minus_one_dict[num] += num\n",
    "print(minus_one_dict)"
   ]
  },
  {
   "cell_type": "code",
   "execution_count": 54,
   "metadata": {},
   "outputs": [
    {
     "data": {
      "text/plain": [
       "dict_items([('yellow', [1, 3]), ('blue', [2, 4]), ('red', [1])])"
      ]
     },
     "execution_count": 54,
     "metadata": {},
     "output_type": "execute_result"
    }
   ],
   "source": [
    "s = [('yellow', 1), ('blue', 2), ('yellow', 3), ('blue', 4), ('red', 1)]\n",
    "d = collections.defaultdict(list)\n",
    "for k,v in s:\n",
    "    d[k].append(v)\n",
    "d.items()"
   ]
  },
  {
   "cell_type": "code",
   "execution_count": null,
   "metadata": {},
   "outputs": [],
   "source": []
  },
  {
   "cell_type": "code",
   "execution_count": 18,
   "metadata": {},
   "outputs": [],
   "source": [
    "def dice_sum(a,b, target):\n",
    "    from itertools import combinations\n",
    "    a = [i+1 for i in range(a)]\n",
    "    b = [i+1 for i in range(b)]\n",
    "    \n",
    "    c = []\n",
    "    \n",
    "    for i in range(len(a)):\n",
    "        for j in range(len(b)):\n",
    "            c.append([a[i], b[j]])\n",
    "            \n",
    "    d = []\n",
    "    \n",
    "    for i in c:\n",
    "        if sum(i) == target:\n",
    "            d.append(i)\n",
    "    return d"
   ]
  },
  {
   "cell_type": "code",
   "execution_count": 19,
   "metadata": {},
   "outputs": [
    {
     "data": {
      "text/plain": [
       "[[1, 3], [2, 2], [3, 1]]"
      ]
     },
     "execution_count": 19,
     "metadata": {},
     "output_type": "execute_result"
    }
   ],
   "source": [
    "dice_sum(6,6,4)"
   ]
  },
  {
   "cell_type": "code",
   "execution_count": 1,
   "metadata": {},
   "outputs": [],
   "source": [
    "from itertools import combinations"
   ]
  },
  {
   "cell_type": "code",
   "execution_count": null,
   "metadata": {},
   "outputs": [],
   "source": []
  },
  {
   "cell_type": "code",
   "execution_count": null,
   "metadata": {},
   "outputs": [],
   "source": [
    "from collections import Counter, defaultdict\n",
    "\n",
    "def find_dice_probabilities(S, n_faces=6):\n",
    "    if S > 2 "
   ]
  },
  {
   "cell_type": "code",
   "execution_count": null,
   "metadata": {},
   "outputs": [],
   "source": []
  },
  {
   "cell_type": "code",
   "execution_count": null,
   "metadata": {},
   "outputs": [],
   "source": []
  }
 ],
 "metadata": {
  "kernelspec": {
   "display_name": "Python 3",
   "language": "python",
   "name": "python3"
  },
  "language_info": {
   "codemirror_mode": {
    "name": "ipython",
    "version": 3
   },
   "file_extension": ".py",
   "mimetype": "text/x-python",
   "name": "python",
   "nbconvert_exporter": "python",
   "pygments_lexer": "ipython3",
   "version": "3.7.6"
  }
 },
 "nbformat": 4,
 "nbformat_minor": 2
}
