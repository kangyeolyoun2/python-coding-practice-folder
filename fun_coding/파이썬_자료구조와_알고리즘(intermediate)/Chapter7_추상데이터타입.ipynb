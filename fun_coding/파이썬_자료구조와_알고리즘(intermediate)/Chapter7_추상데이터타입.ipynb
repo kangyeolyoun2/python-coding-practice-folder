{
 "cells": [
  {
   "cell_type": "markdown",
   "metadata": {},
   "source": [
    "- `추상 데이터 타입(abstract data type)`은 유사한 동작을 가진 자료구조의 클래스에 대한 수학적 모델을 카리킨다.\n",
    "- 자료구조는 크게 배열 기반의 `연속(continuation)`방식, 포인터 기반의 `연걸(link)`로 분류된다.\n",
    "\n",
    "- `연속`: 문자열, 리스ㅌ, 튜플, 딕셔너리"
   ]
  },
  {
   "cell_type": "markdown",
   "metadata": {},
   "source": [
    "### 7.1 스택\n",
    "\n",
    "- 배열의 끝에서만 데이터를 접근할 수 있는 선형 자료구조. \n",
    "- 배열 인덱스 접근이 제한되며, `LIFO` 구조"
   ]
  },
  {
   "cell_type": "code",
   "execution_count": 29,
   "metadata": {},
   "outputs": [
    {
     "name": "stdout",
     "output_type": "stream",
     "text": [
      "스택이 비어있나요? True\n",
      "스택에 숫자 0~9를 추가합니다.\n",
      "스택 크기: 10\n",
      "pop: 9\n",
      "peek: 8\n",
      "스택이 비어있나요? False\n",
      "[0, 1, 2, 3, 4, 5, 6, 7, 8]\n"
     ]
    }
   ],
   "source": [
    "class Stack(object):\n",
    "    def __init__(self):\n",
    "        self.items = []\n",
    "        \n",
    "    def isEmpty(self):\n",
    "        return not bool(self.items)\n",
    "    \n",
    "    def push(self, value):\n",
    "        self.items.append(value)\n",
    "        \n",
    "    def pop(self):\n",
    "        value = self.items.pop()\n",
    "        if value is not None:\n",
    "            return value\n",
    "        else:\n",
    "            print(\"Stack is empty.\")\n",
    "            \n",
    "    def size(self):\n",
    "        return len(self.items)\n",
    "    \n",
    "    def peek(self):\n",
    "        if self.items:\n",
    "            return self.items[-1]\n",
    "        else:\n",
    "            print(\"Stack is empty\")\n",
    "            \n",
    "    def __repr__(self):\n",
    "        return repr(self.items)\n",
    "    \n",
    "if __name__ == \"__main__\":\n",
    "    stack = Stack()\n",
    "    print(\"스택이 비어있나요? {0}\".format(stack.isEmpty()))\n",
    "    print(\"스택에 숫자 0~9를 추가합니다.\")\n",
    "    for i in range(10):\n",
    "        stack.push(i)\n",
    "    print(\"스택 크기: {0}\".format(stack.size()))    \n",
    "    print(\"pop: {0}\".format(stack.pop()))\n",
    "    print(\"peek: {0}\".format(stack.peek()))\n",
    "    print(\"스택이 비어있나요? {0}\".format(stack.isEmpty()))\n",
    "    print(stack)"
   ]
  },
  {
   "cell_type": "code",
   "execution_count": 21,
   "metadata": {},
   "outputs": [
    {
     "name": "stdout",
     "output_type": "stream",
     "text": [
      "스택이 비었나요? True\n",
      "스택에 숫자 0~9를 추가합니다.\n",
      "9 <__main__.Node object at 0x120463cf8>\n",
      "8 <__main__.Node object at 0x120463b00>\n",
      "7 <__main__.Node object at 0x1204636d8>\n",
      "6 <__main__.Node object at 0x120463ba8>\n",
      "5 <__main__.Node object at 0x120463b70>\n",
      "4 <__main__.Node object at 0x120463b38>\n",
      "3 <__main__.Node object at 0x1203735c0>\n",
      "2 <__main__.Node object at 0x120393908>\n",
      "1 <__main__.Node object at 0x120393898>\n",
      "0 None\n",
      "\n",
      "스택 크기: 10\n",
      "peek: 9\n",
      "pop: 9\n",
      "peek: 8\n",
      "스택이 비었나요? False\n",
      "8 <__main__.Node object at 0x120463b00>\n",
      "7 <__main__.Node object at 0x1204636d8>\n",
      "6 <__main__.Node object at 0x120463ba8>\n",
      "5 <__main__.Node object at 0x120463b70>\n",
      "4 <__main__.Node object at 0x120463b38>\n",
      "3 <__main__.Node object at 0x1203735c0>\n",
      "2 <__main__.Node object at 0x120393908>\n",
      "1 <__main__.Node object at 0x120393898>\n",
      "0 None\n",
      "\n"
     ]
    }
   ],
   "source": [
    "# 노드(객체)의 컨테이너로 스택을 구현하기.\n",
    "\n",
    "class Node(object):\n",
    "    def __init__(self, value=None, pointer=None):\n",
    "        self.value = value\n",
    "        self.pointer = pointer\n",
    "#         print(self.value)\n",
    "#         print(self.pointer)\n",
    "        \n",
    "class Stack(object):\n",
    "    def __init__(self):\n",
    "        self.head = None\n",
    "        self.count = 0\n",
    "        \n",
    "    def isEmpty(self):\n",
    "        return not bool(self.head)\n",
    "    \n",
    "    def push(self, item):\n",
    "        self.head = Node(item, self.head)\n",
    "        self.count += 1\n",
    "        \n",
    "    def pop(self):\n",
    "        if self.count > 0 and self.head:\n",
    "            node = self.head\n",
    "            self.head = node.pointer\n",
    "            self.count -= 1\n",
    "            return node.value\n",
    "        else:\n",
    "            print(\"Stack is empty\")\n",
    "            \n",
    "    def peek(self):\n",
    "        if self.count > 0 and self.head:\n",
    "            return self.head.value\n",
    "        else:\n",
    "            print(\"Stack is empty.\")\n",
    "            \n",
    "    def size(self):\n",
    "        return self.count\n",
    "    \n",
    "    def _printList(self):\n",
    "        node = self.head\n",
    "        while node:\n",
    "            print(node.value, end= \" \")\n",
    "#             print(node.pointer)\n",
    "            node = node.pointer\n",
    "            print(node)\n",
    "        print()\n",
    "        \n",
    "if __name__ ==\"__main__\":\n",
    "    stack = Stack()\n",
    "    print(\"스택이 비었나요? {0}\".format(stack.isEmpty()))\n",
    "    print(\"스택에 숫자 0~9를 추가합니다.\")\n",
    "    for i in range(10):\n",
    "        stack.push(i)\n",
    "    stack._printList()\n",
    "    print(\"스택 크기: {0}\".format(stack.size()))\n",
    "    print(\"peek: {0}\".format(stack.peek()))\n",
    "    print(\"pop: {0}\".format(stack.pop()))\n",
    "    print(\"peek: {0}\".format(stack.peek()))\n",
    "    print(\"스택이 비었나요? {0}\".format(stack.isEmpty()))\n",
    "    stack._printList()"
   ]
  },
  {
   "cell_type": "markdown",
   "metadata": {},
   "source": [
    "### 7.7 연습문제\n",
    "#### 7.7.1 스택"
   ]
  },
  {
   "cell_type": "markdown",
   "metadata": {},
   "source": [
    "#### 문자열 반전하기.\n",
    "- 앞선 Stack class사용해서, `버피는 천사다.` => `다사천 는피버`"
   ]
  },
  {
   "cell_type": "code",
   "execution_count": 35,
   "metadata": {},
   "outputs": [],
   "source": [
    "def reverse_string_with_stack(str1):\n",
    "    s = Stack()\n",
    "    a = \"\"\n",
    "    \n",
    "    for i in str1:\n",
    "        s.push(i)\n",
    "        \n",
    "    while s.items:\n",
    "        a += s.pop()\n",
    "    return a"
   ]
  },
  {
   "cell_type": "code",
   "execution_count": 36,
   "metadata": {},
   "outputs": [
    {
     "data": {
      "text/plain": [
       "'.다사천 는피버'"
      ]
     },
     "execution_count": 36,
     "metadata": {},
     "output_type": "execute_result"
    }
   ],
   "source": [
    "reverse_string_with_stack(\"버피는 천사다.\")"
   ]
  },
  {
   "cell_type": "markdown",
   "metadata": {},
   "source": []
  },
  {
   "cell_type": "markdown",
   "metadata": {},
   "source": [
    "#### 괄호의 짝 확인하기\n",
    "- 스택 사용하여서 괄호의 균형이 맞는지 확인"
   ]
  },
  {
   "cell_type": "code",
   "execution_count": 38,
   "metadata": {},
   "outputs": [],
   "source": [
    "def balance_par_str_with_stack(str1):\n",
    "    s = Stack()\n",
    "    a = [\"[\", \"{\", \"(\"]\n",
    "    b = [\"]\", \"}\", \")\"]\n",
    "    c = dict(zip(b,a))\n",
    "    for i in str1:\n",
    "        if i in a:\n",
    "            s.push(i)\n",
    "        elif i in b and s.items:\n",
    "            if s.items and c.get(i) == s.items[-1]:\n",
    "                s.pop()\n",
    "            else:\n",
    "                return False\n",
    "    return True"
   ]
  },
  {
   "cell_type": "code",
   "execution_count": null,
   "metadata": {},
   "outputs": [],
   "source": []
  },
  {
   "cell_type": "markdown",
   "metadata": {},
   "source": [
    "#### 스택을 사용하여 10진수를 2진수로 변환하기\n",
    "- 스택을 사용하여 10진수를 2진수로 변환하기"
   ]
  },
  {
   "cell_type": "code",
   "execution_count": 44,
   "metadata": {},
   "outputs": [],
   "source": [
    "def dec_to_bin(num):\n",
    "    s = Stack()\n",
    "    a = \"\"\n",
    "    \n",
    "    while num > 0:\n",
    "        s.push(num%2)\n",
    "        num //= 2\n",
    "    \n",
    "    while s.items:\n",
    "        a += str(s.pop())\n",
    "    return a"
   ]
  },
  {
   "cell_type": "code",
   "execution_count": 45,
   "metadata": {},
   "outputs": [
    {
     "data": {
      "text/plain": [
       "'1001'"
      ]
     },
     "execution_count": 45,
     "metadata": {},
     "output_type": "execute_result"
    }
   ],
   "source": [
    "dec_to_bin(9)"
   ]
  },
  {
   "cell_type": "code",
   "execution_count": null,
   "metadata": {},
   "outputs": [],
   "source": []
  },
  {
   "cell_type": "markdown",
   "metadata": {},
   "source": [
    "#### 스택에서 최솟값 O(1)로 조회하기"
   ]
  },
  {
   "cell_type": "code",
   "execution_count": 54,
   "metadata": {},
   "outputs": [],
   "source": [
    "class MinStack(object):\n",
    "    def __init__(self):\n",
    "        self.items = []\n",
    "        self.minimum = None\n",
    "        \n",
    "    def isEmpty(self):\n",
    "        return not bool(self.items)\n",
    "    \n",
    "    def push(self, value):\n",
    "        self.items.append(value)\n",
    "        if self.minimum == None:\n",
    "            self.minimum = value\n",
    "        elif self.minimum > value:\n",
    "            self.minimum = value\n",
    "        \n",
    "    def peekMinimum(self):\n",
    "        return self.minimum\n",
    "    \n",
    "    def pop(self):\n",
    "        value = self.items.pop()\n",
    "        if value is not None:\n",
    "            return value\n",
    "        else:\n",
    "            print(\"Stack is empty.\")\n",
    "    \n",
    "    def size(self):\n",
    "        return len(self.items)\n",
    "    \n",
    "    def peek(self):\n",
    "        if self.items:\n",
    "            return self.items[-1]\n",
    "        else:\n",
    "            print(\"Stack is empty\")\n",
    "            \n",
    "    def __repr__(self):\n",
    "        return repr(self.items)\n",
    "    \n"
   ]
  },
  {
   "cell_type": "code",
   "execution_count": 58,
   "metadata": {},
   "outputs": [
    {
     "name": "stdout",
     "output_type": "stream",
     "text": [
      "스택이 비어있나요? True\n",
      "스택에 숫자 0~9를 추가합니다.\n",
      "스택 미니멈: 0\n",
      "스택 크기: 10\n",
      "pop: 4\n",
      "peek: 3\n",
      "스택이 비어있나요? False\n",
      "[5, 6, 7, 8, 9, 0, 1, 2, 3]\n"
     ]
    }
   ],
   "source": [
    "if __name__ == \"__main__\":\n",
    "    stack = MinStack()\n",
    "    print(\"스택이 비어있나요? {0}\".format(stack.isEmpty()))\n",
    "    print(\"스택에 숫자 0~9를 추가합니다.\")\n",
    "    for i in range(5,10):\n",
    "        stack.push(i)\n",
    "    for i in range(5):\n",
    "        stack.push(i)\n",
    "    print(\"스택 미니멈: {0}\".format(stack.minimum))\n",
    "    print(\"스택 크기: {0}\".format(stack.size()))    \n",
    "    print(\"pop: {0}\".format(stack.pop()))\n",
    "    print(\"peek: {0}\".format(stack.peek()))\n",
    "    print(\"스택이 비어있나요? {0}\".format(stack.isEmpty()))\n",
    "    print(stack)"
   ]
  },
  {
   "cell_type": "code",
   "execution_count": 46,
   "metadata": {},
   "outputs": [
    {
     "name": "stdout",
     "output_type": "stream",
     "text": [
      "hello\n"
     ]
    }
   ],
   "source": [
    "a = None\n",
    "if not a:\n",
    "    print(\"hello\")"
   ]
  },
  {
   "cell_type": "code",
   "execution_count": 59,
   "metadata": {},
   "outputs": [
    {
     "data": {
      "text/plain": [
       "2"
      ]
     },
     "execution_count": 59,
     "metadata": {},
     "output_type": "execute_result"
    }
   ],
   "source": []
  },
  {
   "cell_type": "code",
   "execution_count": null,
   "metadata": {},
   "outputs": [],
   "source": []
  }
 ],
 "metadata": {
  "kernelspec": {
   "display_name": "Python 3",
   "language": "python",
   "name": "python3"
  },
  "language_info": {
   "codemirror_mode": {
    "name": "ipython",
    "version": 3
   },
   "file_extension": ".py",
   "mimetype": "text/x-python",
   "name": "python",
   "nbconvert_exporter": "python",
   "pygments_lexer": "ipython3",
   "version": "3.7.3"
  }
 },
 "nbformat": 4,
 "nbformat_minor": 2
}
