{
 "cells": [
  {
   "cell_type": "markdown",
   "metadata": {},
   "source": [
    "### 1.7.1 연습문제(base -> decimal)"
   ]
  },
  {
   "cell_type": "code",
   "execution_count": 1,
   "metadata": {},
   "outputs": [],
   "source": [
    "# 진법을 변환하는 함수를 직접 만들어보자. 다음 코드는 다른 진법의 숫자를 10진수로 변환한다.(2 <= base <= 10)."
   ]
  },
  {
   "cell_type": "code",
   "execution_count": 78,
   "metadata": {},
   "outputs": [
    {
     "name": "stdout",
     "output_type": "stream",
     "text": [
      "CPU times: user 3 µs, sys: 0 ns, total: 3 µs\n",
      "Wall time: 5.01 µs\n"
     ]
    }
   ],
   "source": [
    "# 내 풀이\n",
    "def convert_to_decimal(num, base):\n",
    "    num = str(num)\n",
    "\n",
    "    a = 0\n",
    "    b = len(num)\n",
    "\n",
    "    for i in range(len(num)):\n",
    "        if num[i] != 0:\n",
    "            a += base ** (b-1) * int(num[i])\n",
    "        b -= 1\n",
    "        \n",
    "    return a\n"
   ]
  },
  {
   "cell_type": "code",
   "execution_count": 65,
   "metadata": {},
   "outputs": [
    {
     "name": "stdout",
     "output_type": "stream",
     "text": [
      "CPU times: user 2 µs, sys: 0 ns, total: 2 µs\n",
      "Wall time: 6.2 µs\n"
     ]
    }
   ],
   "source": [
    "# 책 풀이\n",
    "def convert_to_decimal2(number, base):\n",
    "    multiplier, result = 1, 0\n",
    "    while number > 0:\n",
    "        result += number % 10 * multiplier\n",
    "        multiplier *= base\n",
    "        number = number // 10\n",
    "    return result"
   ]
  },
  {
   "cell_type": "code",
   "execution_count": 130,
   "metadata": {},
   "outputs": [],
   "source": [
    "def test_convert_to_decimal():\n",
    "    number, base = 1001, 2\n",
    "    assert(convert_to_decimal(number, base) == 9)\n",
    "    print(\"테스트 통과!\")"
   ]
  },
  {
   "cell_type": "code",
   "execution_count": 131,
   "metadata": {},
   "outputs": [
    {
     "name": "stdout",
     "output_type": "stream",
     "text": [
      "테스트 통과!\n"
     ]
    }
   ],
   "source": [
    "if __name__ == \"__main__\":\n",
    "    test_convert_to_decimal()"
   ]
  },
  {
   "cell_type": "code",
   "execution_count": null,
   "metadata": {},
   "outputs": [],
   "source": []
  },
  {
   "cell_type": "markdown",
   "metadata": {},
   "source": [
    "### 1.7.1 (decimal -> base)"
   ]
  },
  {
   "cell_type": "code",
   "execution_count": 1,
   "metadata": {},
   "outputs": [],
   "source": [
    "# 10진수를 다른 진법의 숫자로 변환하는 함수를 만들어 보자 (2 <= base <= 10)."
   ]
  },
  {
   "cell_type": "code",
   "execution_count": 59,
   "metadata": {},
   "outputs": [],
   "source": [
    "# 내풀이\n",
    "def decimal_to_base(decimal, base):\n",
    "    result = str()\n",
    "    while decimal >= base:\n",
    "        result += str(decimal % base)\n",
    "        decimal = decimal // base\n",
    "    \n",
    "    result += str(decimal)\n",
    "    result = int(result[::-1])\n",
    "    return result"
   ]
  },
  {
   "cell_type": "code",
   "execution_count": null,
   "metadata": {},
   "outputs": [],
   "source": [
    "# 9, 2"
   ]
  },
  {
   "cell_type": "code",
   "execution_count": 61,
   "metadata": {},
   "outputs": [],
   "source": [
    "# 책 풀이\n",
    "def convert_from_decimal(number, base):\n",
    "    multiplier, result = 1,0\n",
    "    while number > 0:\n",
    "        result += number % base * multiplier\n",
    "        multiplier *= 10\n",
    "        number = number // base\n",
    "        \n",
    "    return result"
   ]
  },
  {
   "cell_type": "code",
   "execution_count": 71,
   "metadata": {},
   "outputs": [],
   "source": [
    "number, decimal = 8192479812472198471298472198124798, 8192479812472198471298472198124798\n",
    "base = 9\n"
   ]
  },
  {
   "cell_type": "code",
   "execution_count": 72,
   "metadata": {},
   "outputs": [
    {
     "data": {
      "text/plain": [
       "(324082142544531334701803105178434844, 324082142544531334701803105178434844)"
      ]
     },
     "execution_count": 72,
     "metadata": {},
     "output_type": "execute_result"
    }
   ],
   "source": [
    "convert_from_decimal(number, base),decimal_to_base(decimal,base)"
   ]
  },
  {
   "cell_type": "code",
   "execution_count": null,
   "metadata": {},
   "outputs": [],
   "source": []
  },
  {
   "cell_type": "markdown",
   "metadata": {},
   "source": [
    "### (decimal -> base), version 2"
   ]
  },
  {
   "cell_type": "code",
   "execution_count": 74,
   "metadata": {},
   "outputs": [],
   "source": [
    "# 10진수를 20이하의 진법으로 변환하기"
   ]
  },
  {
   "cell_type": "code",
   "execution_count": 84,
   "metadata": {},
   "outputs": [],
   "source": [
    "# 책풀이 + 내풀이 ㅠ\n",
    "def convert_from_decimal_larger_bases(number,base):\n",
    "    strings = \"0123456789ABCDEFGHIJ\"\n",
    "    result = str()\n",
    "\n",
    "    while number > 0:\n",
    "        digit = number % base\n",
    "        result = strings[digit] + result\n",
    "        number = number // base\n",
    "    return result"
   ]
  },
  {
   "cell_type": "code",
   "execution_count": 85,
   "metadata": {},
   "outputs": [
    {
     "name": "stdout",
     "output_type": "stream",
     "text": [
      "Test Passed!\n"
     ]
    }
   ],
   "source": [
    "def test_convert_from_decimal_larger_bases():\n",
    "    number, base = 31, 16\n",
    "    assert(convert_from_decimal_larger_bases(number, base) == \"1F\")\n",
    "    print(\"Test Passed!\")\n",
    "    \n",
    "if __name__ == \"__main__\":\n",
    "    test_convert_from_decimal_larger_bases()"
   ]
  },
  {
   "cell_type": "code",
   "execution_count": null,
   "metadata": {},
   "outputs": [],
   "source": []
  },
  {
   "cell_type": "markdown",
   "metadata": {},
   "source": [
    "### 재귀함수를 사용한 진법변환"
   ]
  },
  {
   "cell_type": "code",
   "execution_count": 122,
   "metadata": {},
   "outputs": [],
   "source": [
    "'''under 16'''\n",
    "def convert_dec_to_any_base_rec(number, base):\n",
    "    convertString = \"0123456789BCDEF\"\n",
    "    \n",
    "    if number < base:\n",
    "        return convertString[number]\n",
    "    else:\n",
    "        return convert_dec_to_any_base_rec(number // base, base) + convertString[number % base]\n"
   ]
  },
  {
   "cell_type": "code",
   "execution_count": 95,
   "metadata": {},
   "outputs": [
    {
     "name": "stdout",
     "output_type": "stream",
     "text": [
      "테스트 통과!\n"
     ]
    }
   ],
   "source": [
    "def test_convert_dec_to_any_base_rec():\n",
    "    number = 9\n",
    "    base = 2\n",
    "    assert(convert_dec_to_any_base_rec(number, base) == \"1001\")\n",
    "    print(\"테스트 통과!\")\n",
    "    \n",
    "if __name__ == \"__main__\":\n",
    "    test_convert_dec_to_any_base_rec()"
   ]
  },
  {
   "cell_type": "code",
   "execution_count": null,
   "metadata": {},
   "outputs": [],
   "source": []
  },
  {
   "cell_type": "markdown",
   "metadata": {},
   "source": [
    "### 1.7.2 최대공약수"
   ]
  },
  {
   "cell_type": "code",
   "execution_count": 4,
   "metadata": {},
   "outputs": [],
   "source": [
    "def finding_gcd(a,b):\n",
    "    while b != 0:\n",
    "        result = b\n",
    "        a, b = b, a % b\n",
    "    return result"
   ]
  },
  {
   "cell_type": "code",
   "execution_count": 9,
   "metadata": {},
   "outputs": [
    {
     "name": "stdout",
     "output_type": "stream",
     "text": [
      "test 통과!\n"
     ]
    }
   ],
   "source": [
    "def test_finding_gcd():\n",
    "    number1 = 21\n",
    "    number2 = 12\n",
    "    assert(finding_gcd(number1, number2) ==3)\n",
    "    print(\"test 통과!\")\n",
    "    \n",
    "if __name__ == \"__main__\":\n",
    "    test_finding_gcd()"
   ]
  },
  {
   "cell_type": "code",
   "execution_count": null,
   "metadata": {},
   "outputs": [],
   "source": []
  },
  {
   "cell_type": "markdown",
   "metadata": {},
   "source": [
    "### 1.7.4 피보나치 수열 만들기"
   ]
  },
  {
   "cell_type": "code",
   "execution_count": 10,
   "metadata": {},
   "outputs": [],
   "source": [
    "# 1 1 2 3 5 8 13 21 ..."
   ]
  },
  {
   "cell_type": "code",
   "execution_count": 11,
   "metadata": {},
   "outputs": [],
   "source": [
    "def find_fibonacci(n):\n",
    "    if n < 2: \n",
    "        return n\n",
    "    return find_fibonacci(n - 1) + find_fibonacci(n -2)"
   ]
  },
  {
   "cell_type": "code",
   "execution_count": 13,
   "metadata": {},
   "outputs": [
    {
     "data": {
      "text/plain": [
       "8"
      ]
     },
     "execution_count": 13,
     "metadata": {},
     "output_type": "execute_result"
    }
   ],
   "source": [
    "find_fibonacci(6)"
   ]
  },
  {
   "cell_type": "code",
   "execution_count": null,
   "metadata": {},
   "outputs": [],
   "source": []
  },
  {
   "cell_type": "markdown",
   "metadata": {},
   "source": [
    "### 1.7.5 소수"
   ]
  },
  {
   "cell_type": "code",
   "execution_count": 28,
   "metadata": {},
   "outputs": [],
   "source": [
    "# 3가지 조건\n",
    "# 1) a> m 이면, b < m\n",
    "# 2) a = m 이면, b = m\n",
    "# 3) a < m 이면, b > m\n",
    "\n",
    "# https://stackoverflow.com/questions/5811151/why-do-we-check-up-to-the-square-root-of-a-prime-number-to-determine-if-it-is-pr/5813926#5813926\n",
    "\n",
    "# 이 원리에 따라 다음식이 성립"
   ]
  },
  {
   "cell_type": "code",
   "execution_count": null,
   "metadata": {},
   "outputs": [],
   "source": [
    "def finding_prime_sqrt(number):\n",
    "    num = abs(number)\n",
    "    if num < 4:\n",
    "        return True\n",
    "    for x in range(2, int(math.sqrt(num)) + 1):\n",
    "        if number % x == 0:\n",
    "            return False\n",
    "        \n",
    "    return True"
   ]
  },
  {
   "cell_type": "code",
   "execution_count": 27,
   "metadata": {},
   "outputs": [
    {
     "data": {
      "text/plain": [
       "False"
      ]
     },
     "execution_count": 27,
     "metadata": {},
     "output_type": "execute_result"
    }
   ],
   "source": []
  },
  {
   "cell_type": "code",
   "execution_count": 61,
   "metadata": {},
   "outputs": [],
   "source": [
    "# 페르마의 소정리\n",
    "\n",
    "def finding_prime_fermat(number):\n",
    "    if number <= 102:\n",
    "        for a in range(2, number):\n",
    "            if pow(a, number-1, number) != 1:\n",
    "                return False\n",
    "        return True\n",
    "    \n",
    "    else:\n",
    "        for i in range(100):\n",
    "            a = random.randint(2, number - 1)\n",
    "            if pow(a, number - 1, number) != 1:\n",
    "                return False\n",
    "        return True"
   ]
  },
  {
   "cell_type": "code",
   "execution_count": 62,
   "metadata": {},
   "outputs": [
    {
     "data": {
      "text/plain": [
       "False"
      ]
     },
     "execution_count": 62,
     "metadata": {},
     "output_type": "execute_result"
    }
   ],
   "source": []
  },
  {
   "cell_type": "code",
   "execution_count": null,
   "metadata": {},
   "outputs": [],
   "source": []
  }
 ],
 "metadata": {
  "kernelspec": {
   "display_name": "Python 3",
   "language": "python",
   "name": "python3"
  },
  "language_info": {
   "codemirror_mode": {
    "name": "ipython",
    "version": 3
   },
   "file_extension": ".py",
   "mimetype": "text/x-python",
   "name": "python",
   "nbconvert_exporter": "python",
   "pygments_lexer": "ipython3",
   "version": "3.7.6"
  }
 },
 "nbformat": 4,
 "nbformat_minor": 2
}
