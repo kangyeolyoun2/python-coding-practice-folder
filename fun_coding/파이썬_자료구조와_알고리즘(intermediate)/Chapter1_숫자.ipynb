{
 "cells": [
  {
   "cell_type": "markdown",
   "metadata": {},
   "source": [
    "### 1.1 정수\n",
    "- 파이썬에서 정수는 `int`로 나타내며 불변(immutable)형\n",
    "- 파이썬 정수 크기는 컴퓨터 메모리에 의해 제한된다.(C or Java내장 컴파일러에 따라 다름)\n",
    "- 파이썬 정수 크기는 적어도 32비트(4바이트)"
   ]
  },
  {
   "cell_type": "code",
   "execution_count": 1,
   "metadata": {},
   "outputs": [
    {
     "name": "stdout",
     "output_type": "stream",
     "text": [
      "11\n",
      "3\n"
     ]
    }
   ],
   "source": [
    "# 문자열을 정수로 변환, 다른 진법의 문자열을 정수(10진법)로 변환시 int(문자열, 밑) 메서드 사용.\n",
    "\n",
    "s = '11'\n",
    "d = int(s)\n",
    "print(d)\n",
    "b = int(s, 2)\n",
    "print(b)"
   ]
  },
  {
   "cell_type": "markdown",
   "metadata": {},
   "source": [
    "### 1.2 부동소수점\n",
    "\n",
    "- 파이썬에서 부동소수점은 float로 나타내며 불변형이다.\n",
    "- 단정도 방식에서 32비트 부동소수점을 나타낼때 1비트는 부호(0:양수, 1:음수), 23비트는 유효 숫자 자릿수, 8비트는 지수이다."
   ]
  },
  {
   "cell_type": "markdown",
   "metadata": {},
   "source": [
    "ex) 십진수 -118.625를 32비트 단정도로 표현하는 예시\n",
    "\n",
    "- 118 = 1110110\n",
    "- 0.625 = 101\n",
    "\n",
    "- 1110110.101 = 1.110110101 x 2^6\n",
    "\n",
    "- 위의 숫자를 가수부(23비트)에 삽입. 부족한 자릿수는 0으로 채운다,\n",
    "\n",
    "- 지수는 6이므로 바이어스를 더한다. 즉 지수6에 127(0111 1111)을 더해서 지수부에 삽입.\n",
    "\n",
    "- 책 21~22 pg참조\n",
    "\n"
   ]
  },
  {
   "cell_type": "markdown",
   "metadata": {},
   "source": [
    "#### 1.2.1 부동소수점끼리 비교하기\n",
    "- 부동소수점은 `이진수 분수(binary fraction)` 으로 표현되기 때문에 함부로 비교하거나 빼면 안된다.\n",
    "- 0.1{decimal} = 0.00110011001100..._{binary} 등의 2진법표현하기 어려운 숫자\n",
    "\n",
    "```python\n",
    ">>> 0.2 * 3 == 0.6\n",
    "False\n",
    ">>> 1.2-0.1 == 1.1\n",
    "False\n",
    "\n",
    "```"
   ]
  },
  {
   "cell_type": "markdown",
   "metadata": {},
   "source": [
    "#### 1.2.2 정수와 부동소수점 메서드\n",
    "- divmod(x, y) 메서드를 사용하여, x를 y로 나눌 때, 몫과 나머지를 반환한다."
   ]
  },
  {
   "cell_type": "markdown",
   "metadata": {},
   "source": [
    "### 1.3 복소수\n",
    "\n",
    "- 파이썬에서 `복소수`는  z = 3 + 4j와 같이 생긴 부동소수점 한 쌍을 갖는 불변형이다\n",
    "- z.real, z.imag, z.conjugate()같은 메서드로 실수부, 허수부, 켤레 복소수를 구할 수 있다."
   ]
  },
  {
   "cell_type": "markdown",
   "metadata": {},
   "source": [
    "### 1.4 fraction 모듈\n",
    "\n",
    "- 분수를 다루기 위해 fraction 모듈 사용"
   ]
  },
  {
   "cell_type": "code",
   "execution_count": 1,
   "metadata": {},
   "outputs": [],
   "source": [
    "def rounding_floats(number1, places):\n",
    "    return round(number1, places)"
   ]
  },
  {
   "cell_type": "code",
   "execution_count": 3,
   "metadata": {},
   "outputs": [
    {
     "data": {
      "text/plain": [
       "True"
      ]
     },
     "execution_count": 3,
     "metadata": {},
     "output_type": "execute_result"
    }
   ],
   "source": [
    "rounding_floats(1.25, 1) == 1.2\n",
    "# ties to even을 적용하여, 5의 앞자리 수가 홀수이면 올림, 짝수이면 내림 적용"
   ]
  },
  {
   "cell_type": "markdown",
   "metadata": {},
   "source": [
    "### 1.5 decimal 모듈\n",
    "- 정확한 10진법의 부동소수점 숫자가 필요한 경우, `불변` 타입인 decimal.Decimal사용 가능"
   ]
  },
  {
   "cell_type": "code",
   "execution_count": 6,
   "metadata": {},
   "outputs": [
    {
     "data": {
      "text/plain": [
       "False"
      ]
     },
     "execution_count": 6,
     "metadata": {},
     "output_type": "execute_result"
    }
   ],
   "source": [
    "sum(0.1 for i in range(10)) == 1.0"
   ]
  },
  {
   "cell_type": "code",
   "execution_count": 7,
   "metadata": {},
   "outputs": [
    {
     "data": {
      "text/plain": [
       "True"
      ]
     },
     "execution_count": 7,
     "metadata": {},
     "output_type": "execute_result"
    }
   ],
   "source": [
    "from decimal import Decimal\n",
    "sum(Decimal(\"0.1\") for i in range(10)) == Decimal(\"1.0\")"
   ]
  },
  {
   "cell_type": "markdown",
   "metadata": {},
   "source": [
    "### 1.6 2진수, 8진수, 16진수\n",
    "- `bin()`, `oct()`, `hex()` 등을 사용"
   ]
  },
  {
   "cell_type": "markdown",
   "metadata": {},
   "source": [
    "### 1.7.1 연습문제(base -> decimal)"
   ]
  },
  {
   "cell_type": "code",
   "execution_count": 1,
   "metadata": {},
   "outputs": [],
   "source": [
    "# 진법을 변환하는 함수를 직접 만들어보자. 다음 코드는 다른 진법의 숫자를 10진수로 변환한다.(2 <= base <= 10)."
   ]
  },
  {
   "cell_type": "code",
   "execution_count": null,
   "metadata": {},
   "outputs": [],
   "source": [
    "1001"
   ]
  },
  {
   "cell_type": "code",
   "execution_count": 12,
   "metadata": {},
   "outputs": [],
   "source": [
    "def convert_to_decimal(number, base):\n",
    "    sum = 0\n",
    "    number = str(number)\n",
    "    n = len(number)-1\n",
    "    for i in number:\n",
    "        if i != \"0\":\n",
    "            sum += base**n*int(i)\n",
    "        n -= 1\n",
    "            \n",
    "    return sum"
   ]
  },
  {
   "cell_type": "code",
   "execution_count": 13,
   "metadata": {},
   "outputs": [
    {
     "data": {
      "text/plain": [
       "9"
      ]
     },
     "execution_count": 13,
     "metadata": {},
     "output_type": "execute_result"
    }
   ],
   "source": [
    "convert_to_decimal(1001,2)"
   ]
  },
  {
   "cell_type": "code",
   "execution_count": 5,
   "metadata": {},
   "outputs": [
    {
     "data": {
      "text/plain": [
       "999"
      ]
     },
     "execution_count": 5,
     "metadata": {},
     "output_type": "execute_result"
    }
   ],
   "source": [
    "# 16진법 10진수로 변환\n",
    "int('0x3e7', 16)"
   ]
  },
  {
   "cell_type": "code",
   "execution_count": 7,
   "metadata": {},
   "outputs": [
    {
     "data": {
      "text/plain": [
       "'0b10000101'"
      ]
     },
     "execution_count": 7,
     "metadata": {},
     "output_type": "execute_result"
    }
   ],
   "source": [
    "bin(133)"
   ]
  },
  {
   "cell_type": "code",
   "execution_count": 23,
   "metadata": {},
   "outputs": [],
   "source": [
    "def gcd(a,b):\n",
    "    c = max(a,b)\n",
    "    d = min(a,b)\n",
    "    \n",
    "    while c % d:\n",
    "        c,d = d,c%d\n",
    "    return d"
   ]
  },
  {
   "cell_type": "code",
   "execution_count": 24,
   "metadata": {},
   "outputs": [
    {
     "data": {
      "text/plain": [
       "6"
      ]
     },
     "execution_count": 24,
     "metadata": {},
     "output_type": "execute_result"
    }
   ],
   "source": [
    "gcd(12,30)"
   ]
  },
  {
   "cell_type": "code",
   "execution_count": null,
   "metadata": {},
   "outputs": [],
   "source": [
    "def finding_gcd(*args):\n",
    "    result = args[0]\n",
    "    print(\"초기 result:\", result)\n",
    "    for idx in range(1, len(args)):\n",
    "        print()\n",
    "        print(idx, \"번째 roop\")\n",
    "        print(\"__finding_gcd(\", result, \", \", args[idx], \")\")\n",
    "        result = __finding_gcd(result, args[idx])\n",
    "        print(\"result =\", result)\n",
    "    return result\n",
    "\n",
    "\n",
    "def __finding_gcd(a, b):\n",
    "    a, b = max(a, b), min(a, b)\n",
    "    while b != 0:\n",
    "        a, b = b, a % b\n",
    "    return a\n",
    "\n",
    "print(finding_gcd(30, 12, 15))"
   ]
  },
  {
   "cell_type": "code",
   "execution_count": null,
   "metadata": {},
   "outputs": [],
   "source": []
  },
  {
   "cell_type": "code",
   "execution_count": null,
   "metadata": {},
   "outputs": [],
   "source": []
  },
  {
   "cell_type": "code",
   "execution_count": 78,
   "metadata": {},
   "outputs": [
    {
     "name": "stdout",
     "output_type": "stream",
     "text": [
      "CPU times: user 3 µs, sys: 0 ns, total: 3 µs\n",
      "Wall time: 5.01 µs\n"
     ]
    }
   ],
   "source": [
    "# 내 풀이\n",
    "def convert_to_decimal(num, base):\n",
    "    num = str(num)\n",
    "\n",
    "    a = 0\n",
    "    b = len(num)\n",
    "\n",
    "    for i in range(len(num)):\n",
    "        if num[i] != 0:\n",
    "            a += base ** (b-1) * int(num[i])\n",
    "        b -= 1\n",
    "        \n",
    "    return a\n",
    "\n",
    "#1001의 경우 2**3 * num[i] + 2 **0 * num[i]"
   ]
  },
  {
   "cell_type": "code",
   "execution_count": 65,
   "metadata": {},
   "outputs": [
    {
     "name": "stdout",
     "output_type": "stream",
     "text": [
      "CPU times: user 2 µs, sys: 0 ns, total: 2 µs\n",
      "Wall time: 6.2 µs\n"
     ]
    }
   ],
   "source": [
    "# 책 풀이\n",
    "def convert_to_decimal2(number, base):\n",
    "    multiplier, result = 1, 0\n",
    "    while number > 0:\n",
    "        result += number % 10 * multiplier\n",
    "        multiplier *= base\n",
    "        number = number // 10\n",
    "    return result"
   ]
  },
  {
   "cell_type": "code",
   "execution_count": null,
   "metadata": {},
   "outputs": [],
   "source": []
  },
  {
   "cell_type": "code",
   "execution_count": 16,
   "metadata": {},
   "outputs": [],
   "source": [
    "def convert_to_decimal(number, base):\n",
    "    multiplier, result = 1, 0\n",
    "    while number > 0:\n",
    "        result += number % 10 * multiplier\n",
    "        multiplier *= base\n",
    "        number = number // 10\n",
    "    return result"
   ]
  },
  {
   "cell_type": "code",
   "execution_count": 17,
   "metadata": {},
   "outputs": [
    {
     "data": {
      "text/plain": [
       "9"
      ]
     },
     "execution_count": 17,
     "metadata": {},
     "output_type": "execute_result"
    }
   ],
   "source": [
    "convert_to_decimal(1001,2)"
   ]
  },
  {
   "cell_type": "code",
   "execution_count": null,
   "metadata": {},
   "outputs": [],
   "source": []
  },
  {
   "cell_type": "code",
   "execution_count": 130,
   "metadata": {},
   "outputs": [],
   "source": [
    "def test_convert_to_decimal():\n",
    "    number, base = 1001, 2\n",
    "    assert(convert_to_decimal(number, base) == 9)\n",
    "    print(\"테스트 통과!\")"
   ]
  },
  {
   "cell_type": "code",
   "execution_count": 131,
   "metadata": {},
   "outputs": [
    {
     "name": "stdout",
     "output_type": "stream",
     "text": [
      "테스트 통과!\n"
     ]
    }
   ],
   "source": [
    "if __name__ == \"__main__\":\n",
    "    test_convert_to_decimal()"
   ]
  },
  {
   "cell_type": "code",
   "execution_count": null,
   "metadata": {},
   "outputs": [],
   "source": []
  },
  {
   "cell_type": "markdown",
   "metadata": {},
   "source": [
    "### 1.7.1 (decimal -> base)"
   ]
  },
  {
   "cell_type": "code",
   "execution_count": 1,
   "metadata": {},
   "outputs": [],
   "source": [
    "# 10진수를 다른 진법의 숫자로 변환하는 함수를 만들어 보자 (2 <= base <= 10)."
   ]
  },
  {
   "cell_type": "code",
   "execution_count": 24,
   "metadata": {},
   "outputs": [],
   "source": [
    "def decimal_to_base(decimal, base):\n",
    "    result = \"\"\n",
    "    while decimal >= base:\n",
    "        result += str(decimal % base)\n",
    "        decimal = decimal // base\n",
    "    result += str(decimal)\n",
    "    return int(result[::-1])\n",
    "    "
   ]
  },
  {
   "cell_type": "code",
   "execution_count": 25,
   "metadata": {},
   "outputs": [
    {
     "data": {
      "text/plain": [
       "1010"
      ]
     },
     "execution_count": 25,
     "metadata": {},
     "output_type": "execute_result"
    }
   ],
   "source": [
    "decimal_to_base(10,2)"
   ]
  },
  {
   "cell_type": "code",
   "execution_count": 12,
   "metadata": {},
   "outputs": [],
   "source": [
    "# 내풀이\n",
    "def decimal_to_base(decimal, base):\n",
    "    result = str()\n",
    "    while decimal >= base:\n",
    "        result += str(decimal % base)\n",
    "        decimal = decimal // base\n",
    "    \n",
    "    result += str(decimal)\n",
    "    result = int(result[::-1])\n",
    "    return result"
   ]
  },
  {
   "cell_type": "code",
   "execution_count": 13,
   "metadata": {},
   "outputs": [
    {
     "data": {
      "text/plain": [
       "1010"
      ]
     },
     "execution_count": 13,
     "metadata": {},
     "output_type": "execute_result"
    }
   ],
   "source": [
    "decimal_to_base(10,2)"
   ]
  },
  {
   "cell_type": "code",
   "execution_count": null,
   "metadata": {},
   "outputs": [],
   "source": [
    "# 9, 2"
   ]
  },
  {
   "cell_type": "code",
   "execution_count": 61,
   "metadata": {},
   "outputs": [],
   "source": [
    "# 책 풀이\n",
    "def convert_from_decimal(number, base):\n",
    "    multiplier, result = 1,0\n",
    "    while number > 0:\n",
    "        result += number % base * multiplier\n",
    "        multiplier *= 10\n",
    "        number = number // base\n",
    "        \n",
    "    return result\n",
    "\n",
    "#9 => result = 1 => result = 1+0 => 1+0+0 => 1+1000"
   ]
  },
  {
   "cell_type": "code",
   "execution_count": 71,
   "metadata": {},
   "outputs": [],
   "source": [
    "number, decimal = 8192479812472198471298472198124798, 8192479812472198471298472198124798\n",
    "base = 9\n"
   ]
  },
  {
   "cell_type": "code",
   "execution_count": 72,
   "metadata": {},
   "outputs": [
    {
     "data": {
      "text/plain": [
       "(324082142544531334701803105178434844, 324082142544531334701803105178434844)"
      ]
     },
     "execution_count": 72,
     "metadata": {},
     "output_type": "execute_result"
    }
   ],
   "source": [
    "convert_from_decimal(number, base),decimal_to_base(decimal,base)"
   ]
  },
  {
   "cell_type": "code",
   "execution_count": null,
   "metadata": {},
   "outputs": [],
   "source": []
  },
  {
   "cell_type": "markdown",
   "metadata": {},
   "source": [
    "### (decimal -> base), version 2"
   ]
  },
  {
   "cell_type": "code",
   "execution_count": 74,
   "metadata": {},
   "outputs": [],
   "source": [
    "# 10진수를 20이하의 진법으로 변환하기"
   ]
  },
  {
   "cell_type": "code",
   "execution_count": 26,
   "metadata": {},
   "outputs": [],
   "source": [
    "# 책풀이 + 내풀이 ㅠ\n",
    "def convert_from_decimal_larger_bases(number,base):\n",
    "    strings = \"0123456789ABCDEFGHIJ\"\n",
    "    result = str()\n",
    "\n",
    "    while number > 0:\n",
    "        digit = number % base\n",
    "        result = strings[digit] + result\n",
    "        number = number // base\n",
    "    return result\n",
    "\n",
    "#ex) 31 => 16, 15 => strings[15] + \"\" => strings[1] + strings[15]"
   ]
  },
  {
   "cell_type": "code",
   "execution_count": 28,
   "metadata": {},
   "outputs": [
    {
     "data": {
      "text/plain": [
       "'21'"
      ]
     },
     "execution_count": 28,
     "metadata": {},
     "output_type": "execute_result"
    }
   ],
   "source": [
    "convert_from_decimal_larger_bases(33,16)"
   ]
  },
  {
   "cell_type": "code",
   "execution_count": 27,
   "metadata": {},
   "outputs": [
    {
     "ename": "AssertionError",
     "evalue": "",
     "output_type": "error",
     "traceback": [
      "\u001b[0;31m---------------------------------------------------------------------------\u001b[0m",
      "\u001b[0;31mAssertionError\u001b[0m                            Traceback (most recent call last)",
      "\u001b[0;32m<ipython-input-27-2a0a1c3efbbe>\u001b[0m in \u001b[0;36m<module>\u001b[0;34m\u001b[0m\n\u001b[1;32m      5\u001b[0m \u001b[0;34m\u001b[0m\u001b[0m\n\u001b[1;32m      6\u001b[0m \u001b[0;32mif\u001b[0m \u001b[0m__name__\u001b[0m \u001b[0;34m==\u001b[0m \u001b[0;34m\"__main__\"\u001b[0m\u001b[0;34m:\u001b[0m\u001b[0;34m\u001b[0m\u001b[0;34m\u001b[0m\u001b[0m\n\u001b[0;32m----> 7\u001b[0;31m     \u001b[0mtest_convert_from_decimal_larger_bases\u001b[0m\u001b[0;34m(\u001b[0m\u001b[0;34m)\u001b[0m\u001b[0;34m\u001b[0m\u001b[0;34m\u001b[0m\u001b[0m\n\u001b[0m",
      "\u001b[0;32m<ipython-input-27-2a0a1c3efbbe>\u001b[0m in \u001b[0;36mtest_convert_from_decimal_larger_bases\u001b[0;34m()\u001b[0m\n\u001b[1;32m      1\u001b[0m \u001b[0;32mdef\u001b[0m \u001b[0mtest_convert_from_decimal_larger_bases\u001b[0m\u001b[0;34m(\u001b[0m\u001b[0;34m)\u001b[0m\u001b[0;34m:\u001b[0m\u001b[0;34m\u001b[0m\u001b[0;34m\u001b[0m\u001b[0m\n\u001b[1;32m      2\u001b[0m     \u001b[0mnumber\u001b[0m\u001b[0;34m,\u001b[0m \u001b[0mbase\u001b[0m \u001b[0;34m=\u001b[0m \u001b[0;36m33\u001b[0m\u001b[0;34m,\u001b[0m \u001b[0;36m16\u001b[0m\u001b[0;34m\u001b[0m\u001b[0;34m\u001b[0m\u001b[0m\n\u001b[0;32m----> 3\u001b[0;31m     \u001b[0;32massert\u001b[0m\u001b[0;34m(\u001b[0m\u001b[0mconvert_from_decimal_larger_bases\u001b[0m\u001b[0;34m(\u001b[0m\u001b[0mnumber\u001b[0m\u001b[0;34m,\u001b[0m \u001b[0mbase\u001b[0m\u001b[0;34m)\u001b[0m \u001b[0;34m==\u001b[0m \u001b[0;34m\"1F\"\u001b[0m\u001b[0;34m)\u001b[0m\u001b[0;34m\u001b[0m\u001b[0;34m\u001b[0m\u001b[0m\n\u001b[0m\u001b[1;32m      4\u001b[0m     \u001b[0mprint\u001b[0m\u001b[0;34m(\u001b[0m\u001b[0;34m\"Test Passed!\"\u001b[0m\u001b[0;34m)\u001b[0m\u001b[0;34m\u001b[0m\u001b[0;34m\u001b[0m\u001b[0m\n\u001b[1;32m      5\u001b[0m \u001b[0;34m\u001b[0m\u001b[0m\n",
      "\u001b[0;31mAssertionError\u001b[0m: "
     ]
    }
   ],
   "source": [
    "def test_convert_from_decimal_larger_bases():\n",
    "    number, base = 33, 16\n",
    "    assert(convert_from_decimal_larger_bases(number, base) == \"1F\")\n",
    "    print(\"Test Passed!\")\n",
    "    \n",
    "if __name__ == \"__main__\":\n",
    "    test_convert_from_decimal_larger_bases()"
   ]
  },
  {
   "cell_type": "code",
   "execution_count": 17,
   "metadata": {},
   "outputs": [
    {
     "data": {
      "text/plain": [
       "0"
      ]
     },
     "execution_count": 17,
     "metadata": {},
     "output_type": "execute_result"
    }
   ],
   "source": [
    "15//16"
   ]
  },
  {
   "cell_type": "markdown",
   "metadata": {},
   "source": [
    "### 재귀함수를 사용한 진법변환"
   ]
  },
  {
   "cell_type": "code",
   "execution_count": 3,
   "metadata": {},
   "outputs": [],
   "source": [
    "'''under 16'''\n",
    "def convert_dec_to_any_base_rec(number, base):\n",
    "    convertString = \"0123456789BCDEF\"\n",
    "    \n",
    "    if number < base:\n",
    "        return convertString[number]\n",
    "    else:\n",
    "        return convert_dec_to_any_base_rec(number // base, base) + convertString[number % base]\n"
   ]
  },
  {
   "cell_type": "code",
   "execution_count": 4,
   "metadata": {},
   "outputs": [
    {
     "name": "stdout",
     "output_type": "stream",
     "text": [
      "테스트 통과!\n"
     ]
    }
   ],
   "source": [
    "def test_convert_dec_to_any_base_rec():\n",
    "    number = 9\n",
    "    base = 2\n",
    "    assert(convert_dec_to_any_base_rec(number, base) == \"1001\")\n",
    "    print(\"테스트 통과!\")\n",
    "    \n",
    "if __name__ == \"__main__\":\n",
    "    test_convert_dec_to_any_base_rec()"
   ]
  },
  {
   "cell_type": "code",
   "execution_count": null,
   "metadata": {},
   "outputs": [],
   "source": [
    "### 1.7.2 최대공약수"
   ]
  },
  {
   "cell_type": "code",
   "execution_count": 29,
   "metadata": {},
   "outputs": [],
   "source": [
    "def finding_gcd(a,b):\n",
    "    while a%b:\n",
    "        result = b\n",
    "        a, b = b, a % b\n",
    "    return b"
   ]
  },
  {
   "cell_type": "code",
   "execution_count": 31,
   "metadata": {},
   "outputs": [],
   "source": [
    "def finding_gcd(a,b):\n",
    "    while b != 0:\n",
    "        result = b\n",
    "        a, b = b, a % b\n",
    "    return result"
   ]
  },
  {
   "cell_type": "code",
   "execution_count": 32,
   "metadata": {},
   "outputs": [
    {
     "data": {
      "text/plain": [
       "3"
      ]
     },
     "execution_count": 32,
     "metadata": {},
     "output_type": "execute_result"
    }
   ],
   "source": [
    "finding_gcd(21,12)"
   ]
  },
  {
   "cell_type": "code",
   "execution_count": 33,
   "metadata": {},
   "outputs": [
    {
     "name": "stdout",
     "output_type": "stream",
     "text": [
      "test 통과!\n"
     ]
    }
   ],
   "source": [
    "def test_finding_gcd():\n",
    "    number1 = 21\n",
    "    number2 = 12\n",
    "    assert(finding_gcd(number1, number2) ==3)\n",
    "    print(\"test 통과!\")\n",
    "    \n",
    "if __name__ == \"__main__\":\n",
    "    test_finding_gcd()"
   ]
  },
  {
   "cell_type": "code",
   "execution_count": null,
   "metadata": {},
   "outputs": [],
   "source": []
  },
  {
   "cell_type": "markdown",
   "metadata": {},
   "source": [
    "### 1.7.4 피보나치 수열 만들기"
   ]
  },
  {
   "cell_type": "code",
   "execution_count": 10,
   "metadata": {},
   "outputs": [],
   "source": [
    "# 1 1 2 3 5 8 13 21 ..."
   ]
  },
  {
   "cell_type": "code",
   "execution_count": 11,
   "metadata": {},
   "outputs": [],
   "source": [
    "def find_fibonacci(n):\n",
    "    if n < 2: \n",
    "        return n\n",
    "    return find_fibonacci(n - 1) + find_fibonacci(n -2)"
   ]
  },
  {
   "cell_type": "code",
   "execution_count": 13,
   "metadata": {},
   "outputs": [
    {
     "data": {
      "text/plain": [
       "8"
      ]
     },
     "execution_count": 13,
     "metadata": {},
     "output_type": "execute_result"
    }
   ],
   "source": [
    "find_fibonacci(6)"
   ]
  },
  {
   "cell_type": "code",
   "execution_count": null,
   "metadata": {},
   "outputs": [],
   "source": []
  },
  {
   "cell_type": "markdown",
   "metadata": {},
   "source": [
    "### 1.7.5 소수"
   ]
  },
  {
   "cell_type": "code",
   "execution_count": 28,
   "metadata": {},
   "outputs": [],
   "source": [
    "# 3가지 조건\n",
    "# 1) a> m 이면, b < m\n",
    "# 2) a = m 이면, b = m\n",
    "# 3) a < m 이면, b > m\n",
    "\n",
    "# https://stackoverflow.com/questions/5811151/why-do-we-check-up-to-the-square-root-of-a-prime-number-to-determine-if-it-is-pr/5813926#5813926\n",
    "\n",
    "# 이 원리에 따라 다음식이 성립"
   ]
  },
  {
   "cell_type": "code",
   "execution_count": null,
   "metadata": {},
   "outputs": [],
   "source": [
    "# 다시한번 정리를위해 인중님의 도우미...ㅋㅋㅋ\n",
    "def finding_prime_sqrt(number):\n",
    "    num = abs(number)\n",
    "    if num < 4:\n",
    "        return True\n",
    "    for x in range(2, int(math.sqrt(num)) + 1):\n",
    "        if number % x == 0:\n",
    "            return False\n",
    "        \n",
    "    return True"
   ]
  },
  {
   "cell_type": "code",
   "execution_count": 36,
   "metadata": {},
   "outputs": [
    {
     "data": {
      "text/plain": [
       "3.4641016151377544"
      ]
     },
     "execution_count": 36,
     "metadata": {},
     "output_type": "execute_result"
    }
   ],
   "source": [
    "import math\n",
    "math.sqrt(12)"
   ]
  },
  {
   "cell_type": "code",
   "execution_count": 61,
   "metadata": {},
   "outputs": [],
   "source": [
    "# 페르마의 소정리\n",
    "\n",
    "def finding_prime_fermat(number):\n",
    "    if number <= 102:\n",
    "        for a in range(2, number):\n",
    "            if pow(a, number-1, number) != 1:\n",
    "                return False\n",
    "        return True\n",
    "    \n",
    "    else:\n",
    "        for i in range(100):\n",
    "            a = random.randint(2, number - 1)\n",
    "            if pow(a, number - 1, number) != 1:\n",
    "                return False\n",
    "        return True"
   ]
  },
  {
   "cell_type": "code",
   "execution_count": 62,
   "metadata": {},
   "outputs": [
    {
     "data": {
      "text/plain": [
       "False"
      ]
     },
     "execution_count": 62,
     "metadata": {},
     "output_type": "execute_result"
    }
   ],
   "source": []
  },
  {
   "cell_type": "code",
   "execution_count": 41,
   "metadata": {},
   "outputs": [
    {
     "data": {
      "text/plain": [
       "1"
      ]
     },
     "execution_count": 41,
     "metadata": {},
     "output_type": "execute_result"
    }
   ],
   "source": [
    "**16%17"
   ]
  },
  {
   "cell_type": "code",
   "execution_count": null,
   "metadata": {},
   "outputs": [],
   "source": []
  },
  {
   "cell_type": "code",
   "execution_count": null,
   "metadata": {},
   "outputs": [],
   "source": [
    "1 1 2 3 5 8 13 21"
   ]
  },
  {
   "cell_type": "code",
   "execution_count": 39,
   "metadata": {},
   "outputs": [],
   "source": [
    "def fibonacci(n):\n",
    "    \n",
    "    if n < 2 :\n",
    "        return n\n",
    "    return fibonacci(n-1) + fibonacci(n-2)"
   ]
  },
  {
   "cell_type": "code",
   "execution_count": 40,
   "metadata": {},
   "outputs": [
    {
     "data": {
      "text/plain": [
       "55"
      ]
     },
     "execution_count": 40,
     "metadata": {},
     "output_type": "execute_result"
    }
   ],
   "source": [
    "fibonacci(10)"
   ]
  },
  {
   "cell_type": "code",
   "execution_count": 47,
   "metadata": {},
   "outputs": [
    {
     "data": {
      "text/plain": [
       "2"
      ]
     },
     "execution_count": 47,
     "metadata": {},
     "output_type": "execute_result"
    }
   ],
   "source": [
    "import math\n",
    "from decimal import Decimal\n",
    "\n",
    "int(round(Decimal(math.sqrt(5)),0))"
   ]
  },
  {
   "cell_type": "code",
   "execution_count": 50,
   "metadata": {},
   "outputs": [],
   "source": [
    "def prime_number(n):\n",
    "    if n < 2:\n",
    "        return True\n",
    "    \n",
    "    \n",
    "    for i in range(2,int(round(Decimal(math.sqrt(n)),0+1))+1):\n",
    "        if n % i == 0:\n",
    "            return False\n",
    "        \n",
    "    \n",
    "    return True"
   ]
  },
  {
   "cell_type": "code",
   "execution_count": 56,
   "metadata": {},
   "outputs": [
    {
     "data": {
      "text/plain": [
       "False"
      ]
     },
     "execution_count": 56,
     "metadata": {},
     "output_type": "execute_result"
    }
   ],
   "source": [
    "prime_number(18)"
   ]
  },
  {
   "cell_type": "code",
   "execution_count": null,
   "metadata": {},
   "outputs": [],
   "source": [
    "# 에라토스테네스의 체\n",
    "\n",
    "# if 2로 안나누어져씅면 2의 배수를 다 빼고\n",
    "# 3안나누어지면 3 배수 다빼고\n",
    "# 5 안나누어지면 5 배수 다빼고,..\n",
    "\n",
    "def prime_number2(n):\n",
    "    \n",
    "    for i in range(2, n+1):"
   ]
  },
  {
   "cell_type": "code",
   "execution_count": null,
   "metadata": {},
   "outputs": [],
   "source": []
  },
  {
   "cell_type": "code",
   "execution_count": null,
   "metadata": {},
   "outputs": [],
   "source": []
  },
  {
   "cell_type": "code",
   "execution_count": null,
   "metadata": {},
   "outputs": [],
   "source": []
  },
  {
   "cell_type": "code",
   "execution_count": null,
   "metadata": {},
   "outputs": [],
   "source": []
  }
 ],
 "metadata": {
  "kernelspec": {
   "display_name": "Python 3",
   "language": "python",
   "name": "python3"
  },
  "language_info": {
   "codemirror_mode": {
    "name": "ipython",
    "version": 3
   },
   "file_extension": ".py",
   "mimetype": "text/x-python",
   "name": "python",
   "nbconvert_exporter": "python",
   "pygments_lexer": "ipython3",
   "version": "3.7.6"
  }
 },
 "nbformat": 4,
 "nbformat_minor": 2
}
