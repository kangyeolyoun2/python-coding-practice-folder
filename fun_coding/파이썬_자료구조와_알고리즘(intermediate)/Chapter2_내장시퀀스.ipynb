{
 "cells": [
  {
   "cell_type": "markdown",
   "metadata": {},
   "source": [
    "## 2.1 가변성\n",
    "\n",
    "immutable = tuple, strings\n",
    "mutable = list등\n",
    "\n",
    "immutable > mutable 보다 훨씬 효율적"
   ]
  },
  {
   "cell_type": "markdown",
   "metadata": {},
   "source": [
    "### 2.1.1 얕은복사, 깊은복사"
   ]
  },
  {
   "cell_type": "code",
   "execution_count": 1,
   "metadata": {},
   "outputs": [
    {
     "name": "stdout",
     "output_type": "stream",
     "text": [
      "[1, [1, 2, 3]]\n",
      "[100, [1, 2, 3]]\n",
      "[1, [1, 2, 3]]\n",
      "[1, [1, 2, 3, 4]]\n",
      "[1, [1, 2, 3, 4]]\n"
     ]
    }
   ],
   "source": [
    "#출처: https://blueshw.github.io/2016/01/20/shallow-copy-deep-copy/\n",
    "import copy\n",
    "\n",
    "a = [1, [1, 2, 3]]\n",
    "b = copy.copy(a)    # shallow copy 발생\n",
    "print(b)    # [1, [1, 2, 3]] 출력\n",
    "b[0] = 100\n",
    "print(b)    # [100, [1, 2, 3]] 출력,\n",
    "print(a)    # [1, [1, 2, 3]] 출력, shallow copy 가 발생해 복사된 리스트는 별도의 객체이므로 item을 수정하면 복사본만 수정된다. (immutable 객체의 경우)\n",
    "\n",
    "c = copy.copy(a)\n",
    "c[1].append(4)    # 리스트의 두번째 item(내부리스트)에 4를 추가\n",
    "print(c)    # [1, [1, 2, 3, 4]] 출력\n",
    "print(a)    # [1, [1, 2, 3, 4]] 출력, a가 c와 똑같이 수정된 이유는 리스트의 item 내부의 객체는 동일한 객체이므로 mutable한 리스트를 수정할때는 둘다 값이 변경됨"
   ]
  },
  {
   "cell_type": "code",
   "execution_count": 2,
   "metadata": {},
   "outputs": [
    {
     "name": "stdout",
     "output_type": "stream",
     "text": [
      "[1, [1, 2, 3]]\n",
      "[100, [1, 2, 3, 4]]\n",
      "[1, [1, 2, 3]]\n"
     ]
    }
   ],
   "source": [
    "#출처: https://blueshw.github.io/2016/01/20/shallow-copy-deep-copy/\n",
    "import copy\n",
    "\n",
    "a = [1, [1, 2, 3]]\n",
    "b = copy.deepcopy(a)    # deep copy 실행\n",
    "print(b)    # [1, [1, 2, 3]] 출력\n",
    "b[0] = 100\n",
    "b[1].append(4)\n",
    "print(b)    # [100, [1, 2, 3, 4]] 출력\n",
    "print(a)    # [1, [1, 2, 3]] 출력"
   ]
  },
  {
   "cell_type": "markdown",
   "metadata": {},
   "source": [
    "### 2.2.2 문자열 메서드"
   ]
  },
  {
   "cell_type": "code",
   "execution_count": 5,
   "metadata": {},
   "outputs": [],
   "source": [
    "#ljust(), rjust() : A.ljust(width, fillchar)는 문자열 A\n",
    "#맨처음부터 문자열을 포함한 길이 width만큼 문자 fillchar을 채움"
   ]
  },
  {
   "cell_type": "code",
   "execution_count": 6,
   "metadata": {},
   "outputs": [
    {
     "data": {
      "text/plain": [
       "'스칼렛-----------------------------------------------'"
      ]
     },
     "execution_count": 6,
     "metadata": {},
     "output_type": "execute_result"
    }
   ],
   "source": [
    "name = \"스칼렛\"\n",
    "name.ljust(50, \"-\")"
   ]
  },
  {
   "cell_type": "code",
   "execution_count": 9,
   "metadata": {},
   "outputs": [
    {
     "data": {
      "text/plain": [
       "['로미오', '줄리엣']"
      ]
     },
     "execution_count": 9,
     "metadata": {},
     "output_type": "execute_result"
    }
   ],
   "source": [
    "#splitlines() 는 문자열 A에 대해 줄 바꿈 문자를 기준으로 분리한 결과를 문자열 리스트로 반환한다.\n",
    "slayers = \"로미오\\n줄리엣\"\n",
    "slayers.splitlines()"
   ]
  },
  {
   "cell_type": "code",
   "execution_count": 10,
   "metadata": {},
   "outputs": [
    {
     "data": {
      "text/plain": [
       "'bUFFYT AND fAITH'"
      ]
     },
     "execution_count": 10,
     "metadata": {},
     "output_type": "execute_result"
    }
   ],
   "source": [
    "#swapcase()는 문자열 A에서 대소문자를 반전한 문자열의 복사본을 반환한다.\n",
    "\n",
    "slayers = \"Buffyt and Faith\"\n",
    "slayers.swapcase()"
   ]
  },
  {
   "cell_type": "code",
   "execution_count": 13,
   "metadata": {},
   "outputs": [
    {
     "name": "stdout",
     "output_type": "stream",
     "text": [
      "4 -1 4\n"
     ]
    }
   ],
   "source": [
    "# index(), find() 메서드. A.index(sub,start,end), A.find(sub,start,end)\n",
    "\n",
    "slayers = \"Buffy and Faith\"\n",
    "\n",
    "print(slayers.find(\"y\"), slayers.find(\"k\"), slayers.index(\"y\"))"
   ]
  },
  {
   "cell_type": "code",
   "execution_count": 23,
   "metadata": {},
   "outputs": [
    {
     "name": "stdout",
     "output_type": "stream",
     "text": [
      "그의 이름은 '프레드'입니다.\n",
      "0x400\n"
     ]
    }
   ],
   "source": [
    "# f-strings. 문자열앞에 접두사 f를 붙여 사용하는것.\n",
    "\n",
    "name = \"프레드\"\n",
    "print(f\"그의 이름은 {name!r}입니다.\")\n",
    "\n",
    "number = 1024\n",
    "print(f\"{number:#0x}\")  #16진수표현"
   ]
  },
  {
   "cell_type": "code",
   "execution_count": null,
   "metadata": {},
   "outputs": [],
   "source": []
  },
  {
   "cell_type": "markdown",
   "metadata": {},
   "source": [
    "### 2.3.2 튜플 언패킹"
   ]
  },
  {
   "cell_type": "code",
   "execution_count": 26,
   "metadata": {},
   "outputs": [
    {
     "name": "stdout",
     "output_type": "stream",
     "text": [
      "1 [2, 3, 4]\n",
      "[1, 2, 3] 4\n"
     ]
    }
   ],
   "source": [
    "#파이썬에서 모든 반복가능한 iterable 객체는 sequence unpacking operator *를 사용하여 언패킹할 수 있다. \n",
    "\n",
    "x, *y = (1,2,3,4)\n",
    "print(x,y)\n",
    "\n",
    "*a, b = (1,2,3,4)\n",
    "print(a,b)"
   ]
  },
  {
   "cell_type": "code",
   "execution_count": 35,
   "metadata": {},
   "outputs": [
    {
     "name": "stdout",
     "output_type": "stream",
     "text": [
      "person(name='아스틴', age=30, gender='남자')\n",
      "\n",
      "30 아스틴 남자 아스틴\n"
     ]
    }
   ],
   "source": [
    "### 2.3.3 네임드 튜플\n",
    "\n",
    "#파이썬 표준 모듈 collections에는 네임드 튜플 이라는 시퀀스 데이터 타입이있다. \n",
    "#튜플 항목을 인덱스 위치뿐만이 아니라 이름으로도 참조할 수 있다.\n",
    "\n",
    "import collections\n",
    "Person = collections.namedtuple(\"person\", 'name age gender')\n",
    "p = Person(\"아스틴\", 30, \"남자\")\n",
    "print(p)\n",
    "print(\"\")\n",
    "print(p.age, p.name, p.gender, p[0])"
   ]
  },
  {
   "cell_type": "code",
   "execution_count": null,
   "metadata": {},
   "outputs": [],
   "source": []
  }
 ],
 "metadata": {
  "kernelspec": {
   "display_name": "Python 3",
   "language": "python",
   "name": "python3"
  },
  "language_info": {
   "codemirror_mode": {
    "name": "ipython",
    "version": 3
   },
   "file_extension": ".py",
   "mimetype": "text/x-python",
   "name": "python",
   "nbconvert_exporter": "python",
   "pygments_lexer": "ipython3",
   "version": "3.7.6"
  }
 },
 "nbformat": 4,
 "nbformat_minor": 2
}
