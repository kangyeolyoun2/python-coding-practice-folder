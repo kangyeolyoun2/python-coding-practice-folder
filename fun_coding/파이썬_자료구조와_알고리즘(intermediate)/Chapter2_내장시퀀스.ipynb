{
 "cells": [
  {
   "cell_type": "markdown",
   "metadata": {},
   "source": [
    "## 2.1 가변성\n",
    "\n",
    "immutable = tuple, strings\n",
    "mutable = list등\n",
    "\n",
    "immutable > mutable 보다 훨씬 효율적"
   ]
  },
  {
   "cell_type": "markdown",
   "metadata": {},
   "source": [
    "### 2.1.1 얕은복사, 깊은복사"
   ]
  },
  {
   "cell_type": "code",
   "execution_count": 1,
   "metadata": {},
   "outputs": [
    {
     "name": "stdout",
     "output_type": "stream",
     "text": [
      "[1, [1, 2, 3]]\n",
      "[100, [1, 2, 3]]\n",
      "[1, [1, 2, 3]]\n",
      "[1, [1, 2, 3, 4]]\n",
      "[1, [1, 2, 3, 4]]\n"
     ]
    }
   ],
   "source": [
    "#출처: https://blueshw.github.io/2016/01/20/shallow-copy-deep-copy/\n",
    "import copy\n",
    "\n",
    "a = [1, [1, 2, 3]]\n",
    "b = copy.copy(a)    # shallow copy 발생\n",
    "print(b)    # [1, [1, 2, 3]] 출력\n",
    "b[0] = 100\n",
    "print(b)    # [100, [1, 2, 3]] 출력,\n",
    "print(a)    # [1, [1, 2, 3]] 출력, shallow copy 가 발생해 복사된 리스트는 별도의 객체이므로 item을 수정하면 복사본만 수정된다. (immutable 객체의 경우)\n",
    "\n",
    "c = copy.copy(a)\n",
    "c[1].append(4)    # 리스트의 두번째 item(내부리스트)에 4를 추가\n",
    "print(c)    # [1, [1, 2, 3, 4]] 출력\n",
    "print(a)    # [1, [1, 2, 3, 4]] 출력, a가 c와 똑같이 수정된 이유는 리스트의 item 내부의 객체는 동일한 객체이므로 mutable한 리스트를 수정할때는 둘다 값이 변경됨"
   ]
  },
  {
   "cell_type": "code",
   "execution_count": 2,
   "metadata": {},
   "outputs": [
    {
     "name": "stdout",
     "output_type": "stream",
     "text": [
      "[1, [1, 2, 3]]\n",
      "[100, [1, 2, 3, 4]]\n",
      "[1, [1, 2, 3]]\n"
     ]
    }
   ],
   "source": [
    "#출처: https://blueshw.github.io/2016/01/20/shallow-copy-deep-copy/\n",
    "import copy\n",
    "\n",
    "a = [1, [1, 2, 3]]\n",
    "b = copy.deepcopy(a)    # deep copy 실행\n",
    "print(b)    # [1, [1, 2, 3]] 출력\n",
    "b[0] = 100\n",
    "b[1].append(4)\n",
    "print(b)    # [100, [1, 2, 3, 4]] 출력\n",
    "print(a)    # [1, [1, 2, 3]] 출력"
   ]
  },
  {
   "cell_type": "markdown",
   "metadata": {},
   "source": [
    "### 2.2.2 문자열 메서드"
   ]
  },
  {
   "cell_type": "code",
   "execution_count": 5,
   "metadata": {},
   "outputs": [],
   "source": [
    "#ljust(), rjust() : A.ljust(width, fillchar)는 문자열 A\n",
    "#맨처음부터 문자열을 포함한 길이 width만큼 문자 fillchar을 채움"
   ]
  },
  {
   "cell_type": "code",
   "execution_count": 6,
   "metadata": {},
   "outputs": [
    {
     "data": {
      "text/plain": [
       "'스칼렛-----------------------------------------------'"
      ]
     },
     "execution_count": 6,
     "metadata": {},
     "output_type": "execute_result"
    }
   ],
   "source": [
    "name = \"스칼렛\"\n",
    "name.ljust(50, \"-\")"
   ]
  },
  {
   "cell_type": "code",
   "execution_count": 9,
   "metadata": {},
   "outputs": [
    {
     "data": {
      "text/plain": [
       "['로미오', '줄리엣']"
      ]
     },
     "execution_count": 9,
     "metadata": {},
     "output_type": "execute_result"
    }
   ],
   "source": [
    "#splitlines() 는 문자열 A에 대해 줄 바꿈 문자를 기준으로 분리한 결과를 문자열 리스트로 반환한다.\n",
    "slayers = \"로미오\\n줄리엣\"\n",
    "slayers.splitlines()"
   ]
  },
  {
   "cell_type": "code",
   "execution_count": 10,
   "metadata": {},
   "outputs": [
    {
     "data": {
      "text/plain": [
       "'bUFFYT AND fAITH'"
      ]
     },
     "execution_count": 10,
     "metadata": {},
     "output_type": "execute_result"
    }
   ],
   "source": [
    "#swapcase()는 문자열 A에서 대소문자를 반전한 문자열의 복사본을 반환한다.\n",
    "\n",
    "slayers = \"Buffyt and Faith\"\n",
    "slayers.swapcase()"
   ]
  },
  {
   "cell_type": "code",
   "execution_count": 13,
   "metadata": {},
   "outputs": [
    {
     "name": "stdout",
     "output_type": "stream",
     "text": [
      "4 -1 4\n"
     ]
    }
   ],
   "source": [
    "# index(), find() 메서드. A.index(sub,start,end), A.find(sub,start,end)\n",
    "\n",
    "slayers = \"Buffy and Faith\"\n",
    "\n",
    "print(slayers.find(\"y\"), slayers.find(\"k\"), slayers.index(\"y\"))"
   ]
  },
  {
   "cell_type": "code",
   "execution_count": 23,
   "metadata": {},
   "outputs": [
    {
     "name": "stdout",
     "output_type": "stream",
     "text": [
      "그의 이름은 '프레드'입니다.\n",
      "0x400\n"
     ]
    }
   ],
   "source": [
    "# f-strings. 문자열앞에 접두사 f를 붙여 사용하는것.\n",
    "\n",
    "name = \"프레드\"\n",
    "print(f\"그의 이름은 {name!r}입니다.\")\n",
    "\n",
    "number = 1024\n",
    "print(f\"{number:#0x}\")  #16진수표현"
   ]
  },
  {
   "cell_type": "code",
   "execution_count": null,
   "metadata": {},
   "outputs": [],
   "source": []
  },
  {
   "cell_type": "markdown",
   "metadata": {},
   "source": [
    "### 2.3.2 튜플 언패킹"
   ]
  },
  {
   "cell_type": "code",
   "execution_count": 26,
   "metadata": {},
   "outputs": [
    {
     "name": "stdout",
     "output_type": "stream",
     "text": [
      "1 [2, 3, 4]\n",
      "[1, 2, 3] 4\n"
     ]
    }
   ],
   "source": [
    "#파이썬에서 모든 반복가능한 iterable 객체는 sequence unpacking operator *를 사용하여 언패킹할 수 있다. \n",
    "\n",
    "x, *y = (1,2,3,4)\n",
    "print(x,y)\n",
    "\n",
    "*a, b = (1,2,3,4)\n",
    "print(a,b)"
   ]
  },
  {
   "cell_type": "code",
   "execution_count": 35,
   "metadata": {},
   "outputs": [
    {
     "name": "stdout",
     "output_type": "stream",
     "text": [
      "person(name='아스틴', age=30, gender='남자')\n",
      "\n",
      "30 아스틴 남자 아스틴\n"
     ]
    }
   ],
   "source": [
    "### 2.3.3 네임드 튜플\n",
    "\n",
    "#파이썬 표준 모듈 collections에는 네임드 튜플 이라는 시퀀스 데이터 타입이있다. \n",
    "#튜플 항목을 인덱스 위치뿐만이 아니라 이름으로도 참조할 수 있다.\n",
    "\n",
    "import collections\n",
    "Person = collections.namedtuple(\"person\", 'name age gender')\n",
    "p = Person(\"아스틴\", 30, \"남자\")\n",
    "print(p)\n",
    "print(\"\")\n",
    "print(p.age, p.name, p.gender, p[0])"
   ]
  },
  {
   "cell_type": "code",
   "execution_count": null,
   "metadata": {},
   "outputs": [],
   "source": []
  },
  {
   "cell_type": "markdown",
   "metadata": {},
   "source": [
    "### 2.4"
   ]
  },
  {
   "cell_type": "markdown",
   "metadata": {},
   "source": [
    "### 리스트는 배열과 비슷하나, 연결리스트와는 아무 관련이 없다. 연결리스트는 O(n), 배열은 O(1) 이다.\n",
    "\n",
    "### 리스트 메서드의 시간복잡도\n",
    "\n",
    "<img src=\"./imgs/리스트_시간복잡도1.png\" width=\"30%\">"
   ]
  },
  {
   "cell_type": "code",
   "execution_count": null,
   "metadata": {},
   "outputs": [],
   "source": []
  },
  {
   "cell_type": "code",
   "execution_count": 70,
   "metadata": {},
   "outputs": [
    {
     "name": "stdout",
     "output_type": "stream",
     "text": [
      "['다', '있', '미', '재', ' ', '말', '정', ' ', '즘', '리', '고', '알', ' ', '썬', '이', '파']\n",
      "['재', '미', '있', '다', ' ', '말', '정', ' ', '즘', '리', '고', '알', ' ', '썬', '이', '파']\n",
      "['재', '미', '있', '다', ' ', '정', '말', ' ', '즘', '리', '고', '알', ' ', '썬', '이', '파']\n",
      "['재', '미', '있', '다', ' ', '정', '말', ' ', '알', '고', '리', '즘', ' ', '썬', '이', '파']\n",
      "['재', '미', '있', '다', ' ', '정', '말', ' ', '알', '고', '리', '즘', ' ', '파', '이', '썬']\n"
     ]
    }
   ],
   "source": [
    "# 두 포인터를 사용하여 전체 문장을 반전한다. 두번째 반복문에서는 공백을 만났을 때, 각 단어를 다시 반전한다.\n",
    "def reverser(string1, p1=0, p2=None):\n",
    "    if len(string1) <2:\n",
    "        return string1\n",
    "    \n",
    "    p2 = p2 or len(string1) -1\n",
    "    while p1 < p2:\n",
    "        string1[p1], string1[p2] = string1[p2], string1[p1]\n",
    "        p1 += 1\n",
    "        p2 -= 1\n",
    "\n",
    "def reversing_words_sentence_logic(string1):\n",
    "    # 문장 전체를 반전한다\n",
    "    reverser(string1)\n",
    "    print(string1)\n",
    "    p = 0\n",
    "    start = 0\n",
    "    while p < len(string1):\n",
    "        if string1[p] == u\"\\u0020\": #문자열이 유니코드이면\n",
    "            # 단어를 다시 반전한다(단어를 원위치로 돌려놓는다).\n",
    "            reverser(string1, start, p-1)\n",
    "            print(string1)\n",
    "            start = p+1\n",
    "        p += 1\n",
    "    \n",
    "    # 마지막 단어를 반전한다(단어를 원위치로 돌려놓는다).\n",
    "    reverser(string1, start, p-1)\n",
    "    print(string1)\n",
    "    return \"\".join(string1)\n",
    "\n",
    "if __name__ == \"__main__\":\n",
    "    str1 = \"파이썬 알고리즘 정말 재미있다\"\n",
    "    str2 = reversing_words_sentence_logic(list(str1))\n",
    "#     print(str2)"
   ]
  },
  {
   "cell_type": "code",
   "execution_count": 80,
   "metadata": {},
   "outputs": [
    {
     "name": "stdout",
     "output_type": "stream",
     "text": [
      "['파'] []\n",
      "['파', '이'] []\n",
      "['파', '이', '썬'] []\n",
      "['알'] ['파이썬']\n",
      "['알', '고'] ['파이썬']\n",
      "['알', '고', '리'] ['파이썬']\n",
      "['알', '고', '리', '즘'] ['파이썬']\n",
      "['정'] ['파이썬', '알고리즘']\n",
      "['정', '말'] ['파이썬', '알고리즘']\n",
      "['재'] ['파이썬', '알고리즘', '정말']\n",
      "['재', '미'] ['파이썬', '알고리즘', '정말']\n",
      "['재', '미', '있'] ['파이썬', '알고리즘', '정말']\n",
      "['재', '미', '있', '다'] ['파이썬', '알고리즘', '정말']\n",
      "재미있다 정말 알고리즘 파이썬\n"
     ]
    }
   ],
   "source": [
    "# 하나의 반복문만 사용 하는 방법. 단어 단위로 나눠 리스트에 추가한 후 리스트를 반전\n",
    "\n",
    "def reverse_words_brute(string):\n",
    "    word, sentence = [], []\n",
    "    for character in string:\n",
    "        if character != \" \":\n",
    "            word.append(character)\n",
    "            print(word, sentence)\n",
    "        else:\n",
    "            # 조건문에서 빈 리스트는 False다. 여러 공백이 있는 경우, 조건문을 건너 뛴다.\n",
    "            if word:\n",
    "                sentence.append(\"\".join(word))\n",
    "            word = []\n",
    "        # 마지막 단어가 있다면, 문장에 추갛나다.\n",
    "    if word != \"\":\n",
    "        #마지막에 sentence에 word를 추가해줌\n",
    "        sentence.append(\"\".join(word))\n",
    "    sentence.reverse()\n",
    "    return \" \".join(sentence)\n",
    "\n",
    "if __name__ == \"__main__\":\n",
    "    str1 = \"파이썬 알고리즘 정말 재미있다\"\n",
    "    str2 = reverse_words_brute(str1)\n",
    "    print(str2)\n",
    "    "
   ]
  },
  {
   "cell_type": "code",
   "execution_count": 4,
   "metadata": {},
   "outputs": [
    {
     "name": "stdout",
     "output_type": "stream",
     "text": [
      "['a']\n",
      "['a', '2', 'b']\n",
      "['a', '2', 'b', '1', 'c']\n",
      "['a', '2', 'b', '1', 'c', '5', 'a']\n",
      "a2b1c5a3\n"
     ]
    }
   ],
   "source": [
    "# 2.6.3 단순 문자열 압축\n",
    "\n",
    "#다음 문자열  aabbcccccaaa 를 a2b1c5a3 같은 형식으로 압축예제 (카카오 문자열압축에서 봤던문제다.)\n",
    "\n",
    "\n",
    "\n",
    "\n",
    "\n",
    "def str_compression(s):\n",
    "    count, last = 1, \"\"\n",
    "    list_aux = []\n",
    "    for i,c in enumerate(s):\n",
    "        if last == c:\n",
    "            count += 1\n",
    "        else:\n",
    "            if i != 0:\n",
    "                list_aux.append(str(count))\n",
    "            list_aux.append(c)\n",
    "            print(list_aux)\n",
    "            count = 1\n",
    "            last = c\n",
    "    list_aux.append(str(count))\n",
    "    return \"\".join(list_aux)\n",
    "\n",
    "if __name__ == \"__main__\":\n",
    "    result = str_compression(\"aabcccccaaa\")\n",
    "    print(result)"
   ]
  },
  {
   "cell_type": "code",
   "execution_count": null,
   "metadata": {},
   "outputs": [],
   "source": []
  },
  {
   "cell_type": "code",
   "execution_count": 16,
   "metadata": {},
   "outputs": [],
   "source": [
    "### 2.6.4 Permuation\n",
    "\n",
    "def perm(s):\n",
    "    if len(s) < 2:\n",
    "        return s\n",
    "    res = []\n",
    "    for i,c in enumerate(s):\n",
    "        for cc in perm(s[:i] + s[i+1:]):            \n",
    "            res.append(c + cc)\n",
    "            print(c, cc)\n",
    "    return res"
   ]
  },
  {
   "cell_type": "code",
   "execution_count": 17,
   "metadata": {},
   "outputs": [
    {
     "name": "stdout",
     "output_type": "stream",
     "text": [
      "1 2\n",
      "2 1\n",
      "0 12\n",
      "0 21\n",
      "0 2\n",
      "2 0\n",
      "1 02\n",
      "1 20\n",
      "0 1\n",
      "1 0\n",
      "2 01\n",
      "2 10\n",
      "['012', '021', '102', '120', '201', '210']\n"
     ]
    }
   ],
   "source": [
    "if __name__ == \"__main__\":\n",
    "    val = \"012\"\n",
    "    print(perm(val))"
   ]
  },
  {
   "cell_type": "code",
   "execution_count": null,
   "metadata": {},
   "outputs": [],
   "source": []
  },
  {
   "cell_type": "code",
   "execution_count": 1,
   "metadata": {},
   "outputs": [
    {
     "name": "stdout",
     "output_type": "stream",
     "text": [
      "['012', '021', '102', '120', '201', '210']\n"
     ]
    }
   ],
   "source": [
    "import itertools\n",
    "\n",
    "def perm2(s):\n",
    "    res = itertools.permutations(s)\n",
    "    return [\"\".join(i) for i in res]\n",
    "\n",
    "if __name__ == \"__main__\":\n",
    "    val = \"012\"\n",
    "    print(perm2(val))"
   ]
  },
  {
   "cell_type": "code",
   "execution_count": null,
   "metadata": {},
   "outputs": [],
   "source": []
  },
  {
   "cell_type": "code",
   "execution_count": 5,
   "metadata": {},
   "outputs": [
    {
     "name": "stdout",
     "output_type": "stream",
     "text": [
      "True\n",
      "False\n",
      "True\n",
      "False\n"
     ]
    }
   ],
   "source": [
    "#2.6.5 회문(palindrome) 앞에서 일긍나 뒤에서 읽으나 동일한 단어 구\n",
    "\n",
    "#ex) 다시 합창합시다.\n",
    "\n",
    "def is_palindrome(s):\n",
    "    l = s.split(\" \")\n",
    "    s2 = \"\".join(l)\n",
    "    return s2 == s2[::-1]\n",
    "\n",
    "def is_palindrome3(s):\n",
    "    s = s.strip()\n",
    "    if len(s) < 2:\n",
    "        return True\n",
    "    if s[0] == s[-1]:\n",
    "        return is_palindrome(s[1:-1])\n",
    "    else:\n",
    "        return False\n",
    "    \n",
    "if __name__ == \"__main__\":\n",
    "    str1 = \"다시 합창합시다\"\n",
    "    str3 = \"hello\"\n",
    "    \n",
    "    print(is_palindrome(str1))\n",
    "    print(is_palindrome(str3))\n",
    "    print(is_palindrome3(str1))\n",
    "    print(is_palindrome3(str3))"
   ]
  },
  {
   "cell_type": "code",
   "execution_count": null,
   "metadata": {},
   "outputs": [],
   "source": []
  },
  {
   "cell_type": "code",
   "execution_count": null,
   "metadata": {},
   "outputs": [],
   "source": []
  }
 ],
 "metadata": {
  "kernelspec": {
   "display_name": "Python 3",
   "language": "python",
   "name": "python3"
  },
  "language_info": {
   "codemirror_mode": {
    "name": "ipython",
    "version": 3
   },
   "file_extension": ".py",
   "mimetype": "text/x-python",
   "name": "python",
   "nbconvert_exporter": "python",
   "pygments_lexer": "ipython3",
   "version": "3.7.6"
  }
 },
 "nbformat": 4,
 "nbformat_minor": 2
}
