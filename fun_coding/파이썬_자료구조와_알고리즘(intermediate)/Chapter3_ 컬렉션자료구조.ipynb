{
 "cells": [
  {
   "cell_type": "markdown",
   "metadata": {},
   "source": [
    "### 3.1 Set 은 반복가능, 가변적, 중복요소 x, 정렬되지 않은 컬렉션 데이터 타입. \n",
    "- 삽입 시간복잡도는 O(1),\n",
    "- 합집합(UNION)은 O(M+N)\n",
    "- Intersection은 O(N)"
   ]
  },
  {
   "cell_type": "markdown",
   "metadata": {},
   "source": [
    "### 3.1.1 Set method\n",
    "\n",
    "- update는 합집합\n",
    "- union 은 합집합. 그러나 연산 결과를 복사본으로 변환\n",
    "- intersction, &는 복사본 반환\n",
    "- difference, - 는 복사본 반환\n",
    "- clear 는 모든항목 제거.\n",
    "\n",
    "- discard, remove 같은 역할이나, remove는 항목이 없을경우엔 Error, Discard는 Error를 반환 x \n",
    "- pop은 무작위 제거, (really?) - Docstring : Remove and return an arbitrary set element."
   ]
  },
  {
   "cell_type": "markdown",
   "metadata": {},
   "source": [
    "### 3.2 딕셔너리\n",
    "\n",
    "- 파이썬 딕셔너리는 해시 테이블로 구현되어 있다. 해시 함수는 특정 객체에 해당하는 임의의 정수 값을 상수 시간 내에 계산한다. \n",
    "- `setdefault()` 메서드는 딕셔너리 A에 키가 존재할 경우, 키값에 append를 해주고, 없을경우 새로 키를만들고 value append\n",
    "- A.pop(key) 는 딕셔너리 A의 key 항목 제거후, 그 값을 반환\n",
    "- A.popitem() 은 딕셔너리 A에서 항목(key, value)제거 후, 그 키와 항목 반환\n",
    "- `in` test는 dict O(1)\n",
    "\n"
   ]
  },
  {
   "cell_type": "markdown",
   "metadata": {},
   "source": [
    "### 3.2.4 딕셔너리 분기\n",
    "```python\n",
    "def hello():\n",
    "    print(\"hello\")\n",
    "def world():\n",
    "    print(\"world\")\n",
    "    \n",
    "action = \"h\"\n",
    "\n",
    "if action == \"h\":\n",
    "    hello()\n",
    "elif action == \"w\":\n",
    "    world()\n",
    ">>> hello\n",
    "```\n",
    "```python\n",
    "functions = dict(h=hello, w=world)\n",
    "functions[action]()\n",
    ">>> hello\n",
    "```"
   ]
  },
  {
   "cell_type": "markdown",
   "metadata": {},
   "source": [
    "### 3.3 파이썬 컬렉션 데이터 타입\n",
    "\n",
    "- 3.3.1 기본 딕셔너리 collections.defaultdict: 모든 딕셔너리 연산자 및 누락된 키 처리도 가능\n",
    "```python\n",
    "from collections import defaultdict\n",
    "\n",
    "def defaultdict_example():\n",
    "    pairs = {(\"a\", 1), (\"b\",2), (\"c\", 3)}\n",
    "    \n",
    "    # 일반 딕셔너리\n",
    "    d1 = {}\n",
    "    for key, value in pairs:\n",
    "        if key not in d1:\n",
    "            d1[key] = []\n",
    "        d1[key].append(value)\n",
    "    print(d1)\n",
    "    \n",
    "    # defaultdict\n",
    "    d2 = defaultdict(list)\n",
    "    for key, value in pairs:\n",
    "        d2[key].append(value)\n",
    "    print(d2) \n",
    "```python\n",
    "if __name__ == \"__main__\":\n",
    "    defaultdict_example()\n",
    ">>> {'c': [3], 'b': [2], 'a': [1]}\n",
    ">>> defaultdict(<class 'list'>, {'c': [3], 'b': [2], 'a': [1]})\n",
    "```"
   ]
  },
  {
   "cell_type": "markdown",
   "metadata": {},
   "source": [
    "### 3.3.2 정렬된 딕셔너리\n",
    "\n",
    "- `collections.OrderDict` 는 모듈에서 제공하는 정렬된 딕셔너리 타입. 삽입 순서대로 항목 저장"
   ]
  },
  {
   "cell_type": "markdown",
   "metadata": {},
   "source": [
    "### 3.3.3 카운터 딕셔너리\n",
    "- 객체를 카운팅하는 특화된 서브 클래스다.\n",
    "- `+`, `-` 같은 연산 사용가능"
   ]
  },
  {
   "cell_type": "markdown",
   "metadata": {},
   "source": [
    "### 연습문제\n",
    "\n",
    "- collections.Counters의 most_common()메서드를 사용하면 문자열에서 가장 많이 나오는 단어와 그 횟수를 쉽게 찾기가 가능."
   ]
  },
  {
   "cell_type": "code",
   "execution_count": 2,
   "metadata": {},
   "outputs": [
    {
     "data": {
      "text/plain": [
       "Counter({'버피': 3, '에인절': 2, '몬스터': 2, '잰더': 1, '윌로': 1, '슈퍼': 1})"
      ]
     },
     "execution_count": 2,
     "metadata": {},
     "output_type": "execute_result"
    }
   ],
   "source": [
    "from collections import Counter\n",
    "seq = \"버피 에인절 몬스터 잰더 윌로 버피 몬스터 슈퍼 버피 에인절\"\n",
    "Counter(seq.split(\" \"))"
   ]
  },
  {
   "cell_type": "code",
   "execution_count": 15,
   "metadata": {},
   "outputs": [
    {
     "name": "stdout",
     "output_type": "stream",
     "text": [
      "defaultdict(<class 'int'>, {'버피': 3, '에인절': 2, '몬스터': 2, '잰더': 1, '윌로': 1, '슈퍼': 1})\n"
     ]
    }
   ],
   "source": [
    "from collections import defaultdict\n",
    "seq = \"버피 에인절 몬스터 잰더 윌로 버피 몬스터 슈퍼 버피 에인절\"\n",
    "words = seq.split()\n",
    "word_dict = defaultdict(int)\n",
    "for word in words:\n",
    "    word_dict[word] += 1\n",
    "print(word_dict)"
   ]
  },
  {
   "cell_type": "code",
   "execution_count": 18,
   "metadata": {},
   "outputs": [
    {
     "name": "stdout",
     "output_type": "stream",
     "text": [
      "1\n"
     ]
    }
   ],
   "source": [
    "s1 = \"marina\"\n",
    "s2 = \"aniram\"\n",
    "\n",
    "if Counter(s1)  == Counter(s2):\n",
    "    print(1)\n",
    "else:\n",
    "    print(0)"
   ]
  },
  {
   "cell_type": "code",
   "execution_count": null,
   "metadata": {},
   "outputs": [],
   "source": []
  },
  {
   "cell_type": "code",
   "execution_count": 18,
   "metadata": {},
   "outputs": [
    {
     "name": "stdout",
     "output_type": "stream",
     "text": [
      "테스트 통과!\n"
     ]
    }
   ],
   "source": [
    "from collections import Counter\n",
    "\n",
    "def find_top_N_recurring_words(seq, N):\n",
    "    dcounter = Counter()\n",
    "    for word in seq.split():\n",
    "        dcounter[word] += 1\n",
    "    return dcounter.most_common(N)\n",
    "\n",
    "def test_find_top_N_recurring_words():\n",
    "    seq = \"버피 에인절 몬스터 잰더 윌로 버피 몬스터 슈퍼 버피 에인절\"\n",
    "    N = 3\n",
    "    assert(find_top_N_recurring_words(seq, N) == [(\"버피\", 3), (\"에인절\", 2), (\"몬스터\",2)])\n",
    "    print(\"테스트 통과!\")\n",
    "    \n",
    "if __name__ == \"__main__\":\n",
    "    test_find_top_N_recurring_words()"
   ]
  },
  {
   "cell_type": "code",
   "execution_count": 24,
   "metadata": {},
   "outputs": [
    {
     "name": "stdout",
     "output_type": "stream",
     "text": [
      "0\n",
      "0\n",
      "0\n",
      "0\n",
      "0\n",
      "1\n",
      "1\n",
      "0\n",
      "2\n",
      "1\n",
      "[('버피', 3), ('에인절', 2), ('몬스터', 2)]\n"
     ]
    },
    {
     "data": {
      "text/plain": [
       "[('버피', 3), ('에인절', 2), ('몬스터', 2)]"
      ]
     },
     "execution_count": 24,
     "metadata": {},
     "output_type": "execute_result"
    }
   ],
   "source": [
    "def find_top_N_recurring_words(seq, N):\n",
    "    dcounter = Counter()\n",
    "    for word in seq.split():\n",
    "        print(dcounter[word])\n",
    "        dcounter[word] += 1\n",
    "    print(dcounter.most_common(3))\n",
    "    return dcounter.most_common(N)\n",
    "seq = \"버피 에인절 몬스터 잰더 윌로 버피 몬스터 슈퍼 버피 에인절\"\n",
    "N = 3\n",
    "\n",
    "find_top_N_recurring_words(seq, N)"
   ]
  },
  {
   "cell_type": "markdown",
   "metadata": {},
   "source": [
    "### 3.4.2 애너그램 \n",
    "- 문장 또는 단어의 철자 순서를 바꾸는 놀이"
   ]
  },
  {
   "cell_type": "code",
   "execution_count": 29,
   "metadata": {},
   "outputs": [],
   "source": [
    "from collections import Counter\n",
    "\n",
    "def is_anagram(s1, s2):\n",
    "    counter = Counter()\n",
    "    for c in s1:\n",
    "        counter[c] += 1\n",
    "    print(counter)\n",
    "    for c in s2:\n",
    "        counter[c] -= 1\n",
    "    \n",
    "    print(counter)\n",
    "    for i in counter.values():\n",
    "        if i:\n",
    "            return False\n",
    "    return True"
   ]
  },
  {
   "cell_type": "code",
   "execution_count": 30,
   "metadata": {},
   "outputs": [
    {
     "name": "stdout",
     "output_type": "stream",
     "text": [
      "Counter({'a': 2, 'm': 1, 'r': 1, 'i': 1, 'n': 1})\n",
      "Counter({'m': 0, 'a': 0, 'r': 0, 'i': 0, 'n': 0})\n"
     ]
    },
    {
     "data": {
      "text/plain": [
       "True"
      ]
     },
     "execution_count": 30,
     "metadata": {},
     "output_type": "execute_result"
    }
   ],
   "source": [
    "is_anagram(\"marina\", \"aniram\")"
   ]
  },
  {
   "cell_type": "code",
   "execution_count": 43,
   "metadata": {},
   "outputs": [
    {
     "data": {
      "text/plain": [
       "0"
      ]
     },
     "execution_count": 43,
     "metadata": {},
     "output_type": "execute_result"
    }
   ],
   "source": [
    "len((Counter(\"marina\") - Counter(\"aniram\")))"
   ]
  },
  {
   "cell_type": "code",
   "execution_count": 44,
   "metadata": {},
   "outputs": [
    {
     "name": "stdout",
     "output_type": "stream",
     "text": [
      "98\n",
      "215\n",
      "317\n",
      "419\n",
      "540\n"
     ]
    }
   ],
   "source": [
    "### 해쉬함수 특성 이용하기\n",
    "import string\n",
    "astring = \"buffy\"\n",
    "s = 0\n",
    "for one in astring:\n",
    "    if one in string.whitespace:\n",
    "        continue\n",
    "    s += ord(one)\n",
    "    print(s)"
   ]
  },
  {
   "cell_type": "code",
   "execution_count": 46,
   "metadata": {},
   "outputs": [
    {
     "data": {
      "text/plain": [
       "98"
      ]
     },
     "execution_count": 46,
     "metadata": {},
     "output_type": "execute_result"
    }
   ],
   "source": [
    "ord(\"b\")"
   ]
  },
  {
   "cell_type": "code",
   "execution_count": null,
   "metadata": {},
   "outputs": [],
   "source": []
  },
  {
   "cell_type": "code",
   "execution_count": 19,
   "metadata": {},
   "outputs": [
    {
     "name": "stdout",
     "output_type": "stream",
     "text": [
      "[1, 2, 3]\n"
     ]
    }
   ],
   "source": [
    "a = [1,2,3,4,5,6]\n",
    "S = 4\n",
    "\n",
    "c = []\n",
    "for i in a:\n",
    "    if i <= 3:\n",
    "        c.append((i))\n",
    "\n",
    "print(c)\n",
    "\n",
    "\n"
   ]
  },
  {
   "cell_type": "code",
   "execution_count": 62,
   "metadata": {},
   "outputs": [],
   "source": [
    "### 3.4.3 주사위 합계 경로\n",
    "\n",
    "from collections import Counter, defaultdict\n",
    "\n",
    "def find_dice_probabilities(S, n_face=6):\n",
    "    if S > 2 * n_face or S < 2:\n",
    "        return None\n",
    "    \n",
    "    cdict = Counter()\n",
    "    ddict = defaultdict(list)\n",
    "    \n",
    "    # 두 주사위의 합을 모두 더해 딕셔너리안에 넣는다\n",
    "    \n",
    "    for dice1 in range(1, n_face+1):\n",
    "        for dice2 in range(1, n_face+1):\n",
    "            t = [dice1, dice2]\n",
    "            cdict[dice1+dice2] += 1\n",
    "            ddict[dice1+dice2].append(t)\n",
    "            print(\"t:\",t, \"cdict: \",cdict,\"ddict: \",ddict)\n",
    "    return [cdict[S], ddict[S]]"
   ]
  },
  {
   "cell_type": "code",
   "execution_count": 63,
   "metadata": {},
   "outputs": [
    {
     "name": "stdout",
     "output_type": "stream",
     "text": [
      "t: [1, 1] cdict:  Counter({2: 1}) ddict:  defaultdict(<class 'list'>, {2: [[1, 1]]})\n",
      "t: [1, 2] cdict:  Counter({2: 1, 3: 1}) ddict:  defaultdict(<class 'list'>, {2: [[1, 1]], 3: [[1, 2]]})\n",
      "t: [1, 3] cdict:  Counter({2: 1, 3: 1, 4: 1}) ddict:  defaultdict(<class 'list'>, {2: [[1, 1]], 3: [[1, 2]], 4: [[1, 3]]})\n",
      "t: [1, 4] cdict:  Counter({2: 1, 3: 1, 4: 1, 5: 1}) ddict:  defaultdict(<class 'list'>, {2: [[1, 1]], 3: [[1, 2]], 4: [[1, 3]], 5: [[1, 4]]})\n",
      "t: [1, 5] cdict:  Counter({2: 1, 3: 1, 4: 1, 5: 1, 6: 1}) ddict:  defaultdict(<class 'list'>, {2: [[1, 1]], 3: [[1, 2]], 4: [[1, 3]], 5: [[1, 4]], 6: [[1, 5]]})\n",
      "t: [1, 6] cdict:  Counter({2: 1, 3: 1, 4: 1, 5: 1, 6: 1, 7: 1}) ddict:  defaultdict(<class 'list'>, {2: [[1, 1]], 3: [[1, 2]], 4: [[1, 3]], 5: [[1, 4]], 6: [[1, 5]], 7: [[1, 6]]})\n",
      "t: [2, 1] cdict:  Counter({3: 2, 2: 1, 4: 1, 5: 1, 6: 1, 7: 1}) ddict:  defaultdict(<class 'list'>, {2: [[1, 1]], 3: [[1, 2], [2, 1]], 4: [[1, 3]], 5: [[1, 4]], 6: [[1, 5]], 7: [[1, 6]]})\n",
      "t: [2, 2] cdict:  Counter({3: 2, 4: 2, 2: 1, 5: 1, 6: 1, 7: 1}) ddict:  defaultdict(<class 'list'>, {2: [[1, 1]], 3: [[1, 2], [2, 1]], 4: [[1, 3], [2, 2]], 5: [[1, 4]], 6: [[1, 5]], 7: [[1, 6]]})\n",
      "t: [2, 3] cdict:  Counter({3: 2, 4: 2, 5: 2, 2: 1, 6: 1, 7: 1}) ddict:  defaultdict(<class 'list'>, {2: [[1, 1]], 3: [[1, 2], [2, 1]], 4: [[1, 3], [2, 2]], 5: [[1, 4], [2, 3]], 6: [[1, 5]], 7: [[1, 6]]})\n",
      "t: [2, 4] cdict:  Counter({3: 2, 4: 2, 5: 2, 6: 2, 2: 1, 7: 1}) ddict:  defaultdict(<class 'list'>, {2: [[1, 1]], 3: [[1, 2], [2, 1]], 4: [[1, 3], [2, 2]], 5: [[1, 4], [2, 3]], 6: [[1, 5], [2, 4]], 7: [[1, 6]]})\n",
      "t: [2, 5] cdict:  Counter({3: 2, 4: 2, 5: 2, 6: 2, 7: 2, 2: 1}) ddict:  defaultdict(<class 'list'>, {2: [[1, 1]], 3: [[1, 2], [2, 1]], 4: [[1, 3], [2, 2]], 5: [[1, 4], [2, 3]], 6: [[1, 5], [2, 4]], 7: [[1, 6], [2, 5]]})\n",
      "t: [2, 6] cdict:  Counter({3: 2, 4: 2, 5: 2, 6: 2, 7: 2, 2: 1, 8: 1}) ddict:  defaultdict(<class 'list'>, {2: [[1, 1]], 3: [[1, 2], [2, 1]], 4: [[1, 3], [2, 2]], 5: [[1, 4], [2, 3]], 6: [[1, 5], [2, 4]], 7: [[1, 6], [2, 5]], 8: [[2, 6]]})\n",
      "t: [3, 1] cdict:  Counter({4: 3, 3: 2, 5: 2, 6: 2, 7: 2, 2: 1, 8: 1}) ddict:  defaultdict(<class 'list'>, {2: [[1, 1]], 3: [[1, 2], [2, 1]], 4: [[1, 3], [2, 2], [3, 1]], 5: [[1, 4], [2, 3]], 6: [[1, 5], [2, 4]], 7: [[1, 6], [2, 5]], 8: [[2, 6]]})\n",
      "t: [3, 2] cdict:  Counter({4: 3, 5: 3, 3: 2, 6: 2, 7: 2, 2: 1, 8: 1}) ddict:  defaultdict(<class 'list'>, {2: [[1, 1]], 3: [[1, 2], [2, 1]], 4: [[1, 3], [2, 2], [3, 1]], 5: [[1, 4], [2, 3], [3, 2]], 6: [[1, 5], [2, 4]], 7: [[1, 6], [2, 5]], 8: [[2, 6]]})\n",
      "t: [3, 3] cdict:  Counter({4: 3, 5: 3, 6: 3, 3: 2, 7: 2, 2: 1, 8: 1}) ddict:  defaultdict(<class 'list'>, {2: [[1, 1]], 3: [[1, 2], [2, 1]], 4: [[1, 3], [2, 2], [3, 1]], 5: [[1, 4], [2, 3], [3, 2]], 6: [[1, 5], [2, 4], [3, 3]], 7: [[1, 6], [2, 5]], 8: [[2, 6]]})\n",
      "t: [3, 4] cdict:  Counter({4: 3, 5: 3, 6: 3, 7: 3, 3: 2, 2: 1, 8: 1}) ddict:  defaultdict(<class 'list'>, {2: [[1, 1]], 3: [[1, 2], [2, 1]], 4: [[1, 3], [2, 2], [3, 1]], 5: [[1, 4], [2, 3], [3, 2]], 6: [[1, 5], [2, 4], [3, 3]], 7: [[1, 6], [2, 5], [3, 4]], 8: [[2, 6]]})\n",
      "t: [3, 5] cdict:  Counter({4: 3, 5: 3, 6: 3, 7: 3, 3: 2, 8: 2, 2: 1}) ddict:  defaultdict(<class 'list'>, {2: [[1, 1]], 3: [[1, 2], [2, 1]], 4: [[1, 3], [2, 2], [3, 1]], 5: [[1, 4], [2, 3], [3, 2]], 6: [[1, 5], [2, 4], [3, 3]], 7: [[1, 6], [2, 5], [3, 4]], 8: [[2, 6], [3, 5]]})\n",
      "t: [3, 6] cdict:  Counter({4: 3, 5: 3, 6: 3, 7: 3, 3: 2, 8: 2, 2: 1, 9: 1}) ddict:  defaultdict(<class 'list'>, {2: [[1, 1]], 3: [[1, 2], [2, 1]], 4: [[1, 3], [2, 2], [3, 1]], 5: [[1, 4], [2, 3], [3, 2]], 6: [[1, 5], [2, 4], [3, 3]], 7: [[1, 6], [2, 5], [3, 4]], 8: [[2, 6], [3, 5]], 9: [[3, 6]]})\n",
      "t: [4, 1] cdict:  Counter({5: 4, 4: 3, 6: 3, 7: 3, 3: 2, 8: 2, 2: 1, 9: 1}) ddict:  defaultdict(<class 'list'>, {2: [[1, 1]], 3: [[1, 2], [2, 1]], 4: [[1, 3], [2, 2], [3, 1]], 5: [[1, 4], [2, 3], [3, 2], [4, 1]], 6: [[1, 5], [2, 4], [3, 3]], 7: [[1, 6], [2, 5], [3, 4]], 8: [[2, 6], [3, 5]], 9: [[3, 6]]})\n",
      "t: [4, 2] cdict:  Counter({5: 4, 6: 4, 4: 3, 7: 3, 3: 2, 8: 2, 2: 1, 9: 1}) ddict:  defaultdict(<class 'list'>, {2: [[1, 1]], 3: [[1, 2], [2, 1]], 4: [[1, 3], [2, 2], [3, 1]], 5: [[1, 4], [2, 3], [3, 2], [4, 1]], 6: [[1, 5], [2, 4], [3, 3], [4, 2]], 7: [[1, 6], [2, 5], [3, 4]], 8: [[2, 6], [3, 5]], 9: [[3, 6]]})\n",
      "t: [4, 3] cdict:  Counter({5: 4, 6: 4, 7: 4, 4: 3, 3: 2, 8: 2, 2: 1, 9: 1}) ddict:  defaultdict(<class 'list'>, {2: [[1, 1]], 3: [[1, 2], [2, 1]], 4: [[1, 3], [2, 2], [3, 1]], 5: [[1, 4], [2, 3], [3, 2], [4, 1]], 6: [[1, 5], [2, 4], [3, 3], [4, 2]], 7: [[1, 6], [2, 5], [3, 4], [4, 3]], 8: [[2, 6], [3, 5]], 9: [[3, 6]]})\n",
      "t: [4, 4] cdict:  Counter({5: 4, 6: 4, 7: 4, 4: 3, 8: 3, 3: 2, 2: 1, 9: 1}) ddict:  defaultdict(<class 'list'>, {2: [[1, 1]], 3: [[1, 2], [2, 1]], 4: [[1, 3], [2, 2], [3, 1]], 5: [[1, 4], [2, 3], [3, 2], [4, 1]], 6: [[1, 5], [2, 4], [3, 3], [4, 2]], 7: [[1, 6], [2, 5], [3, 4], [4, 3]], 8: [[2, 6], [3, 5], [4, 4]], 9: [[3, 6]]})\n",
      "t: [4, 5] cdict:  Counter({5: 4, 6: 4, 7: 4, 4: 3, 8: 3, 3: 2, 9: 2, 2: 1}) ddict:  defaultdict(<class 'list'>, {2: [[1, 1]], 3: [[1, 2], [2, 1]], 4: [[1, 3], [2, 2], [3, 1]], 5: [[1, 4], [2, 3], [3, 2], [4, 1]], 6: [[1, 5], [2, 4], [3, 3], [4, 2]], 7: [[1, 6], [2, 5], [3, 4], [4, 3]], 8: [[2, 6], [3, 5], [4, 4]], 9: [[3, 6], [4, 5]]})\n",
      "t: [4, 6] cdict:  Counter({5: 4, 6: 4, 7: 4, 4: 3, 8: 3, 3: 2, 9: 2, 2: 1, 10: 1}) ddict:  defaultdict(<class 'list'>, {2: [[1, 1]], 3: [[1, 2], [2, 1]], 4: [[1, 3], [2, 2], [3, 1]], 5: [[1, 4], [2, 3], [3, 2], [4, 1]], 6: [[1, 5], [2, 4], [3, 3], [4, 2]], 7: [[1, 6], [2, 5], [3, 4], [4, 3]], 8: [[2, 6], [3, 5], [4, 4]], 9: [[3, 6], [4, 5]], 10: [[4, 6]]})\n",
      "t: [5, 1] cdict:  Counter({6: 5, 5: 4, 7: 4, 4: 3, 8: 3, 3: 2, 9: 2, 2: 1, 10: 1}) ddict:  defaultdict(<class 'list'>, {2: [[1, 1]], 3: [[1, 2], [2, 1]], 4: [[1, 3], [2, 2], [3, 1]], 5: [[1, 4], [2, 3], [3, 2], [4, 1]], 6: [[1, 5], [2, 4], [3, 3], [4, 2], [5, 1]], 7: [[1, 6], [2, 5], [3, 4], [4, 3]], 8: [[2, 6], [3, 5], [4, 4]], 9: [[3, 6], [4, 5]], 10: [[4, 6]]})\n",
      "t: [5, 2] cdict:  Counter({6: 5, 7: 5, 5: 4, 4: 3, 8: 3, 3: 2, 9: 2, 2: 1, 10: 1}) ddict:  defaultdict(<class 'list'>, {2: [[1, 1]], 3: [[1, 2], [2, 1]], 4: [[1, 3], [2, 2], [3, 1]], 5: [[1, 4], [2, 3], [3, 2], [4, 1]], 6: [[1, 5], [2, 4], [3, 3], [4, 2], [5, 1]], 7: [[1, 6], [2, 5], [3, 4], [4, 3], [5, 2]], 8: [[2, 6], [3, 5], [4, 4]], 9: [[3, 6], [4, 5]], 10: [[4, 6]]})\n",
      "t: [5, 3] cdict:  Counter({6: 5, 7: 5, 5: 4, 8: 4, 4: 3, 3: 2, 9: 2, 2: 1, 10: 1}) ddict:  defaultdict(<class 'list'>, {2: [[1, 1]], 3: [[1, 2], [2, 1]], 4: [[1, 3], [2, 2], [3, 1]], 5: [[1, 4], [2, 3], [3, 2], [4, 1]], 6: [[1, 5], [2, 4], [3, 3], [4, 2], [5, 1]], 7: [[1, 6], [2, 5], [3, 4], [4, 3], [5, 2]], 8: [[2, 6], [3, 5], [4, 4], [5, 3]], 9: [[3, 6], [4, 5]], 10: [[4, 6]]})\n",
      "t: [5, 4] cdict:  Counter({6: 5, 7: 5, 5: 4, 8: 4, 4: 3, 9: 3, 3: 2, 2: 1, 10: 1}) ddict:  defaultdict(<class 'list'>, {2: [[1, 1]], 3: [[1, 2], [2, 1]], 4: [[1, 3], [2, 2], [3, 1]], 5: [[1, 4], [2, 3], [3, 2], [4, 1]], 6: [[1, 5], [2, 4], [3, 3], [4, 2], [5, 1]], 7: [[1, 6], [2, 5], [3, 4], [4, 3], [5, 2]], 8: [[2, 6], [3, 5], [4, 4], [5, 3]], 9: [[3, 6], [4, 5], [5, 4]], 10: [[4, 6]]})\n",
      "t: [5, 5] cdict:  Counter({6: 5, 7: 5, 5: 4, 8: 4, 4: 3, 9: 3, 3: 2, 10: 2, 2: 1}) ddict:  defaultdict(<class 'list'>, {2: [[1, 1]], 3: [[1, 2], [2, 1]], 4: [[1, 3], [2, 2], [3, 1]], 5: [[1, 4], [2, 3], [3, 2], [4, 1]], 6: [[1, 5], [2, 4], [3, 3], [4, 2], [5, 1]], 7: [[1, 6], [2, 5], [3, 4], [4, 3], [5, 2]], 8: [[2, 6], [3, 5], [4, 4], [5, 3]], 9: [[3, 6], [4, 5], [5, 4]], 10: [[4, 6], [5, 5]]})\n",
      "t: [5, 6] cdict:  Counter({6: 5, 7: 5, 5: 4, 8: 4, 4: 3, 9: 3, 3: 2, 10: 2, 2: 1, 11: 1}) ddict:  defaultdict(<class 'list'>, {2: [[1, 1]], 3: [[1, 2], [2, 1]], 4: [[1, 3], [2, 2], [3, 1]], 5: [[1, 4], [2, 3], [3, 2], [4, 1]], 6: [[1, 5], [2, 4], [3, 3], [4, 2], [5, 1]], 7: [[1, 6], [2, 5], [3, 4], [4, 3], [5, 2]], 8: [[2, 6], [3, 5], [4, 4], [5, 3]], 9: [[3, 6], [4, 5], [5, 4]], 10: [[4, 6], [5, 5]], 11: [[5, 6]]})\n",
      "t: [6, 1] cdict:  Counter({7: 6, 6: 5, 5: 4, 8: 4, 4: 3, 9: 3, 3: 2, 10: 2, 2: 1, 11: 1}) ddict:  defaultdict(<class 'list'>, {2: [[1, 1]], 3: [[1, 2], [2, 1]], 4: [[1, 3], [2, 2], [3, 1]], 5: [[1, 4], [2, 3], [3, 2], [4, 1]], 6: [[1, 5], [2, 4], [3, 3], [4, 2], [5, 1]], 7: [[1, 6], [2, 5], [3, 4], [4, 3], [5, 2], [6, 1]], 8: [[2, 6], [3, 5], [4, 4], [5, 3]], 9: [[3, 6], [4, 5], [5, 4]], 10: [[4, 6], [5, 5]], 11: [[5, 6]]})\n",
      "t: [6, 2] cdict:  Counter({7: 6, 6: 5, 8: 5, 5: 4, 4: 3, 9: 3, 3: 2, 10: 2, 2: 1, 11: 1}) ddict:  defaultdict(<class 'list'>, {2: [[1, 1]], 3: [[1, 2], [2, 1]], 4: [[1, 3], [2, 2], [3, 1]], 5: [[1, 4], [2, 3], [3, 2], [4, 1]], 6: [[1, 5], [2, 4], [3, 3], [4, 2], [5, 1]], 7: [[1, 6], [2, 5], [3, 4], [4, 3], [5, 2], [6, 1]], 8: [[2, 6], [3, 5], [4, 4], [5, 3], [6, 2]], 9: [[3, 6], [4, 5], [5, 4]], 10: [[4, 6], [5, 5]], 11: [[5, 6]]})\n",
      "t: [6, 3] cdict:  Counter({7: 6, 6: 5, 8: 5, 5: 4, 9: 4, 4: 3, 3: 2, 10: 2, 2: 1, 11: 1}) ddict:  defaultdict(<class 'list'>, {2: [[1, 1]], 3: [[1, 2], [2, 1]], 4: [[1, 3], [2, 2], [3, 1]], 5: [[1, 4], [2, 3], [3, 2], [4, 1]], 6: [[1, 5], [2, 4], [3, 3], [4, 2], [5, 1]], 7: [[1, 6], [2, 5], [3, 4], [4, 3], [5, 2], [6, 1]], 8: [[2, 6], [3, 5], [4, 4], [5, 3], [6, 2]], 9: [[3, 6], [4, 5], [5, 4], [6, 3]], 10: [[4, 6], [5, 5]], 11: [[5, 6]]})\n",
      "t: [6, 4] cdict:  Counter({7: 6, 6: 5, 8: 5, 5: 4, 9: 4, 4: 3, 10: 3, 3: 2, 2: 1, 11: 1}) ddict:  defaultdict(<class 'list'>, {2: [[1, 1]], 3: [[1, 2], [2, 1]], 4: [[1, 3], [2, 2], [3, 1]], 5: [[1, 4], [2, 3], [3, 2], [4, 1]], 6: [[1, 5], [2, 4], [3, 3], [4, 2], [5, 1]], 7: [[1, 6], [2, 5], [3, 4], [4, 3], [5, 2], [6, 1]], 8: [[2, 6], [3, 5], [4, 4], [5, 3], [6, 2]], 9: [[3, 6], [4, 5], [5, 4], [6, 3]], 10: [[4, 6], [5, 5], [6, 4]], 11: [[5, 6]]})\n",
      "t: [6, 5] cdict:  Counter({7: 6, 6: 5, 8: 5, 5: 4, 9: 4, 4: 3, 10: 3, 3: 2, 11: 2, 2: 1}) ddict:  defaultdict(<class 'list'>, {2: [[1, 1]], 3: [[1, 2], [2, 1]], 4: [[1, 3], [2, 2], [3, 1]], 5: [[1, 4], [2, 3], [3, 2], [4, 1]], 6: [[1, 5], [2, 4], [3, 3], [4, 2], [5, 1]], 7: [[1, 6], [2, 5], [3, 4], [4, 3], [5, 2], [6, 1]], 8: [[2, 6], [3, 5], [4, 4], [5, 3], [6, 2]], 9: [[3, 6], [4, 5], [5, 4], [6, 3]], 10: [[4, 6], [5, 5], [6, 4]], 11: [[5, 6], [6, 5]]})\n",
      "t: [6, 6] cdict:  Counter({7: 6, 6: 5, 8: 5, 5: 4, 9: 4, 4: 3, 10: 3, 3: 2, 11: 2, 2: 1, 12: 1}) ddict:  defaultdict(<class 'list'>, {2: [[1, 1]], 3: [[1, 2], [2, 1]], 4: [[1, 3], [2, 2], [3, 1]], 5: [[1, 4], [2, 3], [3, 2], [4, 1]], 6: [[1, 5], [2, 4], [3, 3], [4, 2], [5, 1]], 7: [[1, 6], [2, 5], [3, 4], [4, 3], [5, 2], [6, 1]], 8: [[2, 6], [3, 5], [4, 4], [5, 3], [6, 2]], 9: [[3, 6], [4, 5], [5, 4], [6, 3]], 10: [[4, 6], [5, 5], [6, 4]], 11: [[5, 6], [6, 5]], 12: [[6, 6]]})\n"
     ]
    },
    {
     "data": {
      "text/plain": [
       "[4, [[1, 4], [2, 3], [3, 2], [4, 1]]]"
      ]
     },
     "execution_count": 63,
     "metadata": {},
     "output_type": "execute_result"
    }
   ],
   "source": [
    "find_dice_probabilities(5,)"
   ]
  },
  {
   "cell_type": "code",
   "execution_count": null,
   "metadata": {},
   "outputs": [],
   "source": []
  },
  {
   "cell_type": "markdown",
   "metadata": {},
   "source": [
    "### 3.4.4 단어의 중복 문자 제거"
   ]
  },
  {
   "cell_type": "code",
   "execution_count": 66,
   "metadata": {},
   "outputs": [],
   "source": [
    "import string\n",
    "\n",
    "def delete_unique_word(str1):\n",
    "    table_c = {key: 0 for key in string.ascii_lowercase}\n",
    "    print(table_c)\n",
    "    for i in str1:\n",
    "        table_c[i] += 1\n",
    "    for key, value in table_c.items():\n",
    "        if value > 1:\n",
    "            str1 = str1.replace(key, \"\")\n",
    "    return str1"
   ]
  },
  {
   "cell_type": "code",
   "execution_count": 67,
   "metadata": {},
   "outputs": [
    {
     "name": "stdout",
     "output_type": "stream",
     "text": [
      "{'a': 0, 'b': 0, 'c': 0, 'd': 0, 'e': 0, 'f': 0, 'g': 0, 'h': 0, 'i': 0, 'j': 0, 'k': 0, 'l': 0, 'm': 0, 'n': 0, 'o': 0, 'p': 0, 'q': 0, 'r': 0, 's': 0, 't': 0, 'u': 0, 'v': 0, 'w': 0, 'x': 0, 'y': 0, 'z': 0}\n"
     ]
    },
    {
     "data": {
      "text/plain": [
       "'le'"
      ]
     },
     "execution_count": 67,
     "metadata": {},
     "output_type": "execute_result"
    }
   ],
   "source": [
    "delete_unique_word(\"google\")"
   ]
  },
  {
   "cell_type": "code",
   "execution_count": null,
   "metadata": {},
   "outputs": [],
   "source": []
  }
 ],
 "metadata": {
  "kernelspec": {
   "display_name": "Python 3",
   "language": "python",
   "name": "python3"
  },
  "language_info": {
   "codemirror_mode": {
    "name": "ipython",
    "version": 3
   },
   "file_extension": ".py",
   "mimetype": "text/x-python",
   "name": "python",
   "nbconvert_exporter": "python",
   "pygments_lexer": "ipython3",
   "version": "3.7.6"
  }
 },
 "nbformat": 4,
 "nbformat_minor": 2
}
