{
 "cells": [
  {
   "cell_type": "code",
   "execution_count": 33,
   "metadata": {},
   "outputs": [],
   "source": [
    "def linear_search(data, target):\n",
    "    \n",
    "    for i in range(len(data)):\n",
    "        if data[i] == target:\n",
    "            print(\"index is {}, data is {}\".format(i, data[i]))\n",
    "            return i\n",
    "        \n",
    "    return None"
   ]
  },
  {
   "cell_type": "code",
   "execution_count": 34,
   "metadata": {},
   "outputs": [
    {
     "name": "stdout",
     "output_type": "stream",
     "text": [
      "index is 2, data is 9\n"
     ]
    }
   ],
   "source": [
    "if __name__ == \"__main__\":\n",
    "    data = [i **2 for i in range(1, 11)]\n",
    "    target = 9\n",
    "    linear_search(data, target)"
   ]
  },
  {
   "cell_type": "code",
   "execution_count": null,
   "metadata": {},
   "outputs": [],
   "source": []
  },
  {
   "cell_type": "code",
   "execution_count": 38,
   "metadata": {},
   "outputs": [],
   "source": [
    "def binary_search(data, target):\n",
    "    data.sort()\n",
    "    start = 0\n",
    "    end = len(data) - 1\n",
    "    \n",
    "    while start <= end:\n",
    "        mid = (start+end) // 2\n",
    "\n",
    "        if data[mid] == target:\n",
    "            print(\"index is {}, data is {}\".format(mid, data[mid]))\n",
    "            return mid\n",
    "        \n",
    "        elif target < data[mid]:\n",
    "            end = mid -1\n",
    "            \n",
    "        else:\n",
    "            start = mid +1\n",
    "            \n",
    "    return None"
   ]
  },
  {
   "cell_type": "code",
   "execution_count": 39,
   "metadata": {},
   "outputs": [
    {
     "name": "stdout",
     "output_type": "stream",
     "text": [
      "index is 2, data is 9\n"
     ]
    }
   ],
   "source": [
    "if __name__ == \"__main__\":\n",
    "    data = [i **2 for i in range(1, 11)]\n",
    "    target = 9\n",
    "    binary_search(data, target)"
   ]
  },
  {
   "cell_type": "code",
   "execution_count": null,
   "metadata": {},
   "outputs": [],
   "source": []
  },
  {
   "cell_type": "code",
   "execution_count": 51,
   "metadata": {},
   "outputs": [],
   "source": [
    "def bubble_sort(data):\n",
    "    \n",
    "    for i in range(len(data)-1):\n",
    "        for j in range(len(data) -1 -i):\n",
    "            if data[j] > data[j+1]:\n",
    "                data[j+1], data[j] = data[j], data[j+1]\n",
    "                \n",
    "    print(data)\n",
    "    return data"
   ]
  },
  {
   "cell_type": "code",
   "execution_count": 52,
   "metadata": {},
   "outputs": [
    {
     "name": "stdout",
     "output_type": "stream",
     "text": [
      "[1, 2, 2, 3, 3, 4, 5, 6, 7, 8, 8, 10]\n"
     ]
    }
   ],
   "source": [
    "if __name__ == \"__main__\":\n",
    "    li = [2, 3, 5, 2, 3, 8, 6, 7, 10, 8, 1, 4]\n",
    "    bubble_sort(li)"
   ]
  },
  {
   "cell_type": "code",
   "execution_count": 54,
   "metadata": {},
   "outputs": [],
   "source": [
    "data = [2, 5, 4, 1, 8, 10, 5, 3, 6, 6, 5, 7, 9, 12, 11]"
   ]
  },
  {
   "cell_type": "code",
   "execution_count": 55,
   "metadata": {},
   "outputs": [
    {
     "data": {
      "text/plain": [
       "15"
      ]
     },
     "execution_count": 55,
     "metadata": {},
     "output_type": "execute_result"
    }
   ],
   "source": [
    "len(data)"
   ]
  },
  {
   "cell_type": "code",
   "execution_count": 57,
   "metadata": {},
   "outputs": [
    {
     "data": {
      "text/plain": [
       "5"
      ]
     },
     "execution_count": 57,
     "metadata": {},
     "output_type": "execute_result"
    }
   ],
   "source": [
    "0 + 10 // 2"
   ]
  },
  {
   "cell_type": "code",
   "execution_count": 58,
   "metadata": {},
   "outputs": [
    {
     "data": {
      "text/plain": [
       "0"
      ]
     },
     "execution_count": 58,
     "metadata": {},
     "output_type": "execute_result"
    }
   ],
   "source": [
    "1//2"
   ]
  },
  {
   "cell_type": "code",
   "execution_count": 59,
   "metadata": {},
   "outputs": [],
   "source": [
    "def quick_sort(data, start, end):\n",
    "    \n",
    "    if start >= end:\n",
    "        return\n",
    "    \n",
    "    left = start\n",
    "    right = end\n",
    "    pivot = data[(start + end) // 2]\n",
    "    \n",
    "    while left <= right:\n",
    "        while data[left] < pivot:\n",
    "            left += 1\n",
    "            \n",
    "        while data[right] > pivot:\n",
    "            right -= 1\n",
    "            \n",
    "        if left <= right:\n",
    "            data[left], data[right] = data[right], data[left]\n",
    "            left += 1\n",
    "            right -=1\n",
    "            \n",
    "    quick_sort(data, start, right)\n",
    "    quick_sort(data, left, end)"
   ]
  },
  {
   "cell_type": "code",
   "execution_count": 63,
   "metadata": {},
   "outputs": [
    {
     "name": "stdout",
     "output_type": "stream",
     "text": [
      "[1, 2, 3, 4, 5, 5, 5, 6, 6, 7, 8, 9, 10, 11, 12]\n"
     ]
    }
   ],
   "source": [
    "if __name__ == \"__main__\":\n",
    "    data = [2, 5, 4, 1, 8, 10, 5, 3, 6, 6, 5, 7, 9, 12, 11]\n",
    "    quick_sort(data, 0, len(data) -1)\n",
    "    print(data)"
   ]
  },
  {
   "cell_type": "code",
   "execution_count": null,
   "metadata": {},
   "outputs": [],
   "source": []
  }
 ],
 "metadata": {
  "kernelspec": {
   "display_name": "Python 3",
   "language": "python",
   "name": "python3"
  },
  "language_info": {
   "codemirror_mode": {
    "name": "ipython",
    "version": 3
   },
   "file_extension": ".py",
   "mimetype": "text/x-python",
   "name": "python",
   "nbconvert_exporter": "python",
   "pygments_lexer": "ipython3",
   "version": "3.7.4"
  }
 },
 "nbformat": 4,
 "nbformat_minor": 2
}
