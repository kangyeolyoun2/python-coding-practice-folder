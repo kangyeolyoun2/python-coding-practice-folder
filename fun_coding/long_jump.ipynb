{
 "cells": [
  {
   "cell_type": "code",
   "execution_count": null,
   "metadata": {},
   "outputs": [],
   "source": [
    "###문제 설명\n",
    "효진이는 멀리 뛰기를 연습하고 있습니다. 효진이는 한번에 1칸, 또는 2칸을 뛸 수 있습니다. 칸이 총 4개 있을 때, 효진이는\n",
    "(1칸, 1칸, 1칸, 1칸)\n",
    "(1칸, 2칸, 1칸)\n",
    "(1칸, 1칸, 2칸)\n",
    "(2칸, 1칸, 1칸)\n",
    "(2칸, 2칸)\n",
    "의 5가지 방법으로 맨 끝 칸에 도달할 수 있습니다. 멀리뛰기에 사용될 칸의 수 n이 주어질 때, 효진이가 끝에 도달하는 방법이 몇 가지인지 알아내, 여기에 1234567를 나눈 나머지를 리턴하는 함수, solution을 완성하세요. 예를 들어 4가 입력된다면, 5를 return하면 됩니다.\n",
    "\n",
    "\n",
    "제한 사항\n",
    "n은 1 이상, 2000 이하인 정수입니다.\n",
    "\n",
    "\n",
    "입출력 예\n",
    "n\tresult\n",
    "4\t5\n",
    "3\t3\n"
   ]
  },
  {
   "cell_type": "code",
   "execution_count": 7,
   "metadata": {},
   "outputs": [
    {
     "name": "stdout",
     "output_type": "stream",
     "text": [
      "5\n"
     ]
    }
   ],
   "source": [
    "def jumpCase(num):\n",
    "    if num == 1:\n",
    "        return 1\n",
    "    elif num == 2:\n",
    "        return 2\n",
    "    answer = jumpCase(num - 1) + jumpCase(num - 2)\n",
    "\n",
    "    return answer\n",
    "\n",
    "print(jumpCase(4))"
   ]
  },
  {
   "cell_type": "markdown",
   "metadata": {},
   "source": [
    "| 칸의 개수 | 경우의 수| 경우 |\n",
    "|---------|-------|-----|\n",
    "|   1     |   1   |  (1) |\n",
    "|   2     |   2   |  (1,1), (2) |\n",
    "|   3     |   3   |  (1,1,1), (2,1), (1,2) |\n",
    "|   4     |   5   |  (1,1,1,1), (2,1,1), (1,2,1), (1,1,2), (2,2) |\n",
    "|   5     |   8   |  (1,1,1,1,1), (2,1,1,1), (1,1,2,1), (1,1,1,2), (2,2,1), (2,1,2), (1,2,2) |\n",
    "\n",
    "칸이 3개일 때는 칸이 1개인 경우와 칸이 2개인 경우를 합치면된다!!!\n",
    "즉 n-1 + n-2\n"
   ]
  },
  {
   "cell_type": "code",
   "execution_count": null,
   "metadata": {},
   "outputs": [],
   "source": []
  }
 ],
 "metadata": {
  "kernelspec": {
   "display_name": "Python 3",
   "language": "python",
   "name": "python3"
  },
  "language_info": {
   "codemirror_mode": {
    "name": "ipython",
    "version": 3
   },
   "file_extension": ".py",
   "mimetype": "text/x-python",
   "name": "python",
   "nbconvert_exporter": "python",
   "pygments_lexer": "ipython3",
   "version": "3.7.4"
  }
 },
 "nbformat": 4,
 "nbformat_minor": 2
}
