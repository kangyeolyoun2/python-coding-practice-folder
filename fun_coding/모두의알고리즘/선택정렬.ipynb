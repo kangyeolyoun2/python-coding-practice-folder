{
 "cells": [
  {
   "cell_type": "markdown",
   "metadata": {},
   "source": [
    "<img src=\"./imgs/8_1_선택정렬.png\" width=\"60%\">"
   ]
  },
  {
   "cell_type": "code",
   "execution_count": 1,
   "metadata": {},
   "outputs": [],
   "source": [
    "# 위 그림처럼, 리스트에서 가장 작은아이를 뽑아내서, 정렬하시오.\n",
    "a = [2,4,5,1,3]"
   ]
  },
  {
   "cell_type": "code",
   "execution_count": 2,
   "metadata": {},
   "outputs": [
    {
     "data": {
      "text/plain": [
       "[1, 2, 3, 4, 5]"
      ]
     },
     "execution_count": 2,
     "metadata": {},
     "output_type": "execute_result"
    }
   ],
   "source": [
    "def find_min_idx(a):\n",
    "    min_idx = 0\n",
    "    for i in range(1, len(a)):\n",
    "        if a[i] < a[min_idx]:\n",
    "            min_idx = i\n",
    "    return min_idx\n",
    "\n",
    "def sel_sort(a):\n",
    "    result = []\n",
    "    while a:\n",
    "        min_idx = find_min_idx(a)\n",
    "        \n",
    "        value = a.pop(min_idx)\n",
    "        result.append(value)\n",
    "        \n",
    "    return result\n",
    "a = [2,4,5,1,3]\n",
    "sel_sort(a)"
   ]
  },
  {
   "cell_type": "code",
   "execution_count": 5,
   "metadata": {},
   "outputs": [
    {
     "data": {
      "text/plain": [
       "[1, 2, 3, 4, 5]"
      ]
     },
     "execution_count": 5,
     "metadata": {},
     "output_type": "execute_result"
    }
   ],
   "source": [
    "# 일반적\n",
    "\n",
    "def sel_sort(a):\n",
    "    \n",
    "    for i in range(len(a)-1):\n",
    "        min_idx = i\n",
    "        for j in range(i+1, len(a)):\n",
    "            if a[j] < a[min_idx]:\n",
    "                min_idx = j\n",
    "        a[i], a[min_idx] = a[min_idx], a[i]\n",
    "    return a\n",
    "a = [2,4,5,1,3]\n",
    "sel_sort(a)"
   ]
  },
  {
   "cell_type": "markdown",
   "metadata": {},
   "source": [
    "시간복잡도가, $\\frac{n(n-1)}{2}$ = $O(n^2)$ 인 알고리즘입니다."
   ]
  },
  {
   "cell_type": "code",
   "execution_count": null,
   "metadata": {},
   "outputs": [],
   "source": []
  }
 ],
 "metadata": {
  "kernelspec": {
   "display_name": "Python 3",
   "language": "python",
   "name": "python3"
  },
  "language_info": {
   "codemirror_mode": {
    "name": "ipython",
    "version": 3
   },
   "file_extension": ".py",
   "mimetype": "text/x-python",
   "name": "python",
   "nbconvert_exporter": "python",
   "pygments_lexer": "ipython3",
   "version": "3.7.6"
  }
 },
 "nbformat": 4,
 "nbformat_minor": 2
}
