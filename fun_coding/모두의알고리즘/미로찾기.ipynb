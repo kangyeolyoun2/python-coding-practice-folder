{
 "cells": [
  {
   "cell_type": "markdown",
   "metadata": {},
   "source": [
    "<img src=\"./imgs/미로찾기1.png\" width=\"60%\">"
   ]
  },
  {
   "cell_type": "markdown",
   "metadata": {},
   "source": [
    "<img src=\"./imgs/미로찾기2.png\" width=\"60%\">"
   ]
  },
  {
   "cell_type": "code",
   "execution_count": 5,
   "metadata": {},
   "outputs": [],
   "source": [
    "def solve_maze(g, start, end):\n",
    "\n",
    "    qu = []\n",
    "    done = set()\n",
    "    \n",
    "    qu.append(start)\n",
    "    done.add(start)\n",
    "    \n",
    "    while qu:\n",
    "        p = qu.pop(0)\n",
    "        v = p[-1]\n",
    "\n",
    "        if v == end:\n",
    "            return p\n",
    "\n",
    "        for x in g[v]:\n",
    "            if x not in done: \n",
    "                qu.append(p + x)\n",
    "                done.add(x) \n",
    "\n",
    "    return \"?\"\n",
    "\n",
    "maze = {\n",
    "'a': ['e'],\n",
    "'b': ['c', 'f'],\n",
    "'c': ['b', 'd'],\n",
    "'d': ['c'],\n",
    "'e': ['a', 'i'],\n",
    "'f': ['b', 'g', 'j'],\n",
    "'g': ['f', 'h'],\n",
    "'h': ['g', 'l'],\n",
    "'i': ['e', 'm'],\n",
    "'j': ['f', 'k', 'n'],\n",
    "'k': ['j', 'o'],\n",
    "'l': ['h', 'p'],\n",
    "'m': ['i', 'n'],\n",
    "'n': ['m', 'j'],\n",
    "'o': ['k'],\n",
    "'p': ['l'] }"
   ]
  },
  {
   "cell_type": "code",
   "execution_count": 6,
   "metadata": {},
   "outputs": [
    {
     "data": {
      "text/plain": [
       "'aeimnjfghlp'"
      ]
     },
     "execution_count": 6,
     "metadata": {},
     "output_type": "execute_result"
    }
   ],
   "source": [
    "solve_maze(maze, \"a\", \"p\")"
   ]
  },
  {
   "cell_type": "markdown",
   "metadata": {},
   "source": [
    "<img src=\"./imgs/미로찾기풀이_1.jpeg\" width=\"60%\">"
   ]
  },
  {
   "cell_type": "markdown",
   "metadata": {},
   "source": [
    "<img src=\"./imgs/미로찾기풀이_2.jpeg\" width=\"60%\">"
   ]
  },
  {
   "cell_type": "markdown",
   "metadata": {},
   "source": [
    "<img src=\"./imgs/미로찾기풀이_3.jpeg\" width=\"60%\">"
   ]
  },
  {
   "cell_type": "code",
   "execution_count": null,
   "metadata": {},
   "outputs": [],
   "source": []
  }
 ],
 "metadata": {
  "kernelspec": {
   "display_name": "Python 3",
   "language": "python",
   "name": "python3"
  },
  "language_info": {
   "codemirror_mode": {
    "name": "ipython",
    "version": 3
   },
   "file_extension": ".py",
   "mimetype": "text/x-python",
   "name": "python",
   "nbconvert_exporter": "python",
   "pygments_lexer": "ipython3",
   "version": "3.7.6"
  }
 },
 "nbformat": 4,
 "nbformat_minor": 2
}
