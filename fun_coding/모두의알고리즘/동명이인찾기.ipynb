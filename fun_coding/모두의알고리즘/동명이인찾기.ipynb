{
 "cells": [
  {
   "cell_type": "markdown",
   "metadata": {},
   "source": [
    "<img src=\"./imgs/14_1_동명이인찾기.png\" width=\"60%\">"
   ]
  },
  {
   "cell_type": "code",
   "execution_count": 1,
   "metadata": {},
   "outputs": [
    {
     "name": "stdout",
     "output_type": "stream",
     "text": [
      "{'Tom'}\n",
      "{'Mike', 'Tom'}\n"
     ]
    }
   ],
   "source": [
    "def find_same_name(a):\n",
    "    # 1단계: 각 이름이 등장한 횟수를 딕셔너리로 만듦\n",
    "    name_dict = {}\n",
    "    for name in a:\n",
    "        if name in name_dict:\n",
    "            name_dict[name] += 1\n",
    "        else:\n",
    "            name_dict[name] = 1\n",
    "    # 2단계: 만들어진 딕셔너리에서 등장 회수가 2 이상인 것을 결과에 추가\n",
    "    result = set()\n",
    "    for name in name_dict:\n",
    "        if name_dict[name] >= 2:\n",
    "            result.add(name)\n",
    "    return result\n",
    "\n",
    "name = [\"Tom\", \"Jerry\", \"Mike\", \"Tom\"]\n",
    "print(find_same_name(name))\n",
    "\n",
    "name2 = [\"Tom\", \"Jerry\", \"Mike\", \"Tom\", \"Mike\"]\n",
    "print(find_same_name(name2))"
   ]
  },
  {
   "cell_type": "code",
   "execution_count": null,
   "metadata": {},
   "outputs": [],
   "source": []
  }
 ],
 "metadata": {
  "kernelspec": {
   "display_name": "Python 3",
   "language": "python",
   "name": "python3"
  },
  "language_info": {
   "codemirror_mode": {
    "name": "ipython",
    "version": 3
   },
   "file_extension": ".py",
   "mimetype": "text/x-python",
   "name": "python",
   "nbconvert_exporter": "python",
   "pygments_lexer": "ipython3",
   "version": "3.7.6"
  }
 },
 "nbformat": 4,
 "nbformat_minor": 2
}
