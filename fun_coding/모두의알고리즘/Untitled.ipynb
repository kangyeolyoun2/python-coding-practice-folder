{
 "cells": [
  {
   "cell_type": "markdown",
   "metadata": {},
   "source": [
    "<img src=\"./imgs/15_1_친구의친구찾기.png\" width=\"100%\">"
   ]
  },
  {
   "cell_type": "code",
   "execution_count": null,
   "metadata": {},
   "outputs": [],
   "source": []
  },
  {
   "cell_type": "code",
   "execution_count": 8,
   "metadata": {},
   "outputs": [
    {
     "name": "stdout",
     "output_type": "stream",
     "text": [
      "Summer\n",
      "John\n",
      "Justin\n",
      "Mike\n",
      "May\n",
      "Kim\n",
      "\n",
      "Jerry\n",
      "Tom\n"
     ]
    }
   ],
   "source": [
    "# 모든 친구를 찾는 알고리즘\n",
    "\n",
    "# 친구 관계 그래프 g, 모든 친구를 찾을 자신 start\n",
    "def print_all_friends(g, start):\n",
    "    qu = []      #기억 장소1: 앞으로 처리해야 할 사람들을 큐에 저장\n",
    "    done = set() #기억 장소2: 이미 큐에 추가한 사람들을 집합에 기록(중복 방지)\n",
    "    \n",
    "    qu.append(start) #자신을 큐에 넣고 시작\n",
    "    done.add(start) #집합에도 추가\n",
    "    \n",
    "    while qu:             #큐에 처리할 사람이 남아있는 동안\n",
    "        p = qu.pop(0)     #큐에서 처리 대상을 한 명 꺼내\n",
    "        print(p)          #이름을 출력하고\n",
    "        for x in g[p]:    #그의 친구들 중에\n",
    "            if x not in done:   # 아직 큐에 추가된 적이 없는 사람을\n",
    "                qu.append(x)    # 큐에 추가하고\n",
    "                done.add(x)     # 집합에도 추가\n",
    "                \n",
    "# 친구 관계 리스트\n",
    "# A와 B가 친구이면\n",
    "# A의 친구 리스트에도 B가 나오고, B의 친구 리스트에도 A가 나옴\n",
    "fr_info = {\n",
    "    \"Summer\": [\"John\", \"Justin\", \"Mike\"],\n",
    "    \"John\": [\"Summer\", \"Justin\"],\n",
    "    \"Justin\": [\"John\", \"Summer\", \"Mike\", \"May\"],\n",
    "    \"Mike\": [\"Summer\", \"Justin\"],\n",
    "    \"May\": [\"Justin\", \"Kim\"],\n",
    "    \"Kim\": [\"May\"],\n",
    "    \"Tom\": [\"Jerry\"],\n",
    "    \"Jerry\": [\"Tom\"]\n",
    "}\n",
    "\n",
    "print_all_friends(fr_info, \"Summer\")\n",
    "print()\n",
    "print_all_friends(fr_info, \"Jerry\")"
   ]
  },
  {
   "cell_type": "code",
   "execution_count": null,
   "metadata": {},
   "outputs": [],
   "source": []
  },
  {
   "cell_type": "code",
   "execution_count": 9,
   "metadata": {},
   "outputs": [
    {
     "name": "stdout",
     "output_type": "stream",
     "text": [
      "Summer 0\n",
      "John 1\n",
      "Justin 1\n",
      "Mike 1\n",
      "May 2\n",
      "Kim 3\n",
      "\n",
      "Jerry 0\n",
      "Tom 1\n"
     ]
    }
   ],
   "source": [
    "# 친밀도 계산 알고리즘 (int = intimacy)\n",
    "\n",
    "def print_int_friends(g, start):\n",
    "    qu = []       #기억장소1: 앞으로 처리해야 할 (사람 이름, 친밀도) 튜플을 큐에 저장\n",
    "    done = set()    #기억장소2: 이미 큐에 추가한 사람을 집합에 기록(중복 방지)\n",
    "    \n",
    "    qu.append((start, 0))    #(사람 이름, 친밀도) 정보를 하나의 튜플로 묶어 처리\n",
    "                             #자기 자신의 친밀도: 0\n",
    "    \n",
    "    done.add(start)          #집합에도 추가\n",
    "    \n",
    "    while qu:                         #큐에 처리할 사람이 남아 있는 동안\n",
    "        (p, d) = qu.pop(0)            #큐에서 (사람 이름, 친밀도) 정보를 p와 d로 각각꺼냄\n",
    "        print(p, d)                   # 사람 이름과 친밀도를 출력\n",
    "        for x in g[p]:                # 친구들 중에\n",
    "            if x not in done:         # 아직 큐에 추가된 적이 없는 사람을\n",
    "                qu.append((x, d+1))   # 친밀도를 1 증가시켜 큐에 추가하고\n",
    "                done.add(x)           # 집합에도 추가\n",
    "    \n",
    "    \n",
    "fr_info = {\n",
    "    \"Summer\": [\"John\", \"Justin\", \"Mike\"],\n",
    "    \"John\": [\"Summer\", \"Justin\"],\n",
    "    \"Justin\": [\"John\", \"Summer\", \"Mike\", \"May\"],\n",
    "    \"Mike\": [\"Summer\", \"Justin\"],\n",
    "    \"May\": [\"Justin\", \"Kim\"],\n",
    "    \"Kim\": [\"May\"],\n",
    "    \"Tom\": [\"Jerry\"],\n",
    "    \"Jerry\": [\"Tom\"]\n",
    "}\n",
    "\n",
    "print_int_friends(fr_info, \"Summer\")\n",
    "print()\n",
    "print_int_friends(fr_info, \"Jerry\")"
   ]
  },
  {
   "cell_type": "code",
   "execution_count": null,
   "metadata": {},
   "outputs": [],
   "source": []
  },
  {
   "cell_type": "code",
   "execution_count": 12,
   "metadata": {},
   "outputs": [
    {
     "name": "stdout",
     "output_type": "stream",
     "text": [
      "1\n",
      "2\n",
      "3\n",
      "4\n",
      "5\n",
      "\n",
      "3\n",
      "1\n",
      "2\n",
      "4\n",
      "5\n"
     ]
    }
   ],
   "source": [
    "# 모든 친구를 찾는 알고리즘\n",
    "\n",
    "# 친구 관계 그래프 g, 모든 친구를 찾을 자신 start\n",
    "def print_all_friends(g, start):\n",
    "    qu = []      #기억 장소1: 앞으로 처리해야 할 사람들을 큐에 저장\n",
    "    done = set() #기억 장소2: 이미 큐에 추가한 사람들을 집합에 기록(중복 방지)\n",
    "    \n",
    "    qu.append(start) #자신을 큐에 넣고 시작\n",
    "    done.add(start) #집합에도 추가\n",
    "    \n",
    "    while qu:             #큐에 처리할 사람이 남아있는 동안\n",
    "        p = qu.pop(0)     #큐에서 처리 대상을 한 명 꺼내\n",
    "        print(p)          #이름을 출력하고\n",
    "        for x in g[p]:    #그의 친구들 중에\n",
    "            if x not in done:   # 아직 큐에 추가된 적이 없는 사람을\n",
    "                qu.append(x)    # 큐에 추가하고\n",
    "                done.add(x)     # 집합에도 추가\n",
    "                \n",
    "# 친구 관계 리스트\n",
    "# A와 B가 친구이면\n",
    "# A의 친구 리스트에도 B가 나오고, B의 친구 리스트에도 A가 나옴\n",
    "fr_info = {\n",
    "    \"1\": [\"2\",\"3\"],\n",
    "    \"2\":[\"1\",\"4\",\"5\"],\n",
    "    \"3\":[\"1\"],\n",
    "    \"4\":[\"2\"],\n",
    "    \"5\":[\"2\"],\n",
    "}\n",
    "\n",
    "print_all_friends(fr_info, \"1\")\n",
    "print()\n",
    "print_all_friends(fr_info, \"3\")"
   ]
  },
  {
   "cell_type": "code",
   "execution_count": 13,
   "metadata": {},
   "outputs": [
    {
     "name": "stdout",
     "output_type": "stream",
     "text": [
      "1 0\n",
      "2 1\n",
      "3 1\n",
      "4 2\n",
      "5 2\n",
      "\n",
      "2 0\n",
      "1 1\n",
      "4 1\n",
      "5 1\n",
      "3 2\n"
     ]
    }
   ],
   "source": [
    "# 친밀도 계산 알고리즘 (int = intimacy)\n",
    "\n",
    "def print_int_friends(g, start):\n",
    "    qu = []       #기억장소1: 앞으로 처리해야 할 (사람 이름, 친밀도) 튜플을 큐에 저장\n",
    "    done = set()    #기억장소2: 이미 큐에 추가한 사람을 집합에 기록(중복 방지)\n",
    "    \n",
    "    qu.append((start, 0))    #(사람 이름, 친밀도) 정보를 하나의 튜플로 묶어 처리\n",
    "                             #자기 자신의 친밀도: 0\n",
    "    \n",
    "    done.add(start)          #집합에도 추가\n",
    "    \n",
    "    while qu:                         #큐에 처리할 사람이 남아 있는 동안\n",
    "        (p, d) = qu.pop(0)            #큐에서 (사람 이름, 친밀도) 정보를 p와 d로 각각꺼냄\n",
    "        print(p, d)                   # 사람 이름과 친밀도를 출력\n",
    "        for x in g[p]:                # 친구들 중에\n",
    "            if x not in done:         # 아직 큐에 추가된 적이 없는 사람을\n",
    "                qu.append((x, d+1))   # 친밀도를 1 증가시켜 큐에 추가하고\n",
    "                done.add(x)           # 집합에도 추가\n",
    "    \n",
    "    \n",
    "fr_info = {\n",
    "    \"1\": [\"2\",\"3\"],\n",
    "    \"2\":[\"1\",\"4\",\"5\"],\n",
    "    \"3\":[\"1\"],\n",
    "    \"4\":[\"2\"],\n",
    "    \"5\":[\"2\"],\n",
    "}\n",
    "\n",
    "print_int_friends(fr_info, \"1\")\n",
    "print()\n",
    "print_int_friends(fr_info, \"2\")"
   ]
  },
  {
   "cell_type": "code",
   "execution_count": null,
   "metadata": {},
   "outputs": [],
   "source": []
  }
 ],
 "metadata": {
  "kernelspec": {
   "display_name": "Python 3",
   "language": "python",
   "name": "python3"
  },
  "language_info": {
   "codemirror_mode": {
    "name": "ipython",
    "version": 3
   },
   "file_extension": ".py",
   "mimetype": "text/x-python",
   "name": "python",
   "nbconvert_exporter": "python",
   "pygments_lexer": "ipython3",
   "version": "3.7.6"
  }
 },
 "nbformat": 4,
 "nbformat_minor": 2
}
