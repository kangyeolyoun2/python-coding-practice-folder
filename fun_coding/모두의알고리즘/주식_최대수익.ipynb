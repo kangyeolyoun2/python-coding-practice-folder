{
 "cells": [
  {
   "cell_type": "markdown",
   "metadata": {},
   "source": [
    "<img src=\"./imgs/주식_최대수익.png\" width=\"60%\">"
   ]
  },
  {
   "cell_type": "code",
   "execution_count": 1,
   "metadata": {},
   "outputs": [
    {
     "data": {
      "text/plain": [
       "2400"
      ]
     },
     "execution_count": 1,
     "metadata": {},
     "output_type": "execute_result"
    }
   ],
   "source": [
    "#최대 수익 알고리즘\n",
    "# 판매 날짜를 기준으로 잡고, 구해준다.\n",
    "def max_profit(prices):\n",
    "    \n",
    "    n = len(prices)\n",
    "    max_profit = 0\n",
    "    min_price = prices[0] #첫째 날의 주가를 주가의 최솟값으로 기억하고, 바로 다음날짜와 비교후 더 작은값을 넣어준다.\n",
    "    \n",
    "    for i in range(1,n):\n",
    "        profit = prices[i] - min_price \n",
    "        \n",
    "        if profit > max_profit:\n",
    "            max_profit = profit\n",
    "        \n",
    "        if prices[i] < min_price:\n",
    "            min_price = prices[i]\n",
    "            \n",
    "    return max_profit\n",
    "    \n",
    "    \n",
    "    \n",
    "stock = [10300, 9600, 9800, 8200, 7800, 8300, 9500, 9800, 10200, 9500]\n",
    "max_profit(stock)"
   ]
  },
  {
   "cell_type": "code",
   "execution_count": null,
   "metadata": {},
   "outputs": [],
   "source": []
  }
 ],
 "metadata": {
  "kernelspec": {
   "display_name": "Python 3",
   "language": "python",
   "name": "python3"
  },
  "language_info": {
   "codemirror_mode": {
    "name": "ipython",
    "version": 3
   },
   "file_extension": ".py",
   "mimetype": "text/x-python",
   "name": "python",
   "nbconvert_exporter": "python",
   "pygments_lexer": "ipython3",
   "version": "3.7.6"
  }
 },
 "nbformat": 4,
 "nbformat_minor": 2
}
