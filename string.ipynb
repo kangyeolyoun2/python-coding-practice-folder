{
 "cells": [
  {
   "cell_type": "code",
   "execution_count": 2,
   "metadata": {},
   "outputs": [
    {
     "name": "stdout",
     "output_type": "stream",
     "text": [
      "0b10 2\n",
      "0b100 4\n",
      "0b1000 8\n",
      "0b10000 16\n",
      "0b100000 32\n",
      "0b1000000 64\n",
      "0b10000000 128\n"
     ]
    }
   ],
   "source": [
    "# bit coding practice\n",
    "num = 1\n",
    "for i in range(7):\n",
    "    print(bin(2 << i), 2 << i)"
   ]
  },
  {
   "cell_type": "code",
   "execution_count": 6,
   "metadata": {},
   "outputs": [
    {
     "data": {
      "text/plain": [
       "False"
      ]
     },
     "execution_count": 6,
     "metadata": {},
     "output_type": "execute_result"
    }
   ],
   "source": [
    "# boolean practice\n",
    "num = 5\n",
    "True if (num % 2 == 0) or (num % 3) == 0 else False"
   ]
  },
  {
   "cell_type": "code",
   "execution_count": 10,
   "metadata": {},
   "outputs": [
    {
     "name": "stdout",
     "output_type": "stream",
     "text": [
      "문자열에서 \n",
      "을 쓰면 줄바꿈이 되고 \t를 사용하면 탭공백\n"
     ]
    }
   ],
   "source": [
    "text_2 = '문자열에서 \\n을 쓰면 줄바꿈이 되고 \\t를 사용하면 탭공백'\n",
    "\n",
    "print(text_2)"
   ]
  },
  {
   "cell_type": "code",
   "execution_count": 16,
   "metadata": {},
   "outputs": [
    {
     "name": "stdout",
     "output_type": "stream",
     "text": [
      "1234\n",
      "5\t6\t7'\n",
      "89\"10\n"
     ]
    }
   ],
   "source": [
    "text = \"1234\\n5\\t6\\t7'\\n89\\\"10\"\n",
    "print(text)"
   ]
  },
  {
   "cell_type": "code",
   "execution_count": 17,
   "metadata": {},
   "outputs": [
    {
     "name": "stdout",
     "output_type": "stream",
     "text": [
      "국가 : 대한민국\n",
      "수도 : 서울\n",
      "언어 : 한국어\n",
      "인구 : 51,779,148명\n",
      "\n"
     ]
    }
   ],
   "source": [
    "print('''국가 : 대한민국\n",
    "수도 : 서울\n",
    "언어 : 한국어\n",
    "인구 : 51,779,148명\n",
    "''')"
   ]
  },
  {
   "cell_type": "code",
   "execution_count": 18,
   "metadata": {},
   "outputs": [],
   "source": [
    "name = \"Julia\"\n",
    "age = 21\n",
    "height = 162\n",
    "weight = 47\n",
    "major = \"Mathematic\""
   ]
  },
  {
   "cell_type": "code",
   "execution_count": 25,
   "metadata": {},
   "outputs": [
    {
     "name": "stdout",
     "output_type": "stream",
     "text": [
      "hello Julia\n",
      "how old are you? 21\n",
      "\n"
     ]
    }
   ],
   "source": [
    "print('''hello {}\n",
    "how old are you? {}\n",
    "'''.format(name, age))"
   ]
  },
  {
   "cell_type": "code",
   "execution_count": 24,
   "metadata": {},
   "outputs": [
    {
     "name": "stdout",
     "output_type": "stream",
     "text": [
      "My name is Julia\n",
      "I'm 21 years old\n",
      "I'm 162 cm and 47 kg\n",
      "I major in Mathematic\n"
     ]
    }
   ],
   "source": [
    "print(\"My name is {}\".format(name))\n",
    "print(\"I'm {} years old\".format(age))\n",
    "print(\"I'm {} cm and {} kg\".format(height, weight))\n",
    "print(\"I major in {}\".format(major))"
   ]
  },
  {
   "cell_type": "code",
   "execution_count": 26,
   "metadata": {},
   "outputs": [
    {
     "name": "stdout",
     "output_type": "stream",
     "text": [
      "My name is Julia\n",
      "I'am 21 years old\n",
      "I'm 162 cm and 47 kg\n",
      "I major in Mathematic\n",
      "\n"
     ]
    }
   ],
   "source": [
    "print('''My name is {}\n",
    "I'am {} years old\n",
    "I'm {} cm and {} kg\n",
    "I major in {}\n",
    "'''.format(name, age, height, weight, major))"
   ]
  },
  {
   "cell_type": "code",
   "execution_count": 28,
   "metadata": {},
   "outputs": [
    {
     "name": "stdout",
     "output_type": "stream",
     "text": [
      "My motto is \"Enjoy my life\"\n",
      "I will study so hard to achieve it\n"
     ]
    }
   ],
   "source": [
    "motto = \"Enjoy my life\"\n",
    "print('''My motto is \"{}\"\n",
    "I will study so hard to achieve it'''.format(motto))"
   ]
  },
  {
   "cell_type": "code",
   "execution_count": 29,
   "metadata": {},
   "outputs": [
    {
     "name": "stdout",
     "output_type": "stream",
     "text": [
      "A\n",
      "B\n",
      "C\n",
      "D\n",
      "E\n",
      "F\n",
      "\n"
     ]
    }
   ],
   "source": [
    "string = \"ABCDEFG\"\n",
    "\n",
    "print('''{}\n",
    "{}\n",
    "{}\n",
    "{}\n",
    "{}\n",
    "{}\n",
    "'''.format(string[0], string[1],string[2],string[3],string[4],string[5]))"
   ]
  },
  {
   "cell_type": "code",
   "execution_count": 30,
   "metadata": {},
   "outputs": [],
   "source": [
    "anthem = \"동해물과 백두산이 마르고 닳도록 하느님이 보우하사 우리나라 만세 무궁화 삼천리 화려 강산 대한 사람 대한으로 길이 보전하세\""
   ]
  },
  {
   "cell_type": "code",
   "execution_count": 61,
   "metadata": {},
   "outputs": [
    {
     "name": "stdout",
     "output_type": "stream",
     "text": [
      "52\n"
     ]
    }
   ],
   "source": [
    "print(len(anthem) - anthem.count(' '))"
   ]
  },
  {
   "cell_type": "code",
   "execution_count": null,
   "metadata": {},
   "outputs": [],
   "source": []
  },
  {
   "cell_type": "code",
   "execution_count": 63,
   "metadata": {},
   "outputs": [],
   "source": [
    "sentence = \"This Is My Favorite Dish\""
   ]
  },
  {
   "cell_type": "code",
   "execution_count": 70,
   "metadata": {},
   "outputs": [
    {
     "name": "stdout",
     "output_type": "stream",
     "text": [
      "True\n",
      "True\n",
      "2\n"
     ]
    }
   ],
   "source": [
    "print(sentence.startswith(\"T\"))\n",
    "print(sentence.endswith(\"h\"))\n",
    "print(sentence.count(\"h\"))"
   ]
  },
  {
   "cell_type": "code",
   "execution_count": null,
   "metadata": {},
   "outputs": [],
   "source": []
  },
  {
   "cell_type": "code",
   "execution_count": null,
   "metadata": {},
   "outputs": [],
   "source": []
  },
  {
   "cell_type": "code",
   "execution_count": null,
   "metadata": {},
   "outputs": [],
   "source": []
  }
 ],
 "metadata": {
  "kernelspec": {
   "display_name": "Python 3",
   "language": "python",
   "name": "python3"
  },
  "language_info": {
   "codemirror_mode": {
    "name": "ipython",
    "version": 3
   },
   "file_extension": ".py",
   "mimetype": "text/x-python",
   "name": "python",
   "nbconvert_exporter": "python",
   "pygments_lexer": "ipython3",
   "version": "3.7.4"
  }
 },
 "nbformat": 4,
 "nbformat_minor": 2
}
