{
 "cells": [
  {
   "cell_type": "code",
   "execution_count": 1,
   "metadata": {},
   "outputs": [
    {
     "name": "stdout",
     "output_type": "stream",
     "text": [
      "Count Down Starts!\n",
      "5\n",
      "4\n",
      "3\n",
      "2\n",
      "1\n",
      "0\n",
      "Boom!\n"
     ]
    }
   ],
   "source": [
    "i = 5\n",
    "\n",
    "print(\"Count Down Starts!\")\n",
    "while i >= 0 :\n",
    "    print(i)\n",
    "    i -= 1\n",
    "print(\"Boom!\")"
   ]
  },
  {
   "cell_type": "code",
   "execution_count": 2,
   "metadata": {},
   "outputs": [
    {
     "name": "stdout",
     "output_type": "stream",
     "text": [
      "2 번째...\n",
      "6 번째...\n",
      "7 번째...\n"
     ]
    }
   ],
   "source": [
    "i = 1\n",
    "while True:\n",
    "    i += 1\n",
    "    if 3 <= i <= 5 :\n",
    "        continue\n",
    "    print(i, '번째...')\n",
    "    if i == 7:\n",
    "        break"
   ]
  },
  {
   "cell_type": "code",
   "execution_count": 6,
   "metadata": {},
   "outputs": [
    {
     "name": "stdout",
     "output_type": "stream",
     "text": [
      "10\n",
      "12\n",
      "14\n",
      "16\n",
      "18\n"
     ]
    }
   ],
   "source": [
    "num = 10\n",
    "while num <= 18:\n",
    "    print(num); num += 2"
   ]
  },
  {
   "cell_type": "code",
   "execution_count": 9,
   "metadata": {},
   "outputs": [
    {
     "name": "stdout",
     "output_type": "stream",
     "text": [
      "1 2 4 8 16 32 64 "
     ]
    }
   ],
   "source": [
    "num = 1\n",
    "\n",
    "while num <= 100:\n",
    "    print(num, end = \" \")\n",
    "    num *= 2"
   ]
  },
  {
   "cell_type": "code",
   "execution_count": 15,
   "metadata": {},
   "outputs": [
    {
     "name": "stdout",
     "output_type": "stream",
     "text": [
      "insert random alphabet(lower) until you get correct answer lol : a\n",
      "insert random alphabet(lower) until you get correct answer lol : bad\n",
      "insert random alphabet(lower) until you get correct answer lol : cd\n",
      "insert random alphabet(lower) until you get correct answer lol : q\n",
      "finish\n"
     ]
    }
   ],
   "source": [
    "while True:\n",
    "    if \"q\" == input(\"insert random alphabet(lower) until you get correct answer lol : \"):\n",
    "        print(\"finish\")\n",
    "        break"
   ]
  },
  {
   "cell_type": "code",
   "execution_count": 33,
   "metadata": {},
   "outputs": [
    {
     "name": "stdout",
     "output_type": "stream",
     "text": [
      "inser two numbers. numberse must be split by space3 17\n",
      "5\n",
      "10\n",
      "15\n"
     ]
    }
   ],
   "source": [
    "# 170\n",
    "num = input(\"insert two numbers. numberse must be split by space\").split(\" \")\n",
    "num = list(map(int,num))\n",
    "\n",
    "a = (min(num) // 5 * 5) + 5\n",
    "while True:\n",
    "    print(a)\n",
    "    a+=5\n",
    "    if a > max(num):\n",
    "        break"
   ]
  },
  {
   "cell_type": "code",
   "execution_count": null,
   "metadata": {},
   "outputs": [],
   "source": []
  },
  {
   "cell_type": "code",
   "execution_count": 37,
   "metadata": {},
   "outputs": [
    {
     "name": "stdout",
     "output_type": "stream",
     "text": [
      "10 9 8 7 6 "
     ]
    }
   ],
   "source": [
    "for i in range(10, 5, -1):\n",
    "    print(i, end = ' ')"
   ]
  },
  {
   "cell_type": "code",
   "execution_count": 43,
   "metadata": {},
   "outputs": [
    {
     "name": "stdout",
     "output_type": "stream",
     "text": [
      "1\n",
      "4\n",
      "we are looking for 13\n"
     ]
    }
   ],
   "source": [
    "L = [1, 9, 4, 13, 5, 6]\n",
    "\n",
    "for i in L:\n",
    "    if i in range(5, 10):\n",
    "        continue\n",
    "    elif i == 13:\n",
    "        print(\"we are looking for 13\")\n",
    "        break\n",
    "    else:\n",
    "        print(i)"
   ]
  },
  {
   "cell_type": "code",
   "execution_count": 44,
   "metadata": {},
   "outputs": [
    {
     "name": "stdout",
     "output_type": "stream",
     "text": [
      "cake 1\n",
      "strawberry 2\n",
      "100 4\n",
      "choco 8\n",
      "3.14 16\n"
     ]
    }
   ],
   "source": [
    "mylist = [\"cake\", \"strawberry\", 100, \"choco\", 3.14]\n",
    "\n",
    "num = 1\n",
    "\n",
    "for i in mylist:\n",
    "    print(i, num)\n",
    "    num *= 2"
   ]
  },
  {
   "cell_type": "code",
   "execution_count": null,
   "metadata": {},
   "outputs": [],
   "source": []
  },
  {
   "cell_type": "code",
   "execution_count": 45,
   "metadata": {},
   "outputs": [
    {
     "name": "stdout",
     "output_type": "stream",
     "text": [
      "Enter the number : 20\n",
      "result :  4\n"
     ]
    }
   ],
   "source": [
    "#175\n",
    "num = int(input(\"Enter the number : \"))\n",
    "a = (num + 5) % 7 \n",
    "\n",
    "for i in range(a):\n",
    "    if (num + 2 * i) % 2 == 0:\n",
    "        num = (num + i) // 2\n",
    "    else:\n",
    "        num += 1\n",
    "print(\"result : \", num)"
   ]
  },
  {
   "cell_type": "code",
   "execution_count": null,
   "metadata": {},
   "outputs": [],
   "source": []
  },
  {
   "cell_type": "code",
   "execution_count": 69,
   "metadata": {},
   "outputs": [
    {
     "name": "stdout",
     "output_type": "stream",
     "text": [
      "Enter the 1st number : 71\n",
      "Enter the 2nd number : 60\n",
      "258\n"
     ]
    }
   ],
   "source": [
    "#176 \n",
    "a = int(input(\"Enter the 1st number : \"))\n",
    "b = int(input(\"Enter the 2nd number : \"))\n",
    "\n",
    "if a > b:\n",
    "    c = a\n",
    "    a = b\n",
    "    b = c\n",
    "\n",
    "sum = 0\n",
    "for i in range(a, b):\n",
    "    if i % 3 == 0:\n",
    "        sum += i\n",
    "print(sum)"
   ]
  },
  {
   "cell_type": "code",
   "execution_count": null,
   "metadata": {},
   "outputs": [],
   "source": []
  },
  {
   "cell_type": "code",
   "execution_count": 74,
   "metadata": {},
   "outputs": [
    {
     "name": "stdout",
     "output_type": "stream",
     "text": [
      "insert integer that is bigger than 0: 7\n",
      "28\n"
     ]
    }
   ],
   "source": [
    "n = int(input(\"insert integer that is bigger than 0: \"))\n",
    "\n",
    "sum = 0\n",
    "for i in range(1, n+1):\n",
    "    sum += i\n",
    "print(sum)"
   ]
  },
  {
   "cell_type": "code",
   "execution_count": null,
   "metadata": {},
   "outputs": [],
   "source": [
    "n = 2018\n",
    "sum = 0\n",
    "while (n > 0):\n",
    "    sum += (n & 10)\n",
    "    n = n & (n - 10)º\n",
    "print(sum)"
   ]
  },
  {
   "cell_type": "code",
   "execution_count": 105,
   "metadata": {},
   "outputs": [
    {
     "data": {
      "text/plain": [
       "2"
      ]
     },
     "execution_count": 105,
     "metadata": {},
     "output_type": "execute_result"
    }
   ],
   "source": [
    "2018 & 10"
   ]
  },
  {
   "cell_type": "code",
   "execution_count": 109,
   "metadata": {},
   "outputs": [
    {
     "data": {
      "text/plain": [
       "0"
      ]
     },
     "execution_count": 109,
     "metadata": {},
     "output_type": "execute_result"
    }
   ],
   "source": [
    "-8 & 2"
   ]
  },
  {
   "cell_type": "code",
   "execution_count": 83,
   "metadata": {},
   "outputs": [
    {
     "data": {
      "text/plain": [
       "'0b11111100010'"
      ]
     },
     "execution_count": 83,
     "metadata": {},
     "output_type": "execute_result"
    }
   ],
   "source": [
    "bin(2018)"
   ]
  },
  {
   "cell_type": "code",
   "execution_count": 107,
   "metadata": {},
   "outputs": [
    {
     "data": {
      "text/plain": [
       "'0b10'"
      ]
     },
     "execution_count": 107,
     "metadata": {},
     "output_type": "execute_result"
    }
   ],
   "source": [
    "bin(2)"
   ]
  },
  {
   "cell_type": "code",
   "execution_count": null,
   "metadata": {},
   "outputs": [],
   "source": [
    "n = 2018\n",
    "i = 1\n",
    "sum = 0\n",
    "a = 0\n",
    "while (n > 0):\n",
    "    if (n % 10 == 2):\n",
    "        sum += (n // 10) * i + (a + 1)\n",
    "    elif (n % 10)"
   ]
  },
  {
   "cell_type": "code",
   "execution_count": 110,
   "metadata": {},
   "outputs": [
    {
     "data": {
      "text/plain": [
       "201"
      ]
     },
     "execution_count": 110,
     "metadata": {},
     "output_type": "execute_result"
    }
   ],
   "source": [
    "2018 // 10"
   ]
  },
  {
   "cell_type": "code",
   "execution_count": 112,
   "metadata": {},
   "outputs": [
    {
     "name": "stdout",
     "output_type": "stream",
     "text": [
      "621\n"
     ]
    }
   ],
   "source": [
    "n = 2018\n",
    "i = 1\n",
    "sum = 0\n",
    "a = 0\n",
    "while (n > 0):\n",
    "    if (n % 10 ==2):\n",
    "        sum += (n // 10) * i + (a + 1)\n",
    "    elif (n % 10 > 2):\n",
    "        sum += (n // 10 + 1) * i\n",
    "    else:\n",
    "        sum += (n // 10) * i\n",
    "    a += i * (n % 10)\n",
    "    i *= 10\n",
    "    n //= 10\n",
    "print(sum)"
   ]
  },
  {
   "cell_type": "code",
   "execution_count": 113,
   "metadata": {},
   "outputs": [
    {
     "data": {
      "text/plain": [
       "201"
      ]
     },
     "execution_count": 113,
     "metadata": {},
     "output_type": "execute_result"
    }
   ],
   "source": [
    "201\n",
    "\n",
    "sum = 202 * 1 + 200 + 212\n",
    "\n",
    "a = 201 + 10 + 1\n",
    "i = 10 * 10\n",
    "\n",
    "n = 201, 2\n",
    "\n"
   ]
  },
  {
   "cell_type": "code",
   "execution_count": 145,
   "metadata": {},
   "outputs": [
    {
     "name": "stdout",
     "output_type": "stream",
     "text": [
      "insert prime number34\n",
      "34 is not a prime number\n"
     ]
    }
   ],
   "source": [
    "#180\n",
    "num = int(input(\"insert prime number\"))\n",
    "\n",
    "b = []\n",
    "for i in range(1, num+1):\n",
    "    \n",
    "    if num % i == 0:\n",
    "        b.append(i)\n",
    "\n",
    "\n",
    "if len(b) > 2 or num == 1:\n",
    "    print(\"{} is not a prime number\".format(num))\n",
    "else:\n",
    "    print(\"{} is a prime number\".format(num))"
   ]
  },
  {
   "cell_type": "code",
   "execution_count": 151,
   "metadata": {},
   "outputs": [
    {
     "name": "stdout",
     "output_type": "stream",
     "text": [
      "Enter the number12345\n"
     ]
    }
   ],
   "source": [
    "num = input(\"Enter the number\")\n",
    "\n"
   ]
  },
  {
   "cell_type": "code",
   "execution_count": 152,
   "metadata": {},
   "outputs": [
    {
     "data": {
      "text/plain": [
       "5"
      ]
     },
     "execution_count": 152,
     "metadata": {},
     "output_type": "execute_result"
    }
   ],
   "source": [
    "len(num)"
   ]
  },
  {
   "cell_type": "code",
   "execution_count": 156,
   "metadata": {},
   "outputs": [
    {
     "name": "stdout",
     "output_type": "stream",
     "text": [
      "Enter the number13547\n",
      "20\n"
     ]
    }
   ],
   "source": [
    "# 181\n",
    "num = input(\"Enter the number\")\n",
    "sum = 0\n",
    "for i in range(len(num)):\n",
    "    sum += int(num[i])\n",
    "print(sum)"
   ]
  },
  {
   "cell_type": "code",
   "execution_count": 158,
   "metadata": {},
   "outputs": [
    {
     "name": "stdout",
     "output_type": "stream",
     "text": [
      "[0, 1, 2, 3, 4, 5, 6, 7, 8, 9]\n"
     ]
    }
   ],
   "source": [
    "numbers = []\n",
    "for i in range(0, 10):\n",
    "    numbers.append(i)\n",
    "print(numbers)"
   ]
  },
  {
   "cell_type": "code",
   "execution_count": 166,
   "metadata": {},
   "outputs": [
    {
     "data": {
      "text/plain": [
       "[0, 1, 2, 3, 4, 5, 6, 7, 8, 9]"
      ]
     },
     "execution_count": 166,
     "metadata": {},
     "output_type": "execute_result"
    }
   ],
   "source": [
    "numbers"
   ]
  },
  {
   "cell_type": "code",
   "execution_count": 170,
   "metadata": {},
   "outputs": [
    {
     "name": "stdout",
     "output_type": "stream",
     "text": [
      "insert number16.2\n",
      "16.2 is numbers? True\n"
     ]
    }
   ],
   "source": [
    "# 182\n",
    "num = input(\"insert number\")\n",
    "numbers = []\n",
    "for i in range(0, 10):\n",
    "    numbers.append(i)\n",
    "numbers = list(map(str,numbers))\n",
    "num_dot = 0\n",
    "isNum = True\n",
    "    \n",
    "for i in num:\n",
    "    if not i in numbers:\n",
    "        if i =='.':\n",
    "            num_dot += 1\n",
    "            if num_dot == 2:\n",
    "                isNum = False\n",
    "                break\n",
    "        else:\n",
    "            isNum = False\n",
    "            break\n",
    "print(num + ' is numbers?', isNum)\n",
    "            "
   ]
  },
  {
   "cell_type": "code",
   "execution_count": null,
   "metadata": {},
   "outputs": [],
   "source": [
    "print(\"{} is numbers?\".format(num))"
   ]
  },
  {
   "cell_type": "markdown",
   "metadata": {},
   "source": [
    "### 입력한 문자열이 숫자인지 판별해주는 프로그램을 작성하시오. \n",
    "(ex. 132o2 -> 숫자가 아님, 1.32 ->숫자가 맞음)\n",
    "\n",
    "ex)\n",
    "\n",
    "    1.  Entered number : 167o7\n",
    "        167o7 is numbers? False\n",
    "    2.  Entered number : 142.572\n",
    "        142.572 is numbers? True\n",
    "    "
   ]
  },
  {
   "cell_type": "code",
   "execution_count": null,
   "metadata": {},
   "outputs": [],
   "source": []
  },
  {
   "cell_type": "code",
   "execution_count": 205,
   "metadata": {},
   "outputs": [
    {
     "name": "stdout",
     "output_type": "stream",
     "text": [
      "insert numbers. two numbers must be separated by space. you put: 4 13\n"
     ]
    },
    {
     "data": {
      "text/plain": [
       "5"
      ]
     },
     "execution_count": 205,
     "metadata": {},
     "output_type": "execute_result"
    }
   ],
   "source": [
    "#183\n",
    "num = input(\"insert numbers. two numbers must be separated by space. you put: \").split(\" \")\n",
    "num = list(map(int,num))\n",
    "\n",
    "e = []\n",
    "for i in range(min(num), max(num)+1):\n",
    "    if i % 2 == 0:\n",
    "        e.append(-i)\n",
    "    else:\n",
    "        e.append(+i)\n",
    "\n",
    "sum(e)"
   ]
  },
  {
   "cell_type": "code",
   "execution_count": 207,
   "metadata": {},
   "outputs": [
    {
     "name": "stdout",
     "output_type": "stream",
     "text": [
      "199\n"
     ]
    }
   ],
   "source": [
    "# 184\n",
    "\n",
    "sum = 0\n",
    "\n",
    "for i in range(0, 300):\n",
    "    if i % 2 ==0:\n",
    "        sum -= i\n",
    "    else:\n",
    "        sum += i\n",
    "    if sum == 100:\n",
    "        print(i)\n",
    "        break\n"
   ]
  },
  {
   "cell_type": "code",
   "execution_count": null,
   "metadata": {},
   "outputs": [],
   "source": []
  },
  {
   "cell_type": "code",
   "execution_count": 213,
   "metadata": {},
   "outputs": [
    {
     "name": "stdout",
     "output_type": "stream",
     "text": [
      "insert number17\n",
      "14\n"
     ]
    }
   ],
   "source": [
    "# 185\n",
    "n = int(input(\"insert number\"))\n",
    "\n",
    "len = 1\n",
    "while n != 1:\n",
    "    \n",
    "    if n % 2 == 0:\n",
    "        n= n/2\n",
    "    else:\n",
    "        n= 2*n+ 2\n",
    "    len += 1\n",
    "\n",
    "print(len)"
   ]
  },
  {
   "cell_type": "code",
   "execution_count": 218,
   "metadata": {},
   "outputs": [
    {
     "name": "stdout",
     "output_type": "stream",
     "text": [
      "insert number17\n",
      "[17, 36, 18.0, 9.0, 20.0, 10.0, 5.0, 12.0, 6.0, 3.0, 8.0, 4.0, 2.0, 1.0]\n",
      "length :  14\n"
     ]
    }
   ],
   "source": [
    "# 185 (HandsomeQ)\n",
    "n = int(input(\"insert number\"))\n",
    "\n",
    "num = [n]\n",
    "while n != 1:\n",
    "    \n",
    "    if n % 2 == 0:\n",
    "        n= n/2\n",
    "        num.append(n)\n",
    "    else:\n",
    "        n= 2*n+ 2\n",
    "        num.append(n)\n",
    "    \n",
    "\n",
    "print(num)\n",
    "print(\"length : \", len(num))"
   ]
  },
  {
   "cell_type": "markdown",
   "metadata": {},
   "source": []
  },
  {
   "cell_type": "code",
   "execution_count": 214,
   "metadata": {},
   "outputs": [],
   "source": [
    "del(len)"
   ]
  },
  {
   "cell_type": "code",
   "execution_count": null,
   "metadata": {},
   "outputs": [],
   "source": []
  },
  {
   "cell_type": "code",
   "execution_count": null,
   "metadata": {},
   "outputs": [],
   "source": []
  }
 ],
 "metadata": {
  "kernelspec": {
   "display_name": "Python 3",
   "language": "python",
   "name": "python3"
  },
  "language_info": {
   "codemirror_mode": {
    "name": "ipython",
    "version": 3
   },
   "file_extension": ".py",
   "mimetype": "text/x-python",
   "name": "python",
   "nbconvert_exporter": "python",
   "pygments_lexer": "ipython3",
   "version": "3.7.4"
  }
 },
 "nbformat": 4,
 "nbformat_minor": 2
}
