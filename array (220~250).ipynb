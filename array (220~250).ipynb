{
 "cells": [
  {
   "cell_type": "code",
   "execution_count": 2,
   "metadata": {},
   "outputs": [
    {
     "name": "stdout",
     "output_type": "stream",
     "text": [
      "[[1, 2, 3], [4, 5, 6], [7, 8, 9]]\n",
      "[4, 5, 6]\n",
      "[[1, 2, 3], [4, 5, 6]]\n",
      "3\n",
      "[7, 8]\n"
     ]
    }
   ],
   "source": [
    "matrix = [[1,2,3], [4,5,6], [7,8,9]]\n",
    "print(matrix)\n",
    "print(matrix[1])\n",
    "print(matrix[0:2])\n",
    "print(matrix[0][2])\n",
    "print(matrix[2][0:2])"
   ]
  },
  {
   "cell_type": "code",
   "execution_count": 4,
   "metadata": {},
   "outputs": [
    {
     "name": "stdout",
     "output_type": "stream",
     "text": [
      "[[0, 0, 0, 0], [1, 1, 1, 1], [2, 2, 2, 2]]\n"
     ]
    }
   ],
   "source": [
    "matrix1 = []\n",
    "for i in range(3):\n",
    "    matrix1.append([i] * 4)\n",
    "print(matrix1)"
   ]
  },
  {
   "cell_type": "code",
   "execution_count": 5,
   "metadata": {},
   "outputs": [
    {
     "name": "stdout",
     "output_type": "stream",
     "text": [
      "[[0, 0, 0], [0, 0, 0], [0, 0, 0]]\n"
     ]
    }
   ],
   "source": [
    "matrix2 = [[0] * 3 for i in range(3)]\n",
    "print(matrix2)"
   ]
  },
  {
   "cell_type": "code",
   "execution_count": 6,
   "metadata": {},
   "outputs": [
    {
     "name": "stdout",
     "output_type": "stream",
     "text": [
      "[[0, 0, 0], [0, 0, 0], [0, 0, 0]]\n"
     ]
    }
   ],
   "source": [
    "matrix3 = [[0 for col in range(3)] for row in range(3)]\n",
    "print(matrix3)"
   ]
  },
  {
   "cell_type": "code",
   "execution_count": 7,
   "metadata": {},
   "outputs": [
    {
     "name": "stdout",
     "output_type": "stream",
     "text": [
      "[0, 2, 4, 6, 8]\n"
     ]
    }
   ],
   "source": [
    "matrix4 = list(i for i in range(10) if i %2 == 0)\n",
    "print(matrix4)"
   ]
  },
  {
   "cell_type": "code",
   "execution_count": 9,
   "metadata": {},
   "outputs": [
    {
     "name": "stdout",
     "output_type": "stream",
     "text": [
      "[0, 1, 4, 9, 16]\n"
     ]
    }
   ],
   "source": [
    "values = [0,1,2,3,4]\n",
    "matrix5 = [v **2 for v in values]\n",
    "print(matrix5)"
   ]
  },
  {
   "cell_type": "code",
   "execution_count": 11,
   "metadata": {},
   "outputs": [
    {
     "name": "stdout",
     "output_type": "stream",
     "text": [
      "[0, 4, 16]\n"
     ]
    }
   ],
   "source": [
    "matrix6 = [v**2 for v in values if v % 2 ==0]\n",
    "print(matrix6)"
   ]
  },
  {
   "cell_type": "code",
   "execution_count": 12,
   "metadata": {},
   "outputs": [
    {
     "name": "stdout",
     "output_type": "stream",
     "text": [
      "[0, 1, 2]\n",
      "[1, 2, 3]\n",
      "[2, 3, 4]\n"
     ]
    }
   ],
   "source": [
    "array = [[0] * 3 for i in range(3)]\n",
    "for i in range(3):\n",
    "    for j in range(3):\n",
    "        array[i][j] = i + j\n",
    "        \n",
    "for i in range(3):\n",
    "    print(array[i])"
   ]
  },
  {
   "cell_type": "code",
   "execution_count": 13,
   "metadata": {},
   "outputs": [
    {
     "data": {
      "text/plain": [
       "[[0, 1, 2], [1, 2, 3], [2, 3, 4]]"
      ]
     },
     "execution_count": 13,
     "metadata": {},
     "output_type": "execute_result"
    }
   ],
   "source": [
    "array"
   ]
  },
  {
   "cell_type": "code",
   "execution_count": 16,
   "metadata": {},
   "outputs": [
    {
     "data": {
      "text/plain": [
       "[2, 4, 6, 8, 10, 12, 14, 16, 18, 20]"
      ]
     },
     "execution_count": 16,
     "metadata": {},
     "output_type": "execute_result"
    }
   ],
   "source": [
    "array = [2 * (i+1) for i in range(10)]\n",
    "array"
   ]
  },
  {
   "cell_type": "code",
   "execution_count": 18,
   "metadata": {},
   "outputs": [
    {
     "data": {
      "text/plain": [
       "[2, 4, 6, 8, 10, 12, 14, 16, 18, 20]"
      ]
     },
     "execution_count": 18,
     "metadata": {},
     "output_type": "execute_result"
    }
   ],
   "source": [
    "array = list(range(2,21,2))\n",
    "array"
   ]
  },
  {
   "cell_type": "code",
   "execution_count": 28,
   "metadata": {},
   "outputs": [
    {
     "name": "stdout",
     "output_type": "stream",
     "text": [
      "[0, 1, 2, 3]\n",
      "[4, 5, 6, 7]\n",
      "[8, 9, 10, 11]\n",
      "[12, 13, 14, 15]\n"
     ]
    }
   ],
   "source": [
    "array = [[0] * 4 for i in range(4)]\n",
    "for i in range(0, 16):\n",
    "    array[i // 4][i % 4] = i\n",
    "    \n",
    "for i in range(4):\n",
    "    print(array[i])"
   ]
  },
  {
   "cell_type": "code",
   "execution_count": null,
   "metadata": {},
   "outputs": [],
   "source": []
  },
  {
   "cell_type": "code",
   "execution_count": 45,
   "metadata": {},
   "outputs": [
    {
     "name": "stdout",
     "output_type": "stream",
     "text": [
      "  5   8  10   6   4 \n",
      " 11  20   1  13   2 \n",
      "  7   9  14  22   3 \n"
     ]
    }
   ],
   "source": [
    "array = [[0] * 5 for i in range(3)]\n",
    "\n",
    "array[0] = [5, 8, 10, 6, 4]\n",
    "array[1] = [11, 20, 1, 13, 2]\n",
    "array[2] = [7, 9, 14, 22, 3]\n",
    "\n",
    "for i in range(3):\n",
    "    for j in range(5):\n",
    "        print('%3d' %array[i][j], end= ' ') \n",
    "    print()"
   ]
  },
  {
   "cell_type": "code",
   "execution_count": 51,
   "metadata": {},
   "outputs": [
    {
     "name": "stdout",
     "output_type": "stream",
     "text": [
      "[0, 1, 2, 3, 4]\n",
      "[1, 2, 3, 4, 5]\n",
      "[2, 3, 4, 5, 6]\n",
      "[3, 4, 5, 6, 7]\n",
      "[4, 5, 6, 7, 8]\n"
     ]
    }
   ],
   "source": [
    "array = [[0] * 5 for i in range(5)]\n",
    "for i in range(5):\n",
    "    for j in range(5):\n",
    "        array[i][j] = i + j\n",
    "        \n",
    "for i in range(5):\n",
    "    print(array[i])"
   ]
  },
  {
   "cell_type": "code",
   "execution_count": 58,
   "metadata": {},
   "outputs": [
    {
     "data": {
      "text/plain": [
       "[[1, 2, 3, 4, 5],\n",
       " [2, 3, 4, 5, 6],\n",
       " [3, 4, 5, 6, 7],\n",
       " [4, 5, 6, 7, 8],\n",
       " [5, 6, 7, 8, 9]]"
      ]
     },
     "execution_count": 58,
     "metadata": {},
     "output_type": "execute_result"
    }
   ],
   "source": [
    "a = [[j for j in range(i+1, i+6)] for i in range(5)]\n",
    "a"
   ]
  },
  {
   "cell_type": "code",
   "execution_count": 54,
   "metadata": {},
   "outputs": [
    {
     "data": {
      "text/plain": [
       "[[1, 2, 3, 4, 5],\n",
       " [2, 3, 4, 5, 6],\n",
       " [3, 4, 5, 6, 7],\n",
       " [4, 5, 6, 7, 8],\n",
       " [5, 6, 7, 8, 9]]"
      ]
     },
     "execution_count": 54,
     "metadata": {},
     "output_type": "execute_result"
    }
   ],
   "source": [
    "a = [list(range(i+1, i+6)) for i in range(5)]\n",
    "a"
   ]
  },
  {
   "cell_type": "code",
   "execution_count": 131,
   "metadata": {},
   "outputs": [
    {
     "name": "stdout",
     "output_type": "stream",
     "text": [
      " 6 13 16  4 24 \n",
      " 1  3  5  4  1 \n",
      " 8 19  6  8 23 \n",
      " 9 13 16  3 16 \n",
      "16 19  3 13 15 \n",
      "Small\n"
     ]
    }
   ],
   "source": [
    "import random\n",
    "\n",
    "array = [[0] * 5 for i in range(5)]\n",
    "for i in range(0, 25):\n",
    "    array[i // 5][i % 5] = random.randrange(1, 26)\n",
    "sum = 0\n",
    "for i in range(5):\n",
    "    for j in range(5):\n",
    "        print(\"%2d\" % array[i][j], end = ' ')\n",
    "        sum += array[i][j]\n",
    "    print()\n",
    "\n",
    "if sum/25 >= 12.5 :\n",
    "    print(\"Big\")\n",
    "else:\n",
    "    print(\"Small\")"
   ]
  },
  {
   "cell_type": "code",
   "execution_count": 134,
   "metadata": {},
   "outputs": [
    {
     "name": "stdout",
     "output_type": "stream",
     "text": [
      " 8 21 12 18  8 \n",
      "11  5  8 16  3 \n",
      "18 19 24  2 24 \n",
      "22 22 24 22 19 \n",
      "20 13 24  5 16 \n",
      "Big\n"
     ]
    }
   ],
   "source": [
    "import random\n",
    "\n",
    "a = [[0]*5 for i in range(5)]\n",
    "\n",
    "for i in range(0,25):\n",
    "    array[i//5][i % 5] = random.randrange(1,26)\n",
    "sum = 0\n",
    "for i in range(5):\n",
    "    for j in range(5):\n",
    "        print(\"%2d\" %array[i][j], end = \" \")\n",
    "        sum += array[i][j]\n",
    "    print()\n",
    "if sum/25 >= 12.5:\n",
    "    print(\"Big\")\n",
    "else:\n",
    "    print(\"Small\")"
   ]
  },
  {
   "cell_type": "code",
   "execution_count": 153,
   "metadata": {},
   "outputs": [
    {
     "name": "stdout",
     "output_type": "stream",
     "text": [
      "Enter the sentenc: Hello World\n",
      "upper :  2 lower : 8\n"
     ]
    }
   ],
   "source": [
    "char = input(\"Enter the sentenc: \")\n",
    "\n",
    "def numOfupp(str):\n",
    "    num = 0\n",
    "    for i in range(len(char)):\n",
    "        if 'A' <= str[i] <= 'Z':\n",
    "            num += 1\n",
    "    return num\n",
    "\n",
    "def numOflow(str):\n",
    "    num = 0\n",
    "    for i in range(len(str)):\n",
    "        if 'a' <= str[i] <= 'z':\n",
    "            num += 1\n",
    "    return num\n",
    "\n",
    "print('upper : ', numOfupp(char), \"lower :\", numOflow(char))"
   ]
  },
  {
   "cell_type": "code",
   "execution_count": 151,
   "metadata": {},
   "outputs": [
    {
     "name": "stdout",
     "output_type": "stream",
     "text": [
      "upper : 1\n"
     ]
    }
   ],
   "source": [
    "print(\"upper :\", numOfupp(char))"
   ]
  },
  {
   "cell_type": "code",
   "execution_count": 158,
   "metadata": {},
   "outputs": [],
   "source": [
    "def str_rev(str):\n",
    "    return str[::-1]"
   ]
  },
  {
   "cell_type": "code",
   "execution_count": 159,
   "metadata": {},
   "outputs": [
    {
     "data": {
      "text/plain": [
       "'dlroW olleH'"
      ]
     },
     "execution_count": 159,
     "metadata": {},
     "output_type": "execute_result"
    }
   ],
   "source": [
    "str_rev(char)"
   ]
  },
  {
   "cell_type": "code",
   "execution_count": 155,
   "metadata": {},
   "outputs": [
    {
     "data": {
      "text/plain": [
       "'Hello World'"
      ]
     },
     "execution_count": 155,
     "metadata": {},
     "output_type": "execute_result"
    }
   ],
   "source": [
    "a"
   ]
  },
  {
   "cell_type": "code",
   "execution_count": 157,
   "metadata": {},
   "outputs": [
    {
     "data": {
      "text/plain": [
       "'dlroW olleH'"
      ]
     },
     "execution_count": 157,
     "metadata": {},
     "output_type": "execute_result"
    }
   ],
   "source": [
    "a[::-1]"
   ]
  },
  {
   "cell_type": "code",
   "execution_count": null,
   "metadata": {},
   "outputs": [],
   "source": []
  }
 ],
 "metadata": {
  "kernelspec": {
   "display_name": "Python 3",
   "language": "python",
   "name": "python3"
  },
  "language_info": {
   "codemirror_mode": {
    "name": "ipython",
    "version": 3
   },
   "file_extension": ".py",
   "mimetype": "text/x-python",
   "name": "python",
   "nbconvert_exporter": "python",
   "pygments_lexer": "ipython3",
   "version": "3.7.4"
  }
 },
 "nbformat": 4,
 "nbformat_minor": 2
}
