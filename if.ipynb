{
 "cells": [
  {
   "cell_type": "code",
   "execution_count": 4,
   "metadata": {},
   "outputs": [
    {
     "name": "stdout",
     "output_type": "stream",
     "text": [
      "insert number: 3\n",
      "odd\n"
     ]
    }
   ],
   "source": [
    "num = int(input(\"insert number: \"))\n",
    "print(\"odd\") if num % 3 == 0 else print(\"even\")"
   ]
  },
  {
   "cell_type": "code",
   "execution_count": 29,
   "metadata": {},
   "outputs": [
    {
     "name": "stdout",
     "output_type": "stream",
     "text": [
      "Enter the number: 111111\n"
     ]
    }
   ],
   "source": [
    "print(\"Enter the number: \", end=\"\")\n",
    "\n",
    "num = (input())"
   ]
  },
  {
   "cell_type": "code",
   "execution_count": 19,
   "metadata": {},
   "outputs": [
    {
     "data": {
      "text/plain": [
       "'53'"
      ]
     },
     "execution_count": 19,
     "metadata": {},
     "output_type": "execute_result"
    }
   ],
   "source": [
    "num[:2]"
   ]
  },
  {
   "cell_type": "code",
   "execution_count": 22,
   "metadata": {},
   "outputs": [
    {
     "data": {
      "text/plain": [
       "53"
      ]
     },
     "execution_count": 22,
     "metadata": {},
     "output_type": "execute_result"
    }
   ],
   "source": [
    "int(530716/10000)"
   ]
  },
  {
   "cell_type": "code",
   "execution_count": 25,
   "metadata": {},
   "outputs": [
    {
     "data": {
      "text/plain": [
       "'530716'"
      ]
     },
     "execution_count": 25,
     "metadata": {},
     "output_type": "execute_result"
    }
   ],
   "source": [
    "num"
   ]
  },
  {
   "cell_type": "code",
   "execution_count": 46,
   "metadata": {},
   "outputs": [
    {
     "name": "stdout",
     "output_type": "stream",
     "text": [
      "580206\n",
      "younger than 65\n"
     ]
    }
   ],
   "source": [
    "num = (input())\n",
    "a = []\n",
    "\n",
    "if int(num[:2]) >= 19:\n",
    "    b = 2019 - int(int(num)/10000) - 1900\n",
    "    a.append(b)\n",
    "else:\n",
    "    c = 2019 - int(int(num)/10000) - 2000\n",
    "    a.append(c)\n",
    "    \n",
    "if int(a[0]) >= 65:\n",
    "    print(\"old\")\n",
    "else:\n",
    "    print(\"younger than 65\")"
   ]
  },
  {
   "cell_type": "code",
   "execution_count": 42,
   "metadata": {},
   "outputs": [],
   "source": [
    "if int(a[0]) >= 65:\n",
    "    print(\"old\")"
   ]
  },
  {
   "cell_type": "code",
   "execution_count": null,
   "metadata": {},
   "outputs": [],
   "source": []
  },
  {
   "cell_type": "code",
   "execution_count": 49,
   "metadata": {},
   "outputs": [
    {
     "name": "stdout",
     "output_type": "stream",
     "text": [
      "height?145\n",
      "Short\n"
     ]
    }
   ],
   "source": [
    "height = int(input(\"height?\"))\n",
    "\n",
    "if height >= 185:\n",
    "    print(\"Tall\")\n",
    "elif height <= 145:\n",
    "    print(\"Short\")\n",
    "else: \n",
    "    print(\"Regular\")"
   ]
  },
  {
   "cell_type": "code",
   "execution_count": null,
   "metadata": {},
   "outputs": [],
   "source": []
  },
  {
   "cell_type": "code",
   "execution_count": null,
   "metadata": {},
   "outputs": [],
   "source": [
    "date = int(input(\"윤년 discriminator\"))\n",
    "\n",
    "if date % 4 == 0:\n",
    "    print(\"윤년\")\n",
    "elif date % 100 == 0\n",
    "    print(\"평년\")\n",
    "elif date % 400 == 0\n",
    "    print(\"윤년\")"
   ]
  },
  {
   "cell_type": "code",
   "execution_count": 53,
   "metadata": {},
   "outputs": [
    {
     "name": "stdout",
     "output_type": "stream",
     "text": [
      "윤년 discriminator2000\n",
      "윤년\n"
     ]
    }
   ],
   "source": [
    "date = int(input(\"윤년 discriminator\"))\n",
    "\n",
    "if date % 400 == 0:\n",
    "    print(\"윤년\")\n",
    "elif date % 100 == 0:\n",
    "    print(\"평년\")\n",
    "elif date % 4 == 0:\n",
    "    print(\"윤년\")"
   ]
  },
  {
   "cell_type": "code",
   "execution_count": null,
   "metadata": {},
   "outputs": [],
   "source": []
  },
  {
   "cell_type": "code",
   "execution_count": 123,
   "metadata": {},
   "outputs": [
    {
     "name": "stdout",
     "output_type": "stream",
     "text": [
      "insert two number(should be separated with space)13 15\n",
      "insert three number(each number should be split with space)15 31 22\n"
     ]
    },
    {
     "data": {
      "text/plain": [
       "667"
      ]
     },
     "execution_count": 123,
     "metadata": {},
     "output_type": "execute_result"
    }
   ],
   "source": [
    "# 149.1\n",
    "a = input(\"insert two number(should be separated with space)\").split(\" \")\n",
    "a = list(map(int, a))\n",
    "a.sort()\n",
    "int(a[1]) - int(a[0])\n",
    "\n",
    "# 149.2\n",
    "\n",
    "b = input(\"insert three number(each number should be split with space)\").split(\" \")\n",
    "b = list(map(int, b))\n",
    "b.sort()\n",
    "int(b[2]*b[1]-b[0])"
   ]
  },
  {
   "cell_type": "code",
   "execution_count": 124,
   "metadata": {},
   "outputs": [
    {
     "name": "stdout",
     "output_type": "stream",
     "text": [
      "insert x coordinate51\n",
      "insert y coordinate51\n",
      "dot is located in rectangle\n"
     ]
    }
   ],
   "source": [
    "#150\n",
    "\n",
    "x = int(input(\"insert x coordinate\"))\n",
    "y = int(input(\"insert y coordinate\"))\n",
    "\n",
    "if (x > 50 and x < 100) and (y > 40 and y < 80):\n",
    "    print(\"dot is located in rectangle\")\n",
    "else:\n",
    "    print(\"dot is not located in rectangle\")"
   ]
  },
  {
   "cell_type": "code",
   "execution_count": 136,
   "metadata": {},
   "outputs": [
    {
     "name": "stdout",
     "output_type": "stream",
     "text": [
      "plz write down sentenceable to do that\n",
      "Good Sentence\n"
     ]
    }
   ],
   "source": [
    "# 151\n",
    "\n",
    "sentence = input(\"plz write down sentence\").split(\" \")\n",
    "\n",
    "if sentence[0][0] == (\"a\" or \"e\" or \"i\" or \"o\" or \"u\"):\n",
    "    print(\"Good Sentence\")"
   ]
  },
  {
   "cell_type": "code",
   "execution_count": 139,
   "metadata": {},
   "outputs": [
    {
     "name": "stdout",
     "output_type": "stream",
     "text": [
      "plz write down sentenceAble to do that\n",
      "Good Sentence\n"
     ]
    }
   ],
   "source": [
    "# 151\n",
    "\n",
    "sentence = input(\"plz write down sentence\").split(\" \")\n",
    "\n",
    "if sentence[0][0] in \"aeiouAEIOU\":\n",
    "    print(\"Good Sentence\")"
   ]
  },
  {
   "cell_type": "code",
   "execution_count": 138,
   "metadata": {},
   "outputs": [
    {
     "data": {
      "text/plain": [
       "'h'"
      ]
     },
     "execution_count": 138,
     "metadata": {},
     "output_type": "execute_result"
    }
   ],
   "source": [
    "sentence[0][0]"
   ]
  },
  {
   "cell_type": "code",
   "execution_count": 142,
   "metadata": {},
   "outputs": [
    {
     "name": "stdout",
     "output_type": "stream",
     "text": [
      "Enter the color : orange\n",
      "sorry\n"
     ]
    }
   ],
   "source": [
    "# 152\n",
    "\n",
    "colors = [\"red\", \"orange\", \"blue\", \"green\", \"white\", \"black\", \"dark blue\", \"purple\"]\n",
    "\n",
    "color = input(\"Enter the color : \")\n",
    "if color in colors :\n",
    "    print(\"sorry\")\n",
    "else :\n",
    "    colors.append(color)\n",
    "    print(colors)"
   ]
  },
  {
   "cell_type": "code",
   "execution_count": null,
   "metadata": {},
   "outputs": [],
   "source": []
  },
  {
   "cell_type": "code",
   "execution_count": 145,
   "metadata": {},
   "outputs": [
    {
     "name": "stdout",
     "output_type": "stream",
     "text": [
      "enter 1st number : 2\n",
      "enter 2nd number : 3\n",
      "Nice\n"
     ]
    }
   ],
   "source": [
    "a = int(input('enter 1st number : '))\n",
    "b = int(input(\"enter 2nd number : \"))\n",
    "\n",
    "print(\"Nice\") if a + b >= 0.5 * a * b else print(\"Bad\")"
   ]
  },
  {
   "cell_type": "code",
   "execution_count": 146,
   "metadata": {},
   "outputs": [
    {
     "name": "stdout",
     "output_type": "stream",
     "text": [
      "insert integer5\n",
      "insert integer7\n",
      "insert integer9\n"
     ]
    }
   ],
   "source": [
    "a = int(input(\"insert integer : \"))\n",
    "b = int(input(\"insert integer : \"))\n",
    "c = int(input(\"insert integer : \"))\n",
    "\n",
    "hello = [a, b, c]\n"
   ]
  },
  {
   "cell_type": "code",
   "execution_count": 147,
   "metadata": {},
   "outputs": [
    {
     "data": {
      "text/plain": [
       "[5, 7, 9]"
      ]
     },
     "execution_count": 147,
     "metadata": {},
     "output_type": "execute_result"
    }
   ],
   "source": [
    "hello"
   ]
  },
  {
   "cell_type": "code",
   "execution_count": 148,
   "metadata": {},
   "outputs": [
    {
     "data": {
      "text/plain": [
       "5"
      ]
     },
     "execution_count": 148,
     "metadata": {},
     "output_type": "execute_result"
    }
   ],
   "source": [
    "min(hello) "
   ]
  },
  {
   "cell_type": "code",
   "execution_count": 149,
   "metadata": {},
   "outputs": [
    {
     "name": "stdout",
     "output_type": "stream",
     "text": [
      "5\n"
     ]
    }
   ],
   "source": [
    "(print(c) if c < a else print(a)) if a < b else (print(c) if c<b else print(b))"
   ]
  },
  {
   "cell_type": "code",
   "execution_count": null,
   "metadata": {},
   "outputs": [],
   "source": []
  },
  {
   "cell_type": "code",
   "execution_count": 150,
   "metadata": {},
   "outputs": [
    {
     "name": "stdout",
     "output_type": "stream",
     "text": [
      "insert integer except 03\n",
      "positive num\n",
      "odd\n",
      "multiple of 3\n",
      "not a multiple of 5\n"
     ]
    }
   ],
   "source": [
    "num = int(input(\"insert integer except 0\"))\n",
    "print(\"positive num\") if num > 0 else print(\"negative num\")\n",
    "print(\"odd\") if num % 2 != 0 else print(\"even\")\n",
    "print(\"multiple of 3\") if num % 3 == 0 else print(\"not a multiple of 3\")\n",
    "print(\"multiple of 5\") if num % 5 == 0 else print(\"not a multiple of 5\")\n"
   ]
  },
  {
   "cell_type": "code",
   "execution_count": 151,
   "metadata": {},
   "outputs": [
    {
     "data": {
      "text/plain": [
       "21"
      ]
     },
     "execution_count": 151,
     "metadata": {},
     "output_type": "execute_result"
    }
   ],
   "source": [
    "3 * 7"
   ]
  },
  {
   "cell_type": "code",
   "execution_count": null,
   "metadata": {},
   "outputs": [],
   "source": []
  }
 ],
 "metadata": {
  "kernelspec": {
   "display_name": "Python 3",
   "language": "python",
   "name": "python3"
  },
  "language_info": {
   "codemirror_mode": {
    "name": "ipython",
    "version": 3
   },
   "file_extension": ".py",
   "mimetype": "text/x-python",
   "name": "python",
   "nbconvert_exporter": "python",
   "pygments_lexer": "ipython3",
   "version": "3.7.4"
  }
 },
 "nbformat": 4,
 "nbformat_minor": 2
}
