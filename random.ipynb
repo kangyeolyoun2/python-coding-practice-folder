{
 "cells": [
  {
   "cell_type": "code",
   "execution_count": 2,
   "metadata": {},
   "outputs": [
    {
     "name": "stdout",
     "output_type": "stream",
     "text": [
      "0.635466803841304\n",
      "3\n"
     ]
    }
   ],
   "source": [
    "import random\n",
    "\n",
    "num1 = random.random()\n",
    "num2 = random.randrange(1,4)\n",
    "print(num1)\n",
    "print(num2)"
   ]
  },
  {
   "cell_type": "code",
   "execution_count": 16,
   "metadata": {},
   "outputs": [],
   "source": [
    "from random import randrange"
   ]
  },
  {
   "cell_type": "code",
   "execution_count": 22,
   "metadata": {},
   "outputs": [],
   "source": [
    "n = randrange(1, 100)"
   ]
  },
  {
   "cell_type": "code",
   "execution_count": 7,
   "metadata": {},
   "outputs": [],
   "source": [
    "from random import *\n",
    "\n",
    "n = randrange(1, 100)"
   ]
  },
  {
   "cell_type": "code",
   "execution_count": 10,
   "metadata": {},
   "outputs": [
    {
     "data": {
      "text/plain": [
       "60"
      ]
     },
     "execution_count": 10,
     "metadata": {},
     "output_type": "execute_result"
    }
   ],
   "source": [
    "n"
   ]
  },
  {
   "cell_type": "code",
   "execution_count": 21,
   "metadata": {},
   "outputs": [
    {
     "name": "stdout",
     "output_type": "stream",
     "text": [
      "Guess number (Q to exit): 47\n",
      "Choose higher number\n",
      "Guess number (Q to exit): 60\n",
      "Choose higher number\n",
      "Guess number (Q to exit): 80\n",
      "Choose lower number\n",
      "Guess number (Q to exit): 70\n",
      "Choose lower number\n",
      "Guess number (Q to exit): 65\n",
      "Choose lower number\n",
      "Guess number (Q to exit): 63\n",
      "Choose lower number\n",
      "Guess number (Q to exit): 62\n",
      "Correct!\n"
     ]
    }
   ],
   "source": [
    "#158\n",
    "n = randrange(1, 100)\n",
    "while True:\n",
    "    ans1 = input(\"Guess number (Q to exit): \")\n",
    "    \n",
    "    ans2 = int(ans1)\n",
    "    if (n == ans2):\n",
    "        print(\"Correct!\")\n",
    "        break\n",
    "    elif (n > ans2):\n",
    "        print(\"Choose higher number\")\n",
    "    else:\n",
    "        print(\"Choose lower number\")"
   ]
  },
  {
   "cell_type": "code",
   "execution_count": null,
   "metadata": {},
   "outputs": [],
   "source": []
  },
  {
   "cell_type": "code",
   "execution_count": 37,
   "metadata": {},
   "outputs": [
    {
     "data": {
      "text/plain": [
       "57"
      ]
     },
     "execution_count": 37,
     "metadata": {},
     "output_type": "execute_result"
    }
   ],
   "source": [
    "#159\n",
    "from random import randrange\n",
    "\n",
    "a = randrange(10, 100)\n",
    "a"
   ]
  },
  {
   "cell_type": "code",
   "execution_count": 71,
   "metadata": {},
   "outputs": [],
   "source": [
    "random()*10,1\n",
    "import math"
   ]
  },
  {
   "cell_type": "code",
   "execution_count": 74,
   "metadata": {},
   "outputs": [
    {
     "data": {
      "text/plain": [
       "2.9"
      ]
     },
     "execution_count": 74,
     "metadata": {},
     "output_type": "execute_result"
    }
   ],
   "source": [
    "b = round(random()*10,1)\n",
    "b"
   ]
  },
  {
   "cell_type": "code",
   "execution_count": 96,
   "metadata": {},
   "outputs": [
    {
     "name": "stdout",
     "output_type": "stream",
     "text": [
      "insert two numbers, two numbers must be separated by space15 35\n"
     ]
    }
   ],
   "source": [
    "num = input(\"insert two integers, two integers must be separated by space\").split(\" \")\n",
    "num = list(map(int, num))\n"
   ]
  },
  {
   "cell_type": "code",
   "execution_count": 123,
   "metadata": {},
   "outputs": [
    {
     "name": "stdout",
     "output_type": "stream",
     "text": [
      "insert two integers, two integers must be separated by space-5 -5\n",
      "No integer between two numbers\n"
     ]
    },
    {
     "data": {
      "text/plain": [
       "-25"
      ]
     },
     "execution_count": 123,
     "metadata": {},
     "output_type": "execute_result"
    }
   ],
   "source": [
    "num = input(\"insert two integers, two integers must be separated by space\").split(\" \")\n",
    "num = list(map(int, num))\n",
    "\n",
    "if abs(num[0] - num[1]) <= 1:\n",
    "    print(\"No integer between two numbers\")\n",
    "else:\n",
    "    ran_gen = randrange(min(num),max(num))\n",
    "\n",
    "ran_gen"
   ]
  },
  {
   "cell_type": "code",
   "execution_count": 101,
   "metadata": {},
   "outputs": [
    {
     "data": {
      "text/plain": [
       "25"
      ]
     },
     "execution_count": 101,
     "metadata": {},
     "output_type": "execute_result"
    }
   ],
   "source": [
    "ran_gen"
   ]
  },
  {
   "cell_type": "code",
   "execution_count": 134,
   "metadata": {},
   "outputs": [
    {
     "name": "stdout",
     "output_type": "stream",
     "text": [
      "insert two integers, two integers must be separated by space. You put: 90 90\n",
      "No integer between two numbers\n"
     ]
    }
   ],
   "source": [
    "#161\n",
    "num = input(\"insert two integers, two integers must be separated by space. You put: \").split(\" \")\n",
    "num = list(map(int, num))\n",
    "\n",
    "if abs(num[0] - num[1]) <= 1:\n",
    "    print(\"No integer between two numbers\")\n",
    "else:\n",
    "    ran_gen = randrange(min(num),max(num))\n"
   ]
  },
  {
   "cell_type": "code",
   "execution_count": null,
   "metadata": {},
   "outputs": [],
   "source": []
  },
  {
   "cell_type": "code",
   "execution_count": 139,
   "metadata": {},
   "outputs": [
    {
     "data": {
      "text/plain": [
       "[14, 18, 13, 10]"
      ]
     },
     "execution_count": 139,
     "metadata": {},
     "output_type": "execute_result"
    }
   ],
   "source": [
    "num"
   ]
  },
  {
   "cell_type": "code",
   "execution_count": 147,
   "metadata": {},
   "outputs": [
    {
     "name": "stdout",
     "output_type": "stream",
     "text": [
      "Big\n",
      "17.25\n"
     ]
    }
   ],
   "source": [
    "#162\n",
    "\n",
    "num = []\n",
    "for i in range(1, 5):\n",
    "    a = randrange(10, 20)\n",
    "    num.append(a)\n",
    "    \n",
    "if sum(num)/len(num) >= 15:\n",
    "    print(\"Big\")\n",
    "    print(sum(num)/len(num))\n",
    "else:\n",
    "    print(\"small\")\n",
    "    print(sum(num)/len(num))"
   ]
  },
  {
   "cell_type": "code",
   "execution_count": 141,
   "metadata": {},
   "outputs": [
    {
     "data": {
      "text/plain": [
       "12.5"
      ]
     },
     "execution_count": 141,
     "metadata": {},
     "output_type": "execute_result"
    }
   ],
   "source": [
    "sum(num)/len(num)"
   ]
  },
  {
   "cell_type": "code",
   "execution_count": 182,
   "metadata": {},
   "outputs": [
    {
     "data": {
      "text/plain": [
       "[16, 18, 16, 20]"
      ]
     },
     "execution_count": 182,
     "metadata": {},
     "output_type": "execute_result"
    }
   ],
   "source": [
    "from random import choice\n",
    "\n",
    "\n",
    "numbers = range(10,21)\n",
    "\n",
    "rand_nums = []\n",
    "\n",
    "for i in range(0,4):\n",
    "    a = choice(numbers)\n",
    "    rand_nums.append(a)\n",
    "    \n",
    "rand_nums\n",
    "\n"
   ]
  },
  {
   "cell_type": "code",
   "execution_count": 183,
   "metadata": {},
   "outputs": [
    {
     "name": "stdout",
     "output_type": "stream",
     "text": [
      "4가지수 :  [20, 16, 13, 19]\n",
      "평균 :  17.0\n",
      "Big\n"
     ]
    }
   ],
   "source": [
    "#162\n",
    "\n",
    "from random import choice\n",
    "\n",
    "numbers = range(10,21)\n",
    "rand_nums = []\n",
    "\n",
    "for i in range(0,4):\n",
    "    a = choice(numbers)\n",
    "    rand_nums.append(a)\n",
    "    \n",
    "print(\"4가지수 : \", rand_nums)\n",
    "\n",
    "mean = sum(rand_nums) / len(rand_nums)\n",
    "print(\"평균 : \", mean)\n",
    "\n",
    "if mean >= 15:\n",
    "    print(\"Big\")\n",
    "else:\n",
    "    print(\"small\")"
   ]
  },
  {
   "cell_type": "code",
   "execution_count": 401,
   "metadata": {},
   "outputs": [
    {
     "name": "stdout",
     "output_type": "stream",
     "text": [
      "level1 (choose between 1 and 2): 1\n",
      "Correct!\n",
      "level2 (choose between 1 and 4): 1\n",
      "Correct!\n",
      "level3 (choose between 1 and 8): 3\n",
      "Correct!\n",
      "Lucky\n"
     ]
    }
   ],
   "source": [
    "### 163\n",
    "\n",
    "min_n = 1\n",
    "max_n = 2\n",
    "level = 0\n",
    "\n",
    "while level<3:\n",
    "    level+=1\n",
    "    ans = randrange(min_n, max_n+1)\n",
    "    num = int(input(\"level{} (choose between {} and {}): \".format(level, min_n, max_n)))\n",
    "    if ans == num:\n",
    "        print(\"Correct!\")\n",
    "        max_n = max_n *2\n",
    "    else:\n",
    "        print(\"Failure!\")\n",
    "        print(\"Answer is :\", ans)\n",
    "        break\n",
    "    if max_n > 8:\n",
    "        print(\"Lucky\")"
   ]
  },
  {
   "cell_type": "code",
   "execution_count": 407,
   "metadata": {},
   "outputs": [
    {
     "name": "stdout",
     "output_type": "stream",
     "text": [
      "False ['Benz', 'Hyundai', 'BMW', 'Kia']\n"
     ]
    }
   ],
   "source": [
    "#164\n",
    "from random import shuffle\n",
    "cars = [\"Hyundai\", \"Kia\", \"BMW\", \"Benz\"]\n",
    "\n",
    "shuffle(cars)\n",
    "print(cars[0] == \"Hyundai\", cars)"
   ]
  },
  {
   "cell_type": "code",
   "execution_count": null,
   "metadata": {},
   "outputs": [],
   "source": []
  }
 ],
 "metadata": {
  "kernelspec": {
   "display_name": "Python 3",
   "language": "python",
   "name": "python3"
  },
  "language_info": {
   "codemirror_mode": {
    "name": "ipython",
    "version": 3
   },
   "file_extension": ".py",
   "mimetype": "text/x-python",
   "name": "python",
   "nbconvert_exporter": "python",
   "pygments_lexer": "ipython3",
   "version": "3.7.4"
  }
 },
 "nbformat": 4,
 "nbformat_minor": 2
}
